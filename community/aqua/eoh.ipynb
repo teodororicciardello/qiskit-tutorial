{
 "cells": [
  {
   "cell_type": "markdown",
   "metadata": {},
   "source": [
    "## _*The EOH (Evolution of Hamiltonian) Algorithm*_\n",
    "\n",
    "This notebook demonstrates how to use the `Qiskit Aqua` library to invoke the EOH algorithm and process the result.\n",
    "\n",
    "Further information may be found for the algorithms in the online [Aqua documentation](https://qiskit.org/documentation/aqua/algorithms.html).\n",
    "\n",
    "For this particular demonstration, we illustrate the `EOH` algorithm. First, two `Operator` instances we created are randomly generated Hamiltonians."
   ]
  },
  {
   "cell_type": "code",
   "execution_count": 1,
   "metadata": {},
   "outputs": [],
   "source": [
    "import numpy as np\n",
    "from qiskit import BasicAer\n",
    "from qiskit.transpiler import PassManager\n",
    "from qiskit.aqua import run_algorithm, QuantumInstance\n",
    "from qiskit.aqua.operator import Operator\n",
    "from qiskit.aqua.algorithms import EOH\n",
    "from qiskit.aqua.components.initial_states import Custom\n",
    "from qiskit.aqua.input import EnergyInput\n",
    "\n",
    "num_qubits = 2\n",
    "temp = np.random.random((2 ** num_qubits, 2 ** num_qubits))\n",
    "qubit_op = Operator(matrix=temp + temp.T)\n",
    "temp = np.random.random((2 ** num_qubits, 2 ** num_qubits))\n",
    "evo_op = Operator(matrix=temp + temp.T)"
   ]
  },
  {
   "cell_type": "markdown",
   "metadata": {},
   "source": [
    "For EOH, we would like to evolve some initial state (e.g. the uniform superposition state) with `evo_op` and do a measurement using `qubit_op`. Below, we illustrate how such an example dynamics process can be easily prepared."
   ]
  },
  {
   "cell_type": "code",
   "execution_count": 2,
   "metadata": {},
   "outputs": [],
   "source": [
    "evo_time = 1\n",
    "num_time_slices = 1\n",
    "state_in = Custom(qubit_op.num_qubits, state='uniform')\n",
    "eoh = EOH(qubit_op, state_in, evo_op, 'paulis', evo_time, num_time_slices)"
   ]
  },
  {
   "cell_type": "markdown",
   "metadata": {},
   "source": [
    "We can then configure the quantum backend and execute our `EOH` instance:"
   ]
  },
  {
   "cell_type": "code",
   "execution_count": 3,
   "metadata": {},
   "outputs": [
    {
     "name": "stdout",
     "output_type": "stream",
     "text": [
      "The result is\n",
      "{'avg': (3.469125838650009-1.002992831056778e-16j), 'std_dev': 0.0}\n"
     ]
    }
   ],
   "source": [
    "backend = BasicAer.get_backend('statevector_simulator')\n",
    "quantum_instance = QuantumInstance(backend, pass_manager=PassManager())\n",
    "\n",
    "ret = eoh.run(quantum_instance)\n",
    "print('The result is\\n{}'.format(ret))"
   ]
  },
  {
   "cell_type": "markdown",
   "metadata": {},
   "source": [
    "The above programmatic approach can also be achieved via a declarative manner using a configuration configuration to specify the algorithm, components, backend etc. The operators, the main data for the algorithm, are supplied to it via an EnergyInput (an InputInstance type)."
   ]
  },
  {
   "cell_type": "code",
   "execution_count": 7,
   "metadata": {},
   "outputs": [],
   "source": [
    "params = {\n",
    "    'problem': {\n",
    "        'name': 'eoh'\n",
    "    },\n",
    "    'algorithm': {\n",
    "        'name': 'EOH',\n",
    "        'num_time_slices': 1\n",
    "    },\n",
    "    'initial_state': {\n",
    "        'name': 'CUSTOM',\n",
    "        'state': 'uniform'\n",
    "    },\n",
    "    'backend': {\n",
    "         'name': 'statevector_simulator',\n",
    "         'provider': 'qiskit.BasicAer'\n",
    "    }\n",
    "}\n",
    "algo_input = EnergyInput(qubit_op)\n",
    "algo_input.add_aux_op(evo_op)"
   ]
  },
  {
   "cell_type": "markdown",
   "metadata": {},
   "source": [
    "With all the necessary pieces prepared, we can then proceed to run the algorithm and examine the result. The run_algorithm takes the configuration dictionary and the input data."
   ]
  },
  {
   "cell_type": "code",
   "execution_count": 9,
   "metadata": {},
   "outputs": [
    {
     "name": "stdout",
     "output_type": "stream",
     "text": [
      "The result is\n",
      "{'avg': (3.469125838650008-3.2364937588818136e-16j), 'std_dev': 0.0}\n"
     ]
    }
   ],
   "source": [
    "ret = run_algorithm(params, algo_input)\n",
    "print('The result is\\n{}'.format(ret))"
   ]
  },
  {
   "cell_type": "code",
   "execution_count": null,
   "metadata": {},
   "outputs": [],
   "source": []
  }
 ],
 "metadata": {
  "kernelspec": {
   "display_name": "Python 3",
   "language": "python",
   "name": "python3"
  },
  "language_info": {
   "codemirror_mode": {
    "name": "ipython",
    "version": 3
   },
   "file_extension": ".py",
   "mimetype": "text/x-python",
   "name": "python",
   "nbconvert_exporter": "python",
   "pygments_lexer": "ipython3",
   "version": "3.6.1"
  }
 },
 "nbformat": 4,
 "nbformat_minor": 1
}
