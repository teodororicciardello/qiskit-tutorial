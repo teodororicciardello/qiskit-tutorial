{
 "cells": [
  {
   "cell_type": "markdown",
   "metadata": {},
   "source": [
    "<h2> Acknowledgements </h2>"
   ]
  },
  {
   "cell_type": "markdown",
   "metadata": {},
   "source": [
    "<hr>\n",
    "<h3>QuSoft@Riga: Bronze</h3>\n",
    "\n",
    "<h4><i>\"Your First Step to Quantum Programming\"</i></h4>\n",
    "\n",
    "QuSoft Riga has been preparing tutorials to teach programming quantum computers. \n",
    "\n",
    "Our first tutorial is Bronze. \n",
    "<hr>"
   ]
  },
  {
   "cell_type": "markdown",
   "metadata": {},
   "source": [
    "We thank to <b><i>Katrina Kizenbaha</i></b> from Riga TechGirls for her revisions on our notebooks on python.\n",
    "\n",
    "We thank to <b><i>Martins Kalis</i></b> (QuSoft@Riga) for his technical comments on python, qiskit, and our notebooks.\n",
    "\n",
    "We thank to <b><i>Maksims Dimitrijevs</i></b> (QuSoft@Riga) for his careful reading and corrections on our notebooks.\n",
    "\n",
    "We thank to QuSoft members <b><i>Martins Kalis</i></b>, <b><i>Maksims Dimitrijevs</i></b>, <b><i>Aleksejs Naumovs</i></b> <b><i>Andis Draguns</i></b>, and <b><i>Matiss Apinis</i></b>  for their help and support.\n",
    "\n",
    "We thank to <b>the students (DF@LU) attending QuSoft's meetings</b> on each Friday (Fall 2018) for their comments while working with our notebooks.\n",
    "<hr>"
   ]
  }
 ],
 "metadata": {
  "kernelspec": {
   "display_name": "Python 3",
   "language": "python",
   "name": "python3"
  },
  "language_info": {
   "codemirror_mode": {
    "name": "ipython",
    "version": 3
   },
   "file_extension": ".py",
   "mimetype": "text/x-python",
   "name": "python",
   "nbconvert_exporter": "python",
   "pygments_lexer": "ipython3",
   "version": "3.6.3"
  }
 },
 "nbformat": 4,
 "nbformat_minor": 2
}
