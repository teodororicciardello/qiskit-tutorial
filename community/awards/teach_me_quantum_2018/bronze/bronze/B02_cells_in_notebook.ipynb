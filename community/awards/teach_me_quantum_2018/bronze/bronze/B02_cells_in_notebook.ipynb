{
 "cells": [
  {
   "cell_type": "code",
   "execution_count": null,
   "metadata": {},
   "outputs": [],
   "source": [
    "# A jupyter notebook is composed by one or more cells.\n",
    "# A cell is used to write and execute your codes.\n",
    "# A cell is also used to write descriptions, notes, formulas, etc.\n",
    "# You can format your descriptions by using HTML or LaTex codes.\n",
    "# During this tutorial, you are expected to write only python codes.\n",
    "# Interested readers may also use HTML and LaTex, but it is not necesary to complete this tutorial. \n",
    "\n",
    "#\n",
    "# We explain basic usage of cells in Jupyter notebooks here\n",
    "#\n",
    "\n",
    "# This is the first cell in this notebook.\n",
    "# You can write Python code here, \n",
    "# and then EXECUTE/RUN it by\n",
    "# 1) pressing SHIFT+ENTER\n",
    "# 2) clicking \"Run\" on the menu\n",
    "\n",
    "\n",
    "# here is a few lines of python codes\n",
    "\n",
    "print(\"hello world\")\n",
    "str=\"*\"\n",
    "for i in range(5):\n",
    "    print(str)\n",
    "    str+=\"*\"\n",
    "\n",
    "# after executing this cell, you will see the outcomes immedeately after this cell\n",
    "#     you may change the range above and re-run this cell\n",
    "\n",
    "# after executing this cell, you can continue with the next cell"
   ]
  },
  {
   "cell_type": "code",
   "execution_count": null,
   "metadata": {},
   "outputs": [],
   "source": [
    "# This is the second cell.\n",
    "#\n",
    "# When you double click after the last cell, a new cell appears automatically.\n",
    "#     It automatically happens when you execute the last cell as well. \n",
    "#\n",
    "# By using menu item \"Insert\", you may also add a new cell before or after the selected cell.\n",
    "#     When a cell is selected, you may delete it by using menu item \"Edit\".\n",
    "#\n",
    "# As you may notice, there are other editing options under \"Edit\",\n",
    "#     for example, copy/cut-paste cells and split-merge cells."
   ]
  },
  {
   "cell_type": "markdown",
   "metadata": {},
   "source": [
    "<b>This is the third cell.</b> <br>\n",
    "There are four types of cells. <br>\n",
    "The first type is called \"Code\", which is the default type, as the above two cells. <br>\n",
    "This is a second type cell called \"Markdown\", which is used for explanatory texts. <br> \n",
    "The type of any cell is shown on the toolbar under the menu bar (right-side). You can change the type of a cell from this pulldown menu. <br>\n",
    "You can also determine the type by clicking on the menu item \"Cell\", and then the subitem \"Cell Type\".<br>\n",
    "\n",
    "You can write HTML and LaTex code here.<br>\n",
    "Here we have very basic HTML codes: making the texts bold, italic, or underline, and inserting line breaks.\n",
    "\n",
    "<i>By double clicking on this cell, you can see the code.</i> <br>\n",
    "<u>By execucting this cell, you see the result text.</u>"
   ]
  },
  {
   "cell_type": "markdown",
   "metadata": {},
   "source": [
    "<b> This is the fourth cell.</b>\n",
    "<br>\n",
    "Its type is also \"Markdown\".\n",
    "\n",
    "LaTex is used to show mathematical expressions, formulas, etc. \n",
    "\n",
    "For example, $ x^2 + y ^ 2 = \\frac{4}{9} $, $ \\sum_{i=1}^n (i+2)^{3} $, or $ \\left( \\begin{array}{rr}  1 & 0 & -1 \\\\ 2 & -2 & 0 \\\\ 3 & -1 & -2  \\end{array} \\right) $.\n",
    "\n",
    "<i>By double clicking on this cell, you can see the code.</i> <br> \n",
    "<u>By executing/running this cell, you can see the result text.</u>"
   ]
  },
  {
   "cell_type": "markdown",
   "metadata": {},
   "source": [
    "<h3> Self Practice</h3>\n",
    "<ol>\n",
    "    <li> Please insert a new cell between this first and second cells. \n",
    "        <ul>\n",
    "            <li> Change its type to \"Markdown\". </li>\n",
    "            <li> Write down \"This is the 1.5th cell\" and some random text (Hello world, your name and surname, etc.). </li>\n",
    "            <li> Run it and check the result. </li>\n",
    "        </ul>\n",
    "    </li>\n",
    "    <li> Please insert a new cell between two markdown cells above.\n",
    "        <ul>\n",
    "            <li> Write as a comment \"# This is the 3.5th cell\".\n",
    "            <li> Use it as a \"Code\" cell. (By default, it is a code cell.)</li>\n",
    "            <li> Write a single line python code, e.g., print(\"hello world :-\")</li>\n",
    "            <li> Run your code.</li>\n",
    "        </ul>\n",
    "    </li>\n",
    "    <li> Cut the cell having the text \"This is the 1.5th cell\", and insert (paste) it after the cell having the text \"This is the 3.5th cell\". </li>\n",
    "    <li> Cut these two cells (\"1.5th and 3.5th\") together, and insert (paste) them as the top cells. </li>\n",
    "    <li> Delete the cell having the text \"This is the 1.5th cell\". </li>\n",
    "    <li> Reposition the cell having the text \"This is the 3.5th cell\" to its previous place. </li>\n",
    "</ol>\n",
    "     "
   ]
  }
 ],
 "metadata": {
  "kernelspec": {
   "display_name": "Python 3",
   "language": "python",
   "name": "python3"
  },
  "language_info": {
   "codemirror_mode": {
    "name": "ipython",
    "version": 3
   },
   "file_extension": ".py",
   "mimetype": "text/x-python",
   "name": "python",
   "nbconvert_exporter": "python",
   "pygments_lexer": "ipython3",
   "version": "3.7.1"
  }
 },
 "nbformat": 4,
 "nbformat_minor": 2
}
