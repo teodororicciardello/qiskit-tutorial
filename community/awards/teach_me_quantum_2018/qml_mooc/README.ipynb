{
 "cells": [
  {
   "cell_type": "markdown",
   "metadata": {},
   "source": [
    "# Quantum Machine Learning\n",
    "\n",
    "The pace of development in quantum computing mirrors the rapid advances made in machine learning and artificial intelligence. It is natural to ask whether quantum technologies could boost learning algorithms: this field of enquiry is called quantum machine learning. This massively open online online course (MOOC) on [Quantum Machine Learning](https://www.edx.org/course/quantum-machine-learning) is offered by the University of Toronto on edX with an emphasis on what benefits current and near-future quantum technologies may bring to machine learning. These notebooks contain the lecture notes and the code for the course. The content is organized in four modules, with an additional introductory module to the course itself.\n",
    "\n",
    "## Module 0: Introduction\n",
    "\n",
    "[00_Course_Introduction.ipynb](00_Course_Introduction.ipynb)\n",
    "\n",
    "[00_Introduction to Qiskit.ipynb](00_Introduction%20to%20Qiskit.ipynb)\n",
    "\n",
    "## Module 1: Quantum Systems\n",
    "\n",
    "[02_Measurements_and_Mixed_States.ipynb](02_Measurements_and_Mixed_States.ipynb)\n",
    "\n",
    "[03_Evolution in Closed and Open Systems.ipynb](03_Evolution%20in%20Closed%20and%20Open%20Systems.ipynb)\n",
    "\n",
    "[04_Classical and Quantum Many-Body Physics.ipynb](04_Classical%20and%20Quantum%20Many-Body%20Physics.ipynb)\n",
    "\n",
    "## Module 2: Quantum Computation\n",
    "\n",
    "[05_Gate-Model Quantum Computing.ipynb](05_Gate-Model%20Quantum%20Computing.ipynb)\n",
    "\n",
    "[06_Adiabatic Quantum Computing.ipynb](06_Adiabatic%20Quantum%20Computing.ipynb)\n",
    "\n",
    "[07_Variational Circuits.ipynb](07_Variational%20Circuits.ipynb)\n",
    "\n",
    "[08_Sampling a Thermal State.ipynb](08_Sampling%20a%20Thermal%20State.ipynb)\n",
    "\n",
    "## Module 3: Classical-quantum hybrid learning algorithms\n",
    "\n",
    "[09_Discrete Optimization and Ensemble Learning.ipynb](09_Discrete%20Optimization%20and%20Ensemble%20Learning.ipynb)\n",
    "\n",
    "[10_Discrete Optimization and Unsupervised Learning.ipynb](10_Discrete%20Optimization%20and%20Unsupervised%20Learning.ipynb)\n",
    "\n",
    "[11_Kernel Methods.ipynb](11_Kernel%20Methods.ipynb)\n",
    "\n",
    "[12_Training Probabilistic Graphical Models.ipynb](12_Training%20Probabilistic%20Graphical%20Models.ipynb)\n",
    "\n",
    "## Module 4: Coherent Learning Protocols\n",
    "\n",
    "[13_Quantum Phase Estimation.ipynb](13_Quantum%20Phase%20Estimation.ipynb)\n",
    "\n",
    "[14_Quantum Matrix Inversion.ipynb](14_Quantum%20Matrix%20Inversion.ipynb)\n"
   ]
  },
  {
   "cell_type": "code",
   "execution_count": null,
   "metadata": {},
   "outputs": [],
   "source": []
  }
 ],
 "metadata": {
  "kernelspec": {
   "display_name": "Python 3",
   "language": "python",
   "name": "python3"
  },
  "language_info": {
   "codemirror_mode": {
    "name": "ipython",
    "version": 3
   },
   "file_extension": ".py",
   "mimetype": "text/x-python",
   "name": "python",
   "nbconvert_exporter": "python",
   "pygments_lexer": "ipython3",
   "version": "3.7.2"
  }
 },
 "nbformat": 4,
 "nbformat_minor": 2
}
