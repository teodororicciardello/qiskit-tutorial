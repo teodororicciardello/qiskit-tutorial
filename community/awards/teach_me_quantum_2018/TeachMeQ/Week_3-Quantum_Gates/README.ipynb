{
 "cells": [
  {
   "cell_type": "markdown",
   "metadata": {},
   "source": [
    "# Week 3 - Quantum Gates\n",
    "\n",
    " * Algebra reminders: Conjugate Transpose, Hermitian, Unitary operators\n",
    " * Quantum Gates\n",
    " * one qubit gates: Hadamard, Pauli gates (X, Y, Z)\n",
    " * \\>1 qubit gates: Controlled gates, CNOT\n",
    " * Preview of other gates\n",
    " * Qiskit examples\n",
    " * Circuit representation of gates\n",
    "\n",
    "# Exercises\n",
    " * Pen and paper exercises for testing unitary transformations [slides](slides.pdf)\n",
    " * [Jupyter notebook with exercises](exercises/w3_01.ipynb): implementing gates, visualizing, executing locally and in remote machines, implement some simple circuits, discussion on practical setups\n",
    " * [Jupyter notebook with solutions](exercises/w3_01_s.ipynb)\n",
    "\n",
    "## Resources\n",
    " * [PDF slides](slides.pdf)\n",
    " * [slides src](latex/main.tex) Latex files and image resources used in the presentation (useful for PR on slide typos and such)\n"
   ]
  },
  {
   "cell_type": "code",
   "execution_count": null,
   "metadata": {},
   "outputs": [],
   "source": []
  }
 ],
 "metadata": {
  "kernelspec": {
   "display_name": "Python 3",
   "language": "python",
   "name": "python3"
  },
  "language_info": {
   "codemirror_mode": {
    "name": "ipython",
    "version": 3
   },
   "file_extension": ".py",
   "mimetype": "text/x-python",
   "name": "python",
   "nbconvert_exporter": "python",
   "pygments_lexer": "ipython3",
   "version": "3.6.3"
  }
 },
 "nbformat": 4,
 "nbformat_minor": 2
}
