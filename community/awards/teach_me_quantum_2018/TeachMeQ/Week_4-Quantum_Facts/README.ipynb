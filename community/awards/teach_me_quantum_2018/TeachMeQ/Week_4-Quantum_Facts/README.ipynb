{
 "cells": [
  {
   "cell_type": "markdown",
   "metadata": {},
   "source": [
    "# Week 4 - Quantum Facts\n",
    "\n",
    " * Universal Classical Gates\n",
    " * Universal Quantum Gates\n",
    " * How unitary transformations allow for cyclic basis conversion\n",
    " * Entanglement\n",
    " * Big O Notation\n",
    " * BQP\n",
    "\n",
    "# Exercises\n",
    " * Pen and paper exercises for basis conversion using single qubit gates [slides](slides.pdf)\n",
    " * [Jupyter notebook with exercises](exercises/w4_01.ipynb): implementing and understanding entanglement, observing entanglement in lab settings\n",
    " * [Jupyter notebook with solutions](exercises/w4_01_s.ipynb)\n",
    "\n",
    "## Resources\n",
    " * [PDF slides](slides.pdf)\n",
    " * [slides src](latex/main.tex) Latex files and image resources used in the presentation (useful for PR on slide typos and such)\n"
   ]
  },
  {
   "cell_type": "code",
   "execution_count": null,
   "metadata": {},
   "outputs": [],
   "source": []
  }
 ],
 "metadata": {
  "kernelspec": {
   "display_name": "Python 3",
   "language": "python",
   "name": "python3"
  },
  "language_info": {
   "codemirror_mode": {
    "name": "ipython",
    "version": 3
   },
   "file_extension": ".py",
   "mimetype": "text/x-python",
   "name": "python",
   "nbconvert_exporter": "python",
   "pygments_lexer": "ipython3",
   "version": "3.6.3"
  }
 },
 "nbformat": 4,
 "nbformat_minor": 2
}
