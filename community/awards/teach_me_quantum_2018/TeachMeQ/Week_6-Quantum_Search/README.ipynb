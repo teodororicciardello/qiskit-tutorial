{
 "cells": [
  {
   "cell_type": "markdown",
   "metadata": {},
   "source": [
    "# Week 6 - Quantum Search (Grover's Algorithm)\n",
    "\n",
    " * The Search Problem\n",
    " * SAT Problem\n",
    " * Grover's Algorithm Overview\n",
    " * Phase Inversion\n",
    " * Inversion about the Mean\n",
    " * Quadratic speedup\n",
    "\n",
    "# Exercises\n",
    " * [Jupyter notebook with tutorial](exercises/w6_01.ipynb): implementing Grover's Algorithm and solving a SAT problem of dimension 3, using local and remote (IBMQ) quantum devices\n",
    "\n",
    "## Resources\n",
    " * [PDF slides](slides.pdf)\n",
    " * [slides src](latex/main.tex) Latex files and image resources used in the presentation (useful for PR on slide typos and such)"
   ]
  },
  {
   "cell_type": "code",
   "execution_count": null,
   "metadata": {},
   "outputs": [],
   "source": []
  }
 ],
 "metadata": {
  "kernelspec": {
   "display_name": "Python 3",
   "language": "python",
   "name": "python3"
  },
  "language_info": {
   "codemirror_mode": {
    "name": "ipython",
    "version": 3
   },
   "file_extension": ".py",
   "mimetype": "text/x-python",
   "name": "python",
   "nbconvert_exporter": "python",
   "pygments_lexer": "ipython3",
   "version": "3.6.3"
  }
 },
 "nbformat": 4,
 "nbformat_minor": 2
}
