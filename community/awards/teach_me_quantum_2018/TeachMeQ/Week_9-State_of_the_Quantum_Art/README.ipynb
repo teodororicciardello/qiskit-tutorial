{
 "cells": [
  {
   "cell_type": "markdown",
   "metadata": {},
   "source": [
    "# Week 9 - State of the Quantum Art\n",
    "\n",
    " * Models of Quantum Computation\n",
    "    * Quantum Circuit\n",
    "    * Adiabatic Quantum Computation\n",
    "    * Measurement Based Quantum Computer\n",
    "    * Topological Quantum Computer\n",
    " * Building Quantum Computers\n",
    "    * Implementing a Qubit\n",
    "    * Quantum Decoherence\n",
    "    * Quantum Error Correction\n",
    " * Industrial Standpoint - Race for Quantum\n",
    " * Closing Remarks\n",
    "\n",
    "## Resources\n",
    " * [PDF slides](slides.pdf)\n",
    " * [slides src](latex/main.tex) Latex files and image resources used in the presentation (useful for PR on slide typos and such)\n"
   ]
  },
  {
   "cell_type": "code",
   "execution_count": null,
   "metadata": {},
   "outputs": [],
   "source": []
  }
 ],
 "metadata": {
  "kernelspec": {
   "display_name": "Python 3",
   "language": "python",
   "name": "python3"
  },
  "language_info": {
   "codemirror_mode": {
    "name": "ipython",
    "version": 3
   },
   "file_extension": ".py",
   "mimetype": "text/x-python",
   "name": "python",
   "nbconvert_exporter": "python",
   "pygments_lexer": "ipython3",
   "version": "3.6.3"
  }
 },
 "nbformat": 4,
 "nbformat_minor": 2
}
