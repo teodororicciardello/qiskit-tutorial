{
 "cells": [
  {
   "cell_type": "markdown",
   "metadata": {},
   "source": [
    "# Week 8 - High Level Quantum Programming (qiskit-aqua)\n",
    "\n",
    " * Qiskit Aqua\n",
    " * Quantum Supremacy\n",
    " * Troubleshooting Qiskit Aqua\n",
    " * High Level Grover's algorithm\n",
    " * AI problems with aqua\n",
    " * Optimization problems with aqua (MaxCut, Traveling Salesman)\n",
    " * Chemistry with aqua\n",
    "\n",
    "# Exercises\n",
    " * [Jupyter notebook 1 with tutorial](exercises/w8_01.ipynb): Grover's algorithm (High Level Quantum)\n",
    " * [Jupyter notebook 2 with tutorial](exercises/w8_02.ipynb): Support Vector Machine for classification of Breast Cancer datapoints (AI)\n",
    " * [Jupyter notebook 3 with tutorial](exercises/w8_03.ipynb): Maximum Cut problem (Optimization)\n",
    " * [Jupyter notebook 4 with tutorial](exercises/w8_04.ipynb): Traveling Salesman problem (Optimization)\n",
    " * [Jupyter notebook 5 with tutorial](exercises/w8_05.ipynb): Ground state oh H2 Molecule (Chemistry)\n",
    "\n",
    "## Resources\n",
    " * [PDF slides](slides.pdf)\n",
    " * [slides src](latex/main.tex) Latex files and image resources used in the presentation (useful for PR on slide typos and such)"
   ]
  },
  {
   "cell_type": "code",
   "execution_count": null,
   "metadata": {},
   "outputs": [],
   "source": []
  }
 ],
 "metadata": {
  "kernelspec": {
   "display_name": "Python 3",
   "language": "python",
   "name": "python3"
  },
  "language_info": {
   "codemirror_mode": {
    "name": "ipython",
    "version": 3
   },
   "file_extension": ".py",
   "mimetype": "text/x-python",
   "name": "python",
   "nbconvert_exporter": "python",
   "pygments_lexer": "ipython3",
   "version": "3.6.3"
  }
 },
 "nbformat": 4,
 "nbformat_minor": 2
}
