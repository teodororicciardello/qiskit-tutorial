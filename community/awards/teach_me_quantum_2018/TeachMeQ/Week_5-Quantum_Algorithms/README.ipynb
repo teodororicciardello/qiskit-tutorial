{
 "cells": [
  {
   "cell_type": "markdown",
   "metadata": {},
   "source": [
    "# Week 5 - Quantum Algorithms (Introdution)\n",
    "\n",
    " * Quantum Oracles\n",
    " * Quantum Reversible Computation\n",
    " * Deutsch-Jozsa Problem Formulation\n",
    " * Deutsch's Problem Formulation\n",
    " * Deutsch's Algorithm\n",
    " * Deutsch-Jozsa Algorithm\n",
    " * Deutsch/Deutsch-Jozsa in Qiskit\n",
    "\n",
    "# Exercises\n",
    " * Pen and paper verificatio of the math in the description of Deutsch's Algorithm [slides](slides.pdf)\n",
    " * [Jupyter notebook with exercises](exercises/w5_01.ipynb): implementing Deutsch's Algorithm in Qiskit\n",
    " * [Jupyter notebook with solutions](exercises/w5_01_s.ipynb)\n",
    "\n",
    "## Resources\n",
    " * [PDF slides](slides.pdf)\n",
    " * [slides src](latex/main.tex) Latex files and image resources used in the presentation (useful for PR on slide typos and such)\n"
   ]
  },
  {
   "cell_type": "code",
   "execution_count": null,
   "metadata": {},
   "outputs": [],
   "source": []
  }
 ],
 "metadata": {
  "kernelspec": {
   "display_name": "Python 3",
   "language": "python",
   "name": "python3"
  },
  "language_info": {
   "codemirror_mode": {
    "name": "ipython",
    "version": 3
   },
   "file_extension": ".py",
   "mimetype": "text/x-python",
   "name": "python",
   "nbconvert_exporter": "python",
   "pygments_lexer": "ipython3",
   "version": "3.6.3"
  }
 },
 "nbformat": 4,
 "nbformat_minor": 2
}
