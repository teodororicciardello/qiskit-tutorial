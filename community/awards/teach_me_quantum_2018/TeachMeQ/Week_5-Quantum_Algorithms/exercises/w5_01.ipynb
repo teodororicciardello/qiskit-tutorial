{
 "cells": [
  {
   "cell_type": "markdown",
   "metadata": {},
   "source": [
    "# Quantum Algorithms (Intro) in Qiskit (Deutsch's)\n",
    "A real algorithm, one of the first ever created, will be implemented in Qiskit.\n",
    "\n",
    "Start by some typical setup and definition of useful functions, which you are encouraged to look at.\n",
    "\n",
    "Then, head to the [exercises start](#Exercises-Start-Here) to start coding!\n",
    "\n",
    "![Matrix Oracle](oracle.jpg)"
   ]
  },
  {
   "cell_type": "code",
   "execution_count": null,
   "metadata": {},
   "outputs": [],
   "source": [
    "from qiskit import QuantumCircuit, ClassicalRegister, QuantumRegister\n",
    "from qiskit import execute"
   ]
  },
  {
   "cell_type": "code",
   "execution_count": null,
   "metadata": {},
   "outputs": [],
   "source": [
    "# Choose the drawer you like best:\n",
    "from qiskit.tools.visualization import matplotlib_circuit_drawer as draw\n",
    "#from qiskit.tools.visualization import circuit_drawer as draw"
   ]
  },
  {
   "cell_type": "code",
   "execution_count": null,
   "metadata": {},
   "outputs": [],
   "source": [
    "from qiskit import IBMQ\n",
    "IBMQ.load_accounts() # make sure you have setup your token locally to use this"
   ]
  },
  {
   "cell_type": "code",
   "execution_count": null,
   "metadata": {},
   "outputs": [],
   "source": [
    "%matplotlib inline"
   ]
  },
  {
   "cell_type": "markdown",
   "metadata": {},
   "source": [
    "## Utils for visualizing experimental results"
   ]
  },
  {
   "cell_type": "code",
   "execution_count": null,
   "metadata": {},
   "outputs": [],
   "source": [
    "import matplotlib.pyplot as plt\n",
    "\n",
    "def show_results(D):\n",
    "    # D is a dictionary with classical bits as keys and count as value\n",
    "    # example: D = {'000': 497, '001': 527}\n",
    "    plt.bar(range(len(D)), list(D.values()), align='center')\n",
    "    plt.xticks(range(len(D)), list(D.keys()))\n",
    "    plt.show()"
   ]
  },
  {
   "cell_type": "markdown",
   "metadata": {},
   "source": [
    "## Utils for executing circuits"
   ]
  },
  {
   "cell_type": "code",
   "execution_count": null,
   "metadata": {},
   "outputs": [],
   "source": [
    "from qiskit import Aer\n",
    "# See a list of available local simulators\n",
    "print(\"Aer backends: \", Aer.backends())"
   ]
  },
  {
   "cell_type": "code",
   "execution_count": null,
   "metadata": {},
   "outputs": [],
   "source": [
    "# see a list of available remote backends (these are freely given by IBM)\n",
    "print(\"IBMQ Backends: \", IBMQ.backends())"
   ]
  },
  {
   "cell_type": "markdown",
   "metadata": {},
   "source": [
    "### Execute locally"
   ]
  },
  {
   "cell_type": "code",
   "execution_count": null,
   "metadata": {},
   "outputs": [],
   "source": [
    "# execute circuit and either display a histogram of the results\n",
    "def execute_locally(qc, draw_circuit=False, show_results=False):\n",
    "    # Compile and run the Quantum circuit on a simulator backend\n",
    "    backend_sim = Aer.get_backend('qasm_simulator')\n",
    "    job_sim = execute(qc, backend_sim)\n",
    "    result_sim = job_sim.result()\n",
    "    result_counts = result_sim.get_counts(qc)\n",
    "    \n",
    "    if draw_circuit or show_results: # Print the results\n",
    "        print(\"simulation: \", result_sim, result_counts)\n",
    "    \n",
    "    if draw_circuit: # draw the circuit\n",
    "        draw(qc)\n",
    "    elif show_results: # or show the results\n",
    "        show_results(result_counts)\n",
    "    return result_counts"
   ]
  },
  {
   "cell_type": "markdown",
   "metadata": {},
   "source": [
    "### Execute remotely"
   ]
  },
  {
   "cell_type": "code",
   "execution_count": null,
   "metadata": {},
   "outputs": [],
   "source": [
    "from qiskit.backends.ibmq import least_busy\n",
    "import time\n",
    "# Compile and run on a real device backend\n",
    "def execute_remotely(qc, draw_circuit=False, show_results=False):\n",
    "    if draw_circuit: # draw the circuit\n",
    "        draw(qc)\n",
    "    try:\n",
    "        # select least busy available device and execute.\n",
    "        least_busy_device = least_busy(IBMQ.backends(simulator=False))\n",
    "        print(\"Running on current least busy device: \", least_busy_device)\n",
    "\n",
    "        # running the job\n",
    "        job_exp = execute(qc, backend=least_busy_device, shots=1024, max_credits=10)\n",
    "\n",
    "        lapse, interval = 0, 10\n",
    "        while job_exp.status().name != 'DONE':\n",
    "            print('Status @ {} seconds'.format(interval * lapse))\n",
    "            print(job_exp.status())\n",
    "            time.sleep(interval)\n",
    "            lapse += 1\n",
    "        print(job_exp.status())\n",
    "        exp_result = job_exp.result()\n",
    "        result_counts = exp_result.get_counts(qc)\n",
    "\n",
    "        # Show the results\n",
    "        print(\"experiment: \", exp_result, result_counts)\n",
    "        if show_results: # show the results\n",
    "            show_results(result_counts)\n",
    "        return result_counts\n",
    "    except:\n",
    "        print(\"All devices are currently unavailable.\")\n",
    "        return {}"
   ]
  },
  {
   "cell_type": "markdown",
   "metadata": {},
   "source": [
    "## Building the circuit"
   ]
  },
  {
   "cell_type": "code",
   "execution_count": null,
   "metadata": {},
   "outputs": [],
   "source": [
    "def new_circuit(size):\n",
    "    # Create a Quantum Register with size qubits\n",
    "    qr = QuantumRegister(size)\n",
    "\n",
    "    # Create a Classical Register with size bits\n",
    "    cr = ClassicalRegister(size)\n",
    "\n",
    "    # Create a Quantum Circuit acting on the qr and cr register\n",
    "    return qr, cr, QuantumCircuit(qr, cr)"
   ]
  },
  {
   "cell_type": "markdown",
   "metadata": {},
   "source": [
    "## Our secret Oracles"
   ]
  },
  {
   "cell_type": "code",
   "execution_count": null,
   "metadata": {},
   "outputs": [],
   "source": [
    "ERROR_MESSAGE = \"Looks like your Deutsch has a bug\""
   ]
  },
  {
   "cell_type": "code",
   "execution_count": null,
   "metadata": {},
   "outputs": [],
   "source": [
    "def quantum_oracle_1(qr, cr, circuit):\n",
    "    pass"
   ]
  },
  {
   "cell_type": "code",
   "execution_count": null,
   "metadata": {},
   "outputs": [],
   "source": [
    "def quantum_oracle_2(qr, cr, circuit):\n",
    "    circuit.cx(qr[0], qr[1])"
   ]
  },
  {
   "cell_type": "code",
   "execution_count": null,
   "metadata": {},
   "outputs": [],
   "source": [
    "def quantum_oracle_3(qr, cr, circuit):\n",
    "    circuit.cx(qr[0], qr[1])\n",
    "    circuit.cx(qr[1], qr[0])\n",
    "    circuit.cx(qr[0], qr[1])"
   ]
  },
  {
   "cell_type": "code",
   "execution_count": null,
   "metadata": {},
   "outputs": [],
   "source": [
    "def quantum_oracle_4(qr, cr, circuit):\n",
    "    circuit.z(qr[1])\n",
    "    circuit.cx(qr[0], qr[1])"
   ]
  },
  {
   "cell_type": "markdown",
   "metadata": {},
   "source": [
    "---\n",
    "<h1 align=\"center\">Exercises Start Here</h1>\n",
    "\n",
    "Make sure you ran all the above cells in order, as the following exercises use functions defined and imported above."
   ]
  },
  {
   "cell_type": "markdown",
   "metadata": {},
   "source": [
    "# Understanding Deutsch's Algorithm\n",
    "If you need go back to the slides, or check other sources, but it is quite important that you get a good grasp on why the algorithm works. Hopefully, these exercises will help achieve that. \n",
    "\n",
    "Firstly, let us look at our goal circuit:\n",
    "![deutsch's circuit](deutsch_algorithm.png)\n",
    "The XOR symbol is meaningful but not realistic, that is actually a measurement, as you may have guessed!!"
   ]
  },
  {
   "cell_type": "markdown",
   "metadata": {},
   "source": [
    "## Your Task\n",
    "I have defined 4 mysterious **oracles:** `quantum_oracle_1` through `quantum_oracle_4`. (For 2 qubits)\n",
    "\n",
    "You need to find, without looking at their implementation, whether they are **balanced** or **constant** by designing a quantum circuit, just follow the next steps:"
   ]
  },
  {
   "cell_type": "markdown",
   "metadata": {},
   "source": [
    "**TASK:** Create a new circuit with 2 qubits using `new_circuit` (very useful to reconstruct your circuit in Jupyter)"
   ]
  },
  {
   "cell_type": "code",
   "execution_count": null,
   "metadata": {},
   "outputs": [],
   "source": []
  },
  {
   "cell_type": "markdown",
   "metadata": {},
   "source": [
    "**TASK:** Make the necessary modifications on the input qubits (before the Hadamards)"
   ]
  },
  {
   "cell_type": "code",
   "execution_count": null,
   "metadata": {},
   "outputs": [],
   "source": []
  },
  {
   "cell_type": "markdown",
   "metadata": {},
   "source": [
    "**TASK:** Implement the Hadamards on both qubits"
   ]
  },
  {
   "cell_type": "code",
   "execution_count": null,
   "metadata": {},
   "outputs": [],
   "source": []
  },
  {
   "cell_type": "markdown",
   "metadata": {},
   "source": [
    "**TASK:** Call our oracle 1: `quantum_oracle_1(CLASSICAL_REGISTER, QUANTUM_REGISTER, YOUR_CURRENT_CIRCUIT)`"
   ]
  },
  {
   "cell_type": "code",
   "execution_count": null,
   "metadata": {},
   "outputs": [],
   "source": []
  },
  {
   "cell_type": "markdown",
   "metadata": {},
   "source": [
    "**TASK:** Implement the Hadamard on qubit 0"
   ]
  },
  {
   "cell_type": "code",
   "execution_count": null,
   "metadata": {},
   "outputs": [],
   "source": []
  },
  {
   "cell_type": "markdown",
   "metadata": {},
   "source": [
    "**TASK:** Perform a measurement"
   ]
  },
  {
   "cell_type": "code",
   "execution_count": null,
   "metadata": {},
   "outputs": [],
   "source": []
  },
  {
   "cell_type": "markdown",
   "metadata": {},
   "source": [
    "**TASK:** check the result using `execute_locally` test both `True` and `False` for the `draw_circuit` and `show_results` (4 different combinations) option and save the results!\n",
    "\n",
    "(This function has been updated and now returns a dictionary like: `{'00': 524, '11': 500}`)"
   ]
  },
  {
   "cell_type": "code",
   "execution_count": null,
   "metadata": {},
   "outputs": [],
   "source": []
  },
  {
   "cell_type": "markdown",
   "metadata": {},
   "source": [
    "**TASK:** Now implement a decision mechanism that will print either `\"CONSTANT\"` or `\"BALANCED\"`, according to what type of oracle `quantum_oracle_1` is!"
   ]
  },
  {
   "cell_type": "code",
   "execution_count": null,
   "metadata": {},
   "outputs": [],
   "source": []
  },
  {
   "cell_type": "markdown",
   "metadata": {},
   "source": [
    "**TASK:** Take your code and isolate it into a function `get_deutsch_verdict` that has a dictionary with the execution results and returns either `\"CONSTANT\"` or `\"BALANCED\"`, accordingly."
   ]
  },
  {
   "cell_type": "code",
   "execution_count": null,
   "metadata": {},
   "outputs": [],
   "source": [
    "def get_deutsch_verdict(res):\n",
    "    return \"CONSTANT\" or \"BALANCED\""
   ]
  },
  {
   "cell_type": "markdown",
   "metadata": {},
   "source": [
    "**TASK:** Call your function with your previous results and print its return value:"
   ]
  },
  {
   "cell_type": "code",
   "execution_count": null,
   "metadata": {},
   "outputs": [],
   "source": [
    "print(get_deutsch_verdict(results))"
   ]
  },
  {
   "cell_type": "markdown",
   "metadata": {},
   "source": [
    "## Isolate your code into a function\n",
    "**TASK:** Create a function called `deutsch` which receives a `black_box` as an argument and returns either `\"CONSTANT\"` or `\"BALANCED\"` (a stub has already been created for you)"
   ]
  },
  {
   "cell_type": "code",
   "execution_count": null,
   "metadata": {},
   "outputs": [],
   "source": [
    "def deutsch(black_box):\n",
    "    # ...\n",
    "    black_box(circuit)\n",
    "    #...\n",
    "    return \"CONSTANT\" or \"BALANCED\""
   ]
  },
  {
   "cell_type": "markdown",
   "metadata": {},
   "source": [
    "**TASK:** Call `deutsch(quantum_oracle_1)` and a `'CONSTANT'` value should appear:"
   ]
  },
  {
   "cell_type": "code",
   "execution_count": null,
   "metadata": {},
   "outputs": [],
   "source": []
  },
  {
   "cell_type": "markdown",
   "metadata": {},
   "source": [
    "**TASK:** Now that you are confident of your implementation, call it for the following cases to make sure it is! If you have a bug an `AssertionError` will appear"
   ]
  },
  {
   "cell_type": "markdown",
   "metadata": {},
   "source": [
    "Test case 1: `quantum_oracle_1`"
   ]
  },
  {
   "cell_type": "code",
   "execution_count": null,
   "metadata": {},
   "outputs": [],
   "source": [
    "assert deutsch(quantum_oracle_1) == 'CONSTANT', ERROR_MESSAGE"
   ]
  },
  {
   "cell_type": "markdown",
   "metadata": {},
   "source": [
    "Test case 2: `quantum_oracle_2`"
   ]
  },
  {
   "cell_type": "code",
   "execution_count": null,
   "metadata": {},
   "outputs": [],
   "source": [
    "assert deutsch(quantum_oracle_2) == 'BALANCED', \"Looks like your Deutsch has a bug\""
   ]
  },
  {
   "cell_type": "markdown",
   "metadata": {},
   "source": [
    "Test case 3: `quantum_oracle_3`"
   ]
  },
  {
   "cell_type": "code",
   "execution_count": null,
   "metadata": {},
   "outputs": [],
   "source": [
    "assert deutsch(quantum_oracle_3) == 'BALANCED', \"Looks like your Deutsch has a bug\""
   ]
  },
  {
   "cell_type": "markdown",
   "metadata": {},
   "source": [
    "Test case 4: `quantum_oracle_4`"
   ]
  },
  {
   "cell_type": "code",
   "execution_count": null,
   "metadata": {},
   "outputs": [],
   "source": [
    "assert deutsch(quantum_oracle_4) == 'CONSTANT', \"Looks like your Deutsch has a bug\""
   ]
  },
  {
   "cell_type": "markdown",
   "metadata": {},
   "source": [
    "## Free Flow\n",
    "On your own, try to implement `deutsch_jozsa` which is able to handle multiple qubits (this can your homework for the week!). "
   ]
  }
 ],
 "metadata": {
  "kernelspec": {
   "display_name": "Python 3",
   "language": "python",
   "name": "python3"
  },
  "language_info": {
   "codemirror_mode": {
    "name": "ipython",
    "version": 3
   },
   "file_extension": ".py",
   "mimetype": "text/x-python",
   "name": "python",
   "nbconvert_exporter": "python",
   "pygments_lexer": "ipython3",
   "version": "3.6.4"
  }
 },
 "nbformat": 4,
 "nbformat_minor": 2
}
