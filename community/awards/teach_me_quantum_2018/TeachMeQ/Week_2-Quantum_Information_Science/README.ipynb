{
 "cells": [
  {
   "cell_type": "markdown",
   "metadata": {},
   "source": [
    "# Week 2 - Quantum Information Science\n",
    "\n",
    " * Quantum Information Science\n",
    " * Classical bits/egisters\n",
    " * Quantum bits/registers\n",
    " * Hands-on on Qskit\n",
    " * Visualizing circuits\n",
    " * Qasm language\n",
    " \n",
    "# Exercises\n",
    " * [QSKit basics and circuit visualization](exercises/w2_01.ipynb)\n",
    " * Run a Qasm specification on IBM Q Experience, and on a Real Processor (see slides for instructions)\n",
    " \n",
    "## Resources\n",
    " * [PDF slides](slides.pdf)\n",
    " * [slides src](latex/main.tex) Latex files and image resources used in the presentation (useful for PR on slide typos and such)\n"
   ]
  },
  {
   "cell_type": "code",
   "execution_count": null,
   "metadata": {},
   "outputs": [],
   "source": []
  }
 ],
 "metadata": {
  "kernelspec": {
   "display_name": "Python 3",
   "language": "python",
   "name": "python3"
  },
  "language_info": {
   "codemirror_mode": {
    "name": "ipython",
    "version": 3
   },
   "file_extension": ".py",
   "mimetype": "text/x-python",
   "name": "python",
   "nbconvert_exporter": "python",
   "pygments_lexer": "ipython3",
   "version": "3.6.3"
  }
 },
 "nbformat": 4,
 "nbformat_minor": 2
}
