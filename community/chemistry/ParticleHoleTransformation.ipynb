{
 "cells": [
  {
   "cell_type": "markdown",
   "metadata": {},
   "source": [
    "## _*Particle hole transformation of FermionicOperator*_\n",
    "\n",
    "This notebook demonstrates carrying out a ParticleHole transformation on the FermionicOperator in Qiskit Chemistry. Here we use the FermionicOperator directly to demonstrate.\n",
    "\n",
    "Note: The Hamiltonian class that wraps this provides a means to use either full, or particle hole transformation. Under the covers it does what is shown here though.\n",
    "\n",
    "This notebook has been written to use the PYSCF chemistry driver."
   ]
  },
  {
   "cell_type": "code",
   "execution_count": 1,
   "metadata": {},
   "outputs": [],
   "source": [
    "import numpy as np\n",
    "\n",
    "from qiskit import BasicAer\n",
    "from qiskit.transpiler import PassManager\n",
    "\n",
    "from qiskit.aqua import Operator, QuantumInstance\n",
    "from qiskit.aqua.algorithms.adaptive import VQE\n",
    "from qiskit.aqua.algorithms.classical import ExactEigensolver\n",
    "from qiskit.aqua.components.optimizers import L_BFGS_B\n",
    "from qiskit.aqua.components.variational_forms import RY\n",
    "\n",
    "from qiskit.chemistry import FermionicOperator\n",
    "from qiskit.chemistry.drivers import PySCFDriver, UnitsType"
   ]
  },
  {
   "cell_type": "markdown",
   "metadata": {},
   "source": [
    "We'll do this with H2 molecule and use the PySCF driver to create the integrals we need for the FermionicOperator."
   ]
  },
  {
   "cell_type": "code",
   "execution_count": 3,
   "metadata": {},
   "outputs": [],
   "source": [
    "driver = PySCFDriver(atom='H .0 .0 .0; H .0 .0 0.735', unit=UnitsType.ANGSTROM,\n",
    "                     charge=0, spin=0, basis='sto3g')\n",
    "molecule = driver.run()"
   ]
  },
  {
   "cell_type": "markdown",
   "metadata": {},
   "source": [
    "We first create the FermionicOperator and use ExactEigensolver with qubit operator we get from it via a jordan wigner mapping to compute the ground state energy. Here this is the electronic component of the total ground state energy (the total ground state energy would include the nuclear repulsion energy we can get from the molecule that comes from the driver)"
   ]
  },
  {
   "cell_type": "code",
   "execution_count": 4,
   "metadata": {},
   "outputs": [
    {
     "name": "stdout",
     "output_type": "stream",
     "text": [
      "The exact ground state energy is: -1.8572750302023795\n",
      "The Hartree Fock Electron Energy is: -1.8369679912029842\n"
     ]
    }
   ],
   "source": [
    "ferOp = FermionicOperator(h1=molecule.one_body_integrals, h2=molecule.two_body_integrals)\n",
    "qubitOp_jw = ferOp.mapping(map_type='JORDAN_WIGNER', threshold=0.00000001)\n",
    "qubitOp_jw.chop(10**-10)\n",
    "\n",
    "# Using exact eigensolver to get the smallest eigenvalue\n",
    "exact_eigensolver = ExactEigensolver(qubitOp_jw, k=1)\n",
    "ret = exact_eigensolver.run()\n",
    "\n",
    "# print(qubitOp_jw.print_operators())\n",
    "\n",
    "print('The exact ground state energy is: {}'.format(ret['energy']))\n",
    "print('The Hartree Fock Electron Energy is: {}'.format(molecule.hf_energy - molecule.nuclear_repulsion_energy))"
   ]
  },
  {
   "cell_type": "markdown",
   "metadata": {},
   "source": [
    "Now the same as above but with ParticleHole transformation. This removes out energy from the FermionicOperator that is equivalent to the electronic part of the Hartree Fock Energy that we also computed above. The Hartree Fock energy also comes from the driver. To get the total electronic ground state energy we need to add the part we now compute with the part that was removed by the transformation."
   ]
  },
  {
   "cell_type": "code",
   "execution_count": 5,
   "metadata": {},
   "outputs": [
    {
     "name": "stdout",
     "output_type": "stream",
     "text": [
      "Energy shift is: 1.8369679912029846\n",
      "The exact ground state energy in PH basis is -0.020307038999396183\n",
      "The exact ground state energy in PH basis is -1.8572750302023808 (with energy_shift)\n"
     ]
    }
   ],
   "source": [
    "# particle hole transformation\n",
    "newferOp, energy_shift = ferOp.particle_hole_transformation(num_particles=2)\n",
    "print('Energy shift is: {}'.format(energy_shift))\n",
    "newqubitOp_jw = newferOp.mapping(map_type='JORDAN_WIGNER', threshold=0.00000001)\n",
    "newqubitOp_jw.chop(10**-10)\n",
    "\n",
    "exact_eigensolver = ExactEigensolver(newqubitOp_jw, k=1)\n",
    "ret = exact_eigensolver.run()\n",
    "\n",
    "# print(newqubitOp_jw.print_operators())\n",
    "print('The exact ground state energy in PH basis is {}'.format(ret['energy']))\n",
    "print('The exact ground state energy in PH basis is {} (with energy_shift)'.format(ret['energy'] - energy_shift))"
   ]
  },
  {
   "cell_type": "markdown",
   "metadata": {},
   "source": [
    "We run here using the quantum VQE algorithm to show the same result. The parameters printed are the optimal parameters of the variational form at the minimum energy, the ground state."
   ]
  },
  {
   "cell_type": "code",
   "execution_count": 6,
   "metadata": {},
   "outputs": [
    {
     "name": "stdout",
     "output_type": "stream",
     "text": [
      "Minimum value: -0.020307038771711697\n",
      "Minimum value: -1.8572750299746963\n",
      "Parameters: [-0.62024568 -0.94461634 -0.12822854 -1.33174693 -3.12835752 -2.41119768\n",
      "  0.67926104  2.44344768  0.72721421 -2.76518798 -1.08251803 -1.75962366\n",
      "  0.54861203  1.8995056   3.04269648 -1.75046119  0.16409288  0.68204022\n",
      " -0.07661803 -0.76359574 -1.56412942 -2.02324628  1.50961019  1.31452025]\n"
     ]
    }
   ],
   "source": [
    "# setup VQE \n",
    "# setup optimizer, use L_BFGS_B optimizer for example\n",
    "lbfgs = L_BFGS_B(maxfun=1000, factr=10, iprint=10)\n",
    "\n",
    "# setup variational form generator (generate trial circuits for VQE)\n",
    "var_form = RY(newqubitOp_jw.num_qubits, 5, entangler_map = [[0, 1], [1, 2], [2, 3]])\n",
    "\n",
    "# setup VQE with operator, variational form, and optimizer\n",
    "vqe_algorithm = VQE(newqubitOp_jw, var_form, lbfgs, 'matrix')\n",
    "\n",
    "backend = BasicAer.get_backend('statevector_simulator')\n",
    "quantum_instance = QuantumInstance(backend, pass_manager=PassManager())\n",
    "\n",
    "results = vqe_algorithm.run(quantum_instance)\n",
    "print(\"Minimum value: {}\".format(results['eigvals'][0].real))\n",
    "print(\"Minimum value: {}\".format(results['eigvals'][0].real - energy_shift))\n",
    "print(\"Parameters: {}\".format(results['opt_params']))"
   ]
  },
  {
   "cell_type": "code",
   "execution_count": null,
   "metadata": {},
   "outputs": [],
   "source": []
  }
 ],
 "metadata": {
  "kernelspec": {
   "display_name": "Python 3",
   "language": "python",
   "name": "python3"
  },
  "language_info": {
   "codemirror_mode": {
    "name": "ipython",
    "version": 3
   },
   "file_extension": ".py",
   "mimetype": "text/x-python",
   "name": "python",
   "nbconvert_exporter": "python",
   "pygments_lexer": "ipython3",
   "version": "3.6.1"
  }
 },
 "nbformat": 4,
 "nbformat_minor": 2
}
