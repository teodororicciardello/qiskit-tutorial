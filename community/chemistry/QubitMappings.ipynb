{
 "cells": [
  {
   "cell_type": "markdown",
   "metadata": {},
   "source": [
    "## _*FermionicOperator and qubit mapping*_\n",
    "\n",
    "When we compute a FermionicOperator in Qiskit Chemistry it needs to be converted to a qubit operator to run on the simulator or real device. The FermionicOperator is built from electronn integrals where electrons behave anti-symmetrically under swap. qubits however do not exhibit this behavior and hence a mapping is needed to ensure that this is accounted for.\n",
    "\n",
    "Here we have the jordan wigner mapping, the bravyi-kitaev mapping and a parity.\n",
    "\n",
    "This notebook has been written to use the PYQUANTE chemistry driver. See the PYQUANTE chemistry driver readme if you need to install the external PyQuante2 library that this driver requires."
   ]
  },
  {
   "cell_type": "code",
   "execution_count": 8,
   "metadata": {},
   "outputs": [],
   "source": [
    "import numpy as np\n",
    "\n",
    "from qiskit import BasicAer\n",
    "from qiskit.transpiler import PassManager\n",
    "\n",
    "from qiskit.aqua import Operator, QuantumInstance, aqua_globals\n",
    "from qiskit.aqua.algorithms.adaptive import VQE\n",
    "from qiskit.aqua.algorithms.classical import ExactEigensolver\n",
    "from qiskit.aqua.components.optimizers import L_BFGS_B\n",
    "from qiskit.aqua.components.variational_forms import RY\n",
    "\n",
    "from qiskit.chemistry import FermionicOperator\n",
    "from qiskit.chemistry.drivers import PyQuanteDriver, UnitsType, BasisType\n",
    "\n",
    "aqua_globals.random_seed = 50"
   ]
  },
  {
   "cell_type": "code",
   "execution_count": 9,
   "metadata": {},
   "outputs": [],
   "source": [
    "# using driver to get fermionic Hamiltonian\n",
    "# PyQuante example\n",
    "driver = PyQuanteDriver(atoms='H .0 .0 .0; H .0 .0 0.735', units=UnitsType.ANGSTROM,\n",
    "                        charge=0, multiplicity=1, basis=BasisType.BSTO3G)\n",
    "molecule = driver.run()\n",
    "h1 = molecule.one_body_integrals\n",
    "h2 = molecule.two_body_integrals"
   ]
  },
  {
   "cell_type": "code",
   "execution_count": 10,
   "metadata": {},
   "outputs": [],
   "source": [
    "# convert from fermionic hamiltonian to qubit hamiltonian\n",
    "ferOp = FermionicOperator(h1=h1, h2=h2)\n",
    "qubitOp_jw = ferOp.mapping(map_type='JORDAN_WIGNER', threshold=0.00000001)\n",
    "qubitOp_pa = ferOp.mapping(map_type='PARITY', threshold=0.00000001)\n",
    "qubitOp_bk = ferOp.mapping(map_type='BRAVYI_KITAEV', threshold=0.00000001)"
   ]
  },
  {
   "cell_type": "code",
   "execution_count": 11,
   "metadata": {},
   "outputs": [
    {
     "name": "stdout",
     "output_type": "stream",
     "text": [
      "\n",
      " --- jordan wigner ---\n",
      "IIII\t(-0.8105479862760991+0j)\n",
      "IIIZ\t(0.17218394273085635+0j)\n",
      "IIZI\t(-0.22575350251540605+0j)\n",
      "IIZZ\t(0.12091263358559995+0j)\n",
      "IZII\t(0.17218394273085635+0j)\n",
      "IZIZ\t(0.16892754048859007+0j)\n",
      "IZZI\t(0.16614543338049342+0j)\n",
      "IZZZ\t(-8.326672684688674e-17+0j)\n",
      "XXXX\t(0.045232799794893426+0j)\n",
      "XXYY\t(0.045232799794893426+0j)\n",
      "YYXX\t(0.045232799794893426+0j)\n",
      "YYYY\t(0.045232799794893426+0j)\n",
      "ZIII\t(-0.2257535025154061+0j)\n",
      "ZIIZ\t(0.16614543338049342+0j)\n",
      "ZIZI\t(0.17464343142442207+0j)\n",
      "ZZII\t(0.12091263358559991+0j)\n",
      "ZZIZ\t(-2.42861286636753e-17+0j)\n",
      "ZZZI\t(-6.938893903907228e-17+0j)\n",
      "ZZZZ\t(-3.122502256758253e-17+0j)\n",
      "\n",
      "The exact ground state energy using jordan wigner mapping is: -1.8572750766378716\n",
      "\n",
      " --- parity ---\n",
      "IIII\t(-0.8105479862760991+0j)\n",
      "IIIZ\t(0.17218394273085635+0j)\n",
      "IIZI\t(0.1209126335855999+0j)\n",
      "IIZZ\t(-0.2257535025154061+0j)\n",
      "IXIX\t(0.045232799794893426+0j)\n",
      "IXZX\t(-0.045232799794893426+0j)\n",
      "IZII\t(-6.938893903907228e-17+0j)\n",
      "IZIZ\t(0.16614543338049345+0j)\n",
      "IZZI\t(0.17218394273085635+0j)\n",
      "IZZZ\t(0.16892754048859007+0j)\n",
      "ZIII\t(-3.469446951953614e-17+0j)\n",
      "ZIIZ\t(-6.245004513516506e-17+0j)\n",
      "ZIZI\t(0.1209126335855999+0j)\n",
      "ZIZZ\t(-2.0816681711721685e-17+0j)\n",
      "ZXIX\t(0.045232799794893426+0j)\n",
      "ZXZX\t(-0.045232799794893426+0j)\n",
      "ZZII\t(-0.2257535025154061+0j)\n",
      "ZZIZ\t(0.16614543338049342+0j)\n",
      "ZZZZ\t(0.17464343142442207+0j)\n",
      "\n",
      "The exact ground state energy using parity mapping is: -1.8572750766378738\n",
      "\n",
      " --- bravyi-kitaev ---\n",
      "IIII\t(-0.8105479862760991+0j)\n",
      "IIIZ\t(0.17218394273085635+0j)\n",
      "IIZI\t(0.1209126335855999+0j)\n",
      "IIZZ\t(-0.2257535025154061+0j)\n",
      "IXIX\t(0.045232799794893426+0j)\n",
      "IXZX\t(-0.045232799794893426+0j)\n",
      "IZII\t(0.17218394273085635+0j)\n",
      "IZIZ\t(0.16892754048859007+0j)\n",
      "IZZI\t(-6.938893903907228e-17+0j)\n",
      "IZZZ\t(0.16614543338049345+0j)\n",
      "ZIII\t(-3.469446951953614e-17+0j)\n",
      "ZIIZ\t(-6.245004513516506e-17+0j)\n",
      "ZIZI\t(0.1209126335855999+0j)\n",
      "ZIZZ\t(-2.0816681711721685e-17+0j)\n",
      "ZXIX\t(0.045232799794893426+0j)\n",
      "ZXZX\t(-0.045232799794893426+0j)\n",
      "ZZIZ\t(0.17464343142442207+0j)\n",
      "ZZZI\t(-0.2257535025154061+0j)\n",
      "ZZZZ\t(0.16614543338049342+0j)\n",
      "\n",
      "The exact ground state energy using bravyi-kitaev mapping is: -1.8572750766378796\n"
     ]
    }
   ],
   "source": [
    "# print out qubit hamiltonian in Pauli terms and exact solution\n",
    "qubit_ops = [(qubitOp_jw, 'jordan wigner'),\n",
    "            (qubitOp_pa, 'parity'),\n",
    "            (qubitOp_bk, 'bravyi-kitaev')]\n",
    "\n",
    "for qubit_op, name in qubit_ops:\n",
    "    qubit_op.to_matrix()\n",
    "    qubit_op.chop(10**-10)\n",
    "\n",
    "    print(\"\\n --- {} ---\".format(name))\n",
    "    print(qubit_op.print_operators())\n",
    "\n",
    "    # Using exact eigensolver to get the smallest eigenvalue\n",
    "    exact_eigensolver = ExactEigensolver(qubit_op, k=1)\n",
    "    ret = exact_eigensolver.run()\n",
    "    print('The exact ground state energy using {} mapping is: {}'.format(name, ret['energy']))    "
   ]
  },
  {
   "cell_type": "markdown",
   "metadata": {},
   "source": [
    "Now we run on quantum backend, in this case a simulator"
   ]
  },
  {
   "cell_type": "code",
   "execution_count": 14,
   "metadata": {},
   "outputs": [
    {
     "name": "stdout",
     "output_type": "stream",
     "text": [
      "Ground state energy using jordan wigner: -1.8570893208672647\n",
      "Ground state energy using parity: -1.8572686760592785\n",
      "Ground state energy using bravyi-kitaev: -1.85727507635405\n"
     ]
    }
   ],
   "source": [
    "for qubit_op, name in qubit_ops:\n",
    "    # setup VQE \n",
    "    # setup optimizer, use L_BFGS_B optimizer for example\n",
    "    lbfgs = L_BFGS_B(maxfun=1000, factr=10, iprint=10)\n",
    "\n",
    "    # setup variational form generator (generate trial circuits for VQE)\n",
    "    var_form = RY(qubit_op.num_qubits, 5, entanglement='full')\n",
    "\n",
    "    # setup VQE with operator, variational form, and optimizer\n",
    "    vqe_algorithm = VQE(qubit_op, var_form, lbfgs, 'matrix')\n",
    "\n",
    "    backend = BasicAer.get_backend('statevector_simulator')\n",
    "    quantum_instance = QuantumInstance(backend, pass_manager=PassManager())\n",
    "\n",
    "    results = vqe_algorithm.run(quantum_instance)\n",
    "\n",
    "    print(\"Ground state energy using {}: {}\".format(name, results['eigvals'][0]))"
   ]
  },
  {
   "cell_type": "code",
   "execution_count": null,
   "metadata": {},
   "outputs": [],
   "source": []
  }
 ],
 "metadata": {
  "kernelspec": {
   "display_name": "Python 3",
   "language": "python",
   "name": "python3"
  },
  "language_info": {
   "codemirror_mode": {
    "name": "ipython",
    "version": 3
   },
   "file_extension": ".py",
   "mimetype": "text/x-python",
   "name": "python",
   "nbconvert_exporter": "python",
   "pygments_lexer": "ipython3",
   "version": "3.6.1"
  }
 },
 "nbformat": 4,
 "nbformat_minor": 1
}
