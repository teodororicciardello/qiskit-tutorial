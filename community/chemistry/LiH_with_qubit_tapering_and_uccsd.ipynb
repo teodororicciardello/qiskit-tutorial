{
 "cells": [
  {
   "cell_type": "markdown",
   "metadata": {},
   "source": [
    "## _*Tapering an Operator*_\n",
    "\n",
    "This notebook demonstrates how symmetries can be taken advantage of to reduce the size (number of qubits needed) for an Operator when using Qiskit Chemistry.\n",
    "\n",
    "This notebook has been written to use the PYSCF chemistry driver."
   ]
  },
  {
   "cell_type": "code",
   "execution_count": 1,
   "metadata": {},
   "outputs": [],
   "source": [
    "# import common packages\n",
    "import itertools\n",
    "import logging\n",
    "\n",
    "import numpy as np\n",
    "\n",
    "from qiskit import BasicAer\n",
    "\n",
    "from qiskit.aqua import Operator, set_qiskit_aqua_logging, QuantumInstance\n",
    "from qiskit.aqua.algorithms.adaptive import VQE\n",
    "from qiskit.aqua.algorithms.classical import ExactEigensolver\n",
    "from qiskit.aqua.components.optimizers import COBYLA\n",
    "\n",
    "from qiskit.chemistry.drivers import PySCFDriver, UnitsType\n",
    "from qiskit.chemistry.core import Hamiltonian, TransformationType, QubitMappingType \n",
    "from qiskit.chemistry.aqua_extensions.components.variational_forms import UCCSD\n",
    "from qiskit.chemistry.aqua_extensions.components.initial_states import HartreeFock\n",
    "\n",
    "# set_qiskit_aqua_logging(logging.INFO)"
   ]
  },
  {
   "cell_type": "code",
   "execution_count": 3,
   "metadata": {},
   "outputs": [],
   "source": [
    "# using driver to get fermionic Hamiltonian\n",
    "driver = PySCFDriver(atom='Li .0 .0 .0; H .0 .0 1.6', unit=UnitsType.ANGSTROM,\n",
    "                     charge=0, spin=0, basis='sto3g')\n",
    "molecule = driver.run()"
   ]
  },
  {
   "cell_type": "code",
   "execution_count": 4,
   "metadata": {},
   "outputs": [
    {
     "name": "stdout",
     "output_type": "stream",
     "text": [
      "Originally requires 8 qubits\n",
      "Representation: paulis, qubits: 8, size: 276\n"
     ]
    }
   ],
   "source": [
    "core = Hamiltonian(transformation=TransformationType.FULL, qubit_mapping=QubitMappingType.PARITY, \n",
    "                   two_qubit_reduction=True, freeze_core=True)\n",
    "qubit_op, _ = core.run(molecule)\n",
    "\n",
    "print(\"Originally requires {} qubits\".format(qubit_op.num_qubits))\n",
    "print(qubit_op)"
   ]
  },
  {
   "cell_type": "markdown",
   "metadata": {},
   "source": [
    "Find the symmetries of the qubit operator"
   ]
  },
  {
   "cell_type": "code",
   "execution_count": 5,
   "metadata": {},
   "outputs": [
    {
     "name": "stdout",
     "output_type": "stream",
     "text": [
      "Z2 symmetries found:\n",
      "ZIZIZIZI\n",
      "ZZIIZZII\n",
      "single qubit operators found:\n",
      "IIIIIIXI\n",
      "IIIIIXII\n",
      "cliffords found:\n",
      "ZIZIZIZI\t0.7071067811865475\n",
      "IIIIIIXI\t0.7071067811865475\n",
      "\n",
      "ZZIIZZII\t0.7071067811865475\n",
      "IIIIIXII\t0.7071067811865475\n",
      "\n",
      "single-qubit list: [1, 2]\n"
     ]
    }
   ],
   "source": [
    "[symmetries, sq_paulis, cliffords, sq_list] = qubit_op.find_Z2_symmetries()\n",
    "print('Z2 symmetries found:')\n",
    "for symm in symmetries:\n",
    "    print(symm.to_label())\n",
    "print('single qubit operators found:')\n",
    "for sq in sq_paulis:\n",
    "    print(sq.to_label())\n",
    "print('cliffords found:')\n",
    "for clifford in cliffords:\n",
    "    print(clifford.print_operators())\n",
    "print('single-qubit list: {}'.format(sq_list))"
   ]
  },
  {
   "cell_type": "markdown",
   "metadata": {},
   "source": [
    "Use the found symmetries, single qubit operators, and cliffords to taper qubits from the original qubit operator. For each Z2 symmetry one can taper one qubit. However, different tapered operators can be built, corresponding to different symmetry sectors. "
   ]
  },
  {
   "cell_type": "code",
   "execution_count": 6,
   "metadata": {},
   "outputs": [
    {
     "name": "stdout",
     "output_type": "stream",
     "text": [
      "Number of qubits of tapered qubit operator: 6\n",
      "Number of qubits of tapered qubit operator: 6\n",
      "Number of qubits of tapered qubit operator: 6\n",
      "Number of qubits of tapered qubit operator: 6\n"
     ]
    }
   ],
   "source": [
    "tapered_ops = []\n",
    "for coeff in itertools.product([1, -1], repeat=len(sq_list)):\n",
    "    tapered_op = Operator.qubit_tapering(qubit_op, cliffords, sq_list, list(coeff))\n",
    "    tapered_ops.append((list(coeff), tapered_op))\n",
    "    print(\"Number of qubits of tapered qubit operator: {}\".format(tapered_op.num_qubits))"
   ]
  },
  {
   "cell_type": "markdown",
   "metadata": {},
   "source": [
    "The user has to specify the symmetry sector he is interested in. Since we are interested in finding the ground state here, let us get the original ground state energy as a reference."
   ]
  },
  {
   "cell_type": "code",
   "execution_count": 7,
   "metadata": {
    "scrolled": true
   },
   "outputs": [
    {
     "name": "stdout",
     "output_type": "stream",
     "text": [
      "=== GROUND STATE ENERGY ===\n",
      " \n",
      "* Electronic ground state energy (Hartree): -8.874303870396\n",
      "  - computed part:      -1.078084301625\n",
      "  - frozen energy part: -7.796219568771\n",
      "  - particle hole part: 0.0\n",
      "~ Nuclear repulsion energy (Hartree): 0.992207270475\n",
      "> Total ground state energy (Hartree): -7.882096599921\n"
     ]
    }
   ],
   "source": [
    "ee = ExactEigensolver(qubit_op, k=1)\n",
    "result = core.process_algorithm_result(ee.run())\n",
    "for line in result[0]:\n",
    "    print(line)"
   ]
  },
  {
   "cell_type": "markdown",
   "metadata": {},
   "source": [
    "Now, let us iterate through all tapered qubit operators to find out the one whose ground state energy matches the original (un-tapered) one."
   ]
  },
  {
   "cell_type": "code",
   "execution_count": 8,
   "metadata": {},
   "outputs": [
    {
     "name": "stdout",
     "output_type": "stream",
     "text": [
      "Lowest eigenvalue of the 0-th tapered operator (computed part) is -1.078084301625\n",
      "Lowest eigenvalue of the 1-th tapered operator (computed part) is -0.509523578167\n",
      "Lowest eigenvalue of the 2-th tapered operator (computed part) is -0.912078232998\n",
      "Lowest eigenvalue of the 3-th tapered operator (computed part) is -0.912078232998\n",
      "The 0-th tapered operator matches original ground state energy, with corresponding symmetry sector of [1, 1]\n"
     ]
    }
   ],
   "source": [
    "smallest_eig_value = 99999999999999\n",
    "smallest_idx = -1\n",
    "for idx in range(len(tapered_ops)):\n",
    "    ee = ExactEigensolver(tapered_ops[idx][1], k=1)\n",
    "    curr_value = ee.run()['energy']\n",
    "    if curr_value < smallest_eig_value:\n",
    "        smallest_eig_value = curr_value\n",
    "        smallest_idx = idx\n",
    "    print(\"Lowest eigenvalue of the {}-th tapered operator (computed part) is {:.12f}\".format(idx, curr_value))\n",
    "    \n",
    "the_tapered_op = tapered_ops[smallest_idx][1]\n",
    "the_coeff = tapered_ops[smallest_idx][0]\n",
    "print(\"The {}-th tapered operator matches original ground state energy, with corresponding symmetry sector of {}\".format(smallest_idx, the_coeff))"
   ]
  },
  {
   "cell_type": "markdown",
   "metadata": {},
   "source": [
    "Alternatively, one can run multiple VQE instances to find the lowest eigenvalue sector. \n",
    "Here we just validate that `the_tapered_op` reach the smallest eigenvalue in one VQE execution with the UCCSD variational form, modified to take into account of the tapered symmetries."
   ]
  },
  {
   "cell_type": "code",
   "execution_count": 9,
   "metadata": {},
   "outputs": [],
   "source": [
    "# setup initial state\n",
    "init_state = HartreeFock(num_qubits=the_tapered_op.num_qubits, num_orbitals=core._molecule_info['num_orbitals'],\n",
    "                    qubit_mapping=core._qubit_mapping, two_qubit_reduction=core._two_qubit_reduction,\n",
    "                    num_particles=core._molecule_info['num_particles'], sq_list=sq_list)\n",
    "\n",
    "# setup variationl form\n",
    "var_form = UCCSD(num_qubits=the_tapered_op.num_qubits, depth=1,\n",
    "                   num_orbitals=core._molecule_info['num_orbitals'], \n",
    "                   num_particles=core._molecule_info['num_particles'],\n",
    "                   active_occupied=None, active_unoccupied=None, initial_state=init_state,\n",
    "                   qubit_mapping=core._qubit_mapping, two_qubit_reduction=core._two_qubit_reduction, \n",
    "                   num_time_slices=1,\n",
    "                   cliffords=cliffords, sq_list=sq_list, tapering_values=the_coeff, symmetries=symmetries)\n",
    "\n",
    "# setup optimizer\n",
    "optimizer = COBYLA(maxiter=1000)\n",
    "\n",
    "# set vqe\n",
    "algo = VQE(the_tapered_op, var_form, optimizer, 'matrix')\n",
    "\n",
    "# setup backend\n",
    "backend = BasicAer.get_backend('statevector_simulator')\n",
    "quantum_instance = QuantumInstance(backend=backend)"
   ]
  },
  {
   "cell_type": "code",
   "execution_count": 10,
   "metadata": {},
   "outputs": [],
   "source": [
    "algo_result = algo.run(quantum_instance)"
   ]
  },
  {
   "cell_type": "code",
   "execution_count": 11,
   "metadata": {},
   "outputs": [
    {
     "name": "stdout",
     "output_type": "stream",
     "text": [
      "=== GROUND STATE ENERGY ===\n",
      " \n",
      "* Electronic ground state energy (Hartree): -8.874303856889\n",
      "  - computed part:      -1.078084288118\n",
      "  - frozen energy part: -7.796219568771\n",
      "  - particle hole part: 0.0\n",
      "~ Nuclear repulsion energy (Hartree): 0.992207270475\n",
      "> Total ground state energy (Hartree): -7.882096586414\n",
      "The parameters for UCCSD are:\n",
      "[ 0.03815735  0.00366554  0.03827111  0.00369737 -0.03604811  0.0594364\n",
      " -0.02741369 -0.02735108  0.05956488 -0.11497243]\n"
     ]
    }
   ],
   "source": [
    "result = core.process_algorithm_result(algo_result)\n",
    "for line in result[0]:\n",
    "    print(line)\n",
    "\n",
    "print(\"The parameters for UCCSD are:\\n{}\".format(algo_result['opt_params']))"
   ]
  },
  {
   "cell_type": "code",
   "execution_count": null,
   "metadata": {},
   "outputs": [],
   "source": []
  }
 ],
 "metadata": {
  "kernelspec": {
   "display_name": "Python 3",
   "language": "python",
   "name": "python3"
  },
  "language_info": {
   "codemirror_mode": {
    "name": "ipython",
    "version": 3
   },
   "file_extension": ".py",
   "mimetype": "text/x-python",
   "name": "python",
   "nbconvert_exporter": "python",
   "pygments_lexer": "ipython3",
   "version": "3.6.1"
  }
 },
 "nbformat": 4,
 "nbformat_minor": 1
}
