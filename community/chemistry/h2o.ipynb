{
 "cells": [
  {
   "cell_type": "markdown",
   "metadata": {},
   "source": [
    "## _*Qiskit Chemistry, H2O ground state computation*_\n",
    "\n",
    "This notebook demonstrates how to use Qiskit Chemistry to compute the ground state energy of a water (H2O) molecule using VQE and UCCSD.\n",
    "\n",
    "While the molecule has been input below to the driver in xyz format, the Z-matrix format is also support. H2O in Z-matrix format would look like this \n",
    "```\n",
    "H; O 1 1.08; H 2 1.08 1 104.5\n",
    "```\n",
    "and is convenient when the goal is to change bond angle, or plot the energy changing distance(s) while preserving the angle.\n",
    "\n",
    "This notebook has been written to use the PYSCF chemistry driver. "
   ]
  },
  {
   "cell_type": "code",
   "execution_count": 2,
   "metadata": {},
   "outputs": [],
   "source": [
    "# imports needed by declarative approach here. List is short as classes are dynamically\n",
    "# loaded based on dictionary names which are registered to our pluggable framework.\n",
    "# The name of a given algorithm or component can be found in its CONFIGURATION dictonary\n",
    "from qiskit.chemistry import QiskitChemistry\n",
    "\n",
    "# imports needed by programmatic approach\n",
    "from qiskit import BasicAer\n",
    "\n",
    "from qiskit.aqua import Operator, QuantumInstance\n",
    "from qiskit.aqua.algorithms.adaptive import VQE\n",
    "from qiskit.aqua.algorithms.classical import ExactEigensolver\n",
    "from qiskit.aqua.components.optimizers import SLSQP\n",
    "\n",
    "from qiskit.chemistry.drivers import PySCFDriver, UnitsType\n",
    "from qiskit.chemistry.core import Hamiltonian, TransformationType, QubitMappingType \n",
    "from qiskit.chemistry.aqua_extensions.components.variational_forms import UCCSD\n",
    "from qiskit.chemistry.aqua_extensions.components.initial_states import HartreeFock"
   ]
  },
  {
   "cell_type": "markdown",
   "metadata": {},
   "source": [
    "#### Using a declarative dictionary approach with QiskitChemistry\n",
    "\n",
    "Lets format up a dictionary and run the experiment this way. The operator will default to `parity` mapping and `two_qubit_reduction` of True.\n",
    "\n",
    "With the input problem dictionary for water we now create an QiskitChemistry object and call run on it passing in the dictionary to get a result. We use ExactEigensolver first as a reference."
   ]
  },
  {
   "cell_type": "code",
   "execution_count": 12,
   "metadata": {},
   "outputs": [],
   "source": [
    "qiskit_chemistry_dict = {\n",
    "    'driver': {'name': 'PYSCF'},\n",
    "    'PYSCF': {'atom': 'O 0.0 0.0 0.0; H 0.757 0.586 0.0; H -0.757 0.586 0.0', 'basis': 'sto-3g'},\n",
    "    'operator': {'name': 'hamiltonian', 'freeze_core': True},\n",
    "    'algorithm': {'name': 'ExactEigensolver'}\n",
    "}\n",
    "solver = QiskitChemistry()\n",
    "result = solver.run(qiskit_chemistry_dict)"
   ]
  },
  {
   "cell_type": "markdown",
   "metadata": {},
   "source": [
    "The `run` method returns a result dictionary. Some notable fields include 'energy' which is the computed ground state energy."
   ]
  },
  {
   "cell_type": "code",
   "execution_count": 13,
   "metadata": {},
   "outputs": [
    {
     "name": "stdout",
     "output_type": "stream",
     "text": [
      "Ground state energy: -75.0123592858051\n"
     ]
    }
   ],
   "source": [
    "print('Ground state energy: {}'.format(result['energy']))"
   ]
  },
  {
   "cell_type": "markdown",
   "metadata": {},
   "source": [
    "There is also a 'printable' field containing a complete ready to print readable result"
   ]
  },
  {
   "cell_type": "code",
   "execution_count": 14,
   "metadata": {},
   "outputs": [
    {
     "name": "stdout",
     "output_type": "stream",
     "text": [
      "=== GROUND STATE ENERGY ===\n",
      " \n",
      "* Electronic ground state energy (Hartree): -84.206272446428\n",
      "  - computed part:      -23.544497240436\n",
      "  - frozen energy part: -60.661775205992\n",
      "  - particle hole part: 0.0\n",
      "~ Nuclear repulsion energy (Hartree): 9.193913160623\n",
      "> Total ground state energy (Hartree): -75.012359285805\n",
      "  Measured:: Num particles: 8.000, S: 0.000, M: 0.00000\n",
      " \n",
      "=== DIPOLE MOMENT ===\n",
      " \n",
      "* Electronic dipole moment (a.u.): [0.0  1.57867263  0.0]\n",
      "  - computed part:      [0.0  1.57778798  0.0]\n",
      "  - frozen energy part: [0.0  0.00088465  0.0]\n",
      "  - particle hole part: [0.0  0.0  0.0]\n",
      "~ Nuclear dipole moment (a.u.): [0.0  2.21475902  0.0]\n",
      "> Dipole moment (a.u.): [0.0  0.63608639  0.0]  Total: 0.63608639\n",
      "               (debye): [0.0  1.61677018  0.0]  Total: 1.61677018\n"
     ]
    }
   ],
   "source": [
    "for line in result['printable']:\n",
    "    print(line)"
   ]
  },
  {
   "cell_type": "markdown",
   "metadata": {},
   "source": [
    "#### Lets do the same programmatically\n",
    "\n",
    "First we create and run a driver to produce our molecule object. The molecule object holds data from the drivers in a common way so it can then be used independently of which specific driver created it.\n",
    "\n",
    "And let's print some of fields it has. You can refer to qiskit.aqua.qmolecule.py for more information or look at the API documentation."
   ]
  },
  {
   "cell_type": "code",
   "execution_count": 11,
   "metadata": {},
   "outputs": [
    {
     "name": "stdout",
     "output_type": "stream",
     "text": [
      "Hartree-Fock energy: -74.96294665653834\n",
      "Nuclear repulsion energy: 9.193913160623385\n",
      "Number of molecular orbitals: 7\n",
      "Number of alpha electrons: 5\n",
      "Number of beta electrons: 5\n"
     ]
    }
   ],
   "source": [
    "driver = PySCFDriver(atom='O 0.0 0.0 0.0; H 0.757 0.586 0.0; H -0.757 0.586 0.0',\n",
    "                     unit=UnitsType.ANGSTROM, charge=0, spin=0, basis='sto3g')\n",
    "molecule = driver.run()\n",
    "\n",
    "print('Hartree-Fock energy: {}'.format(molecule.hf_energy))\n",
    "print('Nuclear repulsion energy: {}'.format(molecule.nuclear_repulsion_energy))\n",
    "print('Number of molecular orbitals: {}'.format(molecule.num_orbitals))\n",
    "print('Number of alpha electrons: {}'.format(molecule.num_alpha))\n",
    "print('Number of beta electrons: {}'.format(molecule.num_beta))"
   ]
  },
  {
   "cell_type": "markdown",
   "metadata": {},
   "source": [
    "We now need to create a qubit operator as input to compute the ground state energy. The Hamilitonian object can be used. This wraps a `FermionicOperator` class, which can be used directly but entails more steps. Other tutorials here show FermionicOperator being used.\n",
    "\n",
    "The Hamiltonian class not only gives us a qubit operator for the main Hamiltonian but also auxilliary operators including dipole operators and others to measure spin and num particles. The algorithm, if it supports aux_ops, which ExactEignesolver and VQE both do, will evaluate these at the ground state where the minimum energy is found."
   ]
  },
  {
   "cell_type": "code",
   "execution_count": 15,
   "metadata": {},
   "outputs": [
    {
     "name": "stdout",
     "output_type": "stream",
     "text": [
      "Representation: paulis, qubits: 10, size: 551\n"
     ]
    }
   ],
   "source": [
    "core = Hamiltonian(transformation=TransformationType.FULL, qubit_mapping=QubitMappingType.PARITY, \n",
    "                   two_qubit_reduction=True, freeze_core=True)\n",
    "qubit_op, aux_ops = core.run(molecule)\n",
    "\n",
    "print(qubit_op)"
   ]
  },
  {
   "cell_type": "markdown",
   "metadata": {},
   "source": [
    "We now pass these to the ExactEigensolver and run it to produce a result. This result will include the computed electronic part of the ground state energy. We can pass this result back to the Hamiltonian object from above and it will combine it with values it stored such as the frozen core energy to form a complete result for the molecule. As can be seen this matches the result from the declarative approach above.\n",
    "\n",
    "Note: the num particles printed here is that which is observed from the spin operator that is in the aux_ops. It says 8 which matches what we expect; the molecule has 10 (5 alpha and 5 beta) but the operator was left with 8 after we took away 2 from freezing the core. The molecule has a core_orbitals property which lists the orbitals comprising the core ones that can be frozen so we can easily figure how many electrons that is (2 per orbital in that list)."
   ]
  },
  {
   "cell_type": "code",
   "execution_count": 17,
   "metadata": {},
   "outputs": [
    {
     "name": "stdout",
     "output_type": "stream",
     "text": [
      "=== GROUND STATE ENERGY ===\n",
      " \n",
      "* Electronic ground state energy (Hartree): -84.206272446429\n",
      "  - computed part:      -23.544497240436\n",
      "  - frozen energy part: -60.661775205992\n",
      "  - particle hole part: 0.0\n",
      "~ Nuclear repulsion energy (Hartree): 9.193913160623\n",
      "> Total ground state energy (Hartree): -75.012359285805\n",
      "  Measured:: Num particles: 8.000, S: 0.000, M: 0.00000\n",
      " \n",
      "=== DIPOLE MOMENT ===\n",
      " \n",
      "* Electronic dipole moment (a.u.): [0.0  1.57867263  0.0]\n",
      "  - computed part:      [0.0  1.57778798  0.0]\n",
      "  - frozen energy part: [0.0  0.00088465  0.0]\n",
      "  - particle hole part: [0.0  0.0  0.0]\n",
      "~ Nuclear dipole moment (a.u.): [0.0  2.21475902  0.0]\n",
      "> Dipole moment (a.u.): [0.0  0.63608639  0.0]  Total: 0.63608639\n",
      "               (debye): [0.0  1.61677018  0.0]  Total: 1.61677018\n"
     ]
    }
   ],
   "source": [
    "ee = ExactEigensolver(qubit_op, aux_operators=aux_ops)\n",
    "algo_result = ee.run()\n",
    "result = core.process_algorithm_result(algo_result)\n",
    "for line in result[0]:\n",
    "    print(line)"
   ]
  },
  {
   "cell_type": "markdown",
   "metadata": {},
   "source": [
    "#### Using VQE. First declaratively with the dictionary.\n",
    "\n",
    "We update the dictionary, for VQE with UCCSD, and run the computation again. By default, if a backend is not explicitly provided, as is the case here, it will use the `statevector_simulator` from `BasicAer`. \n",
    "\n",
    "_*Please note that with 10 qubits the simulation can take a while.*_"
   ]
  },
  {
   "cell_type": "code",
   "execution_count": 20,
   "metadata": {},
   "outputs": [
    {
     "name": "stdout",
     "output_type": "stream",
     "text": [
      "Ground state energy: -75.0122585919439\n",
      "=== GROUND STATE ENERGY ===\n",
      " \n",
      "* Electronic ground state energy (Hartree): -84.206171752567\n",
      "  - computed part:      -23.544396546575\n",
      "  - frozen energy part: -60.661775205992\n",
      "  - particle hole part: 0.0\n",
      "~ Nuclear repulsion energy (Hartree): 9.193913160623\n",
      "> Total ground state energy (Hartree): -75.012258591944\n",
      "  Measured:: Num particles: 8.000, S: 0.000, M: 0.00000\n",
      " \n",
      "=== DIPOLE MOMENT ===\n",
      " \n",
      "* Electronic dipole moment (a.u.): [-0.00000112  1.57887918  0.00000014]\n",
      "  - computed part:      [-0.00000112  1.57799453  0.00000014]\n",
      "  - frozen energy part: [0.0  0.00088465  0.0]\n",
      "  - particle hole part: [0.0  0.0  0.0]\n",
      "~ Nuclear dipole moment (a.u.): [0.0  2.21475902  0.0]\n",
      "> Dipole moment (a.u.): [0.00000112  0.63587984  -0.00000014]  Total: 0.63587984\n",
      "               (debye): [0.00000284  1.61624518  -0.00000036]  Total: 1.61624518\n"
     ]
    }
   ],
   "source": [
    "qiskit_chemistry_dict['algorithm']['name'] = 'VQE'\n",
    "qiskit_chemistry_dict['optimizer'] = {'name': 'SLSQP', 'maxiter': 2500}\n",
    "qiskit_chemistry_dict['variational_form'] = {'name': 'UCCSD'}\n",
    "qiskit_chemistry_dict['initial_state'] = {'name': 'HartreeFock'}\n",
    "\n",
    "solver = QiskitChemistry()\n",
    "result = solver.run(qiskit_chemistry_dict)\n",
    "\n",
    "print('Ground state energy: {}'.format(result['energy']))\n",
    "\n",
    "for line in result['printable']:\n",
    "    print(line)"
   ]
  },
  {
   "cell_type": "code",
   "execution_count": 22,
   "metadata": {},
   "outputs": [
    {
     "name": "stdout",
     "output_type": "stream",
     "text": [
      "Actual VQE evaluations taken: 666\n"
     ]
    }
   ],
   "source": [
    "print('Actual VQE evaluations taken: {}'.format(result['algorithm_retvals']['eval_count']))"
   ]
  },
  {
   "cell_type": "markdown",
   "metadata": {},
   "source": [
    "#### Using VQE, programmatically\n",
    "\n",
    "The solver above, with the complete dictionary, will recompute the molecule internally again with the driver. Here we will start with the qubit operator that we computed above. We need to setup an optimizer, variational form and initial state for use with VQE.\n",
    "\n",
    "The variational form and UCCSD are a little more complex since they need information about numbers of orbitals and numbers of electrons, as well as what qubit mapping etc was used for the qubit operator. However we have some help from the Hamiltonian class that we can use (which internally is what the declarative form takes advantage of too). \n",
    "\n",
    "Note: If you use FermionicOperator directly to make a qubit operator then you need to keep track of electrons removed etc. The molecule object from the driver has the original values but if you freeze out orbitals then the electrons remaining in the operator is what is required."
   ]
  },
  {
   "cell_type": "code",
   "execution_count": 47,
   "metadata": {},
   "outputs": [
    {
     "name": "stdout",
     "output_type": "stream",
     "text": [
      "Ground state energy: -75.0122585919439\n",
      "=== GROUND STATE ENERGY ===\n",
      " \n",
      "* Electronic ground state energy (Hartree): -84.206171752567\n",
      "  - computed part:      -23.544396546575\n",
      "  - frozen energy part: -60.661775205992\n",
      "  - particle hole part: 0.0\n",
      "~ Nuclear repulsion energy (Hartree): 9.193913160623\n",
      "> Total ground state energy (Hartree): -75.012258591944\n"
     ]
    }
   ],
   "source": [
    "init_state = HartreeFock(num_qubits=qubit_op.num_qubits, \n",
    "                         num_orbitals=core._molecule_info['num_orbitals'],\n",
    "                         num_particles=core._molecule_info['num_particles'],\n",
    "                         qubit_mapping=core._qubit_mapping,\n",
    "                         two_qubit_reduction=core._two_qubit_reduction)\n",
    "\n",
    "var_form = UCCSD(num_qubits=qubit_op.num_qubits,\n",
    "                 depth=1,\n",
    "                 num_orbitals=core._molecule_info['num_orbitals'], \n",
    "                 num_particles=core._molecule_info['num_particles'],\n",
    "                 qubit_mapping=core._qubit_mapping,\n",
    "                 two_qubit_reduction=core._two_qubit_reduction, \n",
    "                 initial_state=init_state)\n",
    "\n",
    "optimizer = SLSQP(maxiter=2500)\n",
    "\n",
    "# setup backend on which we will run\n",
    "backend = BasicAer.get_backend('statevector_simulator')\n",
    "quantum_instance = QuantumInstance(backend=backend)\n",
    "\n",
    "vqe = VQE(qubit_op, var_form, optimizer, 'matrix')\n",
    "algo_result = vqe.run(quantum_instance)\n",
    "lines, result = core.process_algorithm_result(algo_result)\n",
    "\n",
    "print('Ground state energy: {}'.format(result['energy']))\n",
    "\n",
    "for line in lines:\n",
    "    print(line)"
   ]
  },
  {
   "cell_type": "markdown",
   "metadata": {},
   "source": [
    "Internally the core, when processing the algorithm result, stores the result dictionary from the algorithm under the `algorithm_retvals` key. We used this above in declarative approach, to get the eval count, and since we process the result the same way here, using the core, we can do this here too. But here we have direct access to the algorithm result since we ran it. Hence we can access the count directly from the above algo_result. To show these are the same they are both printed below."
   ]
  },
  {
   "cell_type": "code",
   "execution_count": 48,
   "metadata": {},
   "outputs": [
    {
     "name": "stdout",
     "output_type": "stream",
     "text": [
      "Actual VQE evaluations taken: 666\n",
      "Actual VQE evaluations taken: 666\n"
     ]
    }
   ],
   "source": [
    "print('Actual VQE evaluations taken: {}'.format(result['algorithm_retvals']['eval_count']))\n",
    "\n",
    "print('Actual VQE evaluations taken: {}'.format(algo_result['eval_count']))"
   ]
  },
  {
   "cell_type": "markdown",
   "metadata": {},
   "source": [
    "#### Z-matrix format\n",
    "\n",
    "Z-matrix was mentioned in the introduction. Lets show it in use in a quick final example here. We'll use ExactEigensolver as the goal here is just to show the technique. We will keep the bond angle between the Hydrogen atoms and Oxygen constant while varying the interatomic distance of one the Hydrogen atoms. This is simple to do in Z-matrix format, though can of course be done using xyz format but that needs more work to compute the coordinates each time."
   ]
  },
  {
   "cell_type": "code",
   "execution_count": 44,
   "metadata": {},
   "outputs": [],
   "source": [
    "import numpy as np\n",
    "import pylab\n",
    "\n",
    "h2o = 'H; O 1 1.08; H 2 {} 1 104.5'\n",
    "qiskit_chemistry_dict = {\n",
    "    'driver': {'name': 'PYSCF'},\n",
    "    'PYSCF': {'atom': '', 'basis': 'sto-3g'},\n",
    "    'operator': {'name': 'hamiltonian', 'freeze_core': True},\n",
    "    'algorithm': {'name': 'ExactEigensolver'}\n",
    "}\n",
    "\n",
    "distances = [x * 0.01 + 1.00 for x in range(17)]\n",
    "energies = np.empty(len(distances))\n",
    "\n",
    "for i, distance in enumerate(distances):\n",
    "    qiskit_chemistry_dict['PYSCF']['atom'] = h2o.format(distance)\n",
    "    solver = QiskitChemistry()\n",
    "    result = solver.run(qiskit_chemistry_dict)\n",
    "    energies[i] = result['energy']"
   ]
  },
  {
   "cell_type": "code",
   "execution_count": 46,
   "metadata": {},
   "outputs": [
    {
     "data": {
      "image/png": "[encoded data removed]",
      "text/plain": [
       "<matplotlib.figure.Figure at 0x7f3191b686a0>"
      ]
     },
     "metadata": {},
     "output_type": "display_data"
    }
   ],
   "source": [
    "pylab.plot(distances, energies)\n",
    "pylab.xlabel('Distance of Hydrogen atom')\n",
    "pylab.ylabel('Energy')\n",
    "pylab.title('H2O molecule, one H atom distance varied');"
   ]
  },
  {
   "cell_type": "code",
   "execution_count": null,
   "metadata": {},
   "outputs": [],
   "source": []
  }
 ],
 "metadata": {
  "kernelspec": {
   "display_name": "Python 3",
   "language": "python",
   "name": "python3"
  },
  "language_info": {
   "codemirror_mode": {
    "name": "ipython",
    "version": 3
   },
   "file_extension": ".py",
   "mimetype": "text/x-python",
   "name": "python",
   "nbconvert_exporter": "python",
   "pygments_lexer": "ipython3",
   "version": "3.6.1"
  }
 },
 "nbformat": 4,
 "nbformat_minor": 1
}
