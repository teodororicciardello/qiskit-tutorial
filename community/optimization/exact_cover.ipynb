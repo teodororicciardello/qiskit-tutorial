{
 "cells": [
  {
   "cell_type": "markdown",
   "metadata": {},
   "source": [
    "## _*Using Qiskit Aqua for exact cover problems*_\n",
    "\n",
    "In mathematics, given a collection $S$ of subsets of a set $X$.\n",
    "An exact cover is a subcollection $S_{ec} \\subseteq S$ such that each element in $X$ is contained in exactly one subset $\\in S_{ec}$. \n",
    "\n",
    "We will go through three examples to show:\n",
    "1. How to run the optimization using the declarative approach\n",
    "2. How to run the optimization using the programmatic approach\n",
    "3. How how to run the optimization with the VQE."
   ]
  },
  {
   "cell_type": "markdown",
   "metadata": {},
   "source": [
    "#### The problem and the brute-force method.\n",
    "\n",
    "First, let us take a look at the list of subsets."
   ]
  },
  {
   "cell_type": "code",
   "execution_count": 1,
   "metadata": {},
   "outputs": [
    {
     "name": "stdout",
     "output_type": "stream",
     "text": [
      "[[2, 3, 4], [1, 2], [3, 4], [1, 2, 3]]\n"
     ]
    }
   ],
   "source": [
    "import numpy as np\n",
    "import json\n",
    "\n",
    "from qiskit import BasicAer\n",
    "from qiskit.aqua import run_algorithm\n",
    "from qiskit.aqua.input import EnergyInput\n",
    "from qiskit.aqua.translators.ising import exact_cover\n",
    "from qiskit.aqua.algorithms import ExactEigensolver\n",
    "\n",
    "input_file = 'sample.exactcover'\n",
    "with open(input_file) as f:\n",
    "    list_of_subsets = json.load(f)\n",
    "    print(list_of_subsets)"
   ]
  },
  {
   "cell_type": "markdown",
   "metadata": {},
   "source": [
    "Then we apply the brute-force method. Basically, we exhaustively try all the binary assignments. In each binary assignment, the entry of a subset is either 0 (meaning the subset is not in the cover) or 1 (meaning the subset is in the cover). We print the binary assignment that satisfies the definition of the exact cover."
   ]
  },
  {
   "cell_type": "code",
   "execution_count": 2,
   "metadata": {},
   "outputs": [
    {
     "name": "stdout",
     "output_type": "stream",
     "text": [
      "Solution is [0, 1, 1, 0]\n"
     ]
    }
   ],
   "source": [
    "def brute_force():\n",
    "    # brute-force way: try every possible assignment!\n",
    "    has_sol = False\n",
    "\n",
    "    def bitfield(n, L):\n",
    "        result = np.binary_repr(n, L)\n",
    "        return [int(digit) for digit in result]  # [2:] to chop off the \"0b\" part\n",
    "\n",
    "    L = len(list_of_subsets)\n",
    "    max = 2**L\n",
    "    for i in range(max):\n",
    "        cur = bitfield(i, L)\n",
    "        cur_v = exact_cover.check_solution_satisfiability(cur, list_of_subsets)\n",
    "        if cur_v:\n",
    "            has_sol = True\n",
    "            break\n",
    "    return has_sol, cur\n",
    "\n",
    "has_sol, cur = brute_force()\n",
    "if has_sol:\n",
    "    print(\"Solution is\", cur)\n",
    "else:\n",
    "    print(\"No solution is found\")"
   ]
  },
  {
   "cell_type": "markdown",
   "metadata": {},
   "source": [
    "#### Part I: Run the optimization using the declarative approach\n",
    "\n",
    "Here the steps are:\n",
    "* Create the qubit operator i.e. Ising Hamiltonian, using `exact_cover` ising translator\n",
    "* Create an EnergyInput object and a dictionary describing the algorithm and the components for Aqua to solve the problem\n",
    "* Run the algorithm and get the result\n",
    "* Use the result with the `exact_cover` object to determine a solution"
   ]
  },
  {
   "cell_type": "code",
   "execution_count": 3,
   "metadata": {},
   "outputs": [
    {
     "name": "stdout",
     "output_type": "stream",
     "text": [
      "Solution is [0. 1. 1. 0.]\n"
     ]
    }
   ],
   "source": [
    "qubit_op, offset = exact_cover.get_exact_cover_qubitops(list_of_subsets)\n",
    "algo_input = EnergyInput(qubit_op)\n",
    "\n",
    "params = {\n",
    "    'problem': {'name': 'ising'},\n",
    "    'algorithm': {'name': 'ExactEigensolver'}\n",
    "}\n",
    "result = run_algorithm(params, algo_input)\n",
    "\n",
    "x = exact_cover.sample_most_likely(len(list_of_subsets), result['eigvecs'][0])\n",
    "ising_sol = exact_cover.get_solution(x)\n",
    "np.testing.assert_array_equal(ising_sol, [0, 1, 1, 0])\n",
    "if exact_cover.check_solution_satisfiability(ising_sol, list_of_subsets):\n",
    "    print(\"Solution is\", ising_sol)\n",
    "else:\n",
    "    print(\"No solution is found\")"
   ]
  },
  {
   "cell_type": "markdown",
   "metadata": {},
   "source": [
    "#### Part II: Run the optimization using the programmatic approach\n",
    "\n",
    "The main difference here is running the Aqua algorithm. Here we directly construct the algorithm and then run() it to get the result. The post computation on the result is identical."
   ]
  },
  {
   "cell_type": "code",
   "execution_count": 4,
   "metadata": {},
   "outputs": [
    {
     "name": "stdout",
     "output_type": "stream",
     "text": [
      "Solution is [0. 1. 1. 0.]\n"
     ]
    }
   ],
   "source": [
    "algo = ExactEigensolver(algo_input.qubit_op, k=1, aux_operators=[])\n",
    "result = algo.run()\n",
    "\n",
    "x = exact_cover.sample_most_likely(len(list_of_subsets), result['eigvecs'][0])\n",
    "ising_sol = exact_cover.get_solution(x)\n",
    "np.testing.assert_array_equal(ising_sol, [0, 1, 1, 0])\n",
    "\n",
    "if exact_cover.check_solution_satisfiability(ising_sol, list_of_subsets):\n",
    "    print(\"Solution is\", ising_sol)\n",
    "else:\n",
    "    print(\"No solution is found\")"
   ]
  },
  {
   "cell_type": "markdown",
   "metadata": {},
   "source": [
    "#### Part III: Run the optimization with the VQE\n",
    "\n",
    "##### Declarative\n",
    "\n",
    "We reuse the EnergyInput object we created above. VQE algorithm needs an optimizer and a variational form. Then also we need a quantum backend on which the algorithm will run."
   ]
  },
  {
   "cell_type": "code",
   "execution_count": 5,
   "metadata": {},
   "outputs": [
    {
     "name": "stdout",
     "output_type": "stream",
     "text": [
      "Solution is [0. 1. 1. 0.]\n"
     ]
    }
   ],
   "source": [
    "params = {\n",
    "    'problem': {'name': 'ising', 'random_seed': 10598},\n",
    "    'algorithm': {'name': 'VQE'},\n",
    "    'optimizer': {'name': 'COBYLA'},\n",
    "    'variational_form': {'name': 'RYRZ', 'depth': 5}\n",
    "}\n",
    "backend = BasicAer.get_backend('statevector_simulator')\n",
    "result = run_algorithm(params, algo_input, backend=backend)\n",
    "\n",
    "x = exact_cover.sample_most_likely(len(list_of_subsets), result['eigvecs'][0])\n",
    "ising_sol = exact_cover.get_solution(x)\n",
    "if exact_cover.check_solution_satisfiability(ising_sol, list_of_subsets):\n",
    "    print(\"Solution is\", ising_sol)\n",
    "else:\n",
    "    print(\"No solution is found\")"
   ]
  },
  {
   "cell_type": "markdown",
   "metadata": {},
   "source": [
    "##### Programmatic\n",
    "\n",
    "We can create the objects directly ourselves too and run VQE for the result"
   ]
  },
  {
   "cell_type": "code",
   "execution_count": 6,
   "metadata": {},
   "outputs": [
    {
     "name": "stdout",
     "output_type": "stream",
     "text": [
      "Solution is [0. 1. 1. 0.]\n"
     ]
    }
   ],
   "source": [
    "from qiskit.aqua import aqua_globals\n",
    "from qiskit.aqua.algorithms import VQE\n",
    "from qiskit.aqua.components.optimizers import COBYLA\n",
    "from qiskit.aqua.components.variational_forms import RY\n",
    "\n",
    "aqua_globals.random_seed = 10598\n",
    "\n",
    "optimizer = COBYLA()\n",
    "var_form = RY(qubit_op.num_qubits, depth=5, entanglement='linear')\n",
    "vqe = VQE(qubit_op, var_form, optimizer)\n",
    "\n",
    "backend = BasicAer.get_backend('statevector_simulator')\n",
    "result = vqe.run(backend)\n",
    "\n",
    "x = exact_cover.sample_most_likely(len(list_of_subsets), result['eigvecs'][0])\n",
    "ising_sol = exact_cover.get_solution(x)\n",
    "if exact_cover.check_solution_satisfiability(ising_sol, list_of_subsets):\n",
    "    print(\"Solution is\", ising_sol)\n",
    "else:\n",
    "    print(\"No solution is found\")"
   ]
  },
  {
   "cell_type": "code",
   "execution_count": null,
   "metadata": {},
   "outputs": [],
   "source": []
  }
 ],
 "metadata": {
  "kernelspec": {
   "display_name": "Python 3",
   "language": "python",
   "name": "python3"
  },
  "language_info": {
   "codemirror_mode": {
    "name": "ipython",
    "version": 3
   },
   "file_extension": ".py",
   "mimetype": "text/x-python",
   "name": "python",
   "nbconvert_exporter": "python",
   "pygments_lexer": "ipython3",
   "version": "3.7.2"
  }
 },
 "nbformat": 4,
 "nbformat_minor": 2
}
