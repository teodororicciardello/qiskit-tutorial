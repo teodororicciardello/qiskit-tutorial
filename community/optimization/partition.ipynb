{
 "cells": [
  {
   "cell_type": "markdown",
   "metadata": {
    "collapsed": true
   },
   "source": [
    "## _*Using Qiskit Aqua for partition problems*_\n",
    "\n",
    "This Qiskit Aqua Optimization notebook demonstrates how to use the VQE algorithm to compute a balanced partition of a set of numbers. This problem is known as \"number partitioning\" or simply \"partition\" in computer science.\n",
    "\n",
    "The problem is defined as follows. We are given a set of numbers $S$, and we want to determine a partition of $S$ into disjoint sets $S_1, S_2$ such that $|\\sum_{a \\in S_1} - \\sum_{a \\in S_2}|$ is minimized.\n",
    "\n",
    "The list of numbers provided as an input is used first to generate an Ising Hamiltonian, which is then passed as an input to VQE.  As a reference, this notebook also computes the maximum stable set using the Exact Eigensolver classical algorithm and the solver embedded in the commercial IBM CPLEX product (if it is available in the system and the user has followed the necessary configuration steps in order for Qiskit Aqua to find it).  Please refer to the Qiskit Aqua Optimization documentation for installation and configuration details for CPLEX."
   ]
  },
  {
   "cell_type": "code",
   "execution_count": 1,
   "metadata": {},
   "outputs": [],
   "source": [
    "import numpy as np\n",
    "from qiskit.aqua import Operator, run_algorithm\n",
    "from qiskit.aqua.input import EnergyInput\n",
    "from qiskit.aqua.translators.ising import partition\n",
    "from qiskit import Aer\n",
    "from qiskit.aqua.algorithms.classical.cplex.cplex_ising import CPLEX_Ising"
   ]
  },
  {
   "cell_type": "markdown",
   "metadata": {},
   "source": [
    "Here an Operator instance is created for our Hamiltonian. In this case the Paulis are from an Ising Hamiltonian of the number partitioning problem (expressed in minimization form). Rather than minimizing the absolute value of the difference of the sum of numbers into two sets, we minimize the difference square.\n",
    "\n",
    "We load a small instance of the problem."
   ]
  },
  {
   "cell_type": "code",
   "execution_count": 2,
   "metadata": {},
   "outputs": [
    {
     "name": "stdout",
     "output_type": "stream",
     "text": [
      "[ 1  3  4  7 10 13 15 16]\n"
     ]
    }
   ],
   "source": [
    "number_list = partition.read_numbers_from_file('sample.partition')\n",
    "qubitOp, offset = partition.get_partition_qubitops(number_list)\n",
    "algo_input = EnergyInput(qubitOp)\n",
    "print(number_list)"
   ]
  },
  {
   "cell_type": "markdown",
   "metadata": {},
   "source": [
    "We also offer a function to generate a set of numbers as a input."
   ]
  },
  {
   "cell_type": "code",
   "execution_count": 3,
   "metadata": {},
   "outputs": [
    {
     "name": "stdout",
     "output_type": "stream",
     "text": [
      "[ 9  8 23  4  2]\n"
     ]
    }
   ],
   "source": [
    "if True:\n",
    "    np.random.seed(8123179)\n",
    "    number_list = partition.random_number_list(5, weight_range=25)\n",
    "    qubitOp, offset = partition.get_partition_qubitops(number_list)\n",
    "    algo_input.qubit_op = qubitOp\n",
    "    print(number_list)"
   ]
  },
  {
   "cell_type": "markdown",
   "metadata": {},
   "source": [
    "Here we test for the presence of algorithms we want to use in this notebook. If Aqua is installed correctly `ExactEigensolver` and `VQE` will always be found. `CPLEX.Ising` is dependent on IBM CPLEX being installed (see introduction above). CPLEX is *not required* but if installed then this notebook will demonstrate the `CPLEX.Ising` algorithm , that uses CPLEX, to compute partition as well."
   ]
  },
  {
   "cell_type": "code",
   "execution_count": 4,
   "metadata": {},
   "outputs": [
    {
     "name": "stdout",
     "output_type": "stream",
     "text": [
      "['ExactEigensolver', 'CPLEX.Ising', 'VQE']\n"
     ]
    }
   ],
   "source": [
    "to_be_tested_algos = ['ExactEigensolver', 'CPLEX.Ising', 'VQE']\n",
    "print(to_be_tested_algos)"
   ]
  },
  {
   "cell_type": "markdown",
   "metadata": {},
   "source": [
    "We can now use the Operator without regard to how it was created. First we need to prepare the configuration params to invoke the algorithm. Here we will use the ExactEigensolver first to return the smallest eigenvalue. Backend is not required since this is computed classically not using quantum computation. We then add in the qubitOp Operator in dictionary format. Now the complete params can be passed to the algorithm and run. The result is a dictionary."
   ]
  },
  {
   "cell_type": "code",
   "execution_count": 5,
   "metadata": {},
   "outputs": [
    {
     "name": "stdout",
     "output_type": "stream",
     "text": [
      "energy: -694.0\n",
      "partition objective: 0.0\n",
      "solution: [1. 1. 0. 1. 1.]\n",
      "solution objective: 0\n"
     ]
    }
   ],
   "source": [
    "algorithm_cfg = {\n",
    "    'name': 'ExactEigensolver',\n",
    "}\n",
    "\n",
    "params = {\n",
    "    'problem': {'name': 'ising'},\n",
    "    'algorithm': algorithm_cfg\n",
    "}\n",
    "result = run_algorithm(params,algo_input)\n",
    "\n",
    "x = partition.sample_most_likely(result['eigvecs'][0])\n",
    "print('energy:', result['energy'])\n",
    "print('partition objective:', result['energy'] + offset)\n",
    "print('solution:', x)\n",
    "print('solution objective:', partition.partition_value(x, number_list))"
   ]
  },
  {
   "cell_type": "markdown",
   "metadata": {},
   "source": [
    "*Note*: IBM CPLEX is an _optional_ installation addition for Aqua. If installed then the Aqua CPLEX.Ising algorithm will be able to be used. If not, then solving this problem using this particular algorithm will simply be skipped. \n",
    "\n",
    "We change the configuration parameters to solve it with the CPLEX backend. The CPLEX backend can deal with a particular type of Hamiltonian called Ising Hamiltonian, which consists of only Pauli Z at most second order and often for combinatorial optimization problems that can be formulated as quadratic unconstrained binary optimization problems, such as the Number Partitioning problem.\n",
    "\n",
    "Note that for a Number Partitioning problem, since we are computing a bipartition of the set $S$, every binary vector $x$ and its complement (i.e., the vector $y$ such that $y_j = 1 - x_j$ for all $j$) represent exactly the same solution, and will have the same objective function value. Different solution methods may return solutions that look different, but in fact have the same objective function value."
   ]
  },
  {
   "cell_type": "code",
   "execution_count": 6,
   "metadata": {},
   "outputs": [
    {
     "name": "stdout",
     "output_type": "stream",
     "text": [
      "CPXPARAM_TimeLimit                               600\n",
      "CPXPARAM_Read_DataCheck                          1\n",
      "CPXPARAM_Threads                                 1\n",
      "CPXPARAM_MIP_Tolerances_MIPGap                   0\n",
      "CPXPARAM_MIP_Tolerances_Integrality              0\n",
      "CPXPARAM_MIP_Display                             0\n",
      "energy: -694.0\n",
      "time: 0.007695371999943745\n",
      "partition objective: 0.0\n",
      "solution: [1 1 0 1 1]\n",
      "solution objective: 0\n"
     ]
    }
   ],
   "source": [
    "cplex_installed = True\n",
    "try:\n",
    "    CPLEX_Ising.check_pluggable_valid()\n",
    "except Exception as e:\n",
    "    cplex_installed = False\n",
    "    \n",
    "if cplex_installed:\n",
    "    algorithm_cfg = {\n",
    "        'name': 'CPLEX.Ising',\n",
    "        'display': 0\n",
    "    }\n",
    "\n",
    "    params = {\n",
    "        'problem': {'name': 'ising'},\n",
    "        'algorithm': algorithm_cfg\n",
    "    }\n",
    "\n",
    "    result = run_algorithm(params, algo_input)\n",
    "\n",
    "    x_dict = result['x_sol']\n",
    "    print('energy:', result['energy'])\n",
    "    print('time:', result['eval_time'])\n",
    "    print('partition objective:', result['energy'] + offset)\n",
    "    x = np.array([x_dict[i] for i in sorted(x_dict.keys())])\n",
    "    print('solution:', x)\n",
    "    print('solution objective:', partition.partition_value(x, number_list))\n"
   ]
  },
  {
   "cell_type": "markdown",
   "metadata": {},
   "source": [
    "Now we want VQE and so change it and add its other configuration parameters. VQE also needs and optimizer and variational form. While we can omit them from the dictionary, such that defaults are used, here we specify them explicitly so we can set their parameters as we desire."
   ]
  },
  {
   "cell_type": "code",
   "execution_count": 7,
   "metadata": {},
   "outputs": [
    {
     "name": "stdout",
     "output_type": "stream",
     "text": [
      "energy: -693.9999999996322\n",
      "time: 378.3389091491699\n",
      "partition objective: 3.6777692002942786e-10\n",
      "solution: [1. 1. 0. 1. 1.]\n",
      "solution objective: 0\n"
     ]
    }
   ],
   "source": [
    "\n",
    "algorithm_cfg = {\n",
    "    'name': 'VQE',\n",
    "    'operator_mode': 'matrix'\n",
    "}\n",
    "\n",
    "optimizer_cfg = {\n",
    "    'name': 'L_BFGS_B',\n",
    "    'maxfun': 6000\n",
    "}\n",
    "\n",
    "var_form_cfg = {\n",
    "    'name': 'RYRZ',\n",
    "    'depth': 3,\n",
    "    'entanglement': 'linear'\n",
    "}\n",
    "\n",
    "params = {\n",
    "    'problem': {'name': 'ising'},\n",
    "    'algorithm': algorithm_cfg,\n",
    "    'optimizer': optimizer_cfg,\n",
    "    'variational_form': var_form_cfg\n",
    "}\n",
    "\n",
    "backend = Aer.get_backend('statevector_simulator')\n",
    "result = run_algorithm(params, algo_input, backend=backend)\n",
    "\n",
    "x = partition.sample_most_likely(result['eigvecs'][0])\n",
    "print('energy:', result['energy'])\n",
    "print('time:', result['eval_time'])\n",
    "print('partition objective:', result['energy'] + offset)\n",
    "print('solution:', x)\n",
    "print('solution objective:', partition.partition_value(x, number_list))"
   ]
  }
 ],
 "metadata": {
  "kernelspec": {
   "display_name": "mykernel",
   "language": "python",
   "name": "mykernel"
  },
  "language_info": {
   "codemirror_mode": {
    "name": "ipython",
    "version": 3
   },
   "file_extension": ".py",
   "mimetype": "text/x-python",
   "name": "python",
   "nbconvert_exporter": "python",
   "pygments_lexer": "ipython3",
   "version": "3.6.7"
  }
 },
 "nbformat": 4,
 "nbformat_minor": 1
}
