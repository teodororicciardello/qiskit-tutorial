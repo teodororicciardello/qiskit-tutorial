{
 "cells": [
  {
   "cell_type": "markdown",
   "metadata": {},
   "source": [
    "![Qiskit Logo](../../images/qiskit-heading.gif)"
   ]
  },
  {
   "cell_type": "markdown",
   "metadata": {},
   "source": [
    "# Qiskit Aer: The Extended Stabilizer Simulator"
   ]
  },
  {
   "cell_type": "markdown",
   "metadata": {},
   "source": [
    "## Introduction"
   ]
  },
  {
   "cell_type": "markdown",
   "metadata": {},
   "source": [
    "The Extended Simulator is a new method for classically simulating quantum circuits available in the lastest release of [Qiskit-Aer](https://github.com/qiskit/qiskit-aer). \n",
    "\n",
    "This method is an implementation of the ideas published in the paper _Simulation of quantum circuits by low-rank stabilizer decompositions_ by Bravyi, Browne, Calpin, Campbell, Gosset & Howard, 2018, [**arXiv:1808.00128**](https://arxiv.org/abs/1808.00128).\n",
    "\n",
    "It uses a different representation of a quantum circuit, that gives it some unique capabilities. This notebook will give some examples of what the extended stabilizer method can do\n",
    "\n",
    "For example:"
   ]
  },
  {
   "cell_type": "code",
   "execution_count": 1,
   "metadata": {},
   "outputs": [],
   "source": [
    "from qiskit import QuantumCircuit, QuantumRegister, ClassicalRegister\n",
    "from qiskit.compiler import assemble\n",
    "from qiskit.providers.aer import AerError, QasmSimulator\n",
    "from qiskit.tools.visualization import plot_histogram\n",
    "\n",
    "import random"
   ]
  },
  {
   "cell_type": "code",
   "execution_count": 2,
   "metadata": {},
   "outputs": [],
   "source": [
    "qr = QuantumRegister(40)\n",
    "cr = ClassicalRegister(40)\n",
    "circ = QuantumCircuit(qr, cr)\n",
    "\n",
    "# Initialise with a Hadamard layer\n",
    "circ.h(qr)\n",
    "# Apply some random CNOT and T gates\n",
    "qubit_indices = [i for i in range(40)]\n",
    "for i in range(10):\n",
    "    control, target, t = random.sample(qubit_indices, 3)\n",
    "    circ.cx(qr[control], qr[target])\n",
    "    circ.t(qr[t])\n",
    "circ.measure(qr, cr)\n",
    "\n",
    "qobj = assemble(circ, backend=QasmSimulator(), shots=1)"
   ]
  },
  {
   "cell_type": "markdown",
   "metadata": {},
   "source": [
    "We've created a random circuit with just 60 gates, and that acts on 40 qubits. But, because of the numer of qubits, if we wanted to run this with say the statevector simulator then I hope you have access to terabytes of RAM!"
   ]
  },
  {
   "cell_type": "code",
   "execution_count": 3,
   "metadata": {},
   "outputs": [
    {
     "name": "stdout",
     "output_type": "stream",
     "text": [
      "'Number of qubits (40) is greater than maximum (29) for \"qasm_simulator\" (method=statevector) with 8 GB system memory.'\n"
     ]
    }
   ],
   "source": [
    "statevector_job = QasmSimulator().run(qobj, backend_options={\n",
    "    'method': 'statevector'\n",
    "})\n",
    "# This should error!\n",
    "try:\n",
    "    statevector_job.result()\n",
    "except AerError as err:\n",
    "    print(err)"
   ]
  },
  {
   "cell_type": "markdown",
   "metadata": {},
   "source": [
    "The Extended Stabilizer method, in contrast, handles this circuit just fine. (Though it needs a couple of minutes!)"
   ]
  },
  {
   "cell_type": "code",
   "execution_count": 4,
   "metadata": {},
   "outputs": [
    {
     "name": "stdout",
     "output_type": "stream",
     "text": [
      "True or False: This succeeded?\n",
      " True\n"
     ]
    }
   ],
   "source": [
    "es_job = QasmSimulator().run(qobj, backend_options={\n",
    "    'method': 'extended_stabilizer'\n",
    "})\n",
    "result = es_job.result()\n",
    "print('True or False: This succeeded?\\n {}'.format(result.success))"
   ]
  },
  {
   "cell_type": "markdown",
   "metadata": {},
   "source": [
    "## How does this work?\n",
    "If you're interested in how exactly we can handle such large circuits, then for a detailed explanation you can [read the paper!](https://arxiv.org/abs/1808.00128)\n",
    "\n",
    "For running circuits, however, it's important to just understand the basics.\n",
    "\n",
    "The Extended Stabilizer method is made up of two parts. The first is a method of decomposing quantum circuits into _stabilizer circuits_, a special class of circuit that can be efficiently simulated classically. The second is then a way of combining these circuits to perform measurements.\n",
    "\n",
    "The number of terms you need scales with the number of what we call _non-Clifford Gates_. At the moment, the method knows how to handle the following methods:\n",
    "```python\n",
    "circ.t(qr[qubit])\n",
    "circ.tdg(qr[qubit])\n",
    "circ.ccx(qr[control_1], qr[control_2], qr[target])\n",
    "circ.u1(rotation_angle, qr[qubit])\n",
    "```\n",
    "\n",
    "The simulator is also able to handle circuits of up to 63 qubits.\n",
    "     \n"
   ]
  },
  {
   "cell_type": "markdown",
   "metadata": {},
   "source": [
    "One thing that's important to note is these decompositions are approximate. This means that the results aren't exactly the same as with the State Vector simulator."
   ]
  },
  {
   "cell_type": "code",
   "execution_count": 6,
   "metadata": {},
   "outputs": [],
   "source": [
    "small_qr = QuantumRegister(2)\n",
    "small_cr = ClassicalRegister(2)\n",
    "small_circ = QuantumCircuit(small_qr, small_cr)\n",
    "small_circ.h(small_qr[0])\n",
    "small_circ.cx(small_qr[0], small_qr[1])\n",
    "small_circ.t(small_qr[0])\n",
    "small_circ.measure(small_qr, small_cr)\n",
    "small_qobj = assemble(small_circ, backend=QasmSimulator(), shots=100)\n",
    "# This circuit should give 00 or 11 with equal probability...\n",
    "expected_results ={'00': 50, '11': 50}"
   ]
  },
  {
   "cell_type": "code",
   "execution_count": 11,
   "metadata": {},
   "outputs": [
    {
     "name": "stdout",
     "output_type": "stream",
     "text": [
      "100 shots in 6.20981502532959s\n"
     ]
    }
   ],
   "source": [
    "es_job = QasmSimulator().run(small_qobj, backend_options={'method':'extended_stabilizer'})\n",
    "es_result = es_job.result()\n",
    "es_counts = es_result.get_counts(small_circ)\n",
    "print('100 shots in {}s'.format(es_result.time_taken))"
   ]
  },
  {
   "cell_type": "code",
   "execution_count": 8,
   "metadata": {},
   "outputs": [
    {
     "data": {
      "image/png": "[encoded data removed]",
      "text/plain": [
       "<Figure size 504x360 with 1 Axes>"
      ]
     },
     "execution_count": 8,
     "metadata": {},
     "output_type": "execute_result"
    }
   ],
   "source": [
    "plot_histogram([expected_results, es_counts], legend=['Expected', 'Extended Stabilizer'])"
   ]
  },
  {
   "cell_type": "markdown",
   "metadata": {},
   "source": [
    "You can control this approximation error using the `backend_options` in Qiskit Aer. The default error is 0.05. The smaller the error, the more precise the results, but also the longer your simulation will take and the more memory it will require."
   ]
  },
  {
   "cell_type": "code",
   "execution_count": 25,
   "metadata": {},
   "outputs": [
    {
     "name": "stdout",
     "output_type": "stream",
     "text": [
      "100 shots in 12.438858032226562s\n"
     ]
    },
    {
     "data": {
      "image/png": "[encoded data removed]",
      "text/plain": [
       "<Figure size 504x360 with 1 Axes>"
      ]
     },
     "execution_count": 25,
     "metadata": {},
     "output_type": "execute_result"
    }
   ],
   "source": [
    "es_job = QasmSimulator().run(small_qobj, backend_options={\n",
    "    'method':'extended_stabilizer',\n",
    "    'extended_stabilizer_approximation_error': 0.03\n",
    "})\n",
    "es_result = es_job.result()\n",
    "es_counts = es_result.get_counts(small_circ)\n",
    "print('100 shots in {}s'.format(es_result.time_taken))\n",
    "plot_histogram([expected_results, es_counts], legend=['Expected', 'Extended Stabilizer'])"
   ]
  },
  {
   "cell_type": "markdown",
   "metadata": {},
   "source": [
    "## Simulator Options"
   ]
  },
  {
   "cell_type": "markdown",
   "metadata": {},
   "source": [
    "There are several other options you can tweak to control how the extended stabilizer method performs. What these options are and their explanation can all be found in the Qiskit Aer documentation. However, I want to highlight two important ones that can help to optimize your simulations.\n",
    "\n",
    "To perform measurements, the extended stabilizer method uses a markov chain method to sample outcomes at random. This Markov chain has to be run for some time we call the 'mixing time' before it will start sampling, and has to be re-mixed for every circuit shot.\n",
    "\n",
    "If you expect your circuit output to be concentrated on just a few output states, then you can likely optimize you simulations by reducing the `extended_stabilizer_mixing_time` option.\n",
    "\n"
   ]
  },
  {
   "cell_type": "code",
   "execution_count": 14,
   "metadata": {},
   "outputs": [
    {
     "name": "stdout",
     "output_type": "stream",
     "text": [
      "The circuit above, with 100 shots at precision 0.03 and default mixing time, needed 14s\n",
      "Dialing down the mixing time, we completed in just 0.343336820602417s\n"
     ]
    }
   ],
   "source": [
    "print(\"The circuit above, with 100 shots at precision 0.03 \"\n",
    "      \"and default mixing time, needed {}s\".format(int(es_result.time_taken)))\n",
    "optimised_job = QasmSimulator().run(small_qobj, backend_options={\n",
    "    'method': 'extended_stabilizer',\n",
    "    'extended_stabilizer_approximation_error': 0.03,\n",
    "    'extended_stabilizer_mixing_time': 100\n",
    "})\n",
    "optimised_result = optimised_job.result()\n",
    "print('Dialing down the mixing time, we completed in just {}s'.format(optimised_result.time_taken))"
   ]
  },
  {
   "cell_type": "markdown",
   "metadata": {},
   "source": [
    "Similarly, if your circuit has some non-zero probability on all amplitudes (e.g. if it's a random circuit), then you can avoid this expensive re-mixing step to take multiple shots from the output at once. This can be enabled by setting `extended_stabilizer_measure_sampling=True` in the `backend_options`.\n",
    "\n",
    "For eaxmple, let's look again at the random circuit from the start of the tutorial, running for 100 shots:"
   ]
  },
  {
   "cell_type": "code",
   "execution_count": 15,
   "metadata": {},
   "outputs": [],
   "source": [
    "multishot_qobj = assemble(circ, backend=QasmSimulator(), shots=100)"
   ]
  },
  {
   "cell_type": "code",
   "execution_count": 17,
   "metadata": {},
   "outputs": [
    {
     "name": "stdout",
     "output_type": "stream",
     "text": [
      "100 shots took 36.50083303451538 s\n"
     ]
    }
   ],
   "source": [
    "# It's a 40 qubit circuit so we use Extended Stabilizer automatically\n",
    "multishot_job = QasmSimulator().run(multishot_qobj, backend_options={\n",
    "    'extended_stabilizer_mixing_time': 100 # We set this here only to make the example run more quickly.\n",
    "})\n",
    "result = multishot_job.result()\n",
    "print(\"100 shots took {} s\".format(result.time_taken))"
   ]
  },
  {
   "cell_type": "code",
   "execution_count": 18,
   "metadata": {},
   "outputs": [
    {
     "name": "stdout",
     "output_type": "stream",
     "text": [
      "With the optimization, 50 shots took 0.15211701393127441 s\n"
     ]
    }
   ],
   "source": [
    "multishot_job = QasmSimulator().run(multishot_qobj, backend_options={\n",
    "    'extended_stabilizer_measure_sampling': True,\n",
    "    'extended_stabilizer_mixing_time': 100 # We set this here only to make the example run more quickly.\n",
    "})\n",
    "result = multishot_job.result()\n",
    "print(\"With the optimization, 50 shots took {} s\".format(result.time_taken))"
   ]
  },
  {
   "cell_type": "markdown",
   "metadata": {},
   "source": [
    "## How can I use it?\n",
    "\n",
    "In the latest releae of Qiskit Aer, if you try to run a circuit on more qubits than can be handled by the state vector simulator, then Aer will automatically switch to using the extended stabilizer method. You can also force circuits to run on this method using the `backend_options` keyword argument to `QasmSimulator().run`. \n",
    "\n",
    "It's worth bearing in mind: if you have smaller circuits with lots of non-Clifford gates, then the statevector method will likely perform better than extended stabilizer. If however you want to look at circuits on many qubits, without needing access to high performance computation, then give this method a try!"
   ]
  }
 ],
 "metadata": {
  "kernelspec": {
   "display_name": "Python 3",
   "language": "python",
   "name": "python3"
  },
  "language_info": {
   "codemirror_mode": {
    "name": "ipython",
    "version": 3
   },
   "file_extension": ".py",
   "mimetype": "text/x-python",
   "name": "python",
   "nbconvert_exporter": "python",
   "pygments_lexer": "ipython3",
   "version": "3.7.3"
  }
 },
 "nbformat": 4,
 "nbformat_minor": 2
}
