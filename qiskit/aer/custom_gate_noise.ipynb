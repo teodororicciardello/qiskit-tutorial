{
 "cells": [
  {
   "cell_type": "markdown",
   "metadata": {},
   "source": [
    "<img src=\"../../images/qiskit-heading.gif\" alt=\"Note: In order for images to show up in this jupyter notebook you need to select File => Trusted Notebook\" width=\"500 px\" align=\"left\">"
   ]
  },
  {
   "cell_type": "markdown",
   "metadata": {},
   "source": [
    "# Qiskit Aer: Applying noise to custom unitary gates\n",
    "\n",
    "The latest version of this notebook is available on https://github.com/Qiskit/qiskit-tutorial."
   ]
  },
  {
   "cell_type": "markdown",
   "metadata": {},
   "source": [
    "## Introduction\n",
    "\n",
    "This notebook shows how to add custom unitary gates to a quantum circuit, and use them for noise simulations in Qiskit Aer."
   ]
  },
  {
   "cell_type": "code",
   "execution_count": 1,
   "metadata": {},
   "outputs": [],
   "source": [
    "from qiskit import execute, QuantumCircuit, QuantumRegister, ClassicalRegister\n",
    "from qiskit.quantum_info.operators import Operator\n",
    "from qiskit.quantum_info import process_fidelity\n",
    "from qiskit.providers.aer import QasmSimulator\n",
    "from qiskit.providers.aer.noise import NoiseModel, errors\n",
    "\n",
    "from qiskit.tools.visualization import plot_histogram"
   ]
  },
  {
   "cell_type": "markdown",
   "metadata": {},
   "source": [
    "## Creating matrix operators\n",
    "\n",
    "We can use the `Operator` class in `qiskit.quantum_info.operators` to represent arbitrary matrix operators. If the operator is unitary it can then be added to a quantum circuit and used for simulation on Qiskit Aer.\n",
    "\n",
    "Lets create two operators below for a CNOT gate, and an iSWAP gates:\n",
    "\n",
    "$$\\mbox{CNOT} = \\left(\\begin{array} \n",
    "& 1 & 0 & 0 & 0 \\\\ \n",
    "0 & 0 & 0 & 1 \\\\ \n",
    "0 & 0 & 1 & 0 \\\\ \n",
    "0 & 1 & 0 & 0\n",
    "\\end{array}\\right), \\quad\n",
    "\\mbox{iSWAP} = \\left(\\begin{array} \n",
    "& 1 & 0 & 0 & 0 \\\\ \n",
    "0 & 0 & i & 0 \\\\ \n",
    "0 & i & 0 & 0 \\\\ \n",
    "0 & 0 & 0 & 1\n",
    "\\end{array}\\right)$$\n"
   ]
  },
  {
   "cell_type": "code",
   "execution_count": 2,
   "metadata": {},
   "outputs": [],
   "source": [
    "# CNOT matrix operator with qubit-0 as control and qubit-1 as target\n",
    "cx_op = Operator([[1, 0, 0, 0],\n",
    "                  [0, 0, 0, 1],\n",
    "                  [0, 0, 1, 0],\n",
    "                  [0, 1, 0, 0]])\n",
    "\n",
    "# iSWAP matrix operator\n",
    "iswap_op = Operator([[1, 0, 0, 0],\n",
    "                     [0, 0, 1j, 0],\n",
    "                     [0, 1j, 0, 0],\n",
    "                     [0, 0, 0, 1]])"
   ]
  },
  {
   "cell_type": "markdown",
   "metadata": {},
   "source": [
    "**Note:** The matrix is specified with respect to the tensor product $U_{b}\\otimes U_{a}$ for qubits specified by list `[a, b]`."
   ]
  },
  {
   "cell_type": "markdown",
   "metadata": {},
   "source": [
    "## Using operators in circuits\n",
    "\n",
    "Let us demonstrate how these can be used in a circuit. We will consider an example of implementing a CNOT gate decomposed in terms of single-qubit gates and the iSWAP gate as follows."
   ]
  },
  {
   "cell_type": "code",
   "execution_count": 3,
   "metadata": {},
   "outputs": [
    {
     "name": "stdout",
     "output_type": "stream",
     "text": [
      "         ┌─────┐     ┌──────────┐┌─────┐┌───┐┌─────┐┌──────────┐     \n",
      "qr_0: |0>┤ Sdg ├─────┤0         ├┤ Sdg ├┤ H ├┤ Sdg ├┤0         ├─────\n",
      "         ├─────┤┌───┐│  unitary │└─────┘└───┘└─────┘│  unitary │┌───┐\n",
      "qr_1: |0>┤ Sdg ├┤ H ├┤1         ├───────────────────┤1         ├┤ S ├\n",
      "         └─────┘└───┘└──────────┘                   └──────────┘└───┘\n"
     ]
    }
   ],
   "source": [
    "# CNOT in terms of iSWAP and single-qubit gates\n",
    "qr = QuantumRegister(2, 'qr')\n",
    "cx_circ = QuantumCircuit(qr)\n",
    "\n",
    "# Add gates\n",
    "cx_circ.sdg(qr[1])\n",
    "cx_circ.h(qr[1])\n",
    "cx_circ.sdg(qr[0])\n",
    "cx_circ.unitary(iswap_op, [qr[0], qr[1]], label='iswap')\n",
    "cx_circ.sdg(qr[0])\n",
    "cx_circ.h(qr[0])\n",
    "cx_circ.sdg(qr[0])\n",
    "cx_circ.unitary(iswap_op, [qr[0], qr[1]], label='iswap')\n",
    "cx_circ.s(qr[1])\n",
    "\n",
    "print(cx_circ)"
   ]
  },
  {
   "cell_type": "markdown",
   "metadata": {},
   "source": [
    "Note that we have assigned an optional *label* of `\"iswap\"` to the unitary when it is inserted. This allows us to identify this unitary in a Qiskit Aer `NoiseModel` so that we can add errors to these custom unitary gates in noisy circuit simulations."
   ]
  },
  {
   "cell_type": "markdown",
   "metadata": {},
   "source": [
    "We can confirm this circuit returns the correct using the `Operator` class as a simulator for the circuit:"
   ]
  },
  {
   "cell_type": "code",
   "execution_count": 4,
   "metadata": {},
   "outputs": [
    {
     "name": "stdout",
     "output_type": "stream",
     "text": [
      "Operator([[1.+0.j 0.+0.j 0.+0.j 0.+0.j]\n",
      " [0.+0.j 0.+0.j 0.+0.j 1.+0.j]\n",
      " [0.+0.j 0.+0.j 1.+0.j 0.+0.j]\n",
      " [0.+0.j 1.+0.j 0.+0.j 0.+0.j]], input_dims=(2, 2), output_dims=(2, 2))\n"
     ]
    }
   ],
   "source": [
    "# Simulate the unitary for the circuit using Operator:\n",
    "unitary = Operator(cx_circ)\n",
    "print(unitary)"
   ]
  },
  {
   "cell_type": "markdown",
   "metadata": {},
   "source": [
    "And to confirm the output is corrct we can compute the process fidelity:"
   ]
  },
  {
   "cell_type": "code",
   "execution_count": 5,
   "metadata": {},
   "outputs": [
    {
     "name": "stdout",
     "output_type": "stream",
     "text": [
      "Process Fidelity =  (0.9999999999999996+0j)\n"
     ]
    }
   ],
   "source": [
    "fpro = process_fidelity(cx_op, unitary)\n",
    "print(\"Process Fidelity = \", fpro)"
   ]
  },
  {
   "cell_type": "markdown",
   "metadata": {},
   "source": [
    "## Creating a custom unitary in a noise model\n",
    "\n",
    "The Qiskit Aer QasmSimulator supports simulation of arbitrary unitary operators directly as specified by the `\"unitary\"` in the basis gates."
   ]
  },
  {
   "cell_type": "code",
   "execution_count": 6,
   "metadata": {},
   "outputs": [
    {
     "data": {
      "text/plain": [
       "True"
      ]
     },
     "execution_count": 6,
     "metadata": {},
     "output_type": "execute_result"
    }
   ],
   "source": [
    "'unitary' in QasmSimulator().configuration().basis_gates"
   ]
  },
  {
   "cell_type": "markdown",
   "metadata": {},
   "source": [
    "This allows us to add noise models to arbitrary unitaries in our simulation when we identity them using the optional `label` argument of `QuantumCircuit.unitary`.\n",
    "\n",
    "We will now do this by creating a `NoiseModel` that includes a quantum error channel on our custom iSWAP gate. For our example we will create an 2-qubit error consisting of two single-qubit amplitude damping channels with different damping parameters. For now we will assume all the other circuit instructions are ideal."
   ]
  },
  {
   "cell_type": "code",
   "execution_count": 7,
   "metadata": {},
   "outputs": [],
   "source": [
    "# Error parameters\n",
    "param_q0 = 0.05  # damping parameter for qubit-0\n",
    "param_q1 = 0.1   # damping parameter for qubit-1\n",
    "\n",
    "# Construct the error\n",
    "qerror_q0 = errors.amplitude_damping_error(param_q0)\n",
    "qerror_q1 = errors.amplitude_damping_error(param_q1)\n",
    "iswap_error = qerror_q1.tensor(qerror_q0)\n",
    "\n",
    "# Build the noise model by adding the error to the \"iswap\" gate\n",
    "noise_model = NoiseModel()\n",
    "noise_model.add_all_qubit_quantum_error(iswap_error, 'iswap')"
   ]
  },
  {
   "cell_type": "markdown",
   "metadata": {},
   "source": [
    "Note that when we add an error to a custom label such as `\"iswap\"` the `NoiseModel` does not know what gate this label is supposed to apply to, so we must manually add the desired gate string to the noise model `basis_gates`. This ensure that the compiler will unroll to the correct basis gates for the noise model simulation. This can done using the `NoiseModel.add_basis_gates` function:"
   ]
  },
  {
   "cell_type": "code",
   "execution_count": 8,
   "metadata": {},
   "outputs": [
    {
     "name": "stdout",
     "output_type": "stream",
     "text": [
      "['cx', 'id', 'u3', 'unitary']\n"
     ]
    }
   ],
   "source": [
    "noise_model.add_basis_gates(['unitary'])\n",
    "print(noise_model.basis_gates)"
   ]
  },
  {
   "cell_type": "markdown",
   "metadata": {},
   "source": [
    "By default the basis gates of a noise model are `['cx','id','u3']` plus any standard QasmSimulator basis gates that are added to the noise model."
   ]
  },
  {
   "cell_type": "markdown",
   "metadata": {},
   "source": [
    "## Simulating a custom unitary noise model"
   ]
  },
  {
   "cell_type": "markdown",
   "metadata": {},
   "source": [
    "Let us first take our previous CX circuit and add an initial Hadamard gate and final measurement to create a Bell-state preparation circuit that we may simulator on the `QasmSimulator` both for the ideal and noisy case"
   ]
  },
  {
   "cell_type": "code",
   "execution_count": 9,
   "metadata": {},
   "outputs": [
    {
     "name": "stdout",
     "output_type": "stream",
     "text": [
      "          ┌───┐ ┌─────┐┌──────────┐┌─────┐┌───┐┌─────┐┌──────────┐┌─┐        \n",
      "qr_0: |0>─┤ H ├─┤ Sdg ├┤0         ├┤ Sdg ├┤ H ├┤ Sdg ├┤0         ├┤M├────────\n",
      "         ┌┴───┴┐└┬───┬┘│  unitary │└─────┘└───┘└─────┘│  unitary │└╥┘┌───┐┌─┐\n",
      "qr_1: |0>┤ Sdg ├─┤ H ├─┤1         ├───────────────────┤1         ├─╫─┤ S ├┤M├\n",
      "         └─────┘ └───┘ └──────────┘                   └──────────┘ ║ └───┘└╥┘\n",
      " c0_0: 0 ══════════════════════════════════════════════════════════╩═══════╬═\n",
      "                                                                           ║ \n",
      " c0_1: 0 ══════════════════════════════════════════════════════════════════╩═\n",
      "                                                                             \n"
     ]
    }
   ],
   "source": [
    "# Bell state circuit where iSWAPS should be inserted at barrier locations\n",
    "cr = ClassicalRegister(2)\n",
    "bell_circ = QuantumCircuit(qr, cr, name='bell')\n",
    "bell_circ.h(qr[0])\n",
    "bell_circ = bell_circ + cx_circ \n",
    "bell_circ.measure(qr, cr)\n",
    "print(bell_circ)"
   ]
  },
  {
   "cell_type": "markdown",
   "metadata": {},
   "source": [
    "### Ideal output\n",
    "\n",
    "Lets first see the ideal output. Since this generates a Bell-state we expect two peaks for 00 and 11"
   ]
  },
  {
   "cell_type": "code",
   "execution_count": 10,
   "metadata": {},
   "outputs": [
    {
     "data": {
      "image/png": "[encoded data removed]",
      "text/plain": [
       "<Figure size 504x360 with 1 Axes>"
      ]
     },
     "execution_count": 10,
     "metadata": {},
     "output_type": "execute_result"
    }
   ],
   "source": [
    "# Execute on the simulator without noise\n",
    "job = execute(bell_circ, QasmSimulator(),\n",
    "              basis_gates=noise_model.basis_gates)\n",
    "ideal_result = job.result()\n",
    "ideal_counts = ideal_result.get_counts(bell_circ)\n",
    "plot_histogram(ideal_counts, title='Ideal output for iSWAP bell-state preparation')"
   ]
  },
  {
   "cell_type": "markdown",
   "metadata": {},
   "source": [
    "### Noisy circuit execution\n",
    "\n",
    "Finally lets now simulate it with our custom noise model. Since there is a small amplitude damping error on the two qubit gates we expect small additional peaks for the 01 and 10 outcome probabilities"
   ]
  },
  {
   "cell_type": "code",
   "execution_count": 11,
   "metadata": {},
   "outputs": [
    {
     "data": {
      "image/png": "[encoded data removed]",
      "text/plain": [
       "<Figure size 504x360 with 1 Axes>"
      ]
     },
     "execution_count": 11,
     "metadata": {},
     "output_type": "execute_result"
    }
   ],
   "source": [
    "# Execute on the simulator without noise\n",
    "job = execute(bell_circ, QasmSimulator(),\n",
    "              basis_gates=noise_model.basis_gates,\n",
    "              noise_model=noise_model)\n",
    "noise_result = job.result()\n",
    "noise_counts = noise_result.get_counts(bell_circ)\n",
    "plot_histogram(noise_counts, title='Noisy output for iSWAP bell-state preparation')"
   ]
  }
 ],
 "metadata": {
  "kernelspec": {
   "display_name": "Python 3",
   "language": "python",
   "name": "python3"
  },
  "language_info": {
   "codemirror_mode": {
    "name": "ipython",
    "version": 3
   },
   "file_extension": ".py",
   "mimetype": "text/x-python",
   "name": "python",
   "nbconvert_exporter": "python",
   "pygments_lexer": "ipython3",
   "version": "3.6.7"
  }
 },
 "nbformat": 4,
 "nbformat_minor": 2
}
