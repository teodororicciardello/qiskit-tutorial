{
 "cells": [
  {
   "cell_type": "markdown",
   "metadata": {},
   "source": [
    "# _*Qiskit Finance: qGAN Option Pricing*_ \n",
    "\n",
    "The latest version of this notebook is available on https://github.com/Qiskit/qiskit-tutorials.\n",
    "\n",
    "***\n",
    "### Contributors\n",
    "Christa Zoufal<sup>[1,2]</sup>, Stefan Woerner<sup>[1]</sup>\n",
    "### Affliation\n",
    "- <sup>[1]</sup>IBMQ\n",
    "- <sup>[2]</sup>ETH Zurich\n",
    "\n",
    "### Introduction\n",
    "In this notebook, we discuss how a Quantum Machine Learning Algorithm, namely a quantum Generative Adversarial Network (qGAN), can facilitate the pricing of a European call option. More specifically, a qGAN can be trained such that a quantum circuit models the spot price of an asset underlying a European call option. The resulting model can then be integrated into a Quantum Amplitude Estimation based algorithm to evaluate the expected payoff - see [European Call Option Pricing](../../aqua/finance/european_call_option_pricing.ipynb). <br/>\n",
    "For further details on learning and loading random distributions by training a qGAN please refer to <a href=\"https://arxiv.org/abs/1904.00043\">Quantum Generative Adversarial Networks for Learning and Loading Random Distributions. Zoufal, Lucchi, Woerner. 2019.</a>"
   ]
  },
  {
   "cell_type": "code",
   "execution_count": 33,
   "metadata": {},
   "outputs": [],
   "source": [
    "import matplotlib.pyplot as plt\n",
    "%matplotlib inline\n",
    "import numpy as np\n",
    "from qiskit.aqua.algorithms import AmplitudeEstimation\n",
    "from qiskit.aqua.components.uncertainty_problems import EuropeanCallExpectedValue\n",
    "from qiskit.aqua.components.uncertainty_models import UnivariateVariationalDistribution, NormalDistribution\n",
    "from qiskit.aqua.components.variational_forms import RY\n",
    "from qiskit import QuantumRegister, QuantumCircuit\n",
    "from qiskit.aqua.components.initial_states import Custom\n",
    "\n",
    "from qiskit.aqua import aqua_globals, QuantumInstance\n",
    "\n",
    "from qiskit import BasicAer"
   ]
  },
  {
   "cell_type": "markdown",
   "metadata": {},
   "source": [
    "### Uncertainty Model\n",
    "\n",
    "The Black-Scholes model assumes that the spot price at maturity $S_T$ for a European call option is log-normally distributed. Thus, we can train a qGAN on samples from a log-normal distribution and use the result as uncertainty model underlying the option. A notebook that explains the implementation of a qGAN to learn and load a random distribution is presented in [qGANs for Loading Random Distributions](../../aqua/artificial_intelligence/qgans_for_loading_random_distributions.ipynb). <br/>\n",
    "In the following, we construct a quantum circuit that loads the uncertainty model. The circuit output reads \n",
    "\n",
    "$$ \\big| g_{\\theta}\\rangle = \\sum_{j=0}^{2^n-1}\\sqrt{p_{\\theta}^{j}} \\big| j \\rangle , $$\n",
    "\n",
    "where the probabilites $p_{\\theta}^{j}$, for $j\\in \\left\\{0, \\ldots, {2^n-1} \\right\\}$, represent a model of the target distribution."
   ]
  },
  {
   "cell_type": "code",
   "execution_count": 34,
   "metadata": {},
   "outputs": [],
   "source": [
    "# Set upper and lower data values\n",
    "bounds = np.array([0.,7.])\n",
    "# Set number of qubits used in the uncertainty model\n",
    "num_qubits = [3]\n",
    "\n",
    "# Set entangler map\n",
    "entangler_map = []\n",
    "for i in range(sum(num_qubits)):\n",
    "    entangler_map.append([i, int(np.mod(i+1, sum(num_qubits)))])\n",
    "\n",
    "# Load the trained circuit parameters\n",
    "g_params = [0.29399714, 0.38853322, 0.9557694,  0.07245791, 6.02626428, 0.13537225]\n",
    "# Set an initial state for the generator circuit\n",
    "init_dist = NormalDistribution(int(sum(num_qubits)), mu=1., sigma=1., low=bounds[0], high=bounds[1])\n",
    "init_distribution = np.sqrt(init_dist.probabilities)\n",
    "init_distribution = Custom(num_qubits=sum(num_qubits), state_vector=init_distribution)\n",
    "# Set variational form\n",
    "var_form = RY(int(np.sum(num_qubits)), depth=1, initial_state=init_distribution,\n",
    "              entangler_map=entangler_map, entanglement_gate='cz')\n",
    "# Set generator circuit\n",
    "g_circuit = UnivariateVariationalDistribution(int(sum(num_qubits)), var_form, g_params,\n",
    "                                              low=bounds[0], high=bounds[1])\n",
    "# construct circuit factory for uncertainty model\n",
    "uncertainty_model = g_circuit\n"
   ]
  },
  {
   "cell_type": "markdown",
   "metadata": {},
   "source": [
    "### Evaluate Expected Payoff\n",
    "Now, the trained uncertainty model can be used to evaluate the expectation value of the option's payoff function with Quantum Amplitude Estimation."
   ]
  },
  {
   "cell_type": "code",
   "execution_count": 35,
   "metadata": {},
   "outputs": [],
   "source": [
    "# set the strike price (should be within the low and the high value of the uncertainty)\n",
    "strike_price = 2\n",
    "\n",
    "# set the approximation scaling for the payoff function\n",
    "c_approx = 0.25\n",
    "\n",
    "# construct circuit factory for payoff function\n",
    "european_call = EuropeanCallExpectedValue(\n",
    "    uncertainty_model,\n",
    "    strike_price=strike_price,\n",
    "    c_approx=c_approx\n",
    ")"
   ]
  },
  {
   "cell_type": "markdown",
   "metadata": {},
   "source": [
    "### Plot the probability distribution\n",
    "Next, we plot the trained probability distribution and, for reasons of comparison, also the target probability distribution."
   ]
  },
  {
   "cell_type": "code",
   "execution_count": 36,
   "metadata": {},
   "outputs": [
    {
     "data": {
      "image/png": "[encoded data removed]",
      "text/plain": [
       "<Figure size 432x288 with 1 Axes>"
      ]
     },
     "metadata": {
      "needs_background": "light"
     },
     "output_type": "display_data"
    }
   ],
   "source": [
    "#trained probability distribution\n",
    "init_distribution = np.sqrt(init_dist.probabilities)\n",
    "init_distribution = Custom(num_qubits=sum(num_qubits), state_vector=init_distribution)\n",
    "var_form = RY(int(np.sum(num_qubits)), depth=1, initial_state=init_distribution,\n",
    "              entangler_map=entangler_map, entanglement_gate='cz')\n",
    "g_circuit = UnivariateVariationalDistribution(int(sum(num_qubits)), var_form, g_params, low=bounds[0], high=bounds[1])\n",
    "uncertainty_model = g_circuit\n",
    "uncertainty_model.set_probabilities(QuantumInstance(BasicAer.get_backend('statevector_simulator')))\n",
    "x = uncertainty_model.values\n",
    "y = uncertainty_model.probabilities\n",
    "#target probability distribution\n",
    "N = 100000\n",
    "log_normal = np.random.lognormal(mean=1, sigma=1, size=N)\n",
    "log_normal = np.round(log_normal)\n",
    "log_normal = log_normal[log_normal <= 7]\n",
    "\n",
    "log_normal_samples = []\n",
    "for i in range(8):\n",
    "    log_normal_samples += [np.sum(log_normal==i)]\n",
    "log_normal_samples = np.array(log_normal_samples / sum(log_normal_samples))\n",
    "\n",
    "\n",
    "plt.bar(x, y, width=0.2, label='trained distribution', color='royalblue')\n",
    "plt.xticks(x, size=15, rotation=90)\n",
    "plt.yticks(size=15)\n",
    "plt.grid()\n",
    "plt.xlabel('Spot Price at Maturity $S_T$ (\\$)', size=15)\n",
    "plt.ylabel('Probability ($\\%$)', size=15)\n",
    "plt.plot(log_normal_samples,'-o', color ='deepskyblue', label='target distribution', linewidth=4, markersize=12)\n",
    "plt.legend(loc='best')\n",
    "plt.show()"
   ]
  },
  {
   "cell_type": "markdown",
   "metadata": {},
   "source": [
    "### Evaluate Expected Payoff\n",
    "Now, the trained uncertainty model can be used to evaluate the expectation value of the option's payoff function analytically and with Quantum Amplitude Estimation."
   ]
  },
  {
   "cell_type": "code",
   "execution_count": 39,
   "metadata": {},
   "outputs": [
    {
     "name": "stdout",
     "output_type": "stream",
     "text": [
      "Analytically calculated expected payoff w.r.t. the target distribution:  1.0585480647564538\n",
      "Analytically calculated expected payoff w.r.t. the trained distribution:  0.980530833264945\n",
      "Expected payoff calculated with Quantum Amplitude Estimation: \t1.2580\n",
      "Probability: \t0.8785\n"
     ]
    },
    {
     "data": {
      "image/png": "[encoded data removed]",
      "text/plain": [
       "<Figure size 432x288 with 1 Axes>"
      ]
     },
     "metadata": {
      "needs_background": "light"
     },
     "output_type": "display_data"
    }
   ],
   "source": [
    "payoff = np.array([0,0,0,1,2,3,4,5])\n",
    "ep = np.dot(log_normal_samples, payoff)\n",
    "print(\"Analytically calculated expected payoff w.r.t. the target distribution: \", ep)\n",
    "ep_trained = np.dot(y, payoff)\n",
    "print(\"Analytically calculated expected payoff w.r.t. the trained distribution: \", ep_trained)\n",
    "\n",
    "# set number of evaluation qubits (samples)\n",
    "m = 5\n",
    "\n",
    "# construct amplitude estimation \n",
    "ae = AmplitudeEstimation(m, european_call)\n",
    "# result = ae.run(quantum_instance=BasicAer.get_backend('qasm_simulator'), shots=100)\n",
    "result = ae.run(quantum_instance=BasicAer.get_backend('statevector_simulator'))\n",
    "print('Expected payoff calculated with Quantum Amplitude Estimation: \\t%.4f' % result['estimation'])\n",
    "print('Probability: \\t%.4f' % result['max_probability'])\n",
    "\n",
    "# plot exact payoff function (evaluated on the grid of the trained uncertainty model)\n",
    "x = uncertainty_model.values\n",
    "y_strike = np.maximum(0, x - strike_price)\n",
    "plt.plot(x, y_strike, 'ro-')\n",
    "plt.grid()\n",
    "plt.title('Payoff Function', size=15)\n",
    "plt.xlabel('Spot Price', size=15)\n",
    "plt.ylabel('Payoff', size=15)\n",
    "plt.xticks(x, size=15, rotation=90)\n",
    "plt.yticks(size=15)\n",
    "plt.show()"
   ]
  },
  {
   "cell_type": "code",
   "execution_count": null,
   "metadata": {},
   "outputs": [],
   "source": []
  }
 ],
 "metadata": {
  "kernelspec": {
   "display_name": "QiskitDevenv",
   "language": "python",
   "name": "qiskitdevenv"
  },
  "language_info": {
   "codemirror_mode": {
    "name": "ipython",
    "version": 3
   },
   "file_extension": ".py",
   "mimetype": "text/x-python",
   "name": "python",
   "nbconvert_exporter": "python",
   "pygments_lexer": "ipython3",
   "version": "3.7.3"
  }
 },
 "nbformat": 4,
 "nbformat_minor": 2
}
