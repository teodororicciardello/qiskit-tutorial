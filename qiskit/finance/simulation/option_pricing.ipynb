{
 "cells": [
  {
   "cell_type": "markdown",
   "metadata": {},
   "source": [
    "<img src=\"../../../images/qiskit-heading.gif\" alt=\"Note: In order for images to show up in this jupyter notebook you need to select File => Trusted Notebook\" width=\"500 px\" align=\"left\">"
   ]
  },
  {
   "cell_type": "markdown",
   "metadata": {},
   "source": [
    "# _*Qiskit Finance: Option Pricing*_ \n",
    "\n",
    "The latest version of this notebook is available on https://github.com/Qiskit/qiskit-tutorials.\n",
    "\n",
    "***\n",
    "### Contributors\n",
    "Stefan Woerner<sup>[1]</sup>, Daniel Egger<sup>[1]</sup>, Christa Zoufal<sup>[1]</sup>, Shaohan Hu<sup>[1]</sup>, Stephen Wood<sup>[1]</sup>, Marco Pistoia<sup>[1]</sup>\n",
    "\n",
    "### Affliation\n",
    "- <sup>[1]</sup>IBMQ"
   ]
  },
  {
   "cell_type": "markdown",
   "metadata": {},
   "source": [
    "In this notebook we provide an overview of the available Qiskit Finance tutorials on how to use Quantum Amplitude Estimation (QAE) for option pricing. We analyze different types of options with increasing complexity, featuring:\n",
    "- single asset / multi asset (basket) options,\n",
    "- piecewise linear payoff functions (arbitrary number of break points, possibly non-continuous), and\n",
    "- path-dependency (sum/average, barrier, etc.).\n",
    "\n",
    "The basic ideas on using QAE for option pricing and risk analysis are provided here:<br>\n",
    "<a href=\"https://www.nature.com/articles/s41534-019-0130-6\">Quantum Risk Analysis. Stefan Woerner, Daniel J. Egger (2019)</a>.\n",
    "\n",
    "A Qiskit Aqua tutorial on QAE can be found here:<br>\n",
    "<a href=\"../../aqua/general/amplitude_estimation.ipynb\">Qiskit Tutorial on QAE</a>\n",
    "\n",
    "We provide tutorials for the following types simple options:\n",
    "\n",
    "- <a href=\"european_call_option_pricing.ipynb\">European Call Option</a> (univariate, payoff with 2 segments)\n",
    "- <a href=\"european_put_option_pricing.ipynb\">European Put Option</a> (univariate, payoff with 2 segments)\n",
    "- <a href=\"bull_spread_pricing.ipynb\">Bull Spread</a> (univariate, payoff with 3 segments)\n",
    "\n",
    "Note that the provided framework can cover all options of this type, i.e., options that are fully determined by a piecewise linear payoff with respect to the spot price at maturity of the underlying asset.\n",
    "However, the framework also allows to price more complex options, for instance, options that depend on multiple assets or are path-dependent:\n",
    "\n",
    "- <a href=\"basket_option_pricing.ipynb\">Basket Option</a> (multivariate, payoff with 2 segments)\n",
    "- <a href=\"asian_barrier_spread_pricing.ipynb\">Asian Barrier Spread</a> (multivariate, path-dependent, payoff with 3 segments)\n",
    "\n",
    "More examples on option pricing with a quantum computer can be found in the [Qiskit Finance Community](../../../community/finance/index.ipynb) section of the Qiskit Tutorials.\n",
    "\n",
    "All examples illustrate how to use the genereric Qiskit Finance framework to construct QAE-operators (uncertainty problems). The same framework can be easily adjusted to estimate risk as well, for instance, the Value at Risk (VaR) or the Conditional Value at Risk (CVaR, also known as Expected Shortfall). How to use Qiskit Finance for risk analysis is illustrated in the following tutorial:\n",
    "<a href=\"credit_risk_analysis.ipynb\">Credit Risk Analysis</a>.\n",
    "\n",
    "An example of how quantum Generative Adversarial Networks (qGANs) can be used to learn and efficiently load generic random distributions for option pricing can be found here:\n",
    "<a href=\"../machine_learning/qgan_option_pricing.ipynb\">QGANs to learn and load random distributions for option pricing</a>"
   ]
  },
  {
   "cell_type": "code",
   "execution_count": null,
   "metadata": {},
   "outputs": [],
   "source": []
  }
 ],
 "metadata": {
  "kernelspec": {
   "display_name": "qiskit_master",
   "language": "python",
   "name": "qiskit_master"
  },
  "language_info": {
   "codemirror_mode": {
    "name": "ipython",
    "version": 3
   },
   "file_extension": ".py",
   "mimetype": "text/x-python",
   "name": "python",
   "nbconvert_exporter": "python",
   "pygments_lexer": "ipython3",
   "version": "3.6.1"
  }
 },
 "nbformat": 4,
 "nbformat_minor": 2
}
