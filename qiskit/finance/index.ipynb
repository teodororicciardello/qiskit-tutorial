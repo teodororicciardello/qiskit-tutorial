{
 "cells": [
  {
   "cell_type": "markdown",
   "metadata": {},
   "source": [
    "<img src=\"../../images/qiskit-heading.gif\" alt=\"Note: In order for images to show up in this jupyter notebook you need to select File => Trusted Notebook\" width=\"500 px\" align=\"left\">"
   ]
  },
  {
   "cell_type": "markdown",
   "metadata": {},
   "source": [
    "# _*Qiskit Finance: Overview*_ \n",
    "\n",
    "The latest version of this notebook is available on https://github.com/Qiskit/qiskit-tutorials.\n",
    "\n",
    "***\n",
    "### Contributors\n",
    "Stefan Woerner<sup>[1]</sup>, Daniel Egger<sup>[1]</sup>, Christa Zoufal<sup>[1]</sup>, Andrea Simonetto<sup>[1]</sup>, Jakub Marecek<sup>[1]</sup>, Martin Mevissen<sup>[1]</sup>, Shaohan Hu<sup>[1]</sup>, Stephen Wood<sup>[1]</sup>, Marco Pistoia<sup>[1]</sup>\n",
    "\n",
    "### Affliation\n",
    "- <sup>[1]</sup>IBMQ"
   ]
  },
  {
   "cell_type": "markdown",
   "metadata": {},
   "source": [
    "In this notebook we provide an overview of Qiskit Finance tutorials and tutorials from other domains which might be relevant in finance.\n",
    "\n",
    "#### Machine Learning:\n",
    "- <a href=\"machine_learning/qgan_option_pricing.ipynb\">Quantum Generative Adversarial Networks (qGANs) for data loading in option pricing</a>\n",
    "\n",
    "#### Optimization:\n",
    "- <a href=\"optimization/portfolio_optimization.ipynb\">Portfolio Optimization</a>\n",
    "- <a href=\"optimization/portfolio_diversification.ipynb\">Portfolio Diversification</a>\n",
    "    \n",
    "#### Simulation:\n",
    "- <a href=\"simulation/option_pricing.ipynb\">Option Pricing</a>\n",
    "- <a href=\"simulation/credit_risk_analysis.ipynb\">Credit Risk Analysis</a>\n",
    "- <a href=\"simulation/fixed_income_pricing.ipynb\">Fixed Income Pricing</a>\n",
    "\n",
    "#### Data Providers:\n",
    "- <a href=\"data_providers/time_series.ipynb\">Stock Market Time Series</a>"
   ]
  },
  {
   "cell_type": "code",
   "execution_count": null,
   "metadata": {},
   "outputs": [],
   "source": []
  }
 ],
 "metadata": {
  "kernelspec": {
   "display_name": "qiskit_master",
   "language": "python",
   "name": "qiskit_master"
  },
  "language_info": {
   "codemirror_mode": {
    "name": "ipython",
    "version": 3
   },
   "file_extension": ".py",
   "mimetype": "text/x-python",
   "name": "python",
   "nbconvert_exporter": "python",
   "pygments_lexer": "ipython3",
   "version": "3.6.1"
  }
 },
 "nbformat": 4,
 "nbformat_minor": 2
}
