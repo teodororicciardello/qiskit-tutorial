{
 "cells": [
  {
   "cell_type": "markdown",
   "metadata": {
    "ExecuteTime": {
     "end_time": "2019-05-02T19:15:01.604612Z",
     "start_time": "2019-05-02T19:15:01.599898Z"
    }
   },
   "source": [
    "<img src=\"../../images/qiskit-heading.gif\" alt=\"Note: In order for images to show up in this jupyter notebook you need to select File => Trusted Notebook\" width=\"500 px\" align=\"left\">"
   ]
  },
  {
   "cell_type": "markdown",
   "metadata": {},
   "source": [
    "# Working with reduced backends and noise models.\n",
    "\n",
    "In this tutorial we will see how to target a sub-graph of a quantum device by reducing the coupling map from a device backend and performing noise simulations on this sub-graph by reducing the noise model for the backend."
   ]
  },
  {
   "cell_type": "code",
   "execution_count": 10,
   "metadata": {
    "ExecuteTime": {
     "end_time": "2019-05-03T00:05:24.621074Z",
     "start_time": "2019-05-03T00:05:24.617712Z"
    }
   },
   "outputs": [],
   "source": [
    "from qiskit import *\n",
    "from qiskit.compiler import transpile\n",
    "from qiskit.transpiler.coupling import CouplingMap\n",
    "from qiskit.tools.monitor import job_monitor\n",
    "from qiskit.visualization import plot_histogram"
   ]
  },
  {
   "cell_type": "markdown",
   "metadata": {},
   "source": [
    "### Load IBMQ accounts and grab target device backend"
   ]
  },
  {
   "cell_type": "code",
   "execution_count": null,
   "metadata": {
    "ExecuteTime": {
     "end_time": "2019-05-03T00:05:28.918109Z",
     "start_time": "2019-05-03T00:05:25.196368Z"
    }
   },
   "outputs": [],
   "source": [
    "IBMQ.load_accounts()"
   ]
  },
  {
   "cell_type": "code",
   "execution_count": 12,
   "metadata": {
    "ExecuteTime": {
     "end_time": "2019-05-03T00:05:28.925372Z",
     "start_time": "2019-05-03T00:05:28.920588Z"
    }
   },
   "outputs": [
    {
     "name": "stdout",
     "output_type": "stream",
     "text": [
      "Device has: 14 qubits\n"
     ]
    }
   ],
   "source": [
    "backend = IBMQ.get_backend('ibmq_16_melbourne')\n",
    "print('Device has:', backend.configuration().n_qubits, 'qubits')"
   ]
  },
  {
   "cell_type": "markdown",
   "metadata": {},
   "source": [
    "### Problem setup\n",
    "\n",
    "Suppose we have a quantum circuit that we want to run on a given quantum device that is smaller than the full size of the device, and which we want to map to a selected subset of qubits in the device layout.  As an example, lets consider the standard Bell state circuit:"
   ]
  },
  {
   "cell_type": "code",
   "execution_count": 14,
   "metadata": {
    "ExecuteTime": {
     "end_time": "2019-05-03T00:05:39.554974Z",
     "start_time": "2019-05-03T00:05:39.550262Z"
    }
   },
   "outputs": [],
   "source": [
    "q = QuantumRegister(2)\n",
    "c = ClassicalRegister(2)\n",
    "qc = QuantumCircuit(q, c)\n",
    "\n",
    "qc.h(q[0])\n",
    "qc.cx(q[0], q[1])\n",
    "qc.measure(q, c);"
   ]
  },
  {
   "cell_type": "markdown",
   "metadata": {},
   "source": [
    "that we wish to run on qubits 11 and 12 of the target device.  We will call these qubits the `target_qubits`:"
   ]
  },
  {
   "cell_type": "code",
   "execution_count": 15,
   "metadata": {
    "ExecuteTime": {
     "end_time": "2019-05-03T00:05:40.968275Z",
     "start_time": "2019-05-03T00:05:40.965738Z"
    }
   },
   "outputs": [],
   "source": [
    "target_qubits = [11, 12]"
   ]
  },
  {
   "cell_type": "markdown",
   "metadata": {},
   "source": [
    "### Standard transpilation\n",
    "\n",
    "Lets transpile the circuit for the given backend, making sure to map the circuit to the `target_qubits`:"
   ]
  },
  {
   "cell_type": "code",
   "execution_count": 16,
   "metadata": {
    "ExecuteTime": {
     "end_time": "2019-05-03T00:05:47.724431Z",
     "start_time": "2019-05-03T00:05:46.836003Z"
    }
   },
   "outputs": [
    {
     "data": {
      "text/html": [
       "<pre style=\"word-wrap: normal;white-space: pre;line-height: 15px;\">                                       \n",
       " q_0: |0>──────────────────────────────\n",
       "                                       \n",
       " q_1: |0>──────────────────────────────\n",
       "                                       \n",
       " q_2: |0>──────────────────────────────\n",
       "                                       \n",
       " q_3: |0>──────────────────────────────\n",
       "                                       \n",
       " q_4: |0>──────────────────────────────\n",
       "                                       \n",
       " q_5: |0>──────────────────────────────\n",
       "                                       \n",
       " q_6: |0>──────────────────────────────\n",
       "                                       \n",
       " q_7: |0>──────────────────────────────\n",
       "                                       \n",
       " q_8: |0>──────────────────────────────\n",
       "                                       \n",
       " q_9: |0>──────────────────────────────\n",
       "                                       \n",
       "q_10: |0>──────────────────────────────\n",
       "         ┌──────────────┐      ░ ┌─┐   \n",
       "q_11: |0>┤ U2(0,3.1416) ├──■───░─┤M├───\n",
       "         └──────────────┘┌─┴─┐ ░ └╥┘┌─┐\n",
       "q_12: |0>────────────────┤ X ├─░──╫─┤M├\n",
       "                         └───┘ ░  ║ └╥┘\n",
       "q_13: |0>─────────────────────────╫──╫─\n",
       "                                  ║  ║ \n",
       " c1_0: 0 ═════════════════════════╩══╬═\n",
       "                                     ║ \n",
       " c1_1: 0 ════════════════════════════╩═\n",
       "                                       </pre>"
      ],
      "text/plain": [
       "<qiskit.visualization.text.TextDrawing at 0x1a17552978>"
      ]
     },
     "execution_count": 16,
     "metadata": {},
     "output_type": "execute_result"
    }
   ],
   "source": [
    "new_qc = transpile(qc, backend, initial_layout=target_qubits)\n",
    "new_qc.draw()"
   ]
  },
  {
   "cell_type": "markdown",
   "metadata": {},
   "source": [
    "We can see that the circuit gets transformed so that the number of qubits in the circuit is equal to the number of qubits in the device, and the gates did indeed get mapped to the `target_qubits`."
   ]
  },
  {
   "cell_type": "markdown",
   "metadata": {},
   "source": [
    "The above example also highlights one of the downsides of transpiling circuits that are much smaller than the full size of the device; The transpiled circuit is padded with qubits that play no role in computation.  As such, it may be of interest to extract the sub-graph of the device defined by the `target_qubits` and use that in the transpilation process."
   ]
  },
  {
   "cell_type": "markdown",
   "metadata": {},
   "source": [
    "### Reducing the device coupling map\n",
    "\n",
    "A reduced coupling map is a map that takes the sub-graph of a device defined by `target_qubits` and returns the same sub-graph coupling map, but with qubits labeled from 0->(N-1) where N is the number of qubits in `target_qubits`.  First we need to get the device coupling map and create a `CouplingMap` object from it."
   ]
  },
  {
   "cell_type": "code",
   "execution_count": 18,
   "metadata": {
    "ExecuteTime": {
     "end_time": "2019-05-03T00:15:29.052339Z",
     "start_time": "2019-05-03T00:15:29.048499Z"
    }
   },
   "outputs": [
    {
     "name": "stdout",
     "output_type": "stream",
     "text": [
      "[[1, 0], [1, 2], [2, 3], [4, 3], [4, 10], [5, 4], [5, 6], [5, 9], [6, 8], [9, 8], [9, 10], [7, 8], [11, 3], [11, 10], [11, 12], [12, 2], [13, 1], [13, 12]]\n"
     ]
    }
   ],
   "source": [
    "cmap = backend.configuration().coupling_map\n",
    "CMAP = CouplingMap(cmap)\n",
    "print(CMAP)"
   ]
  },
  {
   "cell_type": "markdown",
   "metadata": {},
   "source": [
    "To reduce the coupling map defined by `target_qubits` we make use of the `CouplingMap.reduce()` method, and pass `target_qubits` to it."
   ]
  },
  {
   "cell_type": "code",
   "execution_count": 19,
   "metadata": {
    "ExecuteTime": {
     "end_time": "2019-05-03T00:15:29.961285Z",
     "start_time": "2019-05-03T00:15:29.949402Z"
    }
   },
   "outputs": [
    {
     "name": "stdout",
     "output_type": "stream",
     "text": [
      "[[0, 1]]\n"
     ]
    }
   ],
   "source": [
    "red_cmap = CMAP.reduce(target_qubits)\n",
    "print(red_cmap)"
   ]
  },
  {
   "cell_type": "markdown",
   "metadata": {},
   "source": [
    "We are returned a `CouplingMap` instance that shows the controlled-x gate connectivity between the `target_qubits` with the indices of the qubits reduced.  This can now be passed to the transpile function to generate a new circuit that has the same number of qubits as the original circuit."
   ]
  },
  {
   "cell_type": "code",
   "execution_count": 20,
   "metadata": {
    "ExecuteTime": {
     "end_time": "2019-05-03T00:18:03.992182Z",
     "start_time": "2019-05-03T00:18:03.978469Z"
    }
   },
   "outputs": [],
   "source": [
    "red_qc = transpile(qc, None, coupling_map=red_cmap)"
   ]
  },
  {
   "cell_type": "code",
   "execution_count": 21,
   "metadata": {
    "ExecuteTime": {
     "end_time": "2019-05-03T00:18:04.324546Z",
     "start_time": "2019-05-03T00:18:04.319574Z"
    }
   },
   "outputs": [
    {
     "data": {
      "text/html": [
       "<pre style=\"word-wrap: normal;white-space: pre;line-height: 15px;\">        ┌───┐      ░ ┌─┐   \n",
       "q_0: |0>┤ H ├──■───░─┤M├───\n",
       "        └───┘┌─┴─┐ ░ └╥┘┌─┐\n",
       "q_1: |0>─────┤ X ├─░──╫─┤M├\n",
       "             └───┘ ░  ║ └╥┘\n",
       "c1_0: 0 ══════════════╩══╬═\n",
       "                         ║ \n",
       "c1_1: 0 ═════════════════╩═\n",
       "                           </pre>"
      ],
      "text/plain": [
       "<qiskit.visualization.text.TextDrawing at 0x104a41128>"
      ]
     },
     "execution_count": 21,
     "metadata": {},
     "output_type": "execute_result"
    }
   ],
   "source": [
    "red_qc.draw()"
   ]
  },
  {
   "cell_type": "markdown",
   "metadata": {},
   "source": [
    "### Executing a circuit transpiled with a reduced coupling map on a device\n",
    "\n",
    "To `execute` a circuit compiled with a reduced layout on the actual device, one simply passes the `target_qubits` list as the `initial_layout`"
   ]
  },
  {
   "cell_type": "code",
   "execution_count": 37,
   "metadata": {
    "ExecuteTime": {
     "end_time": "2019-05-03T00:37:49.754345Z",
     "start_time": "2019-05-03T00:37:18.376876Z"
    }
   },
   "outputs": [
    {
     "name": "stdout",
     "output_type": "stream",
     "text": [
      "Job Status: job has successfully run\n"
     ]
    }
   ],
   "source": [
    "job_device = execute(red_qc, backend, initial_layout=target_qubits)\n",
    "job_monitor(job_device)"
   ]
  },
  {
   "cell_type": "code",
   "execution_count": 38,
   "metadata": {
    "ExecuteTime": {
     "end_time": "2019-05-03T00:37:50.248852Z",
     "start_time": "2019-05-03T00:37:49.756706Z"
    }
   },
   "outputs": [
    {
     "data": {
      "image/png": "[encoded data removed]",
      "text/plain": [
       "<Figure size 504x360 with 1 Axes>"
      ]
     },
     "execution_count": 38,
     "metadata": {},
     "output_type": "execute_result"
    }
   ],
   "source": [
    "plot_histogram(job_device.result().get_counts())"
   ]
  },
  {
   "cell_type": "markdown",
   "metadata": {},
   "source": [
    "### Noise modelling using reduced noise models\n",
    "\n",
    "We have just seen how to take the `coupling_map` of a device, reduce a given sub-graph of that device, and use it in the transpiling process and then execution on the device.  We will now show how to do a noisy simulation using the reduced circuit and a noise model that is also reduced in size.  The combination of reduced coupling and noise maps allows us to easily simulate sub-graphs of large, e.g. >50 qubit, devices in the presence of noise.\n",
    "\n",
    "First we need to import the noise library from the Aer provider"
   ]
  },
  {
   "cell_type": "code",
   "execution_count": 25,
   "metadata": {
    "ExecuteTime": {
     "end_time": "2019-05-03T00:33:27.345073Z",
     "start_time": "2019-05-03T00:33:27.342005Z"
    }
   },
   "outputs": [],
   "source": [
    "from qiskit.providers.aer import noise"
   ]
  },
  {
   "cell_type": "markdown",
   "metadata": {},
   "source": [
    "Next we build a simplified noise model of the full device using data from the backend parameters:"
   ]
  },
  {
   "cell_type": "code",
   "execution_count": 26,
   "metadata": {
    "ExecuteTime": {
     "end_time": "2019-05-03T00:33:28.672600Z",
     "start_time": "2019-05-03T00:33:27.717308Z"
    }
   },
   "outputs": [],
   "source": [
    "properties = backend.properties()"
   ]
  },
  {
   "cell_type": "code",
   "execution_count": 36,
   "metadata": {
    "ExecuteTime": {
     "end_time": "2019-05-03T00:36:45.073188Z",
     "start_time": "2019-05-03T00:36:45.062620Z"
    }
   },
   "outputs": [
    {
     "data": {
      "text/plain": [
       "NoiseModel:\n",
       "  Basis gates: ['cx', 'id', 'u2', 'u3']\n",
       "  Instructions with noise: ['u2', 'u3', 'measure', 'cx']\n",
       "  Qubits with noise: [0, 1, 2, 3, 4, 5, 6, 7, 8, 9, 10, 11, 12, 13]\n",
       "  Specific qubit errors: [('u2', [0]), ('u2', [1]), ('u2', [2]), ('u2', [3]), ('u2', [4]), ('u2', [5]), ('u2', [6]), ('u2', [7]), ('u2', [8]), ('u2', [9]), ('u2', [10]), ('u2', [11]), ('u2', [12]), ('u2', [13]), ('u3', [0]), ('u3', [1]), ('u3', [2]), ('u3', [3]), ('u3', [4]), ('u3', [5]), ('u3', [6]), ('u3', [7]), ('u3', [8]), ('u3', [9]), ('u3', [10]), ('u3', [11]), ('u3', [12]), ('u3', [13]), ('cx', [1, 0]), ('cx', [1, 2]), ('cx', [2, 3]), ('cx', [4, 3]), ('cx', [4, 10]), ('cx', [5, 4]), ('cx', [5, 6]), ('cx', [5, 9]), ('cx', [6, 8]), ('cx', [7, 8]), ('cx', [9, 8]), ('cx', [9, 10]), ('cx', [11, 3]), ('cx', [11, 10]), ('cx', [11, 12]), ('cx', [12, 2]), ('cx', [13, 1]), ('cx', [13, 12]), ('measure', [0]), ('measure', [1]), ('measure', [2]), ('measure', [3]), ('measure', [4]), ('measure', [5]), ('measure', [6]), ('measure', [7]), ('measure', [8]), ('measure', [9]), ('measure', [10]), ('measure', [11]), ('measure', [12]), ('measure', [13])]"
      ]
     },
     "execution_count": 36,
     "metadata": {},
     "output_type": "execute_result"
    }
   ],
   "source": [
    "noise_model = noise.device.basic_device_noise_model(properties)\n",
    "basis_gates = noise_model.basis_gates\n",
    "noise_model"
   ]
  },
  {
   "cell_type": "markdown",
   "metadata": {},
   "source": [
    "Now we reduce the full noise model down using `remapping=target_qubits`, and `discard_qubits=True`.  This latter keyword argument trims the noise model down to just those noise terms that correspond to the reduced target qubits."
   ]
  },
  {
   "cell_type": "code",
   "execution_count": 28,
   "metadata": {
    "ExecuteTime": {
     "end_time": "2019-05-03T00:33:28.689908Z",
     "start_time": "2019-05-03T00:33:28.683091Z"
    }
   },
   "outputs": [
    {
     "data": {
      "text/plain": [
       "NoiseModel:\n",
       "  Basis gates: ['cx', 'id', 'u2', 'u3']\n",
       "  Instructions with noise: ['u2', 'u3', 'measure', 'cx']\n",
       "  Qubits with noise: [0, 1]\n",
       "  Specific qubit errors: [('u2', [0]), ('u2', [1]), ('u3', [0]), ('u3', [1]), ('cx', [0, 1]), ('measure', [0]), ('measure', [1])]"
      ]
     },
     "execution_count": 28,
     "metadata": {},
     "output_type": "execute_result"
    }
   ],
   "source": [
    "red_noise_model = noise.utils.remap_noise_model(noise_model,\n",
    "                                                remapping=target_qubits,\n",
    "                                                discard_qubits=True)\n",
    "red_noise_model"
   ]
  },
  {
   "cell_type": "markdown",
   "metadata": {},
   "source": [
    "### Verify reduced circuit and noise model give same results as full example\n",
    "\n",
    "To show that the reduced and full noise models give the same answer we fix the random number generator in the simulator using the `seed_simulator` keyword argument."
   ]
  },
  {
   "cell_type": "code",
   "execution_count": 31,
   "metadata": {
    "ExecuteTime": {
     "end_time": "2019-05-03T00:36:18.478741Z",
     "start_time": "2019-05-03T00:36:18.476025Z"
    }
   },
   "outputs": [],
   "source": [
    "sim_backend = Aer.get_backend('qasm_simulator')"
   ]
  },
  {
   "cell_type": "markdown",
   "metadata": {},
   "source": [
    "#### Reduced model"
   ]
  },
  {
   "cell_type": "code",
   "execution_count": 32,
   "metadata": {
    "ExecuteTime": {
     "end_time": "2019-05-03T00:36:19.141451Z",
     "start_time": "2019-05-03T00:36:19.095690Z"
    }
   },
   "outputs": [],
   "source": [
    "job = execute(red_qc, sim_backend,\n",
    "              basis_gates = basis_gates,\n",
    "              noise_model=red_noise_model,\n",
    "              seed_simulator=123456)\n",
    "res = job.result()"
   ]
  },
  {
   "cell_type": "code",
   "execution_count": 33,
   "metadata": {
    "ExecuteTime": {
     "end_time": "2019-05-03T00:36:19.703105Z",
     "start_time": "2019-05-03T00:36:19.608809Z"
    }
   },
   "outputs": [
    {
     "data": {
      "image/png": "[encoded data removed]",
      "text/plain": [
       "<Figure size 504x360 with 1 Axes>"
      ]
     },
     "execution_count": 33,
     "metadata": {},
     "output_type": "execute_result"
    }
   ],
   "source": [
    "plot_histogram(res.get_counts())"
   ]
  },
  {
   "cell_type": "markdown",
   "metadata": {},
   "source": [
    "#### Full model"
   ]
  },
  {
   "cell_type": "code",
   "execution_count": 34,
   "metadata": {
    "ExecuteTime": {
     "end_time": "2019-05-03T00:36:31.839480Z",
     "start_time": "2019-05-03T00:36:31.778333Z"
    }
   },
   "outputs": [],
   "source": [
    "job_full = execute(new_qc, sim_backend,\n",
    "              basis_gates = basis_gates,\n",
    "              noise_model=noise_model,\n",
    "              seed_simulator=123456)\n",
    "res_full = job_full.result()"
   ]
  },
  {
   "cell_type": "code",
   "execution_count": 35,
   "metadata": {
    "ExecuteTime": {
     "end_time": "2019-05-03T00:36:32.510079Z",
     "start_time": "2019-05-03T00:36:32.419099Z"
    }
   },
   "outputs": [
    {
     "data": {
      "image/png": "[encoded data removed]",
      "text/plain": [
       "<Figure size 504x360 with 1 Axes>"
      ]
     },
     "execution_count": 35,
     "metadata": {},
     "output_type": "execute_result"
    }
   ],
   "source": [
    "plot_histogram(res_full.get_counts())"
   ]
  }
 ],
 "metadata": {
  "hide_input": false,
  "kernelspec": {
   "display_name": "Python 3",
   "language": "python",
   "name": "python3"
  },
  "language_info": {
   "codemirror_mode": {
    "name": "ipython",
    "version": 3
   },
   "file_extension": ".py",
   "mimetype": "text/x-python",
   "name": "python",
   "nbconvert_exporter": "python",
   "pygments_lexer": "ipython3",
   "version": "3.7.3"
  }
 },
 "nbformat": 4,
 "nbformat_minor": 2
}
