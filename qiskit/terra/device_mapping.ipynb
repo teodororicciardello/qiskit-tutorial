{
 "cells": [
  {
   "cell_type": "markdown",
   "metadata": {},
   "source": [
    "<img src=\"../../images/qiskit-heading.gif\" alt=\"Note: In order for images to show up in this jupyter notebook you need to select File => Trusted Notebook\" width=\"500 px\" align=\"left\">"
   ]
  },
  {
   "cell_type": "code",
   "execution_count": 1,
   "metadata": {
    "ExecuteTime": {
     "end_time": "2019-05-03T22:37:01.811807Z",
     "start_time": "2019-05-03T22:36:56.469338Z"
    }
   },
   "outputs": [],
   "source": [
    "from qiskit import *\n",
    "from qiskit.compiler import transpile\n",
    "from qiskit.visualization import plot_histogram\n",
    "from qiskit.tools.monitor import job_monitor\n",
    "IBMQ.load_accounts()\n",
    "%matplotlib inline"
   ]
  },
  {
   "cell_type": "markdown",
   "metadata": {},
   "source": [
    "# Mapping virtual qubits in a circuit to physical qubits on a quantum device\n",
    "\n",
    "\n",
    "In this tutorial we will see how to manually set the mapping from virtual circuit qubits to the physical qubits on a real quantum backend.  To begin, let us consider the following circuit that constructs a five-qubit GHZ state:"
   ]
  },
  {
   "cell_type": "code",
   "execution_count": 2,
   "metadata": {
    "ExecuteTime": {
     "end_time": "2019-05-03T22:37:01.829101Z",
     "start_time": "2019-05-03T22:37:01.814657Z"
    }
   },
   "outputs": [
    {
     "data": {
      "text/html": [
       "<pre style=\"word-wrap: normal;white-space: pre;line-height: 15px;\">                   ┌───┐      ░ ┌─┐            \n",
       "qr_0: |0>──────────┤ X ├──────░─┤M├────────────\n",
       "              ┌───┐└─┬─┘      ░ └╥┘┌─┐         \n",
       "qr_1: |0>─────┤ X ├──■────────░──╫─┤M├─────────\n",
       "         ┌───┐└─┬─┘           ░  ║ └╥┘┌─┐      \n",
       "qr_2: |0>┤ H ├──■────■────────░──╫──╫─┤M├──────\n",
       "         └───┘     ┌─┴─┐      ░  ║  ║ └╥┘┌─┐   \n",
       "qr_3: |0>──────────┤ X ├──■───░──╫──╫──╫─┤M├───\n",
       "                   └───┘┌─┴─┐ ░  ║  ║  ║ └╥┘┌─┐\n",
       "qr_4: |0>───────────────┤ X ├─░──╫──╫──╫──╫─┤M├\n",
       "                        └───┘ ░  ║  ║  ║  ║ └╥┘\n",
       " cr_0: 0 ════════════════════════╩══╬══╬══╬══╬═\n",
       "                                    ║  ║  ║  ║ \n",
       " cr_1: 0 ═══════════════════════════╩══╬══╬══╬═\n",
       "                                       ║  ║  ║ \n",
       " cr_2: 0 ══════════════════════════════╩══╬══╬═\n",
       "                                          ║  ║ \n",
       " cr_3: 0 ═════════════════════════════════╩══╬═\n",
       "                                             ║ \n",
       " cr_4: 0 ════════════════════════════════════╩═\n",
       "                                               </pre>"
      ],
      "text/plain": [
       "<qiskit.visualization.text.TextDrawing at 0x104280390>"
      ]
     },
     "execution_count": 2,
     "metadata": {},
     "output_type": "execute_result"
    }
   ],
   "source": [
    "qr = QuantumRegister(5,'qr')\n",
    "cr = ClassicalRegister(5, 'cr')\n",
    "ghz = QuantumCircuit(qr, cr, name='ghz')\n",
    "\n",
    "ghz.h(qr[2])\n",
    "ghz.cx(qr[2], qr[1])\n",
    "ghz.cx(qr[1], qr[0])\n",
    "ghz.cx(qr[2], qr[3])\n",
    "ghz.cx(qr[3], qr[4])\n",
    "ghz.barrier(qr)\n",
    "ghz.measure(qr, cr)\n",
    "ghz.draw()"
   ]
  },
  {
   "cell_type": "markdown",
   "metadata": {},
   "source": [
    "## Default circuit mapping via the transpiler"
   ]
  },
  {
   "cell_type": "markdown",
   "metadata": {},
   "source": [
    "We use the transpiler to generate the circuit mapped onto the"
   ]
  },
  {
   "cell_type": "code",
   "execution_count": 3,
   "metadata": {
    "ExecuteTime": {
     "end_time": "2019-05-03T22:37:01.835248Z",
     "start_time": "2019-05-03T22:37:01.831083Z"
    }
   },
   "outputs": [],
   "source": [
    "device = IBMQ.get_backend('ibmq_16_melbourne')"
   ]
  },
  {
   "cell_type": "markdown",
   "metadata": {
    "ExecuteTime": {
     "end_time": "2019-05-03T19:21:59.350073Z",
     "start_time": "2019-05-03T19:21:59.344880Z"
    }
   },
   "source": [
    "device."
   ]
  },
  {
   "cell_type": "code",
   "execution_count": 4,
   "metadata": {
    "ExecuteTime": {
     "end_time": "2019-05-03T22:37:02.740051Z",
     "start_time": "2019-05-03T22:37:01.836902Z"
    }
   },
   "outputs": [],
   "source": [
    "trans_ghz = transpile(ghz, device)"
   ]
  },
  {
   "cell_type": "code",
   "execution_count": 5,
   "metadata": {
    "ExecuteTime": {
     "end_time": "2019-05-03T22:37:02.756111Z",
     "start_time": "2019-05-03T22:37:02.741606Z"
    }
   },
   "outputs": [
    {
     "data": {
      "text/html": [
       "<pre style=\"word-wrap: normal;white-space: pre;line-height: 15px;\">                                              ┌───┐                     »\n",
       " q_0: |0>─────────────────────────────────────┤ X ├─────────────────────»\n",
       "         ┌──────────────┐     ┌──────────────┐└─┬─┘                     »\n",
       " q_1: |0>┤ U2(0,3.1416) ├──■──┤ U2(0,3.1416) ├──■───────────────────────»\n",
       "         └──────────────┘┌─┴─┐├──────────────┤                          »\n",
       " q_2: |0>────────────────┤ X ├┤ U2(0,3.1416) ├──■───────────────────────»\n",
       "                         └───┘└──────────────┘┌─┴─┐┌──────────────┐┌───┐»\n",
       " q_3: |0>─────────────────────────────────────┤ X ├┤ U2(0,3.1416) ├┤ X ├»\n",
       "         ┌──────────────┐                     └───┘└──────────────┘└─┬─┘»\n",
       " q_4: |0>┤ U2(0,3.1416) ├────────────────────────────────────────────■──»\n",
       "         └──────────────┘                                               »\n",
       " q_5: |0>───────────────────────────────────────────────────────────────»\n",
       "                                                                        »\n",
       " q_6: |0>───────────────────────────────────────────────────────────────»\n",
       "                                                                        »\n",
       " q_7: |0>───────────────────────────────────────────────────────────────»\n",
       "                                                                        »\n",
       " q_8: |0>───────────────────────────────────────────────────────────────»\n",
       "                                                                        »\n",
       " q_9: |0>───────────────────────────────────────────────────────────────»\n",
       "                                                                        »\n",
       "q_10: |0>───────────────────────────────────────────────────────────────»\n",
       "                                                                        »\n",
       "q_11: |0>───────────────────────────────────────────────────────────────»\n",
       "                                                                        »\n",
       "q_12: |0>───────────────────────────────────────────────────────────────»\n",
       "                                                                        »\n",
       "q_13: |0>───────────────────────────────────────────────────────────────»\n",
       "                                                                        »\n",
       " cr_0: 0 ═══════════════════════════════════════════════════════════════»\n",
       "                                                                        »\n",
       " cr_1: 0 ═══════════════════════════════════════════════════════════════»\n",
       "                                                                        »\n",
       " cr_2: 0 ═══════════════════════════════════════════════════════════════»\n",
       "                                                                        »\n",
       " cr_3: 0 ═══════════════════════════════════════════════════════════════»\n",
       "                                                                        »\n",
       " cr_4: 0 ═══════════════════════════════════════════════════════════════»\n",
       "                                                                        »\n",
       "«                       ░ ┌─┐            \n",
       "« q_0: ─────────────────░─┤M├────────────\n",
       "«                       ░ └╥┘┌─┐         \n",
       "« q_1: ─────────────────░──╫─┤M├─────────\n",
       "«                       ░  ║ └╥┘┌─┐      \n",
       "« q_2: ─────────────────░──╫──╫─┤M├──────\n",
       "«      ┌──────────────┐ ░  ║  ║ └╥┘┌─┐   \n",
       "« q_3: ┤ U2(0,3.1416) ├─░──╫──╫──╫─┤M├───\n",
       "«      ├──────────────┤ ░  ║  ║  ║ └╥┘┌─┐\n",
       "« q_4: ┤ U2(0,3.1416) ├─░──╫──╫──╫──╫─┤M├\n",
       "«      └──────────────┘ ░  ║  ║  ║  ║ └╥┘\n",
       "« q_5: ────────────────────╫──╫──╫──╫──╫─\n",
       "«                          ║  ║  ║  ║  ║ \n",
       "« q_6: ────────────────────╫──╫──╫──╫──╫─\n",
       "«                          ║  ║  ║  ║  ║ \n",
       "« q_7: ────────────────────╫──╫──╫──╫──╫─\n",
       "«                          ║  ║  ║  ║  ║ \n",
       "« q_8: ────────────────────╫──╫──╫──╫──╫─\n",
       "«                          ║  ║  ║  ║  ║ \n",
       "« q_9: ────────────────────╫──╫──╫──╫──╫─\n",
       "«                          ║  ║  ║  ║  ║ \n",
       "«q_10: ────────────────────╫──╫──╫──╫──╫─\n",
       "«                          ║  ║  ║  ║  ║ \n",
       "«q_11: ────────────────────╫──╫──╫──╫──╫─\n",
       "«                          ║  ║  ║  ║  ║ \n",
       "«q_12: ────────────────────╫──╫──╫──╫──╫─\n",
       "«                          ║  ║  ║  ║  ║ \n",
       "«q_13: ────────────────────╫──╫──╫──╫──╫─\n",
       "«                          ║  ║  ║  ║  ║ \n",
       "«cr_0: ════════════════════╩══╬══╬══╬══╬═\n",
       "«                             ║  ║  ║  ║ \n",
       "«cr_1: ═══════════════════════╩══╬══╬══╬═\n",
       "«                                ║  ║  ║ \n",
       "«cr_2: ══════════════════════════╩══╬══╬═\n",
       "«                                   ║  ║ \n",
       "«cr_3: ═════════════════════════════╩══╬═\n",
       "«                                      ║ \n",
       "«cr_4: ════════════════════════════════╩═\n",
       "«                                        </pre>"
      ],
      "text/plain": [
       "<qiskit.visualization.text.TextDrawing at 0x1a184f4358>"
      ]
     },
     "execution_count": 5,
     "metadata": {},
     "output_type": "execute_result"
    }
   ],
   "source": [
    "trans_ghz.draw()"
   ]
  },
  {
   "cell_type": "markdown",
   "metadata": {},
   "source": [
    "We see that the output circuit has the gate set mapped to the first five qubits on the device (q_0- q_4).\n",
    "\n",
    "To gauge the quality of this mapping, let's compute the depth of the output circuit."
   ]
  },
  {
   "cell_type": "code",
   "execution_count": 6,
   "metadata": {
    "ExecuteTime": {
     "end_time": "2019-05-03T22:37:02.763442Z",
     "start_time": "2019-05-03T22:37:02.757566Z"
    }
   },
   "outputs": [
    {
     "data": {
      "text/plain": [
       "8"
      ]
     },
     "execution_count": 6,
     "metadata": {},
     "output_type": "execute_result"
    }
   ],
   "source": [
    "trans_ghz.depth()"
   ]
  },
  {
   "cell_type": "markdown",
   "metadata": {},
   "source": [
    "This depth is greater than that of the input"
   ]
  },
  {
   "cell_type": "code",
   "execution_count": 7,
   "metadata": {
    "ExecuteTime": {
     "end_time": "2019-05-03T22:37:02.768186Z",
     "start_time": "2019-05-03T22:37:02.764889Z"
    }
   },
   "outputs": [
    {
     "data": {
      "text/plain": [
       "5"
      ]
     },
     "execution_count": 7,
     "metadata": {},
     "output_type": "execute_result"
    }
   ],
   "source": [
    "ghz.depth()"
   ]
  },
  {
   "cell_type": "markdown",
   "metadata": {},
   "source": [
    "because the transpiler had to reverse some of the CNOT gates in the circuit to match the device topology (as seen below)."
   ]
  },
  {
   "cell_type": "markdown",
   "metadata": {},
   "source": [
    "## Better results via manual mapping"
   ]
  },
  {
   "cell_type": "markdown",
   "metadata": {},
   "source": [
    "It turns out that the GHZ circuit can be mapped exactly onto the Melbourne backend; the output circuit has the same depth as the input.  To do the mapping, we just need to find which qubits to map to.  This is most easily done using the Jupyter magic function:"
   ]
  },
  {
   "cell_type": "code",
   "execution_count": 16,
   "metadata": {
    "ExecuteTime": {
     "end_time": "2019-05-03T22:45:51.745497Z",
     "start_time": "2019-05-03T22:44:54.035833Z"
    }
   },
   "outputs": [
    {
     "data": {
      "application/vnd.jupyter.widget-view+json": {
       "model_id": "03dcbcbb3e4a41bc8050d8d7ad5d1a60",
       "version_major": 2,
       "version_minor": 0
      }
     },
     "metadata": {},
     "output_type": "display_data"
    }
   ],
   "source": [
    "from qiskit.tools.jupyter import *\n",
    "%qiskit_backend_monitor device"
   ]
  },
  {
   "cell_type": "markdown",
   "metadata": {},
   "source": [
    "Upon inspection, we see that the GHZ circuit matches the topology, provided that the circuit qubits are mapped to the device qubits using the following mapping: `0->10, 1->4, 2->5, 3->6, 4->8`.  What's better, these qubits also have lower error rates, in both gates and measurements, than the qubits selected in the default mapping.\n",
    "\n",
    "In Qiskit we can express this mapping using a list:"
   ]
  },
  {
   "cell_type": "code",
   "execution_count": 9,
   "metadata": {
    "ExecuteTime": {
     "end_time": "2019-05-03T22:41:32.928291Z",
     "start_time": "2019-05-03T22:41:32.925876Z"
    }
   },
   "outputs": [],
   "source": [
    "layout = [10, 4, 5, 6, 8]"
   ]
  },
  {
   "cell_type": "markdown",
   "metadata": {},
   "source": [
    "or equivalently, using a dictionary that uses quantum register qubits as the keys, and device qubits as the corresponding values:"
   ]
  },
  {
   "cell_type": "code",
   "execution_count": 10,
   "metadata": {
    "ExecuteTime": {
     "end_time": "2019-05-03T22:41:32.935275Z",
     "start_time": "2019-05-03T22:41:32.929858Z"
    }
   },
   "outputs": [],
   "source": [
    "layout = {qr[0]: 10, qr[1]: 4, qr[2]: 5, qr[3]: 6, qr[4]: 8}"
   ]
  },
  {
   "cell_type": "markdown",
   "metadata": {},
   "source": [
    "To use this mapping in the transpiler or in the `execute` function, we can just set the layout as the `initial_layout` keyword argument to the functions:"
   ]
  },
  {
   "cell_type": "code",
   "execution_count": 11,
   "metadata": {
    "ExecuteTime": {
     "end_time": "2019-05-03T22:41:34.460811Z",
     "start_time": "2019-05-03T22:41:32.936621Z"
    }
   },
   "outputs": [],
   "source": [
    "trans_ghz_mapped = transpile(ghz, device, initial_layout=layout)"
   ]
  },
  {
   "cell_type": "code",
   "execution_count": 12,
   "metadata": {
    "ExecuteTime": {
     "end_time": "2019-05-03T22:41:34.473876Z",
     "start_time": "2019-05-03T22:41:34.462297Z"
    }
   },
   "outputs": [
    {
     "data": {
      "text/html": [
       "<pre style=\"word-wrap: normal;white-space: pre;line-height: 15px;\">                                                               \n",
       " q_0: |0>──────────────────────────────────────────────────────\n",
       "                                                               \n",
       " q_1: |0>──────────────────────────────────────────────────────\n",
       "                                                               \n",
       " q_2: |0>──────────────────────────────────────────────────────\n",
       "                                                               \n",
       " q_3: |0>──────────────────────────────────────────────────────\n",
       "                         ┌───┐                ░    ┌─┐         \n",
       " q_4: |0>────────────────┤ X ├───────■────────░────┤M├─────────\n",
       "         ┌──────────────┐└─┬─┘       │        ░    └╥┘┌─┐      \n",
       " q_5: |0>┤ U2(0,3.1416) ├──■────■────┼────────░─────╫─┤M├──────\n",
       "         └──────────────┘     ┌─┴─┐  │        ░     ║ └╥┘┌─┐   \n",
       " q_6: |0>─────────────────────┤ X ├──┼────■───░─────╫──╫─┤M├───\n",
       "                              └───┘  │    │   ░     ║  ║ └╥┘   \n",
       " q_7: |0>────────────────────────────┼────┼─────────╫──╫──╫────\n",
       "                                     │  ┌─┴─┐ ░     ║  ║  ║ ┌─┐\n",
       " q_8: |0>────────────────────────────┼──┤ X ├─░─────╫──╫──╫─┤M├\n",
       "                                     │  └───┘ ░     ║  ║  ║ └╥┘\n",
       " q_9: |0>────────────────────────────┼──────────────╫──╫──╫──╫─\n",
       "                                   ┌─┴─┐      ░ ┌─┐ ║  ║  ║  ║ \n",
       "q_10: |0>──────────────────────────┤ X ├──────░─┤M├─╫──╫──╫──╫─\n",
       "                                   └───┘      ░ └╥┘ ║  ║  ║  ║ \n",
       "q_11: |0>────────────────────────────────────────╫──╫──╫──╫──╫─\n",
       "                                                 ║  ║  ║  ║  ║ \n",
       "q_12: |0>────────────────────────────────────────╫──╫──╫──╫──╫─\n",
       "                                                 ║  ║  ║  ║  ║ \n",
       "q_13: |0>────────────────────────────────────────╫──╫──╫──╫──╫─\n",
       "                                                 ║  ║  ║  ║  ║ \n",
       " cr_0: 0 ════════════════════════════════════════╩══╬══╬══╬══╬═\n",
       "                                                    ║  ║  ║  ║ \n",
       " cr_1: 0 ═══════════════════════════════════════════╩══╬══╬══╬═\n",
       "                                                       ║  ║  ║ \n",
       " cr_2: 0 ══════════════════════════════════════════════╩══╬══╬═\n",
       "                                                          ║  ║ \n",
       " cr_3: 0 ═════════════════════════════════════════════════╩══╬═\n",
       "                                                             ║ \n",
       " cr_4: 0 ════════════════════════════════════════════════════╩═\n",
       "                                                               </pre>"
      ],
      "text/plain": [
       "<qiskit.visualization.text.TextDrawing at 0x1a1b289b00>"
      ]
     },
     "execution_count": 12,
     "metadata": {},
     "output_type": "execute_result"
    }
   ],
   "source": [
    "trans_ghz_mapped.draw()"
   ]
  },
  {
   "cell_type": "code",
   "execution_count": 13,
   "metadata": {
    "ExecuteTime": {
     "end_time": "2019-05-03T22:41:34.479634Z",
     "start_time": "2019-05-03T22:41:34.475920Z"
    }
   },
   "outputs": [
    {
     "data": {
      "text/plain": [
       "5"
      ]
     },
     "execution_count": 13,
     "metadata": {},
     "output_type": "execute_result"
    }
   ],
   "source": [
    "trans_ghz_mapped.depth()"
   ]
  },
  {
   "cell_type": "markdown",
   "metadata": {},
   "source": [
    "As we have verified, the returned circuit does exactly match the topology with the given layout."
   ]
  },
  {
   "cell_type": "markdown",
   "metadata": {},
   "source": [
    "## Running on the device"
   ]
  },
  {
   "cell_type": "markdown",
   "metadata": {},
   "source": [
    "Let's now compare the performance of the circuits transpiled with the default and hand-selected layouts by running them on the device:"
   ]
  },
  {
   "cell_type": "code",
   "execution_count": 14,
   "metadata": {
    "ExecuteTime": {
     "end_time": "2019-05-03T22:44:51.548131Z",
     "start_time": "2019-05-03T22:41:34.481388Z"
    }
   },
   "outputs": [
    {
     "name": "stdout",
     "output_type": "stream",
     "text": [
      "Job Status: job has successfully run\n"
     ]
    }
   ],
   "source": [
    "job = execute([trans_ghz, trans_ghz_mapped], device)\n",
    "job_monitor(job)\n",
    "res = job.result()"
   ]
  },
  {
   "cell_type": "code",
   "execution_count": 15,
   "metadata": {
    "ExecuteTime": {
     "end_time": "2019-05-03T22:44:52.053128Z",
     "start_time": "2019-05-03T22:44:51.549803Z"
    }
   },
   "outputs": [
    {
     "data": {
      "image/png": "[encoded data removed]",
      "text/plain": [
       "<Figure size 1080x360 with 1 Axes>"
      ]
     },
     "execution_count": 15,
     "metadata": {},
     "output_type": "execute_result"
    }
   ],
   "source": [
    "plot_histogram([res.get_counts(0), res.get_counts(1)],\n",
    "               figsize=(15,5),\n",
    "              legend=['default', 'mapped'])"
   ]
  },
  {
   "cell_type": "markdown",
   "metadata": {},
   "source": [
    "It is clear that the circuits we mapped to the ideal sub-graph of the device (red) give an answer that is much closer to the ideal distribution than those mapped in the default way."
   ]
  },
  {
   "cell_type": "code",
   "execution_count": null,
   "metadata": {},
   "outputs": [],
   "source": []
  }
 ],
 "metadata": {
  "kernelspec": {
   "display_name": "Python 3",
   "language": "python",
   "name": "python3"
  },
  "language_info": {
   "codemirror_mode": {
    "name": "ipython",
    "version": 3
   },
   "file_extension": ".py",
   "mimetype": "text/x-python",
   "name": "python",
   "nbconvert_exporter": "python",
   "pygments_lexer": "ipython3",
   "version": "3.7.3"
  },
  "widgets": {
   "application/vnd.jupyter.widget-state+json": {
    "state": {
     "013a3d8ba415447d9d2bc532754e5a77": {
      "model_module": "@jupyter-widgets/output",
      "model_module_version": "1.0.0",
      "model_name": "OutputModel",
      "state": {
       "layout": "IPY_MODEL_7b4914fb10ec493dbb6c9130587dced1",
       "outputs": [
        {
         "data": {
          "image/png": "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\n",
          "text/plain": "<Figure size 360x360 with 1 Axes>"
         },
         "metadata": {},
         "output_type": "display_data"
        }
       ]
      }
     },
     "02c17d26a723485dad19398b34ba29eb": {
      "model_module": "@jupyter-widgets/base",
      "model_module_version": "1.1.0",
      "model_name": "LayoutModel",
      "state": {}
     },
     "03d0819f8b2549e181ccc109a08bebce": {
      "model_module": "@jupyter-widgets/base",
      "model_module_version": "1.1.0",
      "model_name": "LayoutModel",
      "state": {
       "align_items": "center",
       "display": "flex-inline",
       "grid_area": "right",
       "max_height": "300px",
       "padding": "10px 10px 10px 10px",
       "width": "auto"
      }
     },
     "03dcbcbb3e4a41bc8050d8d7ad5d1a60": {
      "model_module": "@jupyter-widgets/controls",
      "model_module_version": "1.4.0",
      "model_name": "VBoxModel",
      "state": {
       "children": [
        "IPY_MODEL_1ef7a78bd9e14ce7887601b79bdf8035",
        "IPY_MODEL_cbc0f92a47344cb4879e71e055127c87"
       ],
       "layout": "IPY_MODEL_4df6beefcf314eda95aec1b77e218b08"
      }
     },
     "056518d181854155b4faa5c88f0ba6a1": {
      "model_module": "@jupyter-widgets/controls",
      "model_module_version": "1.4.0",
      "model_name": "GridBoxModel",
      "state": {
       "children": [
        "IPY_MODEL_848a91bce80741d7892355fb5123c806",
        "IPY_MODEL_edc9376dd14d4c8cbff3dd28373753ac",
        "IPY_MODEL_d8adb9c0a55e411f80d261ae0cec2e28"
       ],
       "layout": "IPY_MODEL_0fef866295774933a1dcf381fc014d67"
      }
     },
     "063672b7c2964f59a71531c77686500f": {
      "model_module": "@jupyter-widgets/base",
      "model_module_version": "1.1.0",
      "model_name": "LayoutModel",
      "state": {
       "grid_area": "right"
      }
     },
     "0a740d17b76246baab47eac4edfb567d": {
      "model_module": "@jupyter-widgets/controls",
      "model_module_version": "1.4.0",
      "model_name": "HTMLModel",
      "state": {
       "layout": "IPY_MODEL_6caaa6c6533e40d99eaa04790e436123",
       "style": "IPY_MODEL_92d341f276494df68b36600e2867c7f0",
       "value": "<table><style>\ntable {\n    border-collapse: collapse;\n    width: auto;\n}\n\nth, td {\n    text-align: left;\n    padding: 8px;\n}\n\ntr:nth-child(even) {background-color: #f6f6f6;};\n</style><tr><th></th><th>Type</th><th>Gate error</th></tr><tr><td><font style='font-weight:bold'>CX5_6</font></td><td>cx</td><td>0.09534</td></tr><tr><td><font style='font-weight:bold'>CX5_9</font></td><td>cx</td><td>0.05213</td></tr><tr><td><font style='font-weight:bold'>CX6_8</font></td><td>cx</td><td>0.03391</td></tr><tr><td><font style='font-weight:bold'>CX7_8</font></td><td>cx</td><td>0.02883</td></tr><tr><td><font style='font-weight:bold'>CX9_8</font></td><td>cx</td><td>0.05521</td></tr><tr><td><font style='font-weight:bold'>CX9_10</font></td><td>cx</td><td>0.03347</td></tr></table>"
      }
     },
     "0d0ec3f5fc3d49e2a15eeeb35d189699": {
      "model_module": "@jupyter-widgets/base",
      "model_module_version": "1.1.0",
      "model_name": "LayoutModel",
      "state": {
       "max_height": "620px"
      }
     },
     "0e02e93462a04f08a80de549aaa83cd7": {
      "model_module": "@jupyter-widgets/controls",
      "model_module_version": "1.4.0",
      "model_name": "VBoxModel",
      "state": {
       "children": [
        "IPY_MODEL_d1111f2c770c43fdad088e18f321a2b3",
        "IPY_MODEL_16c23775e2d546a686ebfd50e6130ff6"
       ],
       "layout": "IPY_MODEL_3c7cd18c63d3433f92514b7f0d7665e5"
      }
     },
     "0fef866295774933a1dcf381fc014d67": {
      "model_module": "@jupyter-widgets/base",
      "model_module_version": "1.1.0",
      "model_name": "LayoutModel",
      "state": {
       "grid_gap": "0px 0px",
       "grid_template_areas": "\n                                                \"top top top\"\n                                                \"left . right\"\n                                                ",
       "grid_template_columns": "33% 33% 33%",
       "grid_template_rows": "auto auto"
      }
     },
     "129c26c3bddd40969fa451f7ecf7289b": {
      "model_module": "@jupyter-widgets/controls",
      "model_module_version": "1.4.0",
      "model_name": "DescriptionStyleModel",
      "state": {
       "description_width": ""
      }
     },
     "16c23775e2d546a686ebfd50e6130ff6": {
      "model_module": "@jupyter-widgets/controls",
      "model_module_version": "1.4.0",
      "model_name": "TabModel",
      "state": {
       "_titles": {
        "0": "Configuration",
        "1": "Qubit Properties",
        "2": "Multi-Qubit Gates",
        "3": "Error Map",
        "4": "Job History"
       },
       "children": [
        "IPY_MODEL_a525574c350f47ffbcdb411c9e751c3c",
        "IPY_MODEL_a4f65eba33b54864bae3e8c2d6bacb53",
        "IPY_MODEL_dfffca96fbbb43b0b0c263b1006d9aca",
        "IPY_MODEL_bd23fe66a7e743cca084ec870c9d049c",
        "IPY_MODEL_62cdfdf7217e4f6190f584a4d74f91de"
       ],
       "layout": "IPY_MODEL_ae02c7e7e1a241c2b1afb8ab8d81f991"
      }
     },
     "18cdfd1683e041ab9c1263580dce2c28": {
      "model_module": "@jupyter-widgets/controls",
      "model_module_version": "1.4.0",
      "model_name": "HTMLModel",
      "state": {
       "layout": "IPY_MODEL_1a8f28209f41487899eb6ccf9ec25ece",
       "style": "IPY_MODEL_129c26c3bddd40969fa451f7ecf7289b",
       "value": "<table><style>\ntable {\n    border-collapse: collapse;\n    width: auto;\n}\n\nth, td {\n    text-align: left;\n    padding: 8px;\n}\n\ntr:nth-child(even) {background-color: #f6f6f6;}\n</style><tr><th>Property</th><th>Value</th></tr><tr><td><font style='font-weight:bold'>n_qubits</font></td><td>14</td></tr><tr><td><font style='font-weight:bold'>operational</font></td><td>True</td></tr><tr><td><font style='font-weight:bold'>status_msg</font></td><td>active</td></tr><tr><td><font style='font-weight:bold'>pending_jobs</font></td><td>2</td></tr><tr><td><font style='font-weight:bold'>basis_gates</font></td><td>['u1', 'u2', 'u3', 'cx', 'id']</td></tr><tr><td><font style='font-weight:bold'>local</font></td><td>False</td></tr><tr><td><font style='font-weight:bold'>simulator</font></td><td>False</td></tr></table>"
      }
     },
     "18d82e4c63894b55a3e1da0cb80ce023": {
      "model_module": "@jupyter-widgets/base",
      "model_module_version": "1.1.0",
      "model_name": "LayoutModel",
      "state": {
       "align_items": "center",
       "display": "flex-inline",
       "grid_area": "left"
      }
     },
     "19eb6dab626748d9920f6f8df8cb9452": {
      "model_module": "@jupyter-widgets/output",
      "model_module_version": "1.0.0",
      "model_name": "OutputModel",
      "state": {
       "layout": "IPY_MODEL_9c715c4ae30a4be2b56a2f049f17c0b4"
      }
     },
     "1a8f28209f41487899eb6ccf9ec25ece": {
      "model_module": "@jupyter-widgets/base",
      "model_module_version": "1.1.0",
      "model_name": "LayoutModel",
      "state": {
       "grid_area": "left",
       "width": "100%"
      }
     },
     "1b248fc9d03c455aaae9e914ae9e36c1": {
      "model_module": "@jupyter-widgets/controls",
      "model_module_version": "1.4.0",
      "model_name": "GridBoxModel",
      "state": {
       "children": [
        "IPY_MODEL_72f92d4538e542cdac7fefabd0693bbd",
        "IPY_MODEL_d3e7342e38764564a138f15dc448bcd5",
        "IPY_MODEL_f703a325a19247a5b6212769457f15a0",
        "IPY_MODEL_2daddba1eaac45959efff725394d5450"
       ],
       "layout": "IPY_MODEL_6e69a4a5b72148a990980023253afd11"
      }
     },
     "1b732c799fde491bb9f4fcaada790fb9": {
      "model_module": "@jupyter-widgets/controls",
      "model_module_version": "1.4.0",
      "model_name": "HTMLModel",
      "state": {
       "layout": "IPY_MODEL_e30571d523d14176a4aa413917b0cea3",
       "style": "IPY_MODEL_2a6ddb78cdaf4d7ea1ad8585b6d9af96",
       "value": "<table><style>\ntable {\n    border-collapse: collapse;\n    width: auto;\n}\n\nth, td {\n    text-align: left;\n    padding: 8px;\n}\n\ntr:nth-child(even) {background-color: #f6f6f6;};\n</style><tr><th></th><th>Type</th><th>Gate error</th></tr><tr><td><font style='font-weight:bold'>CX1_0</font></td><td>cx</td><td>0.03717</td></tr><tr><td><font style='font-weight:bold'>CX1_2</font></td><td>cx</td><td>0.03059</td></tr><tr><td><font style='font-weight:bold'>CX2_3</font></td><td>cx</td><td>0.04977</td></tr><tr><td><font style='font-weight:bold'>CX4_3</font></td><td>cx</td><td>0.05414</td></tr><tr><td><font style='font-weight:bold'>CX4_10</font></td><td>cx</td><td>0.02477</td></tr><tr><td><font style='font-weight:bold'>CX5_4</font></td><td>cx</td><td>0.04962</td></tr></table>"
      }
     },
     "1b7ba00f5664403d87aa29a02e02045c": {
      "model_module": "@jupyter-widgets/base",
      "model_module_version": "1.1.0",
      "model_name": "LayoutModel",
      "state": {
       "grid_area": "bottom",
       "width": "auto"
      }
     },
     "1c7ea81008ee4f519d9fd641ed612826": {
      "model_module": "@jupyter-widgets/controls",
      "model_module_version": "1.4.0",
      "model_name": "DescriptionStyleModel",
      "state": {
       "description_width": ""
      }
     },
     "1e8f848153c04afe9a065edd46b1c7a6": {
      "model_module": "@jupyter-widgets/base",
      "model_module_version": "1.1.0",
      "model_name": "LayoutModel",
      "state": {
       "grid_area": "left",
       "width": "100%"
      }
     },
     "1ef7a78bd9e14ce7887601b79bdf8035": {
      "model_module": "@jupyter-widgets/controls",
      "model_module_version": "1.4.0",
      "model_name": "HTMLModel",
      "state": {
       "layout": "IPY_MODEL_39b70efda80c4ea2901cadb8be117414",
       "style": "IPY_MODEL_72053bbe336b4c49a916c2c9d80a0f6e",
       "value": "<h1 style='color:#ffffff;background-color:#000000;padding-top: 1%;padding-bottom: 1%;padding-left: 1%; margin-top: 0px'>ibmq_16_melbourne</h1>"
      }
     },
     "20b0a94015b641de9c8c1b7aad4ccc38": {
      "model_module": "@jupyter-widgets/base",
      "model_module_version": "1.1.0",
      "model_name": "LayoutModel",
      "state": {}
     },
     "243fc34a36404a588f6fa461d19adcb0": {
      "model_module": "@jupyter-widgets/base",
      "model_module_version": "1.1.0",
      "model_name": "LayoutModel",
      "state": {
       "grid_area": "top"
      }
     },
     "2a6ddb78cdaf4d7ea1ad8585b6d9af96": {
      "model_module": "@jupyter-widgets/controls",
      "model_module_version": "1.4.0",
      "model_name": "DescriptionStyleModel",
      "state": {
       "description_width": ""
      }
     },
     "2b67ff5528ed4daf971d24516ad0c487": {
      "model_module": "@jupyter-widgets/base",
      "model_module_version": "1.1.0",
      "model_name": "LayoutModel",
      "state": {
       "grid_area": "middle"
      }
     },
     "2c6b0af4c0bd4785b4e01faccbcfccd5": {
      "model_module": "@jupyter-widgets/controls",
      "model_module_version": "1.4.0",
      "model_name": "DescriptionStyleModel",
      "state": {
       "description_width": ""
      }
     },
     "2daddba1eaac45959efff725394d5450": {
      "model_module": "@jupyter-widgets/controls",
      "model_module_version": "1.4.0",
      "model_name": "HTMLModel",
      "state": {
       "layout": "IPY_MODEL_5fe7d192c7614ca59f46e5a1bf0a0abe",
       "style": "IPY_MODEL_b3a81737f27a407e95c08377d5a403d7",
       "value": "<table><style>\ntable {\n    border-collapse: collapse;\n    width: auto;\n}\n\nth, td {\n    text-align: left;\n    padding: 8px;\n}\n\ntr:nth-child(even) {background-color: #f6f6f6;};\n</style><tr><th></th><th>Type</th><th>Gate error</th></tr><tr><td><font style='font-weight:bold'>CX11_3</font></td><td>cx</td><td>0.04415</td></tr><tr><td><font style='font-weight:bold'>CX11_10</font></td><td>cx</td><td>0.08279</td></tr><tr><td><font style='font-weight:bold'>CX11_12</font></td><td>cx</td><td>0.04101</td></tr><tr><td><font style='font-weight:bold'>CX12_2</font></td><td>cx</td><td>0.07346</td></tr><tr><td><font style='font-weight:bold'>CX13_1</font></td><td>cx</td><td>0.13844</td></tr><tr><td><font style='font-weight:bold'>CX13_12</font></td><td>cx</td><td>0.04083</td></tr></table>"
      }
     },
     "2dff18d8bf5440a0b0973fb24202708b": {
      "model_module": "@jupyter-widgets/base",
      "model_module_version": "1.1.0",
      "model_name": "LayoutModel",
      "state": {
       "grid_gap": "0px 0px",
       "grid_template_areas": "\n                               \"left right right right\"\n                               \"bottom bottom bottom bottom\"\n                               ",
       "grid_template_columns": "25% 25% 25% 25%",
       "grid_template_rows": "auto auto"
      }
     },
     "313134a190484072bbe0ee5a6c346c7d": {
      "model_module": "@jupyter-widgets/base",
      "model_module_version": "1.1.0",
      "model_name": "LayoutModel",
      "state": {
       "align_items": "center",
       "display": "flex-inline",
       "grid_area": "right"
      }
     },
     "3359352497d04ea58a0b4ec390231e58": {
      "model_module": "@jupyter-widgets/output",
      "model_module_version": "1.0.0",
      "model_name": "OutputModel",
      "state": {
       "layout": "IPY_MODEL_770216127d7b4334b14e3e510f7c8721",
       "outputs": [
        {
         "data": {
          "image/png": "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\n",
          "text/plain": "<Figure size 360x360 with 1 Axes>"
         },
         "metadata": {},
         "output_type": "display_data"
        }
       ]
      }
     },
     "34d8032b563e4ec8b59871ef619afa90": {
      "model_module": "@jupyter-widgets/base",
      "model_module_version": "1.1.0",
      "model_name": "LayoutModel",
      "state": {
       "max_height": "620px"
      }
     },
     "353f58d76fac4163ae1673283b1aad8d": {
      "model_module": "@jupyter-widgets/controls",
      "model_module_version": "1.4.0",
      "model_name": "HTMLModel",
      "state": {
       "layout": "IPY_MODEL_670f9b02cd4142e29284cf51e82f056b",
       "style": "IPY_MODEL_805044661c684a778ed3bb94f94a92b0",
       "value": "<table><style>\ntable {\n    border-collapse: collapse;\n    width: auto;\n}\n\nth, td {\n    text-align: left;\n    padding: 8px;\n}\n\ntr:nth-child(even) {background-color: #f6f6f6;}\n</style><tr><th></th><th></th></tr><tr><td>max_experiments</td><td>75</td></tr><tr><td>conditional</td><td>False</td></tr><tr><td>coupling_map</td><td>[[1, 0], [1, 2], [2, 3], [4, 3], [4, 10], [5, 4], [5, 6], [5, 9], [6, 8], [7, 8], [9, 8], [9, 10], [11, 3], [11, 10], [11, 12], [12, 2], [13, 1], [13, 12]]</td></tr><tr><td>online_date</td><td>2018-11-06T05:00:00+00:00</td></tr><tr><td>open_pulse</td><td>False</td></tr><tr><td>description</td><td>14 qubit device</td></tr><tr><td>memory</td><td>False</td></tr><tr><td>url</td><td>None</td></tr><tr><td>allow_q_object</td><td>True</td></tr><tr><td>sample_name</td><td>albatross</td></tr><tr><td>n_registers</td><td>1</td></tr><tr><td>backend_name</td><td>ibmq_16_melbourne</td></tr><tr><td>max_shots</td><td>8192</td></tr><tr><td>credits_required</td><td>True</td></tr><tr><td>backend_version</td><td>1.0.0</td></tr></table>"
      }
     },
     "356bce1b9d644554b63d61e40fe1c309": {
      "model_module": "@jupyter-widgets/base",
      "model_module_version": "1.1.0",
      "model_name": "LayoutModel",
      "state": {
       "grid_gap": "0px 0px",
       "grid_template_areas": "\n                                                \"top top top\"\n                                                \"left . right\"\n                                                ",
       "grid_template_columns": "33% 33% 33%",
       "grid_template_rows": "auto auto"
      }
     },
     "39b70efda80c4ea2901cadb8be117414": {
      "model_module": "@jupyter-widgets/base",
      "model_module_version": "1.1.0",
      "model_name": "LayoutModel",
      "state": {
       "margin": "0px 0px 0px 0px"
      }
     },
     "3b9e0edcd2794fb2a743237a06ccccf4": {
      "model_module": "@jupyter-widgets/controls",
      "model_module_version": "1.4.0",
      "model_name": "HTMLModel",
      "state": {
       "layout": "IPY_MODEL_063672b7c2964f59a71531c77686500f",
       "style": "IPY_MODEL_b7856d8f021d487ab593186bce8cf9e9",
       "value": "<table><style>\ntable {\n    border-collapse: collapse;\n    width: auto;\n}\n\nth, td {\n    text-align: left;\n    padding: 8px;\n}\n\ntr:nth-child(even) {background-color: #f6f6f6;};\n</style><tr><th></th><th>Type</th><th>Gate error</th></tr><tr><td><font style='font-weight:bold'>CX11_3</font></td><td>cx</td><td>0.04415</td></tr><tr><td><font style='font-weight:bold'>CX11_10</font></td><td>cx</td><td>0.08279</td></tr><tr><td><font style='font-weight:bold'>CX11_12</font></td><td>cx</td><td>0.04101</td></tr><tr><td><font style='font-weight:bold'>CX12_2</font></td><td>cx</td><td>0.07346</td></tr><tr><td><font style='font-weight:bold'>CX13_1</font></td><td>cx</td><td>0.13844</td></tr><tr><td><font style='font-weight:bold'>CX13_12</font></td><td>cx</td><td>0.04083</td></tr></table>"
      }
     },
     "3c7cd18c63d3433f92514b7f0d7665e5": {
      "model_module": "@jupyter-widgets/base",
      "model_module_version": "1.1.0",
      "model_name": "LayoutModel",
      "state": {
       "border": "4px solid #000000",
       "max_height": "650px",
       "min_height": "650px",
       "overflow_y": "hidden"
      }
     },
     "3d6fae380c2b4b3fbde789a2c6313c0b": {
      "model_module": "@jupyter-widgets/base",
      "model_module_version": "1.1.0",
      "model_name": "LayoutModel",
      "state": {
       "margin": "0px 0px 0px 0px"
      }
     },
     "3e1508a25dbb4b298b767747cf7f4588": {
      "model_module": "@jupyter-widgets/output",
      "model_module_version": "1.0.0",
      "model_name": "OutputModel",
      "state": {
       "layout": "IPY_MODEL_03d0819f8b2549e181ccc109a08bebce",
       "outputs": [
        {
         "data": {
          "image/png": "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\n",
          "text/plain": "<Figure size 648x216 with 1 Axes>"
         },
         "metadata": {},
         "output_type": "display_data"
        }
       ]
      }
     },
     "3e9b01a90fa04088bda5cefd13233400": {
      "model_module": "@jupyter-widgets/base",
      "model_module_version": "1.1.0",
      "model_name": "LayoutModel",
      "state": {
       "grid_gap": "0px 0px",
       "grid_template_areas": "\n                               \"left right right right\"\n                               \"bottom bottom bottom bottom\"\n                               ",
       "grid_template_columns": "25% 25% 25% 25%",
       "grid_template_rows": "auto auto"
      }
     },
     "44f44f3153ec442583bc5eb5fed302e2": {
      "model_module": "@jupyter-widgets/base",
      "model_module_version": "1.1.0",
      "model_name": "LayoutModel",
      "state": {
       "grid_area": "top"
      }
     },
     "47905b7fb9394784ab1bd3dc93d9e2e8": {
      "model_module": "@jupyter-widgets/base",
      "model_module_version": "1.1.0",
      "model_name": "LayoutModel",
      "state": {
       "align_items": "center",
       "display": "flex-inline",
       "min_height": "400px"
      }
     },
     "49080d415c654380a69838cfbc7abe90": {
      "model_module": "@jupyter-widgets/controls",
      "model_module_version": "1.4.0",
      "model_name": "HTMLModel",
      "state": {
       "layout": "IPY_MODEL_6dfd2bc57e684300953b5ed43941c260",
       "style": "IPY_MODEL_fb9ca074d0764cc8ab6343fb5a8aa538",
       "value": "<table><style>\ntable {\n    border-collapse: collapse;\n    width: auto;\n}\n\nth, td {\n    text-align: left;\n    padding: 8px;\n}\n\ntr:nth-child(even) {background-color: #f6f6f6;};\n</style><tr><th></th><th>Type</th><th>Gate error</th></tr><tr><td><font style='font-weight:bold'>CX5_6</font></td><td>cx</td><td>0.09534</td></tr><tr><td><font style='font-weight:bold'>CX5_9</font></td><td>cx</td><td>0.05213</td></tr><tr><td><font style='font-weight:bold'>CX6_8</font></td><td>cx</td><td>0.03391</td></tr><tr><td><font style='font-weight:bold'>CX7_8</font></td><td>cx</td><td>0.02883</td></tr><tr><td><font style='font-weight:bold'>CX9_8</font></td><td>cx</td><td>0.05521</td></tr><tr><td><font style='font-weight:bold'>CX9_10</font></td><td>cx</td><td>0.03347</td></tr></table>"
      }
     },
     "4b5294ea8c984b9db6d610dc8a15d86e": {
      "model_module": "@jupyter-widgets/base",
      "model_module_version": "1.1.0",
      "model_name": "LayoutModel",
      "state": {}
     },
     "4df6beefcf314eda95aec1b77e218b08": {
      "model_module": "@jupyter-widgets/base",
      "model_module_version": "1.1.0",
      "model_name": "LayoutModel",
      "state": {
       "border": "4px solid #000000",
       "max_height": "650px",
       "min_height": "650px",
       "overflow_y": "hidden"
      }
     },
     "4ef5142b7c804149ae486885f0473a61": {
      "model_module": "@jupyter-widgets/base",
      "model_module_version": "1.1.0",
      "model_name": "LayoutModel",
      "state": {
       "grid_area": "right"
      }
     },
     "51931b6d14d84a63818940d5c1381b09": {
      "model_module": "@jupyter-widgets/controls",
      "model_module_version": "1.4.0",
      "model_name": "HTMLModel",
      "state": {
       "layout": "IPY_MODEL_20b0a94015b641de9c8c1b7aad4ccc38",
       "style": "IPY_MODEL_5796b1fa1ee64965adeb49983ba0f3a3",
       "value": "<table><style>\ntable {\n    border-collapse: collapse;\n    width: auto;\n}\n\nth, td {\n    text-align: left;\n    padding: 8px;\n}\n\ntr:nth-child(even) {background-color: #f6f6f6;}\n</style><tr><th></th><th>Frequency</th><th>T1</th><th>T2</th><th>U1 gate error</th><th>U2 gate error</th><th>U3 gate error</th><th>Readout error</th></tr><tr><td><font style='font-weight:bold'>Q0</font></td><td>5.10015 GHz</td><td>56.24974 µs</td><td>23.69577 µs</td><td>0.0</td><td>0.00199</td><td>0.00397</td><td>0.0261</td></tr><tr><td><font style='font-weight:bold'>Q1</font></td><td>5.23854 GHz</td><td>44.08171 µs</td><td>87.18955 µs</td><td>0.0</td><td>0.00418</td><td>0.00835</td><td>0.1028</td></tr><tr><td><font style='font-weight:bold'>Q2</font></td><td>5.03292 GHz</td><td>52.69198 µs</td><td>91.76713 µs</td><td>0.0</td><td>0.00325</td><td>0.0065</td><td>0.1368</td></tr><tr><td><font style='font-weight:bold'>Q3</font></td><td>4.89618 GHz</td><td>67.42388 µs</td><td>50.46963 µs</td><td>0.0</td><td>0.00178</td><td>0.00357</td><td>0.238</td></tr><tr><td><font style='font-weight:bold'>Q4</font></td><td>5.02642 GHz</td><td>47.73903 µs</td><td>36.65444 µs</td><td>0.0</td><td>0.00211</td><td>0.00422</td><td>0.0354</td></tr><tr><td><font style='font-weight:bold'>Q5</font></td><td>5.06731 GHz</td><td>19.79245 µs</td><td>43.31423 µs</td><td>0.0</td><td>0.00213</td><td>0.00425</td><td>0.0586</td></tr><tr><td><font style='font-weight:bold'>Q6</font></td><td>4.92386 GHz</td><td>93.36297 µs</td><td>77.77157 µs</td><td>0.0</td><td>0.00142</td><td>0.00283</td><td>0.0898</td></tr><tr><td><font style='font-weight:bold'>Q7</font></td><td>4.97448 GHz</td><td>48.30499 µs</td><td>79.23358 µs</td><td>0.0</td><td>0.00136</td><td>0.00272</td><td>0.1094</td></tr><tr><td><font style='font-weight:bold'>Q8</font></td><td>4.73779 GHz</td><td>107.44717 µs</td><td>194.01785 µs</td><td>0.0</td><td>0.00201</td><td>0.00403</td><td>0.0426</td></tr><tr><td><font style='font-weight:bold'>Q9</font></td><td>4.96345 GHz</td><td>44.85636 µs</td><td>71.37719 µs</td><td>0.0</td><td>0.00262</td><td>0.00524</td><td>0.0274</td></tr><tr><td><font style='font-weight:bold'>Q10</font></td><td>4.94505 GHz</td><td>63.76402 µs</td><td>64.38724 µs</td><td>0.0</td><td>0.00151</td><td>0.00302</td><td>0.0362</td></tr><tr><td><font style='font-weight:bold'>Q11</font></td><td>5.00511 GHz</td><td>60.56337 µs</td><td>115.60746 µs</td><td>0.0</td><td>0.00165</td><td>0.00329</td><td>0.3825</td></tr><tr><td><font style='font-weight:bold'>Q12</font></td><td>4.76007 GHz</td><td>99.11596 µs</td><td>149.74811 µs</td><td>0.0</td><td>0.00376</td><td>0.00753</td><td>0.09</td></tr><tr><td><font style='font-weight:bold'>Q13</font></td><td>4.96846 GHz</td><td>25.41549 µs</td><td>43.41407 µs</td><td>0.0</td><td>0.00539</td><td>0.01078</td><td>0.0437</td></tr></table>"
      }
     },
     "52c44b0f3c0346ceba4c085166663a57": {
      "model_module": "@jupyter-widgets/controls",
      "model_module_version": "1.4.0",
      "model_name": "DescriptionStyleModel",
      "state": {
       "description_width": ""
      }
     },
     "540afeb6e74d436b8544f36b0b4b737b": {
      "model_module": "@jupyter-widgets/base",
      "model_module_version": "1.1.0",
      "model_name": "LayoutModel",
      "state": {
       "overflow_y": "scroll"
      }
     },
     "54bcc575f12146b7905c48b921d6aef0": {
      "model_module": "@jupyter-widgets/output",
      "model_module_version": "1.0.0",
      "model_name": "OutputModel",
      "state": {
       "layout": "IPY_MODEL_a7869033ee74420cba4e9efbdb7c14e9",
       "outputs": [
        {
         "data": {
          "image/png": "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\n",
          "text/plain": "<Figure size 810x270 with 1 Axes>"
         },
         "metadata": {},
         "output_type": "display_data"
        }
       ]
      }
     },
     "54eee62129b5498090c4487cee6cdd68": {
      "model_module": "@jupyter-widgets/controls",
      "model_module_version": "1.4.0",
      "model_name": "GridBoxModel",
      "state": {
       "children": [
        "IPY_MODEL_a767d64a42c94a36945e680fb84ab647",
        "IPY_MODEL_dbc50e8d1c0c4b3d93a9215e1475803e",
        "IPY_MODEL_c4d17f5557564105bb79dc42fe08b7fa"
       ],
       "layout": "IPY_MODEL_b1ec3808130a44efa5eafcb9f9fe3608"
      }
     },
     "5796b1fa1ee64965adeb49983ba0f3a3": {
      "model_module": "@jupyter-widgets/controls",
      "model_module_version": "1.4.0",
      "model_name": "DescriptionStyleModel",
      "state": {
       "description_width": ""
      }
     },
     "59e3b5e3feea4db383e9d48ad4027ea4": {
      "model_module": "@jupyter-widgets/controls",
      "model_module_version": "1.4.0",
      "model_name": "DescriptionStyleModel",
      "state": {
       "description_width": ""
      }
     },
     "5ad87750461d4030811578ca663c5d1d": {
      "model_module": "@jupyter-widgets/controls",
      "model_module_version": "1.4.0",
      "model_name": "HTMLModel",
      "state": {
       "layout": "IPY_MODEL_eb842f114e08454ba7067b1090542855",
       "style": "IPY_MODEL_abac39a1beab4312b2a0e16113af7b35",
       "value": "<div><font style='font-weight:bold'>last_update_date</font>: 2019-05-02T08:22:12+00:00</div>"
      }
     },
     "5b3ff660a01b4f53a98aa6f70b0ed11f": {
      "model_module": "@jupyter-widgets/controls",
      "model_module_version": "1.4.0",
      "model_name": "GridBoxModel",
      "state": {
       "children": [
        "IPY_MODEL_9d57a58fe5db4200bdec903d34e1ed37",
        "IPY_MODEL_1b732c799fde491bb9f4fcaada790fb9",
        "IPY_MODEL_49080d415c654380a69838cfbc7abe90",
        "IPY_MODEL_e49bbf70708e4d76887cb3402c73c200"
       ],
       "layout": "IPY_MODEL_a2f4765b93f540e6b7bdb0de82374a79"
      }
     },
     "5fe7d192c7614ca59f46e5a1bf0a0abe": {
      "model_module": "@jupyter-widgets/base",
      "model_module_version": "1.1.0",
      "model_name": "LayoutModel",
      "state": {
       "grid_area": "right"
      }
     },
     "5feba26e53a8492fb4ec1609d5e5353f": {
      "model_module": "@jupyter-widgets/base",
      "model_module_version": "1.1.0",
      "model_name": "LayoutModel",
      "state": {
       "align_items": "center",
       "display": "flex-inline",
       "grid_area": "left"
      }
     },
     "604eded4971e4939b299e6d43c239db7": {
      "model_module": "@jupyter-widgets/output",
      "model_module_version": "1.0.0",
      "model_name": "OutputModel",
      "state": {
       "layout": "IPY_MODEL_912a2f76ed274515bde2dc96f8eaa25f",
       "outputs": [
        {
         "data": {
          "image/png": "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\n",
          "text/plain": "<Figure size 360x360 with 1 Axes>"
         },
         "metadata": {},
         "output_type": "display_data"
        }
       ]
      }
     },
     "611b4b221d124e28ac906626b26b0ba7": {
      "model_module": "@jupyter-widgets/controls",
      "model_module_version": "1.4.0",
      "model_name": "TabModel",
      "state": {
       "_titles": {
        "0": "Year",
        "1": "Month",
        "2": "Week"
       },
       "children": [
        "IPY_MODEL_a9e35172b6fc44a980b642686628d022",
        "IPY_MODEL_7ab4e3628ccd49b89fbc6616c099dd6b",
        "IPY_MODEL_19eb6dab626748d9920f6f8df8cb9452"
       ],
       "layout": "IPY_MODEL_f440417fb55d480f94b0e0c5840ed13a",
       "selected_index": 1
      }
     },
     "61d265f60b7f4e54a0b740b6ba4241d6": {
      "model_module": "@jupyter-widgets/controls",
      "model_module_version": "1.4.0",
      "model_name": "TabModel",
      "state": {
       "_titles": {
        "0": "Year",
        "1": "Month",
        "2": "Week"
       },
       "children": [
        "IPY_MODEL_edbde6bdf4bb402896c08e2bb7e94118",
        "IPY_MODEL_013a3d8ba415447d9d2bc532754e5a77",
        "IPY_MODEL_ae82d0ffb3b14139bc28f72b931f3fad"
       ],
       "layout": "IPY_MODEL_0d0ec3f5fc3d49e2a15eeeb35d189699",
       "selected_index": 1
      }
     },
     "62cdfdf7217e4f6190f584a4d74f91de": {
      "model_module": "@jupyter-widgets/controls",
      "model_module_version": "1.4.0",
      "model_name": "TabModel",
      "state": {
       "_titles": {
        "0": "Year",
        "1": "Month",
        "2": "Week"
       },
       "children": [
        "IPY_MODEL_604eded4971e4939b299e6d43c239db7",
        "IPY_MODEL_3359352497d04ea58a0b4ec390231e58",
        "IPY_MODEL_bf5c22630a864035a3dd6f71849194dc"
       ],
       "layout": "IPY_MODEL_34d8032b563e4ec8b59871ef619afa90",
       "selected_index": 1
      }
     },
     "65e6b76d791a496f8d2dc698011bc90d": {
      "model_module": "@jupyter-widgets/controls",
      "model_module_version": "1.4.0",
      "model_name": "HTMLModel",
      "state": {
       "layout": "IPY_MODEL_1b7ba00f5664403d87aa29a02e02045c",
       "style": "IPY_MODEL_915ed5f19c854519adbe338ded4aa079",
       "value": "<table><style>\ntable {\n    border-collapse: collapse;\n    width: auto;\n}\n\nth, td {\n    text-align: left;\n    padding: 8px;\n}\n\ntr:nth-child(even) {background-color: #f6f6f6;}\n</style><tr><th></th><th></th></tr><tr><td>backend_version</td><td>1.0.0</td></tr><tr><td>credits_required</td><td>True</td></tr><tr><td>coupling_map</td><td>[[1, 0], [1, 2], [2, 3], [4, 3], [4, 10], [5, 4], [5, 6], [5, 9], [6, 8], [7, 8], [9, 8], [9, 10], [11, 3], [11, 10], [11, 12], [12, 2], [13, 1], [13, 12]]</td></tr><tr><td>online_date</td><td>2018-11-06T05:00:00+00:00</td></tr><tr><td>url</td><td>None</td></tr><tr><td>n_registers</td><td>1</td></tr><tr><td>sample_name</td><td>albatross</td></tr><tr><td>backend_name</td><td>ibmq_16_melbourne</td></tr><tr><td>memory</td><td>False</td></tr><tr><td>max_experiments</td><td>75</td></tr><tr><td>open_pulse</td><td>False</td></tr><tr><td>allow_q_object</td><td>True</td></tr><tr><td>conditional</td><td>False</td></tr><tr><td>description</td><td>14 qubit device</td></tr><tr><td>max_shots</td><td>8192</td></tr></table>"
      }
     },
     "670f9b02cd4142e29284cf51e82f056b": {
      "model_module": "@jupyter-widgets/base",
      "model_module_version": "1.1.0",
      "model_name": "LayoutModel",
      "state": {
       "grid_area": "bottom",
       "width": "auto"
      }
     },
     "67d839e11407463c80c338cfa8a3885f": {
      "model_module": "@jupyter-widgets/controls",
      "model_module_version": "1.4.0",
      "model_name": "DescriptionStyleModel",
      "state": {
       "description_width": ""
      }
     },
     "69661ffc100a46628afa0a1abae68b3f": {
      "model_module": "@jupyter-widgets/base",
      "model_module_version": "1.1.0",
      "model_name": "LayoutModel",
      "state": {
       "grid_gap": "0px 0px",
       "grid_template_areas": "\n                                                   \"top top top\"\n                                                   \"left middle right\"\n                                                   ",
       "grid_template_columns": "33% 33% 33%",
       "grid_template_rows": "auto auto"
      }
     },
     "6caaa6c6533e40d99eaa04790e436123": {
      "model_module": "@jupyter-widgets/base",
      "model_module_version": "1.1.0",
      "model_name": "LayoutModel",
      "state": {
       "grid_area": "middle"
      }
     },
     "6dfd2bc57e684300953b5ed43941c260": {
      "model_module": "@jupyter-widgets/base",
      "model_module_version": "1.1.0",
      "model_name": "LayoutModel",
      "state": {
       "grid_area": "middle"
      }
     },
     "6e69a4a5b72148a990980023253afd11": {
      "model_module": "@jupyter-widgets/base",
      "model_module_version": "1.1.0",
      "model_name": "LayoutModel",
      "state": {
       "grid_gap": "0px 0px",
       "grid_template_areas": "\n                                                   \"top top top\"\n                                                   \"left middle right\"\n                                                   ",
       "grid_template_columns": "33% 33% 33%",
       "grid_template_rows": "auto auto"
      }
     },
     "6fc0af8d71fb4815927289aa8537e7f6": {
      "model_module": "@jupyter-widgets/base",
      "model_module_version": "1.1.0",
      "model_name": "LayoutModel",
      "state": {
       "grid_area": "left",
       "width": "100%"
      }
     },
     "72053bbe336b4c49a916c2c9d80a0f6e": {
      "model_module": "@jupyter-widgets/controls",
      "model_module_version": "1.4.0",
      "model_name": "DescriptionStyleModel",
      "state": {
       "description_width": ""
      }
     },
     "72f92d4538e542cdac7fefabd0693bbd": {
      "model_module": "@jupyter-widgets/controls",
      "model_module_version": "1.4.0",
      "model_name": "HTMLModel",
      "state": {
       "layout": "IPY_MODEL_243fc34a36404a588f6fa461d19adcb0",
       "style": "IPY_MODEL_8dc884e5c8054cedb272fc8ed38c97a8",
       "value": "<div><font style='font-weight:bold'>last_update_date</font>: 2019-05-02T08:22:12+00:00</div>"
      }
     },
     "74f4c98c9bb7422e88251c3d24c9aaa3": {
      "model_module": "@jupyter-widgets/controls",
      "model_module_version": "1.4.0",
      "model_name": "DescriptionStyleModel",
      "state": {
       "description_width": ""
      }
     },
     "7684c0cf4f734d039b3882e1844c6d93": {
      "model_module": "@jupyter-widgets/controls",
      "model_module_version": "1.4.0",
      "model_name": "HTMLModel",
      "state": {
       "layout": "IPY_MODEL_8fecf3895f12414bb48d41ec35e5181a",
       "style": "IPY_MODEL_ab12c324ba6e453b9e9d2368322986cb",
       "value": "<div><font style='font-weight:bold'>last_update_date</font>: 2019-05-02T08:22:12+00:00</div>"
      }
     },
     "770216127d7b4334b14e3e510f7c8721": {
      "model_module": "@jupyter-widgets/base",
      "model_module_version": "1.1.0",
      "model_name": "LayoutModel",
      "state": {
       "align_items": "center",
       "display": "flex-inline",
       "min_height": "400px"
      }
     },
     "785d956f372946a7a43e69f4ab89ecbf": {
      "model_module": "@jupyter-widgets/base",
      "model_module_version": "1.1.0",
      "model_name": "LayoutModel",
      "state": {
       "align_items": "center",
       "display": "flex-inline",
       "min_height": "400px"
      }
     },
     "797e6de7c8464c0e808a6452a05d300c": {
      "model_module": "@jupyter-widgets/controls",
      "model_module_version": "1.4.0",
      "model_name": "HTMLModel",
      "state": {
       "layout": "IPY_MODEL_4b5294ea8c984b9db6d610dc8a15d86e",
       "style": "IPY_MODEL_1c7ea81008ee4f519d9fd641ed612826",
       "value": "<table><style>\ntable {\n    border-collapse: collapse;\n    width: auto;\n}\n\nth, td {\n    text-align: left;\n    padding: 8px;\n}\n\ntr:nth-child(even) {background-color: #f6f6f6;}\n</style><tr><th></th><th>Frequency</th><th>T1</th><th>T2</th><th>U1 gate error</th><th>U2 gate error</th><th>U3 gate error</th><th>Readout error</th></tr><tr><td><font style='font-weight:bold'>Q0</font></td><td>5.10015 GHz</td><td>56.24974 µs</td><td>23.69577 µs</td><td>0.0</td><td>0.00199</td><td>0.00397</td><td>0.0261</td></tr><tr><td><font style='font-weight:bold'>Q1</font></td><td>5.23854 GHz</td><td>44.08171 µs</td><td>87.18955 µs</td><td>0.0</td><td>0.00418</td><td>0.00835</td><td>0.1028</td></tr><tr><td><font style='font-weight:bold'>Q2</font></td><td>5.03292 GHz</td><td>52.69198 µs</td><td>91.76713 µs</td><td>0.0</td><td>0.00325</td><td>0.0065</td><td>0.1368</td></tr><tr><td><font style='font-weight:bold'>Q3</font></td><td>4.89618 GHz</td><td>67.42388 µs</td><td>50.46963 µs</td><td>0.0</td><td>0.00178</td><td>0.00357</td><td>0.238</td></tr><tr><td><font style='font-weight:bold'>Q4</font></td><td>5.02642 GHz</td><td>47.73903 µs</td><td>36.65444 µs</td><td>0.0</td><td>0.00211</td><td>0.00422</td><td>0.0354</td></tr><tr><td><font style='font-weight:bold'>Q5</font></td><td>5.06731 GHz</td><td>19.79245 µs</td><td>43.31423 µs</td><td>0.0</td><td>0.00213</td><td>0.00425</td><td>0.0586</td></tr><tr><td><font style='font-weight:bold'>Q6</font></td><td>4.92386 GHz</td><td>93.36297 µs</td><td>77.77157 µs</td><td>0.0</td><td>0.00142</td><td>0.00283</td><td>0.0898</td></tr><tr><td><font style='font-weight:bold'>Q7</font></td><td>4.97448 GHz</td><td>48.30499 µs</td><td>79.23358 µs</td><td>0.0</td><td>0.00136</td><td>0.00272</td><td>0.1094</td></tr><tr><td><font style='font-weight:bold'>Q8</font></td><td>4.73779 GHz</td><td>107.44717 µs</td><td>194.01785 µs</td><td>0.0</td><td>0.00201</td><td>0.00403</td><td>0.0426</td></tr><tr><td><font style='font-weight:bold'>Q9</font></td><td>4.96345 GHz</td><td>44.85636 µs</td><td>71.37719 µs</td><td>0.0</td><td>0.00262</td><td>0.00524</td><td>0.0274</td></tr><tr><td><font style='font-weight:bold'>Q10</font></td><td>4.94505 GHz</td><td>63.76402 µs</td><td>64.38724 µs</td><td>0.0</td><td>0.00151</td><td>0.00302</td><td>0.0362</td></tr><tr><td><font style='font-weight:bold'>Q11</font></td><td>5.00511 GHz</td><td>60.56337 µs</td><td>115.60746 µs</td><td>0.0</td><td>0.00165</td><td>0.00329</td><td>0.3825</td></tr><tr><td><font style='font-weight:bold'>Q12</font></td><td>4.76007 GHz</td><td>99.11596 µs</td><td>149.74811 µs</td><td>0.0</td><td>0.00376</td><td>0.00753</td><td>0.09</td></tr><tr><td><font style='font-weight:bold'>Q13</font></td><td>4.96846 GHz</td><td>25.41549 µs</td><td>43.41407 µs</td><td>0.0</td><td>0.00539</td><td>0.01078</td><td>0.0437</td></tr></table>"
      }
     },
     "7ab4e3628ccd49b89fbc6616c099dd6b": {
      "model_module": "@jupyter-widgets/output",
      "model_module_version": "1.0.0",
      "model_name": "OutputModel",
      "state": {
       "layout": "IPY_MODEL_47905b7fb9394784ab1bd3dc93d9e2e8"
      }
     },
     "7b4914fb10ec493dbb6c9130587dced1": {
      "model_module": "@jupyter-widgets/base",
      "model_module_version": "1.1.0",
      "model_name": "LayoutModel",
      "state": {
       "align_items": "center",
       "display": "flex-inline",
       "min_height": "400px"
      }
     },
     "7b868a91346742aca551249fd60fa4f3": {
      "model_module": "@jupyter-widgets/controls",
      "model_module_version": "1.4.0",
      "model_name": "DescriptionStyleModel",
      "state": {
       "description_width": ""
      }
     },
     "7cae6b8189b04f02b215a1764c74755c": {
      "model_module": "@jupyter-widgets/base",
      "model_module_version": "1.1.0",
      "model_name": "LayoutModel",
      "state": {}
     },
     "805044661c684a778ed3bb94f94a92b0": {
      "model_module": "@jupyter-widgets/controls",
      "model_module_version": "1.4.0",
      "model_name": "DescriptionStyleModel",
      "state": {
       "description_width": ""
      }
     },
     "8122ceb479af4473bd847cb096953fdf": {
      "model_module": "@jupyter-widgets/output",
      "model_module_version": "1.0.0",
      "model_name": "OutputModel",
      "state": {
       "layout": "IPY_MODEL_313134a190484072bbe0ee5a6c346c7d",
       "outputs": [
        {
         "data": {
          "image/png": "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\n",
          "text/plain": "<Figure size 216x72 with 1 Axes>"
         },
         "metadata": {},
         "output_type": "display_data"
        }
       ]
      }
     },
     "84684fc4e4704fd2bdb22e76928ad83b": {
      "model_module": "@jupyter-widgets/controls",
      "model_module_version": "1.4.0",
      "model_name": "VBoxModel",
      "state": {
       "children": [
        "IPY_MODEL_fc9c41d8808541fb98aa80fc32beac4e",
        "IPY_MODEL_51931b6d14d84a63818940d5c1381b09"
       ],
       "layout": "IPY_MODEL_02c17d26a723485dad19398b34ba29eb"
      }
     },
     "848a91bce80741d7892355fb5123c806": {
      "model_module": "@jupyter-widgets/output",
      "model_module_version": "1.0.0",
      "model_name": "OutputModel",
      "state": {
       "layout": "IPY_MODEL_5feba26e53a8492fb4ec1609d5e5353f",
       "outputs": [
        {
         "data": {
          "image/png": "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\n",
          "text/plain": "<Figure size 216x72 with 1 Axes>"
         },
         "metadata": {},
         "output_type": "display_data"
        }
       ]
      }
     },
     "8757d339c25d47d5aef897648b6f8510": {
      "model_module": "@jupyter-widgets/base",
      "model_module_version": "1.1.0",
      "model_name": "LayoutModel",
      "state": {
       "align_items": "center",
       "display": "flex-inline",
       "min_height": "400px"
      }
     },
     "87c3cd18f5f94f67bf558d77730fcff1": {
      "model_module": "@jupyter-widgets/base",
      "model_module_version": "1.1.0",
      "model_name": "LayoutModel",
      "state": {
       "grid_area": "left"
      }
     },
     "8dc884e5c8054cedb272fc8ed38c97a8": {
      "model_module": "@jupyter-widgets/controls",
      "model_module_version": "1.4.0",
      "model_name": "DescriptionStyleModel",
      "state": {
       "description_width": ""
      }
     },
     "8fecf3895f12414bb48d41ec35e5181a": {
      "model_module": "@jupyter-widgets/base",
      "model_module_version": "1.1.0",
      "model_name": "LayoutModel",
      "state": {
       "grid_area": "top"
      }
     },
     "912a2f76ed274515bde2dc96f8eaa25f": {
      "model_module": "@jupyter-widgets/base",
      "model_module_version": "1.1.0",
      "model_name": "LayoutModel",
      "state": {
       "align_items": "center",
       "display": "flex-inline",
       "min_height": "400px"
      }
     },
     "915ed5f19c854519adbe338ded4aa079": {
      "model_module": "@jupyter-widgets/controls",
      "model_module_version": "1.4.0",
      "model_name": "DescriptionStyleModel",
      "state": {
       "description_width": ""
      }
     },
     "92d341f276494df68b36600e2867c7f0": {
      "model_module": "@jupyter-widgets/controls",
      "model_module_version": "1.4.0",
      "model_name": "DescriptionStyleModel",
      "state": {
       "description_width": ""
      }
     },
     "9389696d910845378dfc5e22ea298063": {
      "model_module": "@jupyter-widgets/base",
      "model_module_version": "1.1.0",
      "model_name": "LayoutModel",
      "state": {}
     },
     "93921c5e02a6410ea90fbc45fa25c4ad": {
      "model_module": "@jupyter-widgets/base",
      "model_module_version": "1.1.0",
      "model_name": "LayoutModel",
      "state": {
       "align_items": "center",
       "display": "flex-inline",
       "grid_area": "left"
      }
     },
     "94d4fa0744b74d259ffbe0370a8a53b4": {
      "model_module": "@jupyter-widgets/output",
      "model_module_version": "1.0.0",
      "model_name": "OutputModel",
      "state": {
       "layout": "IPY_MODEL_a5ce3bd1af4e434fa30af8f7c7b64a1a",
       "outputs": [
        {
         "data": {
          "image/png": "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\n",
          "text/plain": "<Figure size 648x216 with 1 Axes>"
         },
         "metadata": {},
         "output_type": "display_data"
        }
       ]
      }
     },
     "9a9087fea27b4f6f842f1b7a6b14e221": {
      "model_module": "@jupyter-widgets/controls",
      "model_module_version": "1.4.0",
      "model_name": "GridBoxModel",
      "state": {
       "children": [
        "IPY_MODEL_f73fee75902f4352809522edcfab3e8c",
        "IPY_MODEL_3e1508a25dbb4b298b767747cf7f4588",
        "IPY_MODEL_353f58d76fac4163ae1673283b1aad8d"
       ],
       "layout": "IPY_MODEL_3e9b01a90fa04088bda5cefd13233400"
      }
     },
     "9b3ce006410d48f7a41d9ddb36446a11": {
      "model_module": "@jupyter-widgets/controls",
      "model_module_version": "1.4.0",
      "model_name": "HTMLModel",
      "state": {
       "layout": "IPY_MODEL_1e8f848153c04afe9a065edd46b1c7a6",
       "style": "IPY_MODEL_52c44b0f3c0346ceba4c085166663a57",
       "value": "<table><style>\ntable {\n    border-collapse: collapse;\n    width: auto;\n}\n\nth, td {\n    text-align: left;\n    padding: 8px;\n}\n\ntr:nth-child(even) {background-color: #f6f6f6;}\n</style><tr><th>Property</th><th>Value</th></tr><tr><td><font style='font-weight:bold'>n_qubits</font></td><td>14</td></tr><tr><td><font style='font-weight:bold'>operational</font></td><td>True</td></tr><tr><td><font style='font-weight:bold'>status_msg</font></td><td>active</td></tr><tr><td><font style='font-weight:bold'>pending_jobs</font></td><td>1</td></tr><tr><td><font style='font-weight:bold'>basis_gates</font></td><td>['u1', 'u2', 'u3', 'cx', 'id']</td></tr><tr><td><font style='font-weight:bold'>local</font></td><td>False</td></tr><tr><td><font style='font-weight:bold'>simulator</font></td><td>False</td></tr></table>"
      }
     },
     "9c02fbb7c76249c182acf53e21c83313": {
      "model_module": "@jupyter-widgets/controls",
      "model_module_version": "1.4.0",
      "model_name": "GridBoxModel",
      "state": {
       "children": [
        "IPY_MODEL_9b3ce006410d48f7a41d9ddb36446a11",
        "IPY_MODEL_ec78d39a6a1440b3864eb362f6c7e408",
        "IPY_MODEL_dc140e1930af416cbc92217e44c9d0cf"
       ],
       "layout": "IPY_MODEL_2dff18d8bf5440a0b0973fb24202708b"
      }
     },
     "9c715c4ae30a4be2b56a2f049f17c0b4": {
      "model_module": "@jupyter-widgets/base",
      "model_module_version": "1.1.0",
      "model_name": "LayoutModel",
      "state": {
       "align_items": "center",
       "display": "flex-inline",
       "min_height": "400px"
      }
     },
     "9d57a58fe5db4200bdec903d34e1ed37": {
      "model_module": "@jupyter-widgets/controls",
      "model_module_version": "1.4.0",
      "model_name": "HTMLModel",
      "state": {
       "layout": "IPY_MODEL_44f44f3153ec442583bc5eb5fed302e2",
       "style": "IPY_MODEL_74f4c98c9bb7422e88251c3d24c9aaa3",
       "value": "<div><font style='font-weight:bold'>last_update_date</font>: 2019-05-02T08:22:12+00:00</div>"
      }
     },
     "9d743fefc6a84ee98da90990d8e63db2": {
      "model_module": "@jupyter-widgets/controls",
      "model_module_version": "1.4.0",
      "model_name": "DescriptionStyleModel",
      "state": {
       "description_width": ""
      }
     },
     "a055a484a1484f2092711200a4223fa7": {
      "model_module": "@jupyter-widgets/base",
      "model_module_version": "1.1.0",
      "model_name": "LayoutModel",
      "state": {
       "align_items": "center",
       "display": "flex-inline",
       "min_height": "400px"
      }
     },
     "a2f4765b93f540e6b7bdb0de82374a79": {
      "model_module": "@jupyter-widgets/base",
      "model_module_version": "1.1.0",
      "model_name": "LayoutModel",
      "state": {
       "grid_gap": "0px 0px",
       "grid_template_areas": "\n                                                   \"top top top\"\n                                                   \"left middle right\"\n                                                   ",
       "grid_template_columns": "33% 33% 33%",
       "grid_template_rows": "auto auto"
      }
     },
     "a4f65eba33b54864bae3e8c2d6bacb53": {
      "model_module": "@jupyter-widgets/controls",
      "model_module_version": "1.4.0",
      "model_name": "VBoxModel",
      "state": {
       "children": [
        "IPY_MODEL_5ad87750461d4030811578ca663c5d1d",
        "IPY_MODEL_b72d409364cc426eb2ce546d4be84bd5"
       ],
       "layout": "IPY_MODEL_7cae6b8189b04f02b215a1764c74755c"
      }
     },
     "a525574c350f47ffbcdb411c9e751c3c": {
      "model_module": "@jupyter-widgets/controls",
      "model_module_version": "1.4.0",
      "model_name": "GridBoxModel",
      "state": {
       "children": [
        "IPY_MODEL_18cdfd1683e041ab9c1263580dce2c28",
        "IPY_MODEL_94d4fa0744b74d259ffbe0370a8a53b4",
        "IPY_MODEL_65e6b76d791a496f8d2dc698011bc90d"
       ],
       "layout": "IPY_MODEL_c00a0c04b22a41e2ba998c6401b5292f"
      }
     },
     "a5ce3bd1af4e434fa30af8f7c7b64a1a": {
      "model_module": "@jupyter-widgets/base",
      "model_module_version": "1.1.0",
      "model_name": "LayoutModel",
      "state": {
       "align_items": "center",
       "display": "flex-inline",
       "grid_area": "right",
       "max_height": "300px",
       "padding": "10px 10px 10px 10px",
       "width": "auto"
      }
     },
     "a767d64a42c94a36945e680fb84ab647": {
      "model_module": "@jupyter-widgets/output",
      "model_module_version": "1.0.0",
      "model_name": "OutputModel",
      "state": {
       "layout": "IPY_MODEL_18d82e4c63894b55a3e1da0cb80ce023",
       "outputs": [
        {
         "data": {
          "image/png": "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\n",
          "text/plain": "<Figure size 216x72 with 1 Axes>"
         },
         "metadata": {},
         "output_type": "display_data"
        }
       ]
      }
     },
     "a7869033ee74420cba4e9efbdb7c14e9": {
      "model_module": "@jupyter-widgets/base",
      "model_module_version": "1.1.0",
      "model_name": "LayoutModel",
      "state": {
       "align_items": "center",
       "display": "flex-inline",
       "grid_area": "top",
       "height": "auto",
       "width": "auto"
      }
     },
     "a9e35172b6fc44a980b642686628d022": {
      "model_module": "@jupyter-widgets/output",
      "model_module_version": "1.0.0",
      "model_name": "OutputModel",
      "state": {
       "layout": "IPY_MODEL_a055a484a1484f2092711200a4223fa7"
      }
     },
     "ab12c324ba6e453b9e9d2368322986cb": {
      "model_module": "@jupyter-widgets/controls",
      "model_module_version": "1.4.0",
      "model_name": "DescriptionStyleModel",
      "state": {
       "description_width": ""
      }
     },
     "abac39a1beab4312b2a0e16113af7b35": {
      "model_module": "@jupyter-widgets/controls",
      "model_module_version": "1.4.0",
      "model_name": "DescriptionStyleModel",
      "state": {
       "description_width": ""
      }
     },
     "ae02c7e7e1a241c2b1afb8ab8d81f991": {
      "model_module": "@jupyter-widgets/base",
      "model_module_version": "1.1.0",
      "model_name": "LayoutModel",
      "state": {
       "overflow_y": "scroll"
      }
     },
     "ae82d0ffb3b14139bc28f72b931f3fad": {
      "model_module": "@jupyter-widgets/output",
      "model_module_version": "1.0.0",
      "model_name": "OutputModel",
      "state": {
       "layout": "IPY_MODEL_c5932b159dcb4bb7ac222eaefbccaf1c",
       "outputs": [
        {
         "data": {
          "image/png": "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\n",
          "text/plain": "<Figure size 360x360 with 1 Axes>"
         },
         "metadata": {},
         "output_type": "display_data"
        }
       ]
      }
     },
     "b04e0098ecef4bbd89bd5ff68d30acf7": {
      "model_module": "@jupyter-widgets/base",
      "model_module_version": "1.1.0",
      "model_name": "LayoutModel",
      "state": {
       "grid_area": "bottom",
       "width": "auto"
      }
     },
     "b07ef2e83bbe40b0a7d40edd88795ba2": {
      "model_module": "@jupyter-widgets/base",
      "model_module_version": "1.1.0",
      "model_name": "LayoutModel",
      "state": {
       "align_items": "center",
       "display": "flex-inline",
       "grid_area": "right"
      }
     },
     "b1ec3808130a44efa5eafcb9f9fe3608": {
      "model_module": "@jupyter-widgets/base",
      "model_module_version": "1.1.0",
      "model_name": "LayoutModel",
      "state": {
       "grid_gap": "0px 0px",
       "grid_template_areas": "\n                                                \"top top top\"\n                                                \"left . right\"\n                                                ",
       "grid_template_columns": "33% 33% 33%",
       "grid_template_rows": "auto auto"
      }
     },
     "b3a81737f27a407e95c08377d5a403d7": {
      "model_module": "@jupyter-widgets/controls",
      "model_module_version": "1.4.0",
      "model_name": "DescriptionStyleModel",
      "state": {
       "description_width": ""
      }
     },
     "b72d409364cc426eb2ce546d4be84bd5": {
      "model_module": "@jupyter-widgets/controls",
      "model_module_version": "1.4.0",
      "model_name": "HTMLModel",
      "state": {
       "layout": "IPY_MODEL_edea19ba17a94cf19a4d0605c99a35f9",
       "style": "IPY_MODEL_e3cdbf08ff464984bac1378e76c47262",
       "value": "<table><style>\ntable {\n    border-collapse: collapse;\n    width: auto;\n}\n\nth, td {\n    text-align: left;\n    padding: 8px;\n}\n\ntr:nth-child(even) {background-color: #f6f6f6;}\n</style><tr><th></th><th>Frequency</th><th>T1</th><th>T2</th><th>U1 gate error</th><th>U2 gate error</th><th>U3 gate error</th><th>Readout error</th></tr><tr><td><font style='font-weight:bold'>Q0</font></td><td>5.10015 GHz</td><td>56.24974 µs</td><td>23.69577 µs</td><td>0.0</td><td>0.00199</td><td>0.00397</td><td>0.0261</td></tr><tr><td><font style='font-weight:bold'>Q1</font></td><td>5.23854 GHz</td><td>44.08171 µs</td><td>87.18955 µs</td><td>0.0</td><td>0.00418</td><td>0.00835</td><td>0.1028</td></tr><tr><td><font style='font-weight:bold'>Q2</font></td><td>5.03292 GHz</td><td>52.69198 µs</td><td>91.76713 µs</td><td>0.0</td><td>0.00325</td><td>0.0065</td><td>0.1368</td></tr><tr><td><font style='font-weight:bold'>Q3</font></td><td>4.89618 GHz</td><td>67.42388 µs</td><td>50.46963 µs</td><td>0.0</td><td>0.00178</td><td>0.00357</td><td>0.238</td></tr><tr><td><font style='font-weight:bold'>Q4</font></td><td>5.02642 GHz</td><td>47.73903 µs</td><td>36.65444 µs</td><td>0.0</td><td>0.00211</td><td>0.00422</td><td>0.0354</td></tr><tr><td><font style='font-weight:bold'>Q5</font></td><td>5.06731 GHz</td><td>19.79245 µs</td><td>43.31423 µs</td><td>0.0</td><td>0.00213</td><td>0.00425</td><td>0.0586</td></tr><tr><td><font style='font-weight:bold'>Q6</font></td><td>4.92386 GHz</td><td>93.36297 µs</td><td>77.77157 µs</td><td>0.0</td><td>0.00142</td><td>0.00283</td><td>0.0898</td></tr><tr><td><font style='font-weight:bold'>Q7</font></td><td>4.97448 GHz</td><td>48.30499 µs</td><td>79.23358 µs</td><td>0.0</td><td>0.00136</td><td>0.00272</td><td>0.1094</td></tr><tr><td><font style='font-weight:bold'>Q8</font></td><td>4.73779 GHz</td><td>107.44717 µs</td><td>194.01785 µs</td><td>0.0</td><td>0.00201</td><td>0.00403</td><td>0.0426</td></tr><tr><td><font style='font-weight:bold'>Q9</font></td><td>4.96345 GHz</td><td>44.85636 µs</td><td>71.37719 µs</td><td>0.0</td><td>0.00262</td><td>0.00524</td><td>0.0274</td></tr><tr><td><font style='font-weight:bold'>Q10</font></td><td>4.94505 GHz</td><td>63.76402 µs</td><td>64.38724 µs</td><td>0.0</td><td>0.00151</td><td>0.00302</td><td>0.0362</td></tr><tr><td><font style='font-weight:bold'>Q11</font></td><td>5.00511 GHz</td><td>60.56337 µs</td><td>115.60746 µs</td><td>0.0</td><td>0.00165</td><td>0.00329</td><td>0.3825</td></tr><tr><td><font style='font-weight:bold'>Q12</font></td><td>4.76007 GHz</td><td>99.11596 µs</td><td>149.74811 µs</td><td>0.0</td><td>0.00376</td><td>0.00753</td><td>0.09</td></tr><tr><td><font style='font-weight:bold'>Q13</font></td><td>4.96846 GHz</td><td>25.41549 µs</td><td>43.41407 µs</td><td>0.0</td><td>0.00539</td><td>0.01078</td><td>0.0437</td></tr></table>"
      }
     },
     "b7856d8f021d487ab593186bce8cf9e9": {
      "model_module": "@jupyter-widgets/controls",
      "model_module_version": "1.4.0",
      "model_name": "DescriptionStyleModel",
      "state": {
       "description_width": ""
      }
     },
     "bd23fe66a7e743cca084ec870c9d049c": {
      "model_module": "@jupyter-widgets/controls",
      "model_module_version": "1.4.0",
      "model_name": "GridBoxModel",
      "state": {
       "children": [
        "IPY_MODEL_fdea5ecf87e94988b9a5a4e269acd38c",
        "IPY_MODEL_54bcc575f12146b7905c48b921d6aef0",
        "IPY_MODEL_8122ceb479af4473bd847cb096953fdf"
       ],
       "layout": "IPY_MODEL_356bce1b9d644554b63d61e40fe1c309"
      }
     },
     "bf5c22630a864035a3dd6f71849194dc": {
      "model_module": "@jupyter-widgets/output",
      "model_module_version": "1.0.0",
      "model_name": "OutputModel",
      "state": {
       "layout": "IPY_MODEL_785d956f372946a7a43e69f4ab89ecbf",
       "outputs": [
        {
         "data": {
          "image/png": "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\n",
          "text/plain": "<Figure size 360x360 with 1 Axes>"
         },
         "metadata": {},
         "output_type": "display_data"
        }
       ]
      }
     },
     "c00a0c04b22a41e2ba998c6401b5292f": {
      "model_module": "@jupyter-widgets/base",
      "model_module_version": "1.1.0",
      "model_name": "LayoutModel",
      "state": {
       "grid_gap": "0px 0px",
       "grid_template_areas": "\n                               \"left right right right\"\n                               \"bottom bottom bottom bottom\"\n                               ",
       "grid_template_columns": "25% 25% 25% 25%",
       "grid_template_rows": "auto auto"
      }
     },
     "c39fb14d787944d198d6cc45a9c755c1": {
      "model_module": "@jupyter-widgets/controls",
      "model_module_version": "1.4.0",
      "model_name": "DescriptionStyleModel",
      "state": {
       "description_width": ""
      }
     },
     "c4d17f5557564105bb79dc42fe08b7fa": {
      "model_module": "@jupyter-widgets/output",
      "model_module_version": "1.0.0",
      "model_name": "OutputModel",
      "state": {
       "layout": "IPY_MODEL_d37aec7560db4c58acf67624ec91321a",
       "outputs": [
        {
         "data": {
          "image/png": "iVBORw0KGgoAAAANSUhEUgAAAOIAAAA6CAYAAACtfYWVAAAABHNCSVQICAgIfAhkiAAAAAlwSFlzAAALEgAACxIB0t1+/AAAADl0RVh0U29mdHdhcmUAbWF0cGxvdGxpYiB2ZXJzaW9uIDMuMC4zLCBodHRwOi8vbWF0cGxvdGxpYi5vcmcvnQurowAAChlJREFUeJztnX+MXFUVxz/fN7vlVwu0FrSAtDTYIAgpv1pQUPwFBRGJ/ChSsaAYAcUQNApSTSVglERBRQRNpFRAQYygKFEiAaUWkEIpJQqUUtLSRSw/SlvLYnePf9w73TtvZ2Znd2Y6r3I+yeu799xzzjvvvnfm/djpHJkZjuN0lqzTATiO44noOIXAE9FxCoAnouMUAE9ExykAnoiOUwA8ER2nAHgiDoGk0yU9LGm9pB5Jd0k6Io7NlWSSTkn0u6JsUiJ7t6R7JK2TtFbS7yTtG8dmRd/rJW2U1J/012/p/W0ncV727nQcRcQTsQ6SLgSuAr4FvBXYE7gG+Fii9jJwqaRSDR+HA38C7gB2A/YCHgMWSJpsZjeZ2WgzGw0cC6wu96Os2X0YFFetWOv46GqFjlMHM/OlygLsBKwHTqmjMxe4iZBYs6OsCzBgUuz/Fbimiu1dwPyc7ChgVQOx7QPcTfgQeBI4NRmbB/wY+AOwAfhQDdlOwHzg38BzwBwgiz7OBBYAV8ZtXFZj328DbgReA84GpgELgVeBHuBqYFTU/0uclw1xXmdG+fHA4mjzN+CATh/7jpxvnQ6gqAswA9gEdNXRmRtPxBOA5UB3mojA9kAf8P4qtmcBPTnZkIkI7ACsjPZdwEHAGmC/OD4PWAu8h3DHs20N2XzCVXpMjPUp4DPRx5lx38+P29iuxr7/Fzgx+twOOBg4LNpMAv4BXJDYGLB30j8IeBGYDpSA2cAKYJtOH/8tvfitaW3eAqwxs01DKZrZbwlXlrNzQ+MIJ2lPFbMeYPwI4joeWGFm15vZJjN7BPg1cHKic4eZLTCzfjN7PS8jJNBM4GIzW2dmK4DvAmckPlab2Q/jNjbWiGWhmd0et7PRzBaZ2QPRZgVwHfC+OvvyWeA6M3vQzPrM7Aagl5DMbyo8EWvzEjB+GM8+c4BLCFebMq8A/cCEKvoTCFey4TIRmC7p1fICzALeluisrGKXysYDowi3pGWeA3Yfwkc9n0iaIulOSS9Ieo3wbF3vw2Yi8KXcvryd8Cz9psITsTYLgdcJt15DYmZ3A8uA8xLZhujnlCompwJ/HkFcK4H7zGznZBltZuem4VQLMWmvIVwVJyayPYHnh/BRzyeE59B/Au8wsx2BrwGqY78SuDy3L9ub2S8a2Pb/FZ6INTCztcA3gB9JOlHS9pK6JR0r6YoaZpcAX8nJLgJmS/qipDGSxkq6DDgc+OYIQrsTmCLpjBhPt6RDJb1zGPvWB9wKXB5jmghcSHjebYYxhBc36yXtA5ybG/8XMDnp/xQ4R9J0BXaQ9BFJY5qMY6vDE7EOZvY9wgk6h/AMuBL4AnB7Df0FwEM52f3AMcDHCc+FzwEHAkeY2dMjiGkdcDRwGrAaeAH4DrDNMF2dT3iDuRy4H7gZ+Nlw48nxZeB0YB0hyW7Jjc8Fboi3oaea2cOE58SrCbfxywgvit50KL69chyng/gV0XEKgCei4xQAT0THKQCeiI5TADwRHacAtOUb8+M1wd6gF6Tw19yBf0DldSpL2mlfiSD9s/AgW7C8ToVLJXrU0QNTPo7KttUZa8R/2Eb98brbGom/vExWe2xz3yr6yo0rGR+YMtusVyGrmFLLHb7UxjZvvuxfyvlN/A3YhnVV+1RHue3VtB+sM8hGIJTI2dwryxct6f2jmc2gAdqSiG/Qy2FdR4MyVCpBppCUpRJkWdIOckqlsC4vpQyUhfGoTyYsy8I1XEFuUugnbcuyOCvCSgonaTgCsR/bWXksyFE4oS2r0s7CghKbjFx7QHfAfqBNqp9f19LLGtG3QfKwWKVdZgNjm20MZWFdtkHhhFRWbgd5llk4UQWZQlsyStngdkbSllHK+skI/a6snyzKMyr7XeonU39FuySjS33BD0ZX1kdJRkY/3WW5gv/ubBMljExhrETwNUqbQkwV8n5GqY+M/iCnj5L6KWF0q+zHKNFPd5SHsfAF7ZKgG1GSyBDdZLGd0a0SGRmlCU83/F1ivzV1nALgieg4BcAT0XEKgCei4xQAT0THKQCeiI5TADwRHacAeCI6TgHwRHScAtCW/xgsaSnh9162BsYzsh9x6gQea+tpZ5xrOvoVN+B1MzukTb5biqSHPdbWs7XEWpQ4/dbUcQqAJ6LjFIB2JeJP2uS3HXis7WFribUQcfqvuDlOAfBbU8cpAA0loqQZkp6UtEzSRVXGt5F0Sxx/sFykU9KHJS2S9HhcfyCxuTf6XByXXVuxQ03EOikWCi3Hc21ic3Dch2WSfiCl/+d8i8c5K4lxcSxsOjWOdWpO3yvpEUmbJJ2cG5st6em4zE7kLZ/TZmKVNFXSQklPSFoiaWYyNk/Ss8m8Tm1FrBUMVS6KUC7rGcJPpY8i1ALcN6dzHnBtbJ8G3BLbBwK7xfa7gOcTm3uBQ1pZ2qrJWCcBS2v4fYjwE/ki1DU8tlNx5nT2B5YXYE4nAQcQSr2dnMjHEX5JfBwwNrbHtmNOWxDrFELNDghFcHqAnWN/XqrbjqWRK+I0YJmZLTezN4BfUlkxl9i/IbZvAz4oSWb2qJmtjvIngG0lDfen4YfDiGOt5VDSBGBHM1to4ajMp8HCNFsgzk8A7S7YMmSsZrbCzJYQKl+lHAPcbWYvm9krhOKqM9o0p03FamZPWSyBEM/ZF4FdWhBTQzSSiLtTWX5rFZXluyp0LNQTXEuoL5hyEvComfUmsuvjpf7rLbo1aTbWvSQ9Kuk+SUcm+quG8Lml4ywzk8GJ2Ik5Ha5tO+a03vaGhaRphCvqM4n48njLemU7LiaNJGK1g5l/1VpXR9J+hEIpn0vGZ5nZ/sCRcTmD5mkm1h5gTzM7kFB45mZJOzboc7i0Yk6nA/8xs6XJeKfmdLi27ZjTettr3EG4Wv8cOMtCUVeAiwnl0g8l3GZ/tZkgq9FIIq4iFI8sswehClFVHYXCnjsRaq8jaQ/gN8CnzGzzJ4yZPR/X6wiViKaNbBdaE6uZ9ZrZSzGmRYRPwylRf48hfG6xOJPx08hdDTs4p8O1bcec1tteQ8QP3t8Dc8zsgbLczHos0AtcT2vmtZIGHoC7CA/ZezHwALxfTufzVL5YuDW2d476J1XxOT62uwnPQOe04GG9mVh3AUqxPZlQtHNc7P+dUE66/GLhuE7FGfsZ4aSbXIQ5TXTnMfhlzbOEFzVjY7stc9qCWEcRCsdeUEV3QlwLuAr4drOxDtpGgzt4HPAU4SpxSZRdCpwQ29sCvyLUt3uofIIQ6gpuABYny67ADsAiYAnhJc73y0nQgoMx0lhPirE8BjwCfDTxeQiwNPq8mvhFiE7EGceOAh7I+evknB5K+GDYQCh5/kRi++m4D8sIt3ttm9NmYgU+SaiinJ6rU+PYPcDjMd4bgdGtTkT/Zo3jFAD/Zo3jFABPRMcpAJ6IjlMAPBEdpwB4IjpOAfBEdJwC4InoOAXAE9FxCsD/AJNGhsQnFe9CAAAAAElFTkSuQmCC\n",
          "text/plain": "<Figure size 216x72 with 1 Axes>"
         },
         "metadata": {},
         "output_type": "display_data"
        }
       ]
      }
     },
     "c565e57622604760aad7be1f54b7b461": {
      "model_module": "@jupyter-widgets/base",
      "model_module_version": "1.1.0",
      "model_name": "LayoutModel",
      "state": {}
     },
     "c5932b159dcb4bb7ac222eaefbccaf1c": {
      "model_module": "@jupyter-widgets/base",
      "model_module_version": "1.1.0",
      "model_name": "LayoutModel",
      "state": {
       "align_items": "center",
       "display": "flex-inline",
       "min_height": "400px"
      }
     },
     "cbc0f92a47344cb4879e71e055127c87": {
      "model_module": "@jupyter-widgets/controls",
      "model_module_version": "1.4.0",
      "model_name": "TabModel",
      "state": {
       "_titles": {
        "0": "Configuration",
        "1": "Qubit Properties",
        "2": "Multi-Qubit Gates",
        "3": "Error Map",
        "4": "Job History"
       },
       "children": [
        "IPY_MODEL_9c02fbb7c76249c182acf53e21c83313",
        "IPY_MODEL_84684fc4e4704fd2bdb22e76928ad83b",
        "IPY_MODEL_1b248fc9d03c455aaae9e914ae9e36c1",
        "IPY_MODEL_056518d181854155b4faa5c88f0ba6a1",
        "IPY_MODEL_61d265f60b7f4e54a0b740b6ba4241d6"
       ],
       "layout": "IPY_MODEL_540afeb6e74d436b8544f36b0b4b737b"
      }
     },
     "cc0093109eb44ac39b528c356884370f": {
      "model_module": "@jupyter-widgets/base",
      "model_module_version": "1.1.0",
      "model_name": "LayoutModel",
      "state": {
       "align_items": "center",
       "display": "flex-inline",
       "grid_area": "right",
       "max_height": "300px",
       "padding": "10px 10px 10px 10px",
       "width": "auto"
      }
     },
     "cf6e44c5d9a04e7ba3ad2eb7c0f221f9": {
      "model_module": "@jupyter-widgets/controls",
      "model_module_version": "1.4.0",
      "model_name": "DescriptionStyleModel",
      "state": {
       "description_width": ""
      }
     },
     "cfabfe5927954572a9ea070df1694101": {
      "model_module": "@jupyter-widgets/base",
      "model_module_version": "1.1.0",
      "model_name": "LayoutModel",
      "state": {
       "grid_area": "left"
      }
     },
     "d1111f2c770c43fdad088e18f321a2b3": {
      "model_module": "@jupyter-widgets/controls",
      "model_module_version": "1.4.0",
      "model_name": "HTMLModel",
      "state": {
       "layout": "IPY_MODEL_3d6fae380c2b4b3fbde789a2c6313c0b",
       "style": "IPY_MODEL_7b868a91346742aca551249fd60fa4f3",
       "value": "<h1 style='color:#ffffff;background-color:#000000;padding-top: 1%;padding-bottom: 1%;padding-left: 1%; margin-top: 0px'>ibmq_16_melbourne</h1>"
      }
     },
     "d37aec7560db4c58acf67624ec91321a": {
      "model_module": "@jupyter-widgets/base",
      "model_module_version": "1.1.0",
      "model_name": "LayoutModel",
      "state": {
       "align_items": "center",
       "display": "flex-inline",
       "grid_area": "right"
      }
     },
     "d3e7342e38764564a138f15dc448bcd5": {
      "model_module": "@jupyter-widgets/controls",
      "model_module_version": "1.4.0",
      "model_name": "HTMLModel",
      "state": {
       "layout": "IPY_MODEL_87c3cd18f5f94f67bf558d77730fcff1",
       "style": "IPY_MODEL_c39fb14d787944d198d6cc45a9c755c1",
       "value": "<table><style>\ntable {\n    border-collapse: collapse;\n    width: auto;\n}\n\nth, td {\n    text-align: left;\n    padding: 8px;\n}\n\ntr:nth-child(even) {background-color: #f6f6f6;};\n</style><tr><th></th><th>Type</th><th>Gate error</th></tr><tr><td><font style='font-weight:bold'>CX1_0</font></td><td>cx</td><td>0.03717</td></tr><tr><td><font style='font-weight:bold'>CX1_2</font></td><td>cx</td><td>0.03059</td></tr><tr><td><font style='font-weight:bold'>CX2_3</font></td><td>cx</td><td>0.04977</td></tr><tr><td><font style='font-weight:bold'>CX4_3</font></td><td>cx</td><td>0.05414</td></tr><tr><td><font style='font-weight:bold'>CX4_10</font></td><td>cx</td><td>0.02477</td></tr><tr><td><font style='font-weight:bold'>CX5_4</font></td><td>cx</td><td>0.04962</td></tr></table>"
      }
     },
     "d86e813d887c4034a3eebefbd45eea4e": {
      "model_module": "@jupyter-widgets/controls",
      "model_module_version": "1.4.0",
      "model_name": "DescriptionStyleModel",
      "state": {
       "description_width": ""
      }
     },
     "d8adb9c0a55e411f80d261ae0cec2e28": {
      "model_module": "@jupyter-widgets/output",
      "model_module_version": "1.0.0",
      "model_name": "OutputModel",
      "state": {
       "layout": "IPY_MODEL_b07ef2e83bbe40b0a7d40edd88795ba2",
       "outputs": [
        {
         "data": {
          "image/png": "iVBORw0KGgoAAAANSUhEUgAAAOIAAAA6CAYAAACtfYWVAAAABHNCSVQICAgIfAhkiAAAAAlwSFlzAAALEgAACxIB0t1+/AAAADl0RVh0U29mdHdhcmUAbWF0cGxvdGxpYiB2ZXJzaW9uIDMuMC4zLCBodHRwOi8vbWF0cGxvdGxpYi5vcmcvnQurowAAChlJREFUeJztnX+MXFUVxz/fN7vlVwu0FrSAtDTYIAgpv1pQUPwFBRGJ/ChSsaAYAcUQNApSTSVglERBRQRNpFRAQYygKFEiAaUWkEIpJQqUUtLSRSw/SlvLYnePf9w73TtvZ2Znd2Y6r3I+yeu799xzzjvvvnfm/djpHJkZjuN0lqzTATiO44noOIXAE9FxCoAnouMUAE9ExykAnoiOUwA8ER2nAHgiDoGk0yU9LGm9pB5Jd0k6Io7NlWSSTkn0u6JsUiJ7t6R7JK2TtFbS7yTtG8dmRd/rJW2U1J/012/p/W0ncV727nQcRcQTsQ6SLgSuAr4FvBXYE7gG+Fii9jJwqaRSDR+HA38C7gB2A/YCHgMWSJpsZjeZ2WgzGw0cC6wu96Os2X0YFFetWOv46GqFjlMHM/OlygLsBKwHTqmjMxe4iZBYs6OsCzBgUuz/Fbimiu1dwPyc7ChgVQOx7QPcTfgQeBI4NRmbB/wY+AOwAfhQDdlOwHzg38BzwBwgiz7OBBYAV8ZtXFZj328DbgReA84GpgELgVeBHuBqYFTU/0uclw1xXmdG+fHA4mjzN+CATh/7jpxvnQ6gqAswA9gEdNXRmRtPxBOA5UB3mojA9kAf8P4qtmcBPTnZkIkI7ACsjPZdwEHAGmC/OD4PWAu8h3DHs20N2XzCVXpMjPUp4DPRx5lx38+P29iuxr7/Fzgx+twOOBg4LNpMAv4BXJDYGLB30j8IeBGYDpSA2cAKYJtOH/8tvfitaW3eAqwxs01DKZrZbwlXlrNzQ+MIJ2lPFbMeYPwI4joeWGFm15vZJjN7BPg1cHKic4eZLTCzfjN7PS8jJNBM4GIzW2dmK4DvAmckPlab2Q/jNjbWiGWhmd0et7PRzBaZ2QPRZgVwHfC+OvvyWeA6M3vQzPrM7Aagl5DMbyo8EWvzEjB+GM8+c4BLCFebMq8A/cCEKvoTCFey4TIRmC7p1fICzALeluisrGKXysYDowi3pGWeA3Yfwkc9n0iaIulOSS9Ieo3wbF3vw2Yi8KXcvryd8Cz9psITsTYLgdcJt15DYmZ3A8uA8xLZhujnlCompwJ/HkFcK4H7zGznZBltZuem4VQLMWmvIVwVJyayPYHnh/BRzyeE59B/Au8wsx2BrwGqY78SuDy3L9ub2S8a2Pb/FZ6INTCztcA3gB9JOlHS9pK6JR0r6YoaZpcAX8nJLgJmS/qipDGSxkq6DDgc+OYIQrsTmCLpjBhPt6RDJb1zGPvWB9wKXB5jmghcSHjebYYxhBc36yXtA5ybG/8XMDnp/xQ4R9J0BXaQ9BFJY5qMY6vDE7EOZvY9wgk6h/AMuBL4AnB7Df0FwEM52f3AMcDHCc+FzwEHAkeY2dMjiGkdcDRwGrAaeAH4DrDNMF2dT3iDuRy4H7gZ+Nlw48nxZeB0YB0hyW7Jjc8Fboi3oaea2cOE58SrCbfxywgvit50KL69chyng/gV0XEKgCei4xQAT0THKQCeiI5TADwRHacAtOUb8+M1wd6gF6Tw19yBf0DldSpL2mlfiSD9s/AgW7C8ToVLJXrU0QNTPo7KttUZa8R/2Eb98brbGom/vExWe2xz3yr6yo0rGR+YMtusVyGrmFLLHb7UxjZvvuxfyvlN/A3YhnVV+1RHue3VtB+sM8hGIJTI2dwryxct6f2jmc2gAdqSiG/Qy2FdR4MyVCpBppCUpRJkWdIOckqlsC4vpQyUhfGoTyYsy8I1XEFuUugnbcuyOCvCSgonaTgCsR/bWXksyFE4oS2r0s7CghKbjFx7QHfAfqBNqp9f19LLGtG3QfKwWKVdZgNjm20MZWFdtkHhhFRWbgd5llk4UQWZQlsyStngdkbSllHK+skI/a6snyzKMyr7XeonU39FuySjS33BD0ZX1kdJRkY/3WW5gv/ubBMljExhrETwNUqbQkwV8n5GqY+M/iCnj5L6KWF0q+zHKNFPd5SHsfAF7ZKgG1GSyBDdZLGd0a0SGRmlCU83/F1ivzV1nALgieg4BcAT0XEKgCei4xQAT0THKQCeiI5TADwRHacAeCI6TgHwRHScAtCW/xgsaSnh9162BsYzsh9x6gQea+tpZ5xrOvoVN+B1MzukTb5biqSHPdbWs7XEWpQ4/dbUcQqAJ6LjFIB2JeJP2uS3HXis7WFribUQcfqvuDlOAfBbU8cpAA0loqQZkp6UtEzSRVXGt5F0Sxx/sFykU9KHJS2S9HhcfyCxuTf6XByXXVuxQ03EOikWCi3Hc21ic3Dch2WSfiCl/+d8i8c5K4lxcSxsOjWOdWpO3yvpEUmbJJ2cG5st6em4zE7kLZ/TZmKVNFXSQklPSFoiaWYyNk/Ss8m8Tm1FrBUMVS6KUC7rGcJPpY8i1ALcN6dzHnBtbJ8G3BLbBwK7xfa7gOcTm3uBQ1pZ2qrJWCcBS2v4fYjwE/ki1DU8tlNx5nT2B5YXYE4nAQcQSr2dnMjHEX5JfBwwNrbHtmNOWxDrFELNDghFcHqAnWN/XqrbjqWRK+I0YJmZLTezN4BfUlkxl9i/IbZvAz4oSWb2qJmtjvIngG0lDfen4YfDiGOt5VDSBGBHM1to4ajMp8HCNFsgzk8A7S7YMmSsZrbCzJYQKl+lHAPcbWYvm9krhOKqM9o0p03FamZPWSyBEM/ZF4FdWhBTQzSSiLtTWX5rFZXluyp0LNQTXEuoL5hyEvComfUmsuvjpf7rLbo1aTbWvSQ9Kuk+SUcm+quG8Lml4ywzk8GJ2Ik5Ha5tO+a03vaGhaRphCvqM4n48njLemU7LiaNJGK1g5l/1VpXR9J+hEIpn0vGZ5nZ/sCRcTmD5mkm1h5gTzM7kFB45mZJOzboc7i0Yk6nA/8xs6XJeKfmdLi27ZjTettr3EG4Wv8cOMtCUVeAiwnl0g8l3GZ/tZkgq9FIIq4iFI8sswehClFVHYXCnjsRaq8jaQ/gN8CnzGzzJ4yZPR/X6wiViKaNbBdaE6uZ9ZrZSzGmRYRPwylRf48hfG6xOJPx08hdDTs4p8O1bcec1tteQ8QP3t8Dc8zsgbLczHos0AtcT2vmtZIGHoC7CA/ZezHwALxfTufzVL5YuDW2d476J1XxOT62uwnPQOe04GG9mVh3AUqxPZlQtHNc7P+dUE66/GLhuE7FGfsZ4aSbXIQ5TXTnMfhlzbOEFzVjY7stc9qCWEcRCsdeUEV3QlwLuAr4drOxDtpGgzt4HPAU4SpxSZRdCpwQ29sCvyLUt3uofIIQ6gpuABYny67ADsAiYAnhJc73y0nQgoMx0lhPirE8BjwCfDTxeQiwNPq8mvhFiE7EGceOAh7I+evknB5K+GDYQCh5/kRi++m4D8sIt3ttm9NmYgU+SaiinJ6rU+PYPcDjMd4bgdGtTkT/Zo3jFAD/Zo3jFABPRMcpAJ6IjlMAPBEdpwB4IjpOAfBEdJwC4InoOAXAE9FxCsD/AJNGhsQnFe9CAAAAAElFTkSuQmCC\n",
          "text/plain": "<Figure size 216x72 with 1 Axes>"
         },
         "metadata": {},
         "output_type": "display_data"
        }
       ]
      }
     },
     "dbc50e8d1c0c4b3d93a9215e1475803e": {
      "model_module": "@jupyter-widgets/output",
      "model_module_version": "1.0.0",
      "model_name": "OutputModel",
      "state": {
       "layout": "IPY_MODEL_e069d7f6fb704d669520ddfed7ca52b1",
       "outputs": [
        {
         "data": {
          "image/png": "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\n",
          "text/plain": "<Figure size 810x270 with 1 Axes>"
         },
         "metadata": {},
         "output_type": "display_data"
        }
       ]
      }
     },
     "dc140e1930af416cbc92217e44c9d0cf": {
      "model_module": "@jupyter-widgets/controls",
      "model_module_version": "1.4.0",
      "model_name": "HTMLModel",
      "state": {
       "layout": "IPY_MODEL_b04e0098ecef4bbd89bd5ff68d30acf7",
       "style": "IPY_MODEL_2c6b0af4c0bd4785b4e01faccbcfccd5",
       "value": "<table><style>\ntable {\n    border-collapse: collapse;\n    width: auto;\n}\n\nth, td {\n    text-align: left;\n    padding: 8px;\n}\n\ntr:nth-child(even) {background-color: #f6f6f6;}\n</style><tr><th></th><th></th></tr><tr><td>backend_version</td><td>1.0.0</td></tr><tr><td>credits_required</td><td>True</td></tr><tr><td>coupling_map</td><td>[[1, 0], [1, 2], [2, 3], [4, 3], [4, 10], [5, 4], [5, 6], [5, 9], [6, 8], [7, 8], [9, 8], [9, 10], [11, 3], [11, 10], [11, 12], [12, 2], [13, 1], [13, 12]]</td></tr><tr><td>online_date</td><td>2018-11-06T05:00:00+00:00</td></tr><tr><td>url</td><td>None</td></tr><tr><td>n_registers</td><td>1</td></tr><tr><td>sample_name</td><td>albatross</td></tr><tr><td>backend_name</td><td>ibmq_16_melbourne</td></tr><tr><td>memory</td><td>False</td></tr><tr><td>max_experiments</td><td>75</td></tr><tr><td>open_pulse</td><td>False</td></tr><tr><td>allow_q_object</td><td>True</td></tr><tr><td>conditional</td><td>False</td></tr><tr><td>description</td><td>14 qubit device</td></tr><tr><td>max_shots</td><td>8192</td></tr></table>"
      }
     },
     "dfffca96fbbb43b0b0c263b1006d9aca": {
      "model_module": "@jupyter-widgets/controls",
      "model_module_version": "1.4.0",
      "model_name": "GridBoxModel",
      "state": {
       "children": [
        "IPY_MODEL_7684c0cf4f734d039b3882e1844c6d93",
        "IPY_MODEL_e0d97d4aa01e4c4cbef6c3fc496e285b",
        "IPY_MODEL_0a740d17b76246baab47eac4edfb567d",
        "IPY_MODEL_3b9e0edcd2794fb2a743237a06ccccf4"
       ],
       "layout": "IPY_MODEL_69661ffc100a46628afa0a1abae68b3f"
      }
     },
     "e069d7f6fb704d669520ddfed7ca52b1": {
      "model_module": "@jupyter-widgets/base",
      "model_module_version": "1.1.0",
      "model_name": "LayoutModel",
      "state": {
       "align_items": "center",
       "display": "flex-inline",
       "grid_area": "top",
       "height": "auto",
       "width": "auto"
      }
     },
     "e0d97d4aa01e4c4cbef6c3fc496e285b": {
      "model_module": "@jupyter-widgets/controls",
      "model_module_version": "1.4.0",
      "model_name": "HTMLModel",
      "state": {
       "layout": "IPY_MODEL_cfabfe5927954572a9ea070df1694101",
       "style": "IPY_MODEL_d86e813d887c4034a3eebefbd45eea4e",
       "value": "<table><style>\ntable {\n    border-collapse: collapse;\n    width: auto;\n}\n\nth, td {\n    text-align: left;\n    padding: 8px;\n}\n\ntr:nth-child(even) {background-color: #f6f6f6;};\n</style><tr><th></th><th>Type</th><th>Gate error</th></tr><tr><td><font style='font-weight:bold'>CX1_0</font></td><td>cx</td><td>0.03717</td></tr><tr><td><font style='font-weight:bold'>CX1_2</font></td><td>cx</td><td>0.03059</td></tr><tr><td><font style='font-weight:bold'>CX2_3</font></td><td>cx</td><td>0.04977</td></tr><tr><td><font style='font-weight:bold'>CX4_3</font></td><td>cx</td><td>0.05414</td></tr><tr><td><font style='font-weight:bold'>CX4_10</font></td><td>cx</td><td>0.02477</td></tr><tr><td><font style='font-weight:bold'>CX5_4</font></td><td>cx</td><td>0.04962</td></tr></table>"
      }
     },
     "e1f0100efac84aa89fdd3d4483b1d44a": {
      "model_module": "@jupyter-widgets/controls",
      "model_module_version": "1.4.0",
      "model_name": "VBoxModel",
      "state": {
       "children": [
        "IPY_MODEL_fd81f1f9356c4fe28dc7d10de1387d20",
        "IPY_MODEL_797e6de7c8464c0e808a6452a05d300c"
       ],
       "layout": "IPY_MODEL_c565e57622604760aad7be1f54b7b461"
      }
     },
     "e30571d523d14176a4aa413917b0cea3": {
      "model_module": "@jupyter-widgets/base",
      "model_module_version": "1.1.0",
      "model_name": "LayoutModel",
      "state": {
       "grid_area": "left"
      }
     },
     "e3cdbf08ff464984bac1378e76c47262": {
      "model_module": "@jupyter-widgets/controls",
      "model_module_version": "1.4.0",
      "model_name": "DescriptionStyleModel",
      "state": {
       "description_width": ""
      }
     },
     "e49bbf70708e4d76887cb3402c73c200": {
      "model_module": "@jupyter-widgets/controls",
      "model_module_version": "1.4.0",
      "model_name": "HTMLModel",
      "state": {
       "layout": "IPY_MODEL_4ef5142b7c804149ae486885f0473a61",
       "style": "IPY_MODEL_cf6e44c5d9a04e7ba3ad2eb7c0f221f9",
       "value": "<table><style>\ntable {\n    border-collapse: collapse;\n    width: auto;\n}\n\nth, td {\n    text-align: left;\n    padding: 8px;\n}\n\ntr:nth-child(even) {background-color: #f6f6f6;};\n</style><tr><th></th><th>Type</th><th>Gate error</th></tr><tr><td><font style='font-weight:bold'>CX11_3</font></td><td>cx</td><td>0.04415</td></tr><tr><td><font style='font-weight:bold'>CX11_10</font></td><td>cx</td><td>0.08279</td></tr><tr><td><font style='font-weight:bold'>CX11_12</font></td><td>cx</td><td>0.04101</td></tr><tr><td><font style='font-weight:bold'>CX12_2</font></td><td>cx</td><td>0.07346</td></tr><tr><td><font style='font-weight:bold'>CX13_1</font></td><td>cx</td><td>0.13844</td></tr><tr><td><font style='font-weight:bold'>CX13_12</font></td><td>cx</td><td>0.04083</td></tr></table>"
      }
     },
     "eb842f114e08454ba7067b1090542855": {
      "model_module": "@jupyter-widgets/base",
      "model_module_version": "1.1.0",
      "model_name": "LayoutModel",
      "state": {}
     },
     "ec78d39a6a1440b3864eb362f6c7e408": {
      "model_module": "@jupyter-widgets/output",
      "model_module_version": "1.0.0",
      "model_name": "OutputModel",
      "state": {
       "layout": "IPY_MODEL_cc0093109eb44ac39b528c356884370f",
       "outputs": [
        {
         "data": {
          "image/png": "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\n",
          "text/plain": "<Figure size 648x216 with 1 Axes>"
         },
         "metadata": {},
         "output_type": "display_data"
        }
       ]
      }
     },
     "edafdb998409418fafca99b112108cd8": {
      "model_module": "@jupyter-widgets/base",
      "model_module_version": "1.1.0",
      "model_name": "LayoutModel",
      "state": {}
     },
     "edbde6bdf4bb402896c08e2bb7e94118": {
      "model_module": "@jupyter-widgets/output",
      "model_module_version": "1.0.0",
      "model_name": "OutputModel",
      "state": {
       "layout": "IPY_MODEL_8757d339c25d47d5aef897648b6f8510",
       "outputs": [
        {
         "data": {
          "image/png": "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\n",
          "text/plain": "<Figure size 360x360 with 1 Axes>"
         },
         "metadata": {},
         "output_type": "display_data"
        }
       ]
      }
     },
     "edc9376dd14d4c8cbff3dd28373753ac": {
      "model_module": "@jupyter-widgets/output",
      "model_module_version": "1.0.0",
      "model_name": "OutputModel",
      "state": {
       "layout": "IPY_MODEL_f2adab9bd96a4faf9976a58df0bd4ac6",
       "outputs": [
        {
         "data": {
          "image/png": "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\n",
          "text/plain": "<Figure size 810x270 with 1 Axes>"
         },
         "metadata": {},
         "output_type": "display_data"
        }
       ]
      }
     },
     "edea19ba17a94cf19a4d0605c99a35f9": {
      "model_module": "@jupyter-widgets/base",
      "model_module_version": "1.1.0",
      "model_name": "LayoutModel",
      "state": {}
     },
     "f2adab9bd96a4faf9976a58df0bd4ac6": {
      "model_module": "@jupyter-widgets/base",
      "model_module_version": "1.1.0",
      "model_name": "LayoutModel",
      "state": {
       "align_items": "center",
       "display": "flex-inline",
       "grid_area": "top",
       "height": "auto",
       "width": "auto"
      }
     },
     "f440417fb55d480f94b0e0c5840ed13a": {
      "model_module": "@jupyter-widgets/base",
      "model_module_version": "1.1.0",
      "model_name": "LayoutModel",
      "state": {
       "max_height": "620px"
      }
     },
     "f703a325a19247a5b6212769457f15a0": {
      "model_module": "@jupyter-widgets/controls",
      "model_module_version": "1.4.0",
      "model_name": "HTMLModel",
      "state": {
       "layout": "IPY_MODEL_2b67ff5528ed4daf971d24516ad0c487",
       "style": "IPY_MODEL_fb90ce88efa54a2082c6a094cdfe589c",
       "value": "<table><style>\ntable {\n    border-collapse: collapse;\n    width: auto;\n}\n\nth, td {\n    text-align: left;\n    padding: 8px;\n}\n\ntr:nth-child(even) {background-color: #f6f6f6;};\n</style><tr><th></th><th>Type</th><th>Gate error</th></tr><tr><td><font style='font-weight:bold'>CX5_6</font></td><td>cx</td><td>0.09534</td></tr><tr><td><font style='font-weight:bold'>CX5_9</font></td><td>cx</td><td>0.05213</td></tr><tr><td><font style='font-weight:bold'>CX6_8</font></td><td>cx</td><td>0.03391</td></tr><tr><td><font style='font-weight:bold'>CX7_8</font></td><td>cx</td><td>0.02883</td></tr><tr><td><font style='font-weight:bold'>CX9_8</font></td><td>cx</td><td>0.05521</td></tr><tr><td><font style='font-weight:bold'>CX9_10</font></td><td>cx</td><td>0.03347</td></tr></table>"
      }
     },
     "f73fee75902f4352809522edcfab3e8c": {
      "model_module": "@jupyter-widgets/controls",
      "model_module_version": "1.4.0",
      "model_name": "HTMLModel",
      "state": {
       "layout": "IPY_MODEL_6fc0af8d71fb4815927289aa8537e7f6",
       "style": "IPY_MODEL_59e3b5e3feea4db383e9d48ad4027ea4",
       "value": "<table><style>\ntable {\n    border-collapse: collapse;\n    width: auto;\n}\n\nth, td {\n    text-align: left;\n    padding: 8px;\n}\n\ntr:nth-child(even) {background-color: #f6f6f6;}\n</style><tr><th>Property</th><th>Value</th></tr><tr><td><font style='font-weight:bold'>n_qubits</font></td><td>14</td></tr><tr><td><font style='font-weight:bold'>operational</font></td><td>True</td></tr><tr><td><font style='font-weight:bold'>status_msg</font></td><td>active</td></tr><tr><td><font style='font-weight:bold'>pending_jobs</font></td><td>0</td></tr><tr><td><font style='font-weight:bold'>basis_gates</font></td><td>['u1', 'u2', 'u3', 'cx', 'id']</td></tr><tr><td><font style='font-weight:bold'>local</font></td><td>False</td></tr><tr><td><font style='font-weight:bold'>simulator</font></td><td>False</td></tr></table>"
      }
     },
     "fb90ce88efa54a2082c6a094cdfe589c": {
      "model_module": "@jupyter-widgets/controls",
      "model_module_version": "1.4.0",
      "model_name": "DescriptionStyleModel",
      "state": {
       "description_width": ""
      }
     },
     "fb9ca074d0764cc8ab6343fb5a8aa538": {
      "model_module": "@jupyter-widgets/controls",
      "model_module_version": "1.4.0",
      "model_name": "DescriptionStyleModel",
      "state": {
       "description_width": ""
      }
     },
     "fc9c41d8808541fb98aa80fc32beac4e": {
      "model_module": "@jupyter-widgets/controls",
      "model_module_version": "1.4.0",
      "model_name": "HTMLModel",
      "state": {
       "layout": "IPY_MODEL_edafdb998409418fafca99b112108cd8",
       "style": "IPY_MODEL_9d743fefc6a84ee98da90990d8e63db2",
       "value": "<div><font style='font-weight:bold'>last_update_date</font>: 2019-05-02T08:22:12+00:00</div>"
      }
     },
     "fd81f1f9356c4fe28dc7d10de1387d20": {
      "model_module": "@jupyter-widgets/controls",
      "model_module_version": "1.4.0",
      "model_name": "HTMLModel",
      "state": {
       "layout": "IPY_MODEL_9389696d910845378dfc5e22ea298063",
       "style": "IPY_MODEL_67d839e11407463c80c338cfa8a3885f",
       "value": "<div><font style='font-weight:bold'>last_update_date</font>: 2019-05-02T08:22:12+00:00</div>"
      }
     },
     "fdea5ecf87e94988b9a5a4e269acd38c": {
      "model_module": "@jupyter-widgets/output",
      "model_module_version": "1.0.0",
      "model_name": "OutputModel",
      "state": {
       "layout": "IPY_MODEL_93921c5e02a6410ea90fbc45fa25c4ad",
       "outputs": [
        {
         "data": {
          "image/png": "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\n",
          "text/plain": "<Figure size 216x72 with 1 Axes>"
         },
         "metadata": {},
         "output_type": "display_data"
        }
       ]
      }
     }
    },
    "version_major": 2,
    "version_minor": 0
   }
  }
 },
 "nbformat": 4,
 "nbformat_minor": 2
}
