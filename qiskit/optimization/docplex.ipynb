{
 "cells": [
  {
   "cell_type": "markdown",
   "metadata": {},
   "source": [
    "<img src=\"../../../images/qiskit-heading.gif\" alt=\"Note: In order for images to show up in this jupyter notebook you need to select File => Trusted Notebook\" width=\"500 px\" align=\"left\">"
   ]
  },
  {
   "cell_type": "markdown",
   "metadata": {},
   "source": [
    "# _*Qiskit Aqua: Generating Ising Hamiltonians from optimization models with DOcplex*_\n",
    "\n",
    "The latest version of this notebook is available on https://github.com/Qiskit/qiskit-tutorial.\n",
    "\n",
    "***\n",
    "### Contributors\n",
    "Atsushi Matsuo<sup>[1]</sup>, Takashi Imamichi<sup>[1]</sup>, Marco Pistoia<sup>[1]</sup>, Stephen Wood<sup>[1]</sup>\n",
    "### Affiliation\n",
    "- <sup>[1]</sup>IBMQ"
   ]
  },
  {
   "cell_type": "markdown",
   "metadata": {},
   "source": [
    "## Introduction\n",
    "There has been a growing interest in using quantum computers to find solutions of combinatorial problems. A heuristic approach for finding solutions of combinatorial problems on quantum computers is the quantum variational approach, such as the Variational Quantum \n",
    "Eigensolver (VQE) algorithm (see https://arxiv.org/abs/1802.00171 and the Quantum Approximate Optimization Algorithm (QAOA) (see https://arxiv.org/abs/1411.4028). In order to use a quantum variational approach on quantum computers, first, we need to map a combinatorial problem to an Ising Hamiltonian. However Ising Hamiltonians are complicated and unintuitive. Mapping a combinatorial problem to Ising Hamiltonians can be a difficult and time-consuming task, requiring specialized knowledge.\n",
    "\n",
    "In this tutorial, we introduce a translator to automatically generate Ising Hamiltonians from classical optimization models. We will explain about classical optimization models later. The translator dramatically simplifies the task of designing and implementing quantum-computing-based solutions, for optimization problems, by automatically generating Ising Hamiltonians for different optimization problems. With the translator, all a user has to do is to write optimization models using DOcplex (see https://cdn.rawgit.com/IBMDecisionOptimization/docplex-doc/master/docs/index.html). DOcplex is a python library for optimization problems.\n",
    "Then the translator will automatically generate Ising Hamiltonians from the models. Optimization models are short and intuitive. It is much easier to write optimization models compared to writing Ising Hamiltonians manually. \n",
    "\n",
    "The quantum variational approach works with the translator in Qiskit Aqua as follows:\n",
    "1. Write an optimization model of the formulation with DOcplex.\n",
    "2. Call the translator to transform the model into an Ising Hamiltonian.\n",
    "3. Solve the problem with variational algorithms such as VQE and QAOA.\n",
    "\n",
    "\n",
    "### Details of Optimization Models\n",
    "The translator supports the generation of an Ising Hamiltonian from the following optimization model elements:\n",
    "- Binary decision variables. \n",
    "- Linear and quadratic terms in objective functions.\n",
    "- Only equality constraints.  \n",
    "\n",
    "Input models are validated before transformation. If the model contains elements that are not from the supported set, an error will be raised.\n",
    "\n",
    "Even though there are restrictions, this type of optimization model can handle optimization problems such as max-cut, traveling salesman etc.\n",
    "These are typical optimization problems. Examples of the translator being used for Max-Cut and TSP problems can be found in the following tutorial:\n",
    "- [Qiskit Aqua: Experimenting with Max-Cut problem and Traveling Salesman problem with variational quantum eigensolver](max_cut_and_tsp.ipynb)"
   ]
  },
  {
   "cell_type": "markdown",
   "metadata": {},
   "source": [
    "### A Usage Example: Maximize the number of variables by taking into account constraints\n",
    "The following is a toy example of a maximization problem with constraints.\n",
    "\n",
    "\\begin{aligned}\n",
    "   & \\text{maximize}\n",
    "       & \\sum_{i} x_{i}\\\\\n",
    "   & \\text{subject to}\n",
    "       & \\sum_{i} i * x_{i}=3\\\\\n",
    "       & & i \\in \\{1,2,3,4\\} \\\\\n",
    "       & & x_i \\in \\{0,1\\}\\\\\n",
    "\\end{aligned}"
   ]
  },
  {
   "cell_type": "code",
   "execution_count": 2,
   "metadata": {},
   "outputs": [],
   "source": [
    "from docplex.mp.model import Model\n",
    "\n",
    "from qiskit import BasicAer\n",
    "from qiskit.aqua import Operator, run_algorithm\n",
    "from qiskit.aqua.algorithms import VQE, ExactEigensolver\n",
    "from qiskit.aqua.components.optimizers import SPSA\n",
    "from qiskit.aqua.components.variational_forms import RY\n",
    "from qiskit.aqua import QuantumInstance\n",
    "from qiskit.aqua.translators.ising import docplex\n",
    "\n",
    "# setup aqua logging\n",
    "import logging\n",
    "from qiskit.aqua import set_qiskit_aqua_logging\n",
    "# set_qiskit_aqua_logging(logging.DEBUG)  # choose INFO, DEBUG to see the log"
   ]
  },
  {
   "cell_type": "markdown",
   "metadata": {},
   "source": [
    "### Creating an optimization model of the above problem using DOcplex\n",
    "An optimization model of the problem with DOcplex is written as follows.  \n",
    "* First an instance of `Model` is created and variables for the model are defined. \n",
    "* Next an objective function is written and passed to the model. The objective function is a function that we would like to minimize (or maximize).\n",
    "* Finally constraints are added. "
   ]
  },
  {
   "cell_type": "code",
   "execution_count": 3,
   "metadata": {
    "scrolled": true
   },
   "outputs": [
    {
     "name": "stdout",
     "output_type": "stream",
     "text": [
      "\\ This file has been generated by DOcplex\n",
      "\\ ENCODING=ISO-8859-1\n",
      "\\Problem name: max_vars\n",
      "\n",
      "Maximize\n",
      " obj: x_1 + x_2 + x_3 + x_4\n",
      "Subject To\n",
      " c1: x_1 + 2 x_2 + 3 x_3 + 4 x_4 = 3\n",
      "\n",
      "Bounds\n",
      "0 <= x_1 <= 1\n",
      "0 <= x_2 <= 1\n",
      "0 <= x_3 <= 1\n",
      "0 <= x_4 <= 1\n",
      "\n",
      "Binaries\n",
      " x_1 x_2 x_3 x_4\n",
      "End\n",
      "\n"
     ]
    }
   ],
   "source": [
    "# Create an instance of a model and variables\n",
    "mdl = Model(name='max_vars')\n",
    "x = {i: mdl.binary_var(name='x_{0}'.format(i)) for i in range(1,5)}\n",
    "\n",
    "# Objective function\n",
    "max_vars_func = mdl.sum(x[i] for i in range(1,5))\n",
    "mdl.maximize(max_vars_func)\n",
    "\n",
    "# Constraints\n",
    "mdl.add_constraint(mdl.sum(i*x[i] for i in range(1,5)) == 3)\n",
    "\n",
    "print(mdl.export_to_string())"
   ]
  },
  {
   "cell_type": "markdown",
   "metadata": {},
   "source": [
    "### Generate an Ising Hamiltonian from the model using ```docplex.get_qubitops(mdl)```\n"
   ]
  },
  {
   "cell_type": "code",
   "execution_count": 3,
   "metadata": {},
   "outputs": [],
   "source": [
    "qubitOp, offset = docplex.get_qubitops(mdl)"
   ]
  },
  {
   "cell_type": "markdown",
   "metadata": {},
   "source": [
    "### Checking that the full Hamiltonian gives the right cost"
   ]
  },
  {
   "cell_type": "code",
   "execution_count": 4,
   "metadata": {},
   "outputs": [
    {
     "name": "stdout",
     "output_type": "stream",
     "text": [
      "energy: -57.5\n",
      "objective: -2.0\n",
      "solution: [1. 1. 0. 0.]\n"
     ]
    }
   ],
   "source": [
    "ee = ExactEigensolver(qubitOp, k=1)\n",
    "result = ee.run()\n",
    "\n",
    "print('energy:', result['energy'])\n",
    "print('objective:', result['energy'] + offset)\n",
    "\n",
    "x = docplex.sample_most_likely(result['eigvecs'][0])\n",
    "print('solution:', x)"
   ]
  },
  {
   "cell_type": "markdown",
   "metadata": {},
   "source": [
    "### Running it on quantum computer\n",
    "We run the optimization routine using a feedback loop with a quantum computer that uses trial functions built with Y single-qubit rotations, $U_\\mathrm{single}(\\theta) = \\prod_{i=1}^n Y(\\theta_{i})$, and entangler steps $U_\\mathrm{entangler}$."
   ]
  },
  {
   "cell_type": "code",
   "execution_count": 9,
   "metadata": {},
   "outputs": [
    {
     "name": "stdout",
     "output_type": "stream",
     "text": [
      "energy: -57.16261789728296\n",
      "time: 10.59960389137268\n",
      "solution objective: -1.6626178972829635\n",
      "solution: [1. 1. 0. 0.]\n"
     ]
    }
   ],
   "source": [
    "seed = 10598\n",
    "\n",
    "spsa = SPSA(max_trials=300)\n",
    "ry = RY(qubitOp.num_qubits, depth=5, entanglement='linear')\n",
    "vqe = VQE(qubitOp, ry, spsa, 'matrix')\n",
    "\n",
    "backend = BasicAer.get_backend('statevector_simulator')\n",
    "quantum_instance = QuantumInstance(backend, seed=seed, seed_transpiler=seed)\n",
    "\n",
    "result = vqe.run(quantum_instance)\n",
    "\n",
    "\"\"\"declarative approach\n",
    "algorithm_cfg = {\n",
    "    'name': 'VQE',\n",
    "    'operator_mode': 'matrix'\n",
    "}\n",
    "\n",
    "optimizer_cfg = {\n",
    "    'name': 'SPSA',\n",
    "    'max_trials': 300\n",
    "}\n",
    "\n",
    "var_form_cfg = {\n",
    "    'name': 'RY',\n",
    "    'depth': 5,\n",
    "    'entanglement': 'linear'\n",
    "}\n",
    "\n",
    "params = {\n",
    "    'problem': {'name': 'ising', 'random_seed': seed},\n",
    "    'algorithm': algorithm_cfg,\n",
    "    'optimizer': optimizer_cfg,\n",
    "    'variational_form': var_form_cfg,\n",
    "    'backend': {provider': 'qiskit.BasicAer', 'name': 'statevector_simulator'}\n",
    "}\n",
    "\n",
    "result = run_algorithm(params, algo_input)\n",
    "\"\"\"\n",
    "\n",
    "x = docplex.sample_most_likely(result['eigvecs'][0])\n",
    "print('energy:', result['energy'])\n",
    "print('time:', result['eval_time'])\n",
    "print('solution objective:', result['energy'] + offset)\n",
    "print('solution:', x)"
   ]
  }
 ],
 "metadata": {
  "kernelspec": {
   "display_name": "Python 3",
   "language": "python",
   "name": "python3"
  },
  "language_info": {
   "codemirror_mode": {
    "name": "ipython",
    "version": 3
   },
   "file_extension": ".py",
   "mimetype": "text/x-python",
   "name": "python",
   "nbconvert_exporter": "python",
   "pygments_lexer": "ipython3",
   "version": "3.7.2"
  }
 },
 "nbformat": 4,
 "nbformat_minor": 2
}
