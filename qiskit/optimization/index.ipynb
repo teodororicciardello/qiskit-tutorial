{
 "cells": [
  {
   "cell_type": "markdown",
   "metadata": {},
   "source": [
    "# Qiskit Optimization\n",
    "\n",
    "Qiskit Optimization is a set of tools, algorithms and software for use with quantum computers to \n",
    "carry out research and investigate how to take advantage of quantum computing power to solve optimization problems. \n",
    "\n",
    "## Contents\n",
    "\n",
    "* [Solve classical optimization](max_cut_and_tsp.ipynb) (Max-Cut and Traveling Salesman Problem)\n",
    "* More examples can be found in [community/optimization](../../community/optimization)"
   ]
  },
  {
   "cell_type": "code",
   "execution_count": null,
   "metadata": {
    "collapsed": true
   },
   "outputs": [],
   "source": []
  }
 ],
 "metadata": {
  "kernelspec": {
   "display_name": "Python 3",
   "language": "python",
   "name": "python3"
  },
  "language_info": {
   "codemirror_mode": {
    "name": "ipython",
    "version": 3
   },
   "file_extension": ".py",
   "mimetype": "text/x-python",
   "name": "python",
   "nbconvert_exporter": "python",
   "pygments_lexer": "ipython3",
   "version": "3.6.1"
  }
 },
 "nbformat": 4,
 "nbformat_minor": 2
}
