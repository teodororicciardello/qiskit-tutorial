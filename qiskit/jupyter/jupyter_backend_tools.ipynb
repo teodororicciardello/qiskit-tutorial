{
 "cells": [
  {
   "cell_type": "markdown",
   "metadata": {},
   "source": [
    "<img src=\"../../images/qiskit-heading.gif\" alt=\"Note: In order for images to show up in this jupyter notebook you need to select File => Trusted Notebook\" width=\"500 px\" align=\"left\">"
   ]
  },
  {
   "cell_type": "markdown",
   "metadata": {},
   "source": [
    "# Jupyter Tools for Terra"
   ]
  },
  {
   "cell_type": "markdown",
   "metadata": {},
   "source": [
    "Using Qiskit Terra in a jupyter notebook allows the full power of a web browser to be harnessed to track the status of jobs and view the details of backends using HTML and Javascript.  Here we will demonstrated these tools.  Note that you will need to have `ipywidgets` version `7.3.0` or higher installed for this notebook.  This package is installed by default in Anaaconda Python. "
   ]
  },
  {
   "cell_type": "markdown",
   "metadata": {
    "ExecuteTime": {
     "end_time": "2018-11-08T16:22:54.277808Z",
     "start_time": "2018-11-08T16:22:54.274313Z"
    }
   },
   "source": [
    "## Loading the Monitoring Tools"
   ]
  },
  {
   "cell_type": "markdown",
   "metadata": {},
   "source": [
    "First, let us load the default qiskit routines, and register our IBMQ credentials."
   ]
  },
  {
   "cell_type": "code",
   "execution_count": null,
   "metadata": {},
   "outputs": [],
   "source": [
    "from qiskit import *\n",
    "IBMQ.load_accounts(hub=None)"
   ]
  },
  {
   "cell_type": "markdown",
   "metadata": {},
   "source": [
    "In order to load the Jupyter tools, we need to register them with the Jupyter kernel.  This is done via the `*` import below:"
   ]
  },
  {
   "cell_type": "code",
   "execution_count": null,
   "metadata": {},
   "outputs": [],
   "source": [
    "from qiskit.tools.jupyter import *"
   ]
  },
  {
   "cell_type": "markdown",
   "metadata": {},
   "source": [
    "The `job_monitor` function will also use Jupyter functionality in asynchronous mode, so lets load it as well:"
   ]
  },
  {
   "cell_type": "code",
   "execution_count": null,
   "metadata": {},
   "outputs": [],
   "source": [
    "from qiskit.tools.monitor import job_monitor"
   ]
  },
  {
   "cell_type": "markdown",
   "metadata": {},
   "source": [
    "## Tracking Job Status"
   ]
  },
  {
   "cell_type": "markdown",
   "metadata": {},
   "source": [
    "This is an extension of the `job_monitor` functionality explained in [Monitoring jobs and backends](../terra/backend_monitoring_tools.ipynb).  We encourage you to go through this notebook first, if you have not done so already."
   ]
  },
  {
   "cell_type": "markdown",
   "metadata": {},
   "source": [
    "### Monitoring the status of a single job asynchronously"
   ]
  },
  {
   "cell_type": "markdown",
   "metadata": {},
   "source": [
    "Lets us again build a simple Bell circuit, submit it to a device, and then monitor its status.  However, this time lets monitor the job in async-mode so that we can continue to use our notebook while we wait."
   ]
  },
  {
   "cell_type": "code",
   "execution_count": null,
   "metadata": {},
   "outputs": [],
   "source": [
    "q = QuantumRegister(2)\n",
    "c = ClassicalRegister(2)\n",
    "qc = QuantumCircuit(q, c)\n",
    "\n",
    "qc.h(q[0])\n",
    "qc.cx(q[0], q[1])\n",
    "qc.measure(q, c);"
   ]
  },
  {
   "cell_type": "markdown",
   "metadata": {},
   "source": [
    "Lets grab the least busy backend"
   ]
  },
  {
   "cell_type": "code",
   "execution_count": null,
   "metadata": {},
   "outputs": [],
   "source": [
    "from qiskit.providers.ibmq import least_busy\n",
    "backend = least_busy(IBMQ.backends(simulator=False))\n",
    "backend.name()"
   ]
  },
  {
   "cell_type": "markdown",
   "metadata": {},
   "source": [
    "Monitor the job using `job_monitor` using async-mode:"
   ]
  },
  {
   "cell_type": "code",
   "execution_count": null,
   "metadata": {},
   "outputs": [],
   "source": [
    "job = execute(qc, backend)\n",
    "job_monitor(job, monitor_async=True)"
   ]
  },
  {
   "cell_type": "markdown",
   "metadata": {},
   "source": [
    "It is also possible to monitor the job using the `qiskit_job_status` Jupyter notebook magic.  This method is always asynchronos."
   ]
  },
  {
   "cell_type": "code",
   "execution_count": null,
   "metadata": {},
   "outputs": [],
   "source": [
    "%%qiskit_job_status\n",
    "job2 = execute(qc, backend)"
   ]
  },
  {
   "cell_type": "markdown",
   "metadata": {},
   "source": [
    "Note that, for the `qiskit_job_status` to work, the job returned by `execute` must be stored in a variable so that it may be retrieved by the magic."
   ]
  },
  {
   "cell_type": "markdown",
   "metadata": {},
   "source": [
    "### Monitoring many jobs simultaneously"
   ]
  },
  {
   "cell_type": "markdown",
   "metadata": {},
   "source": [
    "Here we will monitor many jobs sent the the device.  It is best if the jobs are stored in a list to make retrevial easier."
   ]
  },
  {
   "cell_type": "code",
   "execution_count": null,
   "metadata": {},
   "outputs": [],
   "source": [
    "num_jobs = 5\n",
    "my_jobs = []\n",
    "for j in range(num_jobs):\n",
    "    my_jobs.append(execute(qc, backend))\n",
    "    job_monitor(my_jobs[j], monitor_async=True)"
   ]
  },
  {
   "cell_type": "markdown",
   "metadata": {},
   "source": [
    "Or, using magic:"
   ]
  },
  {
   "cell_type": "code",
   "execution_count": null,
   "metadata": {},
   "outputs": [],
   "source": [
    "%%qiskit_job_status\n",
    "my_jobs2 = []\n",
    "for j in range(num_jobs):\n",
    "    my_jobs2.append(execute(qc, backend))"
   ]
  },
  {
   "cell_type": "markdown",
   "metadata": {},
   "source": [
    "In the magics example, the magic is smart enough to know that the list `my_jobs2` contains jobs, and will automatically extract them and check their status.  We are not limited to using `jobs.append()`, and can use an indexed list or NumPy array as well:"
   ]
  },
  {
   "cell_type": "code",
   "execution_count": null,
   "metadata": {},
   "outputs": [],
   "source": [
    "%%qiskit_job_status\n",
    "import numpy as np\n",
    "my_jobs3 = np.empty(num_jobs, dtype=object)\n",
    "for j in range(num_jobs):\n",
    "    my_jobs3[j] = execute(qc, backend)"
   ]
  },
  {
   "cell_type": "markdown",
   "metadata": {},
   "source": [
    "### Changing the interval of status updating"
   ]
  },
  {
   "cell_type": "markdown",
   "metadata": {},
   "source": [
    "We have already seen in [Monitoring jobs and backends](../terra/backend_monitoring_tools.ipynb) how to change the interval of job status checks.  Here we demo how this works in the magic tools using the `-i` or `--interval` arguments:"
   ]
  },
  {
   "cell_type": "code",
   "execution_count": null,
   "metadata": {},
   "outputs": [],
   "source": [
    "%%qiskit_job_status -i 5\n",
    "job4 = execute(qc, backend)"
   ]
  },
  {
   "cell_type": "code",
   "execution_count": null,
   "metadata": {},
   "outputs": [],
   "source": [
    "%%qiskit_job_status --interval 5\n",
    "job5 = execute(qc, backend)"
   ]
  },
  {
   "cell_type": "markdown",
   "metadata": {},
   "source": [
    "## Rich Display of Backend Details"
   ]
  },
  {
   "cell_type": "markdown",
   "metadata": {},
   "source": [
    "[Monitoring jobs and backends](../terra/backend_monitoring_tools.ipynb) explored how to view the detailed information on IBM Q devices using text-based functions.  Here we will use the notebook interface to display the device details in a visual widget that are called via magic functions."
   ]
  },
  {
   "cell_type": "markdown",
   "metadata": {},
   "source": [
    "To get detailed information on a single backend device, use the `%qiskit_backend_monitor` magic:"
   ]
  },
  {
   "cell_type": "code",
   "execution_count": null,
   "metadata": {},
   "outputs": [],
   "source": [
    "%qiskit_backend_monitor backend"
   ]
  },
  {
   "cell_type": "markdown",
   "metadata": {},
   "source": [
    "To view all the backends that are available from the `IBMQ` provider (after calling `IBMQ.load_accounts()`), you can use the `backend_overview` magic that runs live in the notebook, and will automatically update itself every minute."
   ]
  },
  {
   "cell_type": "code",
   "execution_count": null,
   "metadata": {},
   "outputs": [],
   "source": [
    "%qiskit_backend_overview"
   ]
  },
  {
   "cell_type": "code",
   "execution_count": null,
   "metadata": {},
   "outputs": [],
   "source": []
  }
 ],
 "metadata": {
  "hide_input": false,
  "kernelspec": {
   "display_name": "Python 3",
   "language": "python",
   "name": "python3"
  },
  "language_info": {
   "codemirror_mode": {
    "name": "ipython",
    "version": 3
   },
   "file_extension": ".py",
   "mimetype": "text/x-python",
   "name": "python",
   "nbconvert_exporter": "python",
   "pygments_lexer": "ipython3",
   "version": "3.7.1"
  },
  "widgets": {
   "application/vnd.jupyter.widget-state+json": {
    "state": {
     "042c32c068074b5f843431eb820cdde6": {
      "model_module": "@jupyter-widgets/controls",
      "model_module_version": "1.4.0",
      "model_name": "DescriptionStyleModel",
      "state": {
       "description_width": ""
      }
     },
     "04c5587c11cd400cb385cc9fdf07114e": {
      "model_module": "@jupyter-widgets/controls",
      "model_module_version": "1.4.0",
      "model_name": "LabelModel",
      "state": {
       "layout": "IPY_MODEL_1c87df1433254800b84c8682ac42c12c",
       "style": "IPY_MODEL_ef0d60567246435083f0f679304fbac9",
       "value": "50"
      }
     },
     "06611a3e584b4857aec11140fc66fdca": {
      "model_module": "@jupyter-widgets/output",
      "model_module_version": "1.0.0",
      "model_name": "OutputModel",
      "state": {
       "layout": "IPY_MODEL_e24d49272823430a87f38bf5abb3ed0d",
       "outputs": [
        {
         "data": {
          "image/png": "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\n",
          "text/plain": "<Figure size 648x216 with 1 Axes>"
         },
         "metadata": {},
         "output_type": "display_data"
        }
       ]
      }
     },
     "06687a8dcb554f1a9c4d9e525ab7311a": {
      "model_module": "@jupyter-widgets/controls",
      "model_module_version": "1.4.0",
      "model_name": "DescriptionStyleModel",
      "state": {
       "description_width": ""
      }
     },
     "07d583147f234321bceb654e5074a0b4": {
      "model_module": "@jupyter-widgets/controls",
      "model_module_version": "1.4.0",
      "model_name": "DescriptionStyleModel",
      "state": {
       "description_width": ""
      }
     },
     "0808073632d245978d8ee7c5d44da277": {
      "model_module": "@jupyter-widgets/controls",
      "model_module_version": "1.4.0",
      "model_name": "HTMLModel",
      "state": {
       "layout": "IPY_MODEL_08230b77785c40ab945c2e82b09bd13c",
       "style": "IPY_MODEL_24cc8254f30a4db28273d15c43bb08f8",
       "value": "<table><style>\ntable {\n    border-collapse: collapse;\n    width: auto;\n}\n\nth, td {\n    text-align: left;\n    padding: 8px;\n}\n\ntr:nth-child(even) {background-color: #f6f6f6;};\n</style><tr><th></th><th>Type</th><th>Gate error</th></tr><tr><td><font style='font-weight:bold'>CX5_6</font></td><td>cx</td><td>0.06737</td></tr><tr><td><font style='font-weight:bold'>CX5_9</font></td><td>cx</td><td>0.04426</td></tr><tr><td><font style='font-weight:bold'>CX6_8</font></td><td>cx</td><td>0.0552</td></tr><tr><td><font style='font-weight:bold'>CX7_8</font></td><td>cx</td><td>0.0416</td></tr><tr><td><font style='font-weight:bold'>CX9_8</font></td><td>cx</td><td>0.05264</td></tr><tr><td><font style='font-weight:bold'>CX9_10</font></td><td>cx</td><td>0.03969</td></tr></table>"
      }
     },
     "08230b77785c40ab945c2e82b09bd13c": {
      "model_module": "@jupyter-widgets/base",
      "model_module_version": "1.1.0",
      "model_name": "LayoutModel",
      "state": {
       "grid_area": "middle"
      }
     },
     "08e3b5a9186c43698df3826b615f14a1": {
      "model_module": "@jupyter-widgets/controls",
      "model_module_version": "1.4.0",
      "model_name": "HTMLModel",
      "state": {
       "layout": "IPY_MODEL_2ba0044fbbe843b59507977a999f401f",
       "style": "IPY_MODEL_4505083b3d15482db21a2d1308d6ea2c",
       "value": "<h4>ibmq_16_melbourne</h4>"
      }
     },
     "0995a2dd5f6a4145a0fc10b09596846b": {
      "model_module": "@jupyter-widgets/base",
      "model_module_version": "1.1.0",
      "model_name": "LayoutModel",
      "state": {
       "min_width": "auto"
      }
     },
     "0b4ac5252011472db9196f0e3cf107d1": {
      "model_module": "@jupyter-widgets/base",
      "model_module_version": "1.1.0",
      "model_name": "LayoutModel",
      "state": {}
     },
     "0cfa5e6399f5491084098ad6a073f4d1": {
      "model_module": "@jupyter-widgets/controls",
      "model_module_version": "1.4.0",
      "model_name": "HTMLModel",
      "state": {
       "layout": "IPY_MODEL_e85bef5c1c194f3c8a0835f2a6bba126",
       "style": "IPY_MODEL_f8ef5207c2c44adebd1a6ff7e4c62507",
       "value": "<p style='font-size:16px;'>Job Status [4]: job is queued (81) </p>"
      }
     },
     "0d5a946de3e1471d96c55ca760b0c500": {
      "model_module": "@jupyter-widgets/base",
      "model_module_version": "1.1.0",
      "model_name": "LayoutModel",
      "state": {}
     },
     "0d5ab44171384a5ca42a2f51918f1975": {
      "model_module": "@jupyter-widgets/controls",
      "model_module_version": "1.4.0",
      "model_name": "HTMLModel",
      "state": {
       "layout": "IPY_MODEL_6e74f4ae47e249e9ae45cc70f0ae19c4",
       "style": "IPY_MODEL_f2f45f3b189d478697cf548bba33f657",
       "value": "<table><style>\ntable {\n    border-collapse: collapse;\n    width: auto;\n}\n\nth, td {\n    text-align: left;\n    padding: 8px;\n}\n\ntr:nth-child(even) {background-color: #f6f6f6;}\n</style><tr><th></th><th></th></tr><tr><td>max_experiments</td><td>75</td></tr><tr><td>coupling_map</td><td>[[1, 0], [1, 2], [2, 3], [4, 3], [4, 10], [5, 4], [5, 6], [5, 9], [6, 8], [7, 8], [9, 8], [9, 10], [11, 3], [11, 10], [11, 12], [12, 2], [13, 1], [13, 12]]</td></tr><tr><td>conditional</td><td>False</td></tr><tr><td>max_shots</td><td>8192</td></tr><tr><td>description</td><td>14 qubit device</td></tr><tr><td>credits_required</td><td>True</td></tr><tr><td>n_registers</td><td>1</td></tr><tr><td>url</td><td>None</td></tr><tr><td>online_date</td><td>2018-11-06T05:00:00+00:00</td></tr><tr><td>allow_q_object</td><td>True</td></tr><tr><td>open_pulse</td><td>False</td></tr><tr><td>backend_version</td><td>1.0.0</td></tr><tr><td>backend_name</td><td>ibmq_16_melbourne</td></tr><tr><td>memory</td><td>False</td></tr><tr><td>sample_name</td><td>albatross</td></tr></table>"
      }
     },
     "0f9b7dd09fd94edfb3cb7303251a7449": {
      "model_module": "@jupyter-widgets/controls",
      "model_module_version": "1.4.0",
      "model_name": "HTMLModel",
      "state": {
       "layout": "IPY_MODEL_945d81cd9faf43b59f9fd8e489be4252",
       "style": "IPY_MODEL_12a344a314104ed6a02d02537c1ae686",
       "value": "<p style='font-size:16px;'>Job Status: job is queued (70) </p>"
      }
     },
     "11421806d3b64ede929af250f5be6529": {
      "model_module": "@jupyter-widgets/base",
      "model_module_version": "1.1.0",
      "model_name": "LayoutModel",
      "state": {
       "margin": "0px 0px 0px 0px"
      }
     },
     "114866670e4f4e7687d68d7556a0bbc6": {
      "model_module": "@jupyter-widgets/base",
      "model_module_version": "1.1.0",
      "model_name": "LayoutModel",
      "state": {}
     },
     "11afcf10534e485f8eb5a9d196ce677b": {
      "model_module": "@jupyter-widgets/controls",
      "model_module_version": "1.4.0",
      "model_name": "DescriptionStyleModel",
      "state": {
       "description_width": ""
      }
     },
     "12a344a314104ed6a02d02537c1ae686": {
      "model_module": "@jupyter-widgets/controls",
      "model_module_version": "1.4.0",
      "model_name": "DescriptionStyleModel",
      "state": {
       "description_width": ""
      }
     },
     "12ed9bb3c1ff45c997b0b77912b4f07a": {
      "model_module": "@jupyter-widgets/controls",
      "model_module_version": "1.4.0",
      "model_name": "HTMLModel",
      "state": {
       "layout": "IPY_MODEL_f92eada7a81847c0b678c73bcce42528",
       "style": "IPY_MODEL_5251dbe0606c46c5b3ebb30159cfac8c",
       "value": "<table><style>\ntable {\n    border-collapse: collapse;\n    width: auto;\n}\n\nth, td {\n    text-align: left;\n    padding: 8px;\n}\n\ntr:nth-child(even) {background-color: #f6f6f6;};\n</style><tr><th></th><th>Type</th><th>Gate error</th></tr><tr><td><font style='font-weight:bold'>CX1_0</font></td><td>cx</td><td>0.05398</td></tr><tr><td><font style='font-weight:bold'>CX1_2</font></td><td>cx</td><td>0.04118</td></tr><tr><td><font style='font-weight:bold'>CX2_3</font></td><td>cx</td><td>0.03678</td></tr><tr><td><font style='font-weight:bold'>CX4_3</font></td><td>cx</td><td>0.0615</td></tr><tr><td><font style='font-weight:bold'>CX4_10</font></td><td>cx</td><td>0.06482</td></tr><tr><td><font style='font-weight:bold'>CX5_4</font></td><td>cx</td><td>0.05584</td></tr></table>"
      }
     },
     "132a3252247e4fa2a385b92cf19ce722": {
      "model_module": "@jupyter-widgets/output",
      "model_module_version": "1.0.0",
      "model_name": "OutputModel",
      "state": {
       "layout": "IPY_MODEL_7954bb25e7e04ec4b2d7d16d245d2940",
       "outputs": [
        {
         "data": {
          "image/png": "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\n",
          "text/plain": "<Figure size 360x360 with 1 Axes>"
         },
         "metadata": {},
         "output_type": "display_data"
        }
       ]
      }
     },
     "13ab3058a5c64d65bc509b9901f17b77": {
      "model_module": "@jupyter-widgets/base",
      "model_module_version": "1.1.0",
      "model_name": "LayoutModel",
      "state": {}
     },
     "13c49b43dabc45c1818b449a5f6e49ba": {
      "model_module": "@jupyter-widgets/controls",
      "model_module_version": "1.4.0",
      "model_name": "HTMLModel",
      "state": {
       "layout": "IPY_MODEL_72a3e56fa08445c0ad89c62d5bb290fb",
       "style": "IPY_MODEL_be35cdb2896c4b929401f040d3ae3035",
       "value": "<p style='font-size:16px;'>Job Status [4]: job is queued (74) </p>"
      }
     },
     "1564e3508b7a4757810ac23380250234": {
      "model_module": "@jupyter-widgets/controls",
      "model_module_version": "1.4.0",
      "model_name": "HTMLModel",
      "state": {
       "layout": "IPY_MODEL_1d1e4c00eef74be9ae1b7d7b4ee02672",
       "style": "IPY_MODEL_6427f004ecd8441e9bf5234394b24477",
       "value": "<p style='font-size:16px;'>Job Status [2]: job is queued (72) </p>"
      }
     },
     "16ec74e631474499997e2ff086b90679": {
      "model_module": "@jupyter-widgets/controls",
      "model_module_version": "1.4.0",
      "model_name": "VBoxModel",
      "state": {
       "children": [
        "IPY_MODEL_950af204c74e4ae29ffc52f79dc3e592"
       ],
       "layout": "IPY_MODEL_75c69ab8ffc64d55882e64380c1c9196"
      }
     },
     "177c81f9f425445799c67274d68e0b3d": {
      "model_module": "@jupyter-widgets/controls",
      "model_module_version": "1.4.0",
      "model_name": "DescriptionStyleModel",
      "state": {
       "description_width": ""
      }
     },
     "178c0fc4f8034198843802afcfbd96e3": {
      "model_module": "@jupyter-widgets/controls",
      "model_module_version": "1.4.0",
      "model_name": "VBoxModel",
      "state": {
       "children": [
        "IPY_MODEL_fddbce4b7e5d446cb6cbe29b5d776e3f",
        "IPY_MODEL_545bbe2c9fc04361b5ac390a808112fb",
        "IPY_MODEL_4046648c668f4d1b822ca52f0fd82689",
        "IPY_MODEL_ffe6ea424b41423f89aee3662f4652b6",
        "IPY_MODEL_2d010af2f0ad436d9f02d6f8fa60fb6b",
        "IPY_MODEL_df5e1f42d94345bdb7a85839f2b0c961",
        "IPY_MODEL_c187bae470dd4316817e15cbff063786",
        "IPY_MODEL_9f93dcd72d734c31b3eb43432c3aebcd"
       ],
       "layout": "IPY_MODEL_4bf694c81572489cab4a8b3a0c916844"
      }
     },
     "1916908142654ff9971bc3a0fee6f615": {
      "model_module": "@jupyter-widgets/controls",
      "model_module_version": "1.4.0",
      "model_name": "LabelModel",
      "state": {
       "layout": "IPY_MODEL_faddc619e88849f0ae643202380b6dcd",
       "style": "IPY_MODEL_b95b552962db4ca09edc3329c4d36d04",
       "value": "Pending Jobs"
      }
     },
     "19bbc3c78f944875ab193cb362f387f9": {
      "model_module": "@jupyter-widgets/base",
      "model_module_version": "1.1.0",
      "model_name": "LayoutModel",
      "state": {}
     },
     "19fa3f448ccd419a9d20227d6c4e57e8": {
      "model_module": "@jupyter-widgets/base",
      "model_module_version": "1.1.0",
      "model_name": "LayoutModel",
      "state": {
       "margin": "10px 0px 0px 0px"
      }
     },
     "1b88974e13694605bb7ae7895a650562": {
      "model_module": "@jupyter-widgets/controls",
      "model_module_version": "1.4.0",
      "model_name": "HTMLModel",
      "state": {
       "layout": "IPY_MODEL_44039b4ae386488ea760dbf61c97603e",
       "style": "IPY_MODEL_4d0cc0cebe554646a130171547b76733",
       "value": "<div><font style='font-weight:bold'>last_update_date</font>: 2018-12-20T09:17:33+00:00</div>"
      }
     },
     "1bf2a8a492a54dcab7c04fa39dcea768": {
      "model_module": "@jupyter-widgets/base",
      "model_module_version": "1.1.0",
      "model_name": "LayoutModel",
      "state": {
       "align_items": "center",
       "display": "flex-inline",
       "grid_area": "right",
       "max_height": "300px",
       "padding": "10px 10px 10px 10px",
       "width": "auto"
      }
     },
     "1c87df1433254800b84c8682ac42c12c": {
      "model_module": "@jupyter-widgets/base",
      "model_module_version": "1.1.0",
      "model_name": "LayoutModel",
      "state": {
       "min_width": "auto"
      }
     },
     "1d1e4c00eef74be9ae1b7d7b4ee02672": {
      "model_module": "@jupyter-widgets/base",
      "model_module_version": "1.1.0",
      "model_name": "LayoutModel",
      "state": {}
     },
     "1d8e3f53183b4c28ab7651a264cbdd6f": {
      "model_module": "@jupyter-widgets/controls",
      "model_module_version": "1.4.0",
      "model_name": "DescriptionStyleModel",
      "state": {
       "description_width": ""
      }
     },
     "1ec3051e6ad14b91ba8d9666ecd2f7d5": {
      "model_module": "@jupyter-widgets/controls",
      "model_module_version": "1.4.0",
      "model_name": "HTMLModel",
      "state": {
       "layout": "IPY_MODEL_4eafa5d8f38f47f5ab7d18582bb34b25",
       "style": "IPY_MODEL_47559b0c114e4b47a0c42689f63aa03a",
       "value": "<h5>71.7 µs</h5>"
      }
     },
     "2133dfec60f94680abec5118fa46b0ac": {
      "model_module": "@jupyter-widgets/base",
      "model_module_version": "1.1.0",
      "model_name": "LayoutModel",
      "state": {
       "justify_content": "center"
      }
     },
     "2166d0afd9ea475e8c5ea1dc1560daba": {
      "model_module": "@jupyter-widgets/base",
      "model_module_version": "1.1.0",
      "model_name": "LayoutModel",
      "state": {}
     },
     "2185be50cd4c4886bd2fdc69054bff31": {
      "model_module": "@jupyter-widgets/controls",
      "model_module_version": "1.4.0",
      "model_name": "VBoxModel",
      "state": {
       "children": [
        "IPY_MODEL_08e3b5a9186c43698df3826b615f14a1",
        "IPY_MODEL_06611a3e584b4857aec11140fc66fdca",
        "IPY_MODEL_fca618555b1042faa5b715fc21005621",
        "IPY_MODEL_b9e156650f834b919cd17f0bfbaedbe5",
        "IPY_MODEL_a3e336fd308849149e10cc50a4b95ff0",
        "IPY_MODEL_9c89aed02f9d48ac95931f285907bb0b",
        "IPY_MODEL_454198c8fa924f089997064f5ee0231f",
        "IPY_MODEL_1ec3051e6ad14b91ba8d9666ecd2f7d5"
       ],
       "layout": "IPY_MODEL_2a43ab32783b4aab99878d0f3cc74e6a"
      }
     },
     "2190cb24efbd403bad8ba3684c6a8335": {
      "model_module": "@jupyter-widgets/controls",
      "model_module_version": "1.4.0",
      "model_name": "HTMLModel",
      "state": {
       "layout": "IPY_MODEL_933b4316167e46c1ac9963a23c5a2e33",
       "style": "IPY_MODEL_c1211669fe4341e59c400618188c2b0b",
       "value": "<p style='font-size:16px;'>Job Status: job is queued (65) </p>"
      }
     },
     "21a6d4c7a1a64b2fa47da022539ffd95": {
      "model_module": "@jupyter-widgets/base",
      "model_module_version": "1.1.0",
      "model_name": "LayoutModel",
      "state": {
       "grid_area": "right"
      }
     },
     "21dfb7bb455848a0be5431979768bc41": {
      "model_module": "@jupyter-widgets/controls",
      "model_module_version": "1.4.0",
      "model_name": "TabModel",
      "state": {
       "_titles": {
        "0": "Configuration",
        "1": "Qubit Properties",
        "2": "Multi-Qubit Gates",
        "3": "Error Map",
        "4": "Job History"
       },
       "children": [
        "IPY_MODEL_a86bd436b50246b480856ccd41828bb8",
        "IPY_MODEL_d3fb42267f684e288d86245fec03797b",
        "IPY_MODEL_3648993de8304fb8adbdccb65dee8309",
        "IPY_MODEL_290519f1c3f34681b32328b47f3ac869",
        "IPY_MODEL_8d907a6b44c34e02848b068fa6173033"
       ],
       "layout": "IPY_MODEL_553c6962a9284d728900d6443f2d856d"
      }
     },
     "245bcb470b2b43b9ada633fbef96620d": {
      "model_module": "@jupyter-widgets/controls",
      "model_module_version": "1.4.0",
      "model_name": "IntProgressModel",
      "state": {
       "layout": "IPY_MODEL_8da41c0dab3d4cdaa5cc0ea01628c2fa",
       "max": 157,
       "style": "IPY_MODEL_f7e939f5839748b9a9e3746a68768013",
       "value": 50
      }
     },
     "24cc8254f30a4db28273d15c43bb08f8": {
      "model_module": "@jupyter-widgets/controls",
      "model_module_version": "1.4.0",
      "model_name": "DescriptionStyleModel",
      "state": {
       "description_width": ""
      }
     },
     "290519f1c3f34681b32328b47f3ac869": {
      "model_module": "@jupyter-widgets/controls",
      "model_module_version": "1.4.0",
      "model_name": "GridBoxModel",
      "state": {
       "children": [
        "IPY_MODEL_66e4a4a441bb44b39c8417d18b5b5e40",
        "IPY_MODEL_df560278a7014eefb7907241b7dfc029",
        "IPY_MODEL_a4d6b1fb353640f4b7b3cd78376a3637"
       ],
       "layout": "IPY_MODEL_c7222d77c3954022a392b772acfc301c"
      }
     },
     "2a43ab32783b4aab99878d0f3cc74e6a": {
      "model_module": "@jupyter-widgets/base",
      "model_module_version": "1.1.0",
      "model_name": "LayoutModel",
      "state": {
       "align_items": "center",
       "display": "inline-flex",
       "flex_flow": "column"
      }
     },
     "2b2d60f9fe6a46e1986aef13f4efc75b": {
      "model_module": "@jupyter-widgets/controls",
      "model_module_version": "1.4.0",
      "model_name": "LabelModel",
      "state": {
       "layout": "IPY_MODEL_74c1dc129ada4564a63f2023472b77f7",
       "style": "IPY_MODEL_6b06d820ad6548b2b27121fdc24ca3aa",
       "value": "95"
      }
     },
     "2b4e0d54b1494dfeaec0fdaf322fb994": {
      "model_module": "@jupyter-widgets/controls",
      "model_module_version": "1.4.0",
      "model_name": "DescriptionStyleModel",
      "state": {
       "description_width": ""
      }
     },
     "2ba0044fbbe843b59507977a999f401f": {
      "model_module": "@jupyter-widgets/base",
      "model_module_version": "1.1.0",
      "model_name": "LayoutModel",
      "state": {}
     },
     "2d010af2f0ad436d9f02d6f8fa60fb6b": {
      "model_module": "@jupyter-widgets/controls",
      "model_module_version": "1.4.0",
      "model_name": "HTMLModel",
      "state": {
       "layout": "IPY_MODEL_aff459c2bf8a43909d3d67da52f9daa0",
       "style": "IPY_MODEL_dced587a7e6d44929a0265393ee3d782",
       "value": "<h5 style='color:#dc267f'>False</h5>"
      }
     },
     "2d39b1912ee047cfa507aca5ae281996": {
      "model_module": "@jupyter-widgets/controls",
      "model_module_version": "1.4.0",
      "model_name": "DescriptionStyleModel",
      "state": {
       "description_width": ""
      }
     },
     "328436f9e733422eb7a53214f62798db": {
      "model_module": "@jupyter-widgets/controls",
      "model_module_version": "1.4.0",
      "model_name": "HTMLModel",
      "state": {
       "layout": "IPY_MODEL_11421806d3b64ede929af250f5be6529",
       "style": "IPY_MODEL_042c32c068074b5f843431eb820cdde6",
       "value": "<h2 style ='color:#ffffff; background-color:#000000;padding-top: 1%; padding-bottom: 1%;padding-left: 1%;margin-top: 0px'>Backend Overview</h2>"
      }
     },
     "3648993de8304fb8adbdccb65dee8309": {
      "model_module": "@jupyter-widgets/controls",
      "model_module_version": "1.4.0",
      "model_name": "GridBoxModel",
      "state": {
       "children": [
        "IPY_MODEL_e7b165a65ffb47be944b78f27138d279",
        "IPY_MODEL_12ed9bb3c1ff45c997b0b77912b4f07a",
        "IPY_MODEL_0808073632d245978d8ee7c5d44da277",
        "IPY_MODEL_6ab2ba2917b24e54984aa726d17f2084"
       ],
       "layout": "IPY_MODEL_6912ac4343ac4f9b8bcf04dbcde5c7b9"
      }
     },
     "373d46ad143d42e6896e2dcf8a336c50": {
      "model_module": "@jupyter-widgets/controls",
      "model_module_version": "1.4.0",
      "model_name": "DescriptionStyleModel",
      "state": {
       "description_width": ""
      }
     },
     "3c2e32fa978244c9a27198738efdb893": {
      "model_module": "@jupyter-widgets/controls",
      "model_module_version": "1.4.0",
      "model_name": "DescriptionStyleModel",
      "state": {
       "description_width": ""
      }
     },
     "3c5b9dc60dbf4545bfd10457c2bd4209": {
      "model_module": "@jupyter-widgets/controls",
      "model_module_version": "1.4.0",
      "model_name": "DescriptionStyleModel",
      "state": {
       "description_width": ""
      }
     },
     "3daf49363e1d4523af16a09059ec1bff": {
      "model_module": "@jupyter-widgets/base",
      "model_module_version": "1.1.0",
      "model_name": "LayoutModel",
      "state": {}
     },
     "3f05c10a2b3a4b8eaddf8c82cb0127f4": {
      "model_module": "@jupyter-widgets/controls",
      "model_module_version": "1.4.0",
      "model_name": "HTMLModel",
      "state": {
       "layout": "IPY_MODEL_3daf49363e1d4523af16a09059ec1bff",
       "style": "IPY_MODEL_dec076d63fe64eddb272ccc5619fdb0c",
       "value": "<p style='font-size:16px;'>Job Status: job is queued (69) </p>"
      }
     },
     "3fbad4f9c0974a2ab0dbe72fc1566de1": {
      "model_module": "@jupyter-widgets/controls",
      "model_module_version": "1.4.0",
      "model_name": "DescriptionStyleModel",
      "state": {
       "description_width": ""
      }
     },
     "4046648c668f4d1b822ca52f0fd82689": {
      "model_module": "@jupyter-widgets/controls",
      "model_module_version": "1.4.0",
      "model_name": "HTMLModel",
      "state": {
       "layout": "IPY_MODEL_585ea78e2f484db99b575cdab47a2d44",
       "style": "IPY_MODEL_a34db22dd3f84f05aa42e8c1ccbac08d",
       "value": "<h5><b>5</b></h5>"
      }
     },
     "404c366542c341cca904ec2a1fdd5da1": {
      "model_module": "@jupyter-widgets/controls",
      "model_module_version": "1.4.0",
      "model_name": "LabelModel",
      "state": {
       "layout": "IPY_MODEL_56a5e42750da4599a67090d385517faa",
       "style": "IPY_MODEL_e592d1f4094e417c8778173f22bbdee7",
       "value": "Operational"
      }
     },
     "43457b2b7f4d45e799205a52369bc7ef": {
      "model_module": "@jupyter-widgets/base",
      "model_module_version": "1.1.0",
      "model_name": "LayoutModel",
      "state": {}
     },
     "44039b4ae386488ea760dbf61c97603e": {
      "model_module": "@jupyter-widgets/base",
      "model_module_version": "1.1.0",
      "model_name": "LayoutModel",
      "state": {}
     },
     "441fad1562724c08bcdc503e73e1b57c": {
      "model_module": "@jupyter-widgets/controls",
      "model_module_version": "1.4.0",
      "model_name": "DescriptionStyleModel",
      "state": {
       "description_width": ""
      }
     },
     "4505083b3d15482db21a2d1308d6ea2c": {
      "model_module": "@jupyter-widgets/controls",
      "model_module_version": "1.4.0",
      "model_name": "DescriptionStyleModel",
      "state": {
       "description_width": ""
      }
     },
     "454198c8fa924f089997064f5ee0231f": {
      "model_module": "@jupyter-widgets/controls",
      "model_module_version": "1.4.0",
      "model_name": "HTMLModel",
      "state": {
       "layout": "IPY_MODEL_cbbfa81cae694e2690d31a3c340a17ab",
       "style": "IPY_MODEL_72b782df2ff74068aeb550e9002532d5",
       "value": "<h5>54.7 µs</h5>"
      }
     },
     "47559b0c114e4b47a0c42689f63aa03a": {
      "model_module": "@jupyter-widgets/controls",
      "model_module_version": "1.4.0",
      "model_name": "DescriptionStyleModel",
      "state": {
       "description_width": ""
      }
     },
     "49ebbf35e04f48d39ddda252b1e89d45": {
      "model_module": "@jupyter-widgets/base",
      "model_module_version": "1.1.0",
      "model_name": "LayoutModel",
      "state": {}
     },
     "4bd7db1d011f4791879e355e96078d0a": {
      "model_module": "@jupyter-widgets/controls",
      "model_module_version": "1.4.0",
      "model_name": "DescriptionStyleModel",
      "state": {
       "description_width": ""
      }
     },
     "4bf694c81572489cab4a8b3a0c916844": {
      "model_module": "@jupyter-widgets/base",
      "model_module_version": "1.1.0",
      "model_name": "LayoutModel",
      "state": {
       "align_items": "center",
       "display": "inline-flex",
       "flex_flow": "column"
      }
     },
     "4d0cc0cebe554646a130171547b76733": {
      "model_module": "@jupyter-widgets/controls",
      "model_module_version": "1.4.0",
      "model_name": "DescriptionStyleModel",
      "state": {
       "description_width": ""
      }
     },
     "4d109dbb2952491da4c3214e8d94acfe": {
      "model_module": "@jupyter-widgets/controls",
      "model_module_version": "1.4.0",
      "model_name": "VBoxModel",
      "state": {
       "children": [
        "IPY_MODEL_a236ac3c25094a8d91ca9a2ae0c7ab13",
        "IPY_MODEL_1916908142654ff9971bc3a0fee6f615",
        "IPY_MODEL_a6cb413e6fa64e0099ba9263879743b5",
        "IPY_MODEL_404c366542c341cca904ec2a1fdd5da1",
        "IPY_MODEL_a2d1cd1c84a34f58ae463298cd1d7ba1",
        "IPY_MODEL_4ff50e00313e42a79668e2d396a693e4"
       ],
       "layout": "IPY_MODEL_62101230d882459985e7d003c074a10e"
      }
     },
     "4eafa5d8f38f47f5ab7d18582bb34b25": {
      "model_module": "@jupyter-widgets/base",
      "model_module_version": "1.1.0",
      "model_name": "LayoutModel",
      "state": {}
     },
     "4eeb620b671342dba35cef0a7a7d0a33": {
      "model_module": "@jupyter-widgets/base",
      "model_module_version": "1.1.0",
      "model_name": "LayoutModel",
      "state": {
       "min_width": "auto"
      }
     },
     "4ff50e00313e42a79668e2d396a693e4": {
      "model_module": "@jupyter-widgets/controls",
      "model_module_version": "1.4.0",
      "model_name": "LabelModel",
      "state": {
       "layout": "IPY_MODEL_19fa3f448ccd419a9d20227d6c4e57e8",
       "style": "IPY_MODEL_89e0b7f9199744e6b685ed76a7d898d9",
       "value": "Avg. T2"
      }
     },
     "502ab7437a10405c8a48a782b0dac784": {
      "model_module": "@jupyter-widgets/controls",
      "model_module_version": "1.4.0",
      "model_name": "LabelModel",
      "state": {
       "layout": "IPY_MODEL_0995a2dd5f6a4145a0fc10b09596846b",
       "style": "IPY_MODEL_441fad1562724c08bcdc503e73e1b57c",
       "value": "157"
      }
     },
     "5251dbe0606c46c5b3ebb30159cfac8c": {
      "model_module": "@jupyter-widgets/controls",
      "model_module_version": "1.4.0",
      "model_name": "DescriptionStyleModel",
      "state": {
       "description_width": ""
      }
     },
     "545bbe2c9fc04361b5ac390a808112fb": {
      "model_module": "@jupyter-widgets/output",
      "model_module_version": "1.0.0",
      "model_name": "OutputModel",
      "state": {
       "layout": "IPY_MODEL_94705442a659433c80209990cae53225",
       "outputs": [
        {
         "data": {
          "image/png": "iVBORw0KGgoAAAANSUhEUgAAAWkAAAFgCAYAAAB5dIiGAAAABHNCSVQICAgIfAhkiAAAAAlwSFlzAAALEgAACxIB0t1+/AAAADl0RVh0U29mdHdhcmUAbWF0cGxvdGxpYiB2ZXJzaW9uIDMuMC4yLCBodHRwOi8vbWF0cGxvdGxpYi5vcmcvOIA7rQAAFtJJREFUeJzt3XmUJVV9wPHvLMwMqwgKGtdEEEU8CBpFDKAgyCIIBAmggiKXqBgo8ZAYd3GJCuo1gCCFggsqiAjKKouCHsUNFfct4q4oqMD0LMxM54/7SHqqZ5hearmv3vdzzvzzbs/tH033d17Xq1c1Z3x8HElSnuZ2PYAkae2MtCRlzEhLUsaMtCRlzEhLUsaMtCRlzEhLUsaMtCRlzEhLUsaMtCRlzEhLUsaMtCRlzEhLUsaMtCRlzEhLUsaMtCRlzEhLUsaMtCRlzEhLUsaMtCRlzEhLUsaMtCRlzEhLUsaMtCRlzEhLUsaMtCRlzEhLUsaMtCRlzEhLUsaMtCRlzEhLUsaMtCRlzEhLUsaMtCRlzEhLUsaMtCRlzEhLUsaMtCRlzEhLUsaMtCRlzEhLUsaMtCRlzEhLUsaMtCRlzEhLUsaMtCRlzEhLUsaMtCRlzEhLUsaMtCRlzEhLUsaMtCRlzEhLUsaMtCRlzEhLUsaMtCRlzEhLUsaMtCRlzEhLUsaMtCRlzEhLUsaMtCRlzEhLUsaMtCRlzEhLUsaMtCRlzEhLUsaMtCRlzEhLUsaMtCRlzEhLUsaMtCRlzEhLUsaMtCRlzEhLUsaMtCRlbH7XA0htCpFHAU8HdgYeBywA7ga+DtwEXFsW/KWzAaWKOePj413PIDUuRPYGXg/sAKwENqx8yCpSrBcAlwAnlwU/bHVIaQ2MtHotRB4AnAM8k8lhXpuVwHLgbcDby4IVDY0nrZORVm+FyDbAF4FNgIUz2GIx8G3gWWXB4jpnk6bKSKuXQuSRwDeA+zO7F8iXAt8Cnl4WLK9hNGlaPLtDvRMi80jHlTdl9t/ji4DtgZNnO5c0E0ZafVQAWwHzatpvA+D4ENmxpv2kKTPS6pUQWQS8gam/SDhVi4C317yntE5GWn3z3Ib2nQPsEiIPa2h/aY2MtPrmRcDGDe09DhzU0N7SGhlp9c0ODe69PrBLg/tLkxhp9UaIbEZ6ka9JvnioVhlp9ckmwD0Nf466X5CU7pORVp+sIL3A16SVDe8vrcZIq09uA9Zr+HP8uuH9pdUYafXG4G3bv2jwU6wCbmxwf2kSI62+uYbmjksvBr7Q0N7SGhlp9c0Z0NilRZcBVze0t7RGRlq9MrhQ/7dJhybqNAa8uyx84VDtMtLqoxdCrZcVHQf+ALyrxj2lKTHS6qO/AXfWuN8S4FCvJ60uGGn1yuB2WdcCW9S05RLg8LLgmzXtJ02LdwtXb4TI/YHPAdtVllaSnpBM540uy0jHoQ8tC66tZ0Jp+nwmrV4IkU2Aq5h8gaUrgScD3yedQreuFxSXkW6Z9VlgKwOtrnmPQw29ENmIFOinVZauA/YvC5aEyBxgJ+BEYHdgs8rHrgB+D1wInF4W3Nro0NIUGWkNtRBZH7gceEZl6YvAPmu7y3eIVL/xN/KO4MqRhzs0tEJkIfBpJgf6JmC/6UTXQCtXRlpDKUQWAJ8EnlVZupn0DPqu9qeS6mekNXRCZD5wPrB/Zem7wF5lwV/bn0pqhpHWUAmRecCHgEMqSz8EnlkW3N7+VFJzjLSGRojMBUrgiMrSz4A9yoLb2p9KapaR1lAYnEJ3Bulu4BPdCuxeFvy+9aGkFhhpZW8Q6PcAL6ks/YYUaO+Wot4y0sraIND/BZxQWfoDKdBN3olF6pyRVu5eD/xH5bE/kY5B/7SDeaRWGWllK0ReBbyx8vAdpLM4ftD+RFL7jLSyFCIF6TDHRHeSzoO+pYORpE4YaWUnRF5KeqFworuBvb2us0aNkVZWQuRo4H2Vh5eQrsXxlQ5GkjplpJWNEDkCOKfy8DLggLLgxg5GkjpnpJWFEDkE+DCr3z3lHuBgL7yvUWak1bkQOQD4ODBvwsMrSLeuuqKbqaQ8GGl1KkT2Jl1ydOL9NlcBzysLLulmKikfRlqdCZHdSRftXzDh4XHgqLLgwm6mkvJipNWJEPkn0s1eF1WWji0LPtrBSFKWjLRaFyJPAa4ANqgsvbwsJp3dIY00I61WhciOwNXAxpWlV5YFZ3QwkpQ1I63WhMjjgc8B96ssvaYseHcHI0nZM9JqRYg8BrgW2Lyy9Oay4G0djCQNBSOtxoXIVsD1wBaVpVOAN7Q/kTQ8jLQaFSKPAK4DHlxZOg34j7JgvP2ppOFhpNWYEHko6Rn0wytLZwMnGGhp3Yy0GhEiDyI9g/6HytKHgJcaaGlqjLRqFyIPJAX60ZWlTwAvLgtWtT+VNJyMtGoVIpsB1wDbVpYuBo4sC1a2P5U0vIy0ahMi9yO9UWX7ytLlwOFlwT3tTyUNNyOtWoTIxsCVwJMqS9cAh5QFy9ufShp+RlqzFiIbkC6W9NTK0g3AgWXB0vankvrBSGtWQmQRcAmwW2Xpy8Czy4Kx9qeS+sNIa8ZCZAFwEbBnZekbwL5lwd3tTyX1i5HWjITIeqRT6varLH0HeFZZ8Lf2p5L6x0hr2kJkHummsQdVln4A7FkW3NH+VFI/GWlNS4jMBT4AHFZZ+gmwR1nwp/ankvrLSGvKQmQOcCZwVGXpF6RA/6H9qaR+M9KakkGgI3BsZenXwO5lwW/an0rqPyOtdRoE+h3A8ZWl35ECfWvrQ0kjwkhrKt4EnFR57DbSIY6fdTCPNDKMtO5TiLwGeF3l4dtJgf5RByNJI8VIa61C5JXAWyoP/xXYqyz4XgcjSSPHSGuNQuQ44NTKw3cBe5cFN3cwkjSSjLQmCZFjgNMrD4+R3ur91Q5GkkaWkdZqQuQFpHsQTrQU2L8s+FIHI0kjzUjr/4TIocB5wJwJDy8HDioLru9kKGnEGWkBECIHAh9j9e+JFcBzy4KruplKkpEWIbIvcCEwb8LDq0i3vPpMN1NJAiM98kJkD9JNYteb8PA46aaxF3UzlaR7GekRFiK7km57tbCydExZcH4HI0mqMNIjKkR2It3Fe/3K0svKgg92MJKkNTDSIyhEnghcBWxUWXpFWXBmByNJWos54+PjXc+gWQiR9YHtgUeTDlssBX4E3FIWLFvDx28PfB64f2XpVWXBOxoeNwshshHp3ZMT7QB8vyy4p4ORshcimwI7Ag8H5gN3A7cAPy4LVnY5W98Z6SE0uL/ggcC/A08gvRtw7uDPStILf+sDXwfeCVxeFqwIkW2BLwAPrGz5xrLgTe1M343BP2b/Qrqa39as/kIppGgvIv0DdgpwXVkw0j8cIbIJcCRwIvBQ0vfZPNJ59CtJ32/rkQ6bnQrcNOpfsyYY6SETIruQbgC78eDPutwF3EH6QTsDeFBl/e3Aq/v8wxUi+5PepLOAyYd4qsaBxaS7zRw6ilf6G1w//EjSpQHmABuu46+sApYANwPPKwt+3eyEo8VID4nBD84pwMuY/GLfutz7P3lO5fEInNjXQA9+4ziXdMPcDab511cBy0jH6d9f92y5CpENSadkPo11x7lqBelr9oKy4NN1zzaqjPQQGAT6A8ChTP8HZ23OBI7rcaDnk04v3JXpB3qiMeC1ZcF7ahksYyGyAXAj8DjSoZ+ZGgOOLgsuqGWwEefZHcPhFdQb6C8BL+9roAdOZfaBZvD33xIie89+pOx9FNiW2QUa0tfsgyGy4+xHkpHOXIhsTbrwfl2BhnQmw0Nq3C8rIfJU0g1zZxvoe20AfDRE7lfTftkJkYOAvZj+obS1WR/4ZIgsqGm/kWWk83cWk98ROFsLSceje2dwaOhc6ovNvTYEXl/znlkYHBoqqfeJwBxgS+ClNe45kox0xkLkkcDO1P//aT6wb4hsUfO+OXgy6XSxui0CQoizPhSQowOgkWe8GwInDf7h1AwZ6bwdTXP/j8aBIxrau0vHUf+z6IkOaHDvrpzA1E7nnIlNSE80NENGOm970swzHEgh27Ohvbu0K819X2802L83Bs9yn9jgp1gIPLXB/XvPU/AyFiJ3se43X0i5u6ws2L/rIYaVz6QzFSLzqPeFHKkrvT2TqA1GOl++2KK+sDOz4BcvU2XBCtJNYKVhd3vXAwyz+V0PoPv0E+DxDe5/Y1mwW4P7ty5E/giNnlr44bLgqAb3b9XgsNpi6j8X/14rgC82tPdI8Jl03m6Axq7Vew/pspx987UG915Mz4IzuBZ0k1f6GwO+2uD+vWek83YuTL5wf01WQi/vY3g2ky/oX5d50Muru51Juoh/U65rcO/eM9IZKwtuJl3XuG7jwLfKgp82sHfXriDdnaZuK4BLy6KXx1fPp5kWLAPOKgtfW5kNI52/40i/MtZpKfBvNe+ZhcGv78eTDk3UaTnwnzXvmYWy4G7gDdT/NVtCujOQZsFIZ64suIH0TGdJTVuOAaeVBd+sab8cXUC6LnJdz+AWAyeVRSO/1eTiNNJvC3UZA17Y0988WmWkh8MJwHeZ/a/xS0gv4rx21hNlbHCd7OcBv2b2oR4DLoX+3kV9cIbHeVDbpVgXA6eXBZfWtN9IM9JDoCxYAuxOOnNhpr+SLibdhHbfUbgjdlnwF2An4KfM/HDRGHAhcGRfb5AQInNJd/05rLI00//eMeC9wKtmM5f+n9fuGCKDH6jjgbeSzjSYyrmtS0lncrwCOKevsVmbwUXnX0+6Ee96TO29AUtIz8CPLgsubnC8Tg0urnQW6QYJE/0C+DLp3pALSd9r67J48OfwsuD6OuccdUZ6CIXIw0mxPpb0jGc+q9+FZIx0fHEV6Q7h7ysLftf2nDkJkW1IoX4+6Rzx6q/2956CNga8Bzi7LLijvQnbNQh0JH0fTfQrYNey4JchsgNwEinWy0hXTrz3qozjpK/ZXNI7Ck8Bzhu8CKkaGekhFiILgSeQLjW5HemCTHcDtwDfBL4zCoc2pmNws9UdmfymlBeTvmbfG5wh0luDQL+DFOCJfgfsVhb8rPLxm5C+x54EbE16dn078C3S1+yHo/YbWpuMtEZSiKtHpSxG54JWIfImJt8K7DZSoJt896FmwBcOpRESIq9mcqBvB/Yw0Hky0tKICJETSS86T/RXYK+y4HsdjKQpMNLSCAiR44B3VR6+C9h7cPkBZcpISz0XIscAp1ceHiOdM+8V6jJnpKUeC5EXkK4MONFSYP+y4EsdjKRpMtJST4XIoaS3e088c2U5cKBvOBkeRlrqoRA5EPgYq/+MrwAOKQuu7mYqzYSRlnomRPYlXXNk4tu5VwKHlQWf7WYqzZSRlnokRPYALiZdp+Re46SLRH2qm6k0G0Za6okQ2RX4LJMvvPXisuBjHYykGhhpqQdCZCfgctJFkCZ6aVlwbgcjqSZGWhpyIfJE4Cpgo8rSK8qCszoYSTUy0tIQC5Htgc8x+dKrryoLYgcjqWZGWhpSIbItcA2wWWXpjWXBOzoYSQ0w0tIQCpGtgeuAB1aW3g6c3P5EaoqRloZMiPw9cD3woMpSBF7tBfj7xUhLQyREHkYK9EMrS2cCJxro/jHS0pAIkQeTAv3IytIHgZcb6H4y0tIQCJEtSMegt6osnQ8cWxasan8qtcFIS5kLkc2Ba4HHVpYuAl7Y9xvnjjojLWUsRDYFrgYeX1n6DHBEWbCi/anUJiMtZSpENgauBJ5YWboKOLQsuKf9qdQ2Iy1lKEQ2JF2LY6fK0ueBg8uCZe1PpS4YaSkzIbI+cCmwS2XpS6TbXi1pfyp1xUhLGQmRhcCngD0qS18D9isLFrc/lbpkpKVMhMh6wAXAPpWlbwF7lwV3tj+VumakpQyEyHzSOc/PqSx9D9irLPhL+1MpB0Za6liIzAPOBZ5bWfox8Myy4M/tT6VcGGmpQyEyFzgLeH5l6efAHmXBH9ufSjkx0lJHQmQO8N/AMZWlXwK7lwW/bX8q5cZISx0YBPpU4LjK0m9Jgf5V+1MpR0Za6sabgRMrj/2RFOj/6WAeZcpISy0LkdcCr6k8/GfSMeifdDCSMmakpRaFyEmkZ9ET/YV0Fsf3OxhJmTPSUktC5HjgnZWH7wSeVRZ8p4ORNASMtNSCEPlX4L2VhxcD+5QFX+9gJA0JIy01LESOIp0LPdES0rU4vtzBSBoiRlpqUIgcTroH4UTLgOeUBTd0MJKGjJGWGhIiBwMfYfWfs3uAQ8qCa7qZSsPGSEsNCJFnA58A5k14eCVwWFlwWTdTaRgZaalmIbIX6ZrQ6014eBXw/LLg4m6m0rAy0lKNQuTpwCXAggkPjwNHlwWf6GQoDTUjLdUkRHYGLgPWryy9pCz4UAcjqQeMtFSDEPlH0p29N6wsHV8WnN3BSOoJIy3NUog8AfgcsEll6aSy4LQORlKPGGlpFkJkO+BaYNPK0uvKglM7GEk9Y6SlGQqRbUiB3ryy9Nay4C0djKQeMtLSDITIo4DrgS0rS+8CXtf+ROorIy1NU4g8ghTov6ssnUE6Dj3e/lTqKyMtTUOIPAS4Dnh4Zekc0pkcBlq1MtLSFIXIlqRAP6qy9BHSudCr2p9KfWekpSkIkQeQXiTcprJ0IendhCvbn0qjwEhL6xAi9yedB71dZelS0vU4VrQ/lUbFnPFxD6FpNAxiexRwAPCMyvJvgK8BHwcuLQvuGfydTYBrgCdXPv4K4OCyYFmjQ2vkGWn1XohsSjo17gjS1eg2uI8Pv4t0SdGTgQ+QYvy0ysdcC+xfFiytf1ppdUZavTa4bOjHSWFeNI2/uph09bqNKo/fCOxbFiyuZ0Lpvhlp9VaIvAB4P5OvSjdTNwF7lQV31bSftE5GWr0UIvsCF1FfoG8BdisL/lrTftKUeHaHeidENgfOp75AjwN3A3+raT9pyoy0+ugM6gs0wBxge9ILj1KrPNyhXgmRBwO/ABY2sP3Pga1967fa5DNp9c2x0FhEHwQ8paG9pTUy0uqbg5jeqXbTsRDYq6G9pTUy0uqNEJkLPKbBTzEf2K3B/aVJjLT6ZEto/Ep0j254f2k1Rlp9sggavxrdeg3vL63GSKtPxkiHJJq0vOH9pdUYafXJbTR/uOP7De8vrcZIqzcG5y83GdHlwA0N7i9NYqTVNxeQDns0YQVwZUN7S2tkpNU359Lc9/XPyoLvNLS3tEZGWr1SFtwBnAcsqXnrMeA1Ne8prZORVh+dBNxZ437LgKvLgstq3FOaEiOt3ikL7gYOpp5j0yuB24FQw17StBlp9VJZ8GXgn0mhnukFl5YDfwR2Lgtur2s2aTqMtHqrLLgK2AW4lek/q14MXAc8oSz4Zc2jSVNmpNVrZcHNwGOBd5LurHJf9ydcRboDy8+BFwH7lQV/anxI6T540X+NjBBZABwA7APsDDwMmEd6YfAnwBeBTwFf8cL+yoWRlqSMebhDkjJmpCUpY0ZakjJmpCUpY0ZakjJmpCUpY0ZakjJmpCUpY0ZakjJmpCUpY0ZakjJmpCUpY0ZakjJmpCUpY0ZakjJmpCUpY0ZakjJmpCUpY0ZakjJmpCUpY0ZakjJmpCUpY0ZakjJmpCUpY0ZakjJmpCUpY0ZakjJmpCUpY0ZakjJmpCUpY0ZakjJmpCUpY0ZakjJmpCUpY0ZakjJmpCUpY0ZakjJmpCUpY0ZakjJmpCUpY0ZakjJmpCUpY0ZakjJmpCUpY0ZakjJmpCUpY0ZakjJmpCUpY0ZakjJmpCUpY0ZakjJmpCUpY0ZakjJmpCUpY0ZakjJmpCUpY0ZakjJmpCUpY0ZakjJmpCUpY0ZakjJmpCUpY0ZakjJmpCUpY0ZakjJmpCUpY0ZakjJmpCUpY0ZakjJmpCUpY0ZakjJmpCUpY0ZakjJmpCUpY0ZakjJmpCUpY0ZakjJmpCUpY0ZakjJmpCUpY0ZakjJmpCUpY0ZakjJmpCUpY0ZakjJmpCUpY0ZakjJmpCUpY0ZakjJmpCUpY/8LJfeSSps6HQgAAAAASUVORK5CYII=\n",
          "text/plain": "<Figure size 360x360 with 1 Axes>"
         },
         "metadata": {},
         "output_type": "display_data"
        }
       ]
      }
     },
     "552e73763a6645f39c657d27ee8ffe9c": {
      "model_module": "@jupyter-widgets/controls",
      "model_module_version": "1.4.0",
      "model_name": "DescriptionStyleModel",
      "state": {
       "description_width": ""
      }
     },
     "553c6962a9284d728900d6443f2d856d": {
      "model_module": "@jupyter-widgets/base",
      "model_module_version": "1.1.0",
      "model_name": "LayoutModel",
      "state": {
       "overflow_y": "scroll"
      }
     },
     "5634017bf4a445f68fa08ce1f20928a1": {
      "model_module": "@jupyter-widgets/base",
      "model_module_version": "1.1.0",
      "model_name": "LayoutModel",
      "state": {
       "grid_area": "left",
       "width": "100%"
      }
     },
     "56a5e42750da4599a67090d385517faa": {
      "model_module": "@jupyter-widgets/base",
      "model_module_version": "1.1.0",
      "model_name": "LayoutModel",
      "state": {
       "margin": "5px 0px 0px 0px"
      }
     },
     "585ea78e2f484db99b575cdab47a2d44": {
      "model_module": "@jupyter-widgets/base",
      "model_module_version": "1.1.0",
      "model_name": "LayoutModel",
      "state": {
       "justify_content": "center"
      }
     },
     "5a3171021e764e3baa28cfbbfa80788e": {
      "model_module": "@jupyter-widgets/controls",
      "model_module_version": "1.4.0",
      "model_name": "DescriptionStyleModel",
      "state": {
       "description_width": ""
      }
     },
     "5bdea89769e8469c8c7af58559224e95": {
      "model_module": "@jupyter-widgets/controls",
      "model_module_version": "1.4.0",
      "model_name": "HTMLModel",
      "state": {
       "layout": "IPY_MODEL_0b4ac5252011472db9196f0e3cf107d1",
       "style": "IPY_MODEL_552e73763a6645f39c657d27ee8ffe9c",
       "value": "<p style='font-size:16px;'>Job Status [0]: job is queued (75) </p>"
      }
     },
     "5c144a386f804da2b0af1c833cae63a4": {
      "model_module": "@jupyter-widgets/base",
      "model_module_version": "1.1.0",
      "model_name": "LayoutModel",
      "state": {}
     },
     "62101230d882459985e7d003c074a10e": {
      "model_module": "@jupyter-widgets/base",
      "model_module_version": "1.1.0",
      "model_name": "LayoutModel",
      "state": {
       "margin": "295px 0px 0px 0px",
       "min_width": "100px"
      }
     },
     "6427f004ecd8441e9bf5234394b24477": {
      "model_module": "@jupyter-widgets/controls",
      "model_module_version": "1.4.0",
      "model_name": "DescriptionStyleModel",
      "state": {
       "description_width": ""
      }
     },
     "66e4a4a441bb44b39c8417d18b5b5e40": {
      "model_module": "@jupyter-widgets/output",
      "model_module_version": "1.0.0",
      "model_name": "OutputModel",
      "state": {
       "layout": "IPY_MODEL_6f021e33e162445ab0225a569dea7d8e",
       "outputs": [
        {
         "data": {
          "image/png": "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\n",
          "text/plain": "<Figure size 216x72 with 1 Axes>"
         },
         "metadata": {},
         "output_type": "display_data"
        }
       ]
      }
     },
     "68747dd9922b419bbae0dbe134e00929": {
      "model_module": "@jupyter-widgets/controls",
      "model_module_version": "1.4.0",
      "model_name": "DescriptionStyleModel",
      "state": {
       "description_width": ""
      }
     },
     "6912ac4343ac4f9b8bcf04dbcde5c7b9": {
      "model_module": "@jupyter-widgets/base",
      "model_module_version": "1.1.0",
      "model_name": "LayoutModel",
      "state": {
       "grid_gap": "0px 0px",
       "grid_template_areas": "\n                                                   \"top top top\"\n                                                   \"left middle right\"\n                                                   ",
       "grid_template_columns": "33% 33% 33%",
       "grid_template_rows": "auto auto"
      }
     },
     "6a42834cd9a54578bd05b38b2a33c6aa": {
      "model_module": "@jupyter-widgets/controls",
      "model_module_version": "1.4.0",
      "model_name": "DescriptionStyleModel",
      "state": {
       "description_width": ""
      }
     },
     "6ab2ba2917b24e54984aa726d17f2084": {
      "model_module": "@jupyter-widgets/controls",
      "model_module_version": "1.4.0",
      "model_name": "HTMLModel",
      "state": {
       "layout": "IPY_MODEL_21a6d4c7a1a64b2fa47da022539ffd95",
       "style": "IPY_MODEL_82e0bc66a5954ae7aa25864d0d53f0bb",
       "value": "<table><style>\ntable {\n    border-collapse: collapse;\n    width: auto;\n}\n\nth, td {\n    text-align: left;\n    padding: 8px;\n}\n\ntr:nth-child(even) {background-color: #f6f6f6;};\n</style><tr><th></th><th>Type</th><th>Gate error</th></tr><tr><td><font style='font-weight:bold'>CX11_3</font></td><td>cx</td><td>0.03083</td></tr><tr><td><font style='font-weight:bold'>CX11_10</font></td><td>cx</td><td>0.03559</td></tr><tr><td><font style='font-weight:bold'>CX11_12</font></td><td>cx</td><td>0.03744</td></tr><tr><td><font style='font-weight:bold'>CX12_2</font></td><td>cx</td><td>0.07094</td></tr><tr><td><font style='font-weight:bold'>CX13_1</font></td><td>cx</td><td>0.15178</td></tr><tr><td><font style='font-weight:bold'>CX13_12</font></td><td>cx</td><td>0.03901</td></tr></table>"
      }
     },
     "6b06d820ad6548b2b27121fdc24ca3aa": {
      "model_module": "@jupyter-widgets/controls",
      "model_module_version": "1.4.0",
      "model_name": "DescriptionStyleModel",
      "state": {
       "description_width": ""
      }
     },
     "6e74f4ae47e249e9ae45cc70f0ae19c4": {
      "model_module": "@jupyter-widgets/base",
      "model_module_version": "1.1.0",
      "model_name": "LayoutModel",
      "state": {
       "grid_area": "bottom",
       "width": "auto"
      }
     },
     "6e7c3b21e93240759daf30d30990360c": {
      "model_module": "@jupyter-widgets/base",
      "model_module_version": "1.1.0",
      "model_name": "LayoutModel",
      "state": {
       "max_height": "620px"
      }
     },
     "6f021e33e162445ab0225a569dea7d8e": {
      "model_module": "@jupyter-widgets/base",
      "model_module_version": "1.1.0",
      "model_name": "LayoutModel",
      "state": {
       "align_items": "center",
       "display": "flex-inline",
       "grid_area": "left"
      }
     },
     "6f6eba1a87f64a2b8c64cc46639843dd": {
      "model_module": "@jupyter-widgets/output",
      "model_module_version": "1.0.0",
      "model_name": "OutputModel",
      "state": {
       "layout": "IPY_MODEL_1bf2a8a492a54dcab7c04fa39dcea768",
       "outputs": [
        {
         "data": {
          "image/png": "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\n",
          "text/plain": "<Figure size 648x216 with 1 Axes>"
         },
         "metadata": {},
         "output_type": "display_data"
        }
       ]
      }
     },
     "72a3e56fa08445c0ad89c62d5bb290fb": {
      "model_module": "@jupyter-widgets/base",
      "model_module_version": "1.1.0",
      "model_name": "LayoutModel",
      "state": {}
     },
     "72b782df2ff74068aeb550e9002532d5": {
      "model_module": "@jupyter-widgets/controls",
      "model_module_version": "1.4.0",
      "model_name": "DescriptionStyleModel",
      "state": {
       "description_width": ""
      }
     },
     "7307a114a99944a8bbce35b632f59c8b": {
      "model_module": "@jupyter-widgets/controls",
      "model_module_version": "1.4.0",
      "model_name": "HTMLModel",
      "state": {
       "layout": "IPY_MODEL_7ad0ab795dd54fc6ac6227e2f4dcff85",
       "style": "IPY_MODEL_b38369fe6f0f4d40b7ffc932b2bd38dc",
       "value": "<p style='font-size:16px;'>Job Status [1]: job is queued (76) </p>"
      }
     },
     "734fc1b4778445dc9fdadd6cb06ae87e": {
      "model_module": "@jupyter-widgets/base",
      "model_module_version": "1.1.0",
      "model_name": "LayoutModel",
      "state": {
       "align_items": "center",
       "display": "flex-inline",
       "grid_area": "top",
       "height": "auto",
       "width": "auto"
      }
     },
     "7384d40e9d254c62a41ba26d765c8336": {
      "model_module": "@jupyter-widgets/base",
      "model_module_version": "1.1.0",
      "model_name": "LayoutModel",
      "state": {
       "margin": "0px 0px 0px 0px"
      }
     },
     "743d649ab0c64cb490e7a2ed8cf8d871": {
      "model_module": "@jupyter-widgets/controls",
      "model_module_version": "1.4.0",
      "model_name": "HTMLModel",
      "state": {
       "layout": "IPY_MODEL_e83d072b7ea04eda9ebfb7661e44333a",
       "style": "IPY_MODEL_e87fb09b7ecb444e95f71219fc2d37e6",
       "value": "<p style='font-size:16px;'>Job Status : job is queued (66) </p>"
      }
     },
     "747dfe8ed642441fab300e130e0b44ca": {
      "model_module": "@jupyter-widgets/controls",
      "model_module_version": "1.4.0",
      "model_name": "DescriptionStyleModel",
      "state": {
       "description_width": ""
      }
     },
     "74c1dc129ada4564a63f2023472b77f7": {
      "model_module": "@jupyter-widgets/base",
      "model_module_version": "1.1.0",
      "model_name": "LayoutModel",
      "state": {
       "min_width": "auto"
      }
     },
     "75c69ab8ffc64d55882e64380c1c9196": {
      "model_module": "@jupyter-widgets/base",
      "model_module_version": "1.1.0",
      "model_name": "LayoutModel",
      "state": {}
     },
     "765a836bcead45a6bf93aeb50209db4b": {
      "model_module": "@jupyter-widgets/base",
      "model_module_version": "1.1.0",
      "model_name": "LayoutModel",
      "state": {
       "max_width": "180px"
      }
     },
     "785ab45ee6f34af4b0f0cd439ed00a62": {
      "model_module": "@jupyter-widgets/base",
      "model_module_version": "1.1.0",
      "model_name": "LayoutModel",
      "state": {}
     },
     "78c3046e635f4c9abc21ebf6252ab8e5": {
      "model_module": "@jupyter-widgets/controls",
      "model_module_version": "1.4.0",
      "model_name": "VBoxModel",
      "state": {
       "children": [
        "IPY_MODEL_b97e5ce722c74c6b89ce40ca7eb9f63c",
        "IPY_MODEL_21dfb7bb455848a0be5431979768bc41"
       ],
       "layout": "IPY_MODEL_d19a51675a2e4993a960de45ab9bcdac"
      }
     },
     "7954bb25e7e04ec4b2d7d16d245d2940": {
      "model_module": "@jupyter-widgets/base",
      "model_module_version": "1.1.0",
      "model_name": "LayoutModel",
      "state": {
       "align_items": "center",
       "display": "flex-inline",
       "min_height": "400px"
      }
     },
     "7a0edde4007c45df839cbac3a0ee085d": {
      "model_module": "@jupyter-widgets/base",
      "model_module_version": "1.1.0",
      "model_name": "LayoutModel",
      "state": {
       "justify_content": "center"
      }
     },
     "7ad0ab795dd54fc6ac6227e2f4dcff85": {
      "model_module": "@jupyter-widgets/base",
      "model_module_version": "1.1.0",
      "model_name": "LayoutModel",
      "state": {}
     },
     "7fba1cf348424a719dd4219e93f48929": {
      "model_module": "@jupyter-widgets/controls",
      "model_module_version": "1.4.0",
      "model_name": "LabelModel",
      "state": {
       "layout": "IPY_MODEL_4eeb620b671342dba35cef0a7a7d0a33",
       "style": "IPY_MODEL_976b26cb51784243944d0e5defb57a49",
       "value": "50"
      }
     },
     "82e0bc66a5954ae7aa25864d0d53f0bb": {
      "model_module": "@jupyter-widgets/controls",
      "model_module_version": "1.4.0",
      "model_name": "DescriptionStyleModel",
      "state": {
       "description_width": ""
      }
     },
     "86df330c176a4345a49b82b89ca3c5c4": {
      "model_module": "@jupyter-widgets/base",
      "model_module_version": "1.1.0",
      "model_name": "LayoutModel",
      "state": {
       "align_items": "center",
       "display": "flex-inline",
       "min_height": "400px"
      }
     },
     "88a2e50e9865436399e81a48f7a9fc2e": {
      "model_module": "@jupyter-widgets/controls",
      "model_module_version": "1.4.0",
      "model_name": "DescriptionStyleModel",
      "state": {
       "description_width": ""
      }
     },
     "89e0b7f9199744e6b685ed76a7d898d9": {
      "model_module": "@jupyter-widgets/controls",
      "model_module_version": "1.4.0",
      "model_name": "DescriptionStyleModel",
      "state": {
       "description_width": ""
      }
     },
     "8d907a6b44c34e02848b068fa6173033": {
      "model_module": "@jupyter-widgets/controls",
      "model_module_version": "1.4.0",
      "model_name": "TabModel",
      "state": {
       "_titles": {
        "0": "Year",
        "1": "Month",
        "2": "Week"
       },
       "children": [
        "IPY_MODEL_bd8f7464aff2439c8bebc149da4ce563",
        "IPY_MODEL_132a3252247e4fa2a385b92cf19ce722",
        "IPY_MODEL_91355e422b6c4343b7214be4306b4232"
       ],
       "layout": "IPY_MODEL_6e7c3b21e93240759daf30d30990360c",
       "selected_index": 1
      }
     },
     "8da41c0dab3d4cdaa5cc0ea01628c2fa": {
      "model_module": "@jupyter-widgets/base",
      "model_module_version": "1.1.0",
      "model_name": "LayoutModel",
      "state": {
       "max_width": "180px"
      }
     },
     "8e01e1d866004ec1b6a17957add8ceb2": {
      "model_module": "@jupyter-widgets/base",
      "model_module_version": "1.1.0",
      "model_name": "LayoutModel",
      "state": {}
     },
     "91355e422b6c4343b7214be4306b4232": {
      "model_module": "@jupyter-widgets/output",
      "model_module_version": "1.0.0",
      "model_name": "OutputModel",
      "state": {
       "layout": "IPY_MODEL_86df330c176a4345a49b82b89ca3c5c4",
       "outputs": [
        {
         "data": {
          "image/png": "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\n",
          "text/plain": "<Figure size 360x360 with 1 Axes>"
         },
         "metadata": {},
         "output_type": "display_data"
        }
       ]
      }
     },
     "933b4316167e46c1ac9963a23c5a2e33": {
      "model_module": "@jupyter-widgets/base",
      "model_module_version": "1.1.0",
      "model_name": "LayoutModel",
      "state": {}
     },
     "945d81cd9faf43b59f9fd8e489be4252": {
      "model_module": "@jupyter-widgets/base",
      "model_module_version": "1.1.0",
      "model_name": "LayoutModel",
      "state": {}
     },
     "94705442a659433c80209990cae53225": {
      "model_module": "@jupyter-widgets/base",
      "model_module_version": "1.1.0",
      "model_name": "LayoutModel",
      "state": {
       "align_items": "center",
       "justify_content": "center",
       "margin": "0px 0px 0px 0px",
       "max_height": "250px",
       "max_width": "250px",
       "min_height": "250px",
       "min_width": "250px"
      }
     },
     "950af204c74e4ae29ffc52f79dc3e592": {
      "model_module": "@jupyter-widgets/controls",
      "model_module_version": "1.4.0",
      "model_name": "HTMLModel",
      "state": {
       "layout": "IPY_MODEL_0d5a946de3e1471d96c55ca760b0c500",
       "style": "IPY_MODEL_beca2b9298ad4c13af2cd548f01c991e",
       "value": "<p style='font-size:16px;'>Job Status : job is queued (83) </p>"
      }
     },
     "976b26cb51784243944d0e5defb57a49": {
      "model_module": "@jupyter-widgets/controls",
      "model_module_version": "1.4.0",
      "model_name": "DescriptionStyleModel",
      "state": {
       "description_width": ""
      }
     },
     "981a9f9a5ac74ce088d4afb0b7439aff": {
      "model_module": "@jupyter-widgets/base",
      "model_module_version": "1.1.0",
      "model_name": "LayoutModel",
      "state": {
       "justify_content": "center"
      }
     },
     "981c366116484f18afe6370642d796d0": {
      "model_module": "@jupyter-widgets/controls",
      "model_module_version": "1.4.0",
      "model_name": "VBoxModel",
      "state": {
       "children": [
        "IPY_MODEL_d804ee0ddb944afd98934a93a0caccca",
        "IPY_MODEL_e15de304a1864e54b54ed337ead92506",
        "IPY_MODEL_efd7ca2b38fe41bea012b20d6b8e2bf6",
        "IPY_MODEL_c8960955e45d4593b994676541a4e223",
        "IPY_MODEL_0cfa5e6399f5491084098ad6a073f4d1"
       ],
       "layout": "IPY_MODEL_43457b2b7f4d45e799205a52369bc7ef"
      }
     },
     "9a65e2f405c34879af66af063921cbb3": {
      "model_module": "@jupyter-widgets/base",
      "model_module_version": "1.1.0",
      "model_name": "LayoutModel",
      "state": {}
     },
     "9c89aed02f9d48ac95931f285907bb0b": {
      "model_module": "@jupyter-widgets/controls",
      "model_module_version": "1.4.0",
      "model_name": "HTMLModel",
      "state": {
       "layout": "IPY_MODEL_2133dfec60f94680abec5118fa46b0ac",
       "style": "IPY_MODEL_3c2e32fa978244c9a27198738efdb893",
       "value": "<h5 style='color:#34bc6e'>True</h5>"
      }
     },
     "9f93dcd72d734c31b3eb43432c3aebcd": {
      "model_module": "@jupyter-widgets/controls",
      "model_module_version": "1.4.0",
      "model_name": "HTMLModel",
      "state": {
       "layout": "IPY_MODEL_2166d0afd9ea475e8c5ea1dc1560daba",
       "style": "IPY_MODEL_6a42834cd9a54578bd05b38b2a33c6aa",
       "value": "<h5>26.0 µs</h5>"
      }
     },
     "a0ca1b214c8c409f96bd01f7430e0fda": {
      "model_module": "@jupyter-widgets/controls",
      "model_module_version": "1.4.0",
      "model_name": "HTMLModel",
      "state": {
       "layout": "IPY_MODEL_5634017bf4a445f68fa08ce1f20928a1",
       "style": "IPY_MODEL_06687a8dcb554f1a9c4d9e525ab7311a",
       "value": "<table><style>\ntable {\n    border-collapse: collapse;\n    width: auto;\n}\n\nth, td {\n    text-align: left;\n    padding: 8px;\n}\n\ntr:nth-child(even) {background-color: #f6f6f6;}\n</style><tr><th>Property</th><th>Value</th></tr><tr><td><font style='font-weight:bold'>n_qubits</font></td><td>14</td></tr><tr><td><font style='font-weight:bold'>operational</font></td><td>True</td></tr><tr><td><font style='font-weight:bold'>status_msg</font></td><td>active</td></tr><tr><td><font style='font-weight:bold'>pending_jobs</font></td><td>86</td></tr><tr><td><font style='font-weight:bold'>basis_gates</font></td><td>['u1', 'u2', 'u3', 'cx', 'id']</td></tr><tr><td><font style='font-weight:bold'>local</font></td><td>False</td></tr><tr><td><font style='font-weight:bold'>simulator</font></td><td>False</td></tr></table>"
      }
     },
     "a1e8e6080ce942be8dd99a6dae72c465": {
      "model_module": "@jupyter-widgets/controls",
      "model_module_version": "1.4.0",
      "model_name": "HTMLModel",
      "state": {
       "layout": "IPY_MODEL_e6fbefb9b133478b96361f3c220bc3ae",
       "style": "IPY_MODEL_07d583147f234321bceb654e5074a0b4",
       "value": "<table><style>\ntable {\n    border-collapse: collapse;\n    width: auto;\n}\n\nth, td {\n    text-align: left;\n    padding: 8px;\n}\n\ntr:nth-child(even) {background-color: #f6f6f6;}\n</style><tr><th></th><th>Frequency</th><th>T1</th><th>T2</th><th>U1 gate error</th><th>U2 gate error</th><th>U3 gate error</th><th>Readout error</th></tr><tr><td><font style='font-weight:bold'>Q0</font></td><td>5.10005 GHz</td><td>60.14509 µs</td><td>22.87751 µs</td><td>0.0</td><td>0.00167</td><td>0.00335</td><td>0.0329</td></tr><tr><td><font style='font-weight:bold'>Q1</font></td><td>5.23866 GHz</td><td>59.79461 µs</td><td>72.55859 µs</td><td>0.0</td><td>0.00777</td><td>0.01554</td><td>0.0447</td></tr><tr><td><font style='font-weight:bold'>Q2</font></td><td>5.03294 GHz</td><td>41.98344 µs</td><td>107.69124 µs</td><td>0.0</td><td>0.00395</td><td>0.0079</td><td>0.0835</td></tr><tr><td><font style='font-weight:bold'>Q3</font></td><td>4.89617 GHz</td><td>61.20129 µs</td><td>77.12478 µs</td><td>0.0</td><td>0.00105</td><td>0.0021</td><td>0.085</td></tr><tr><td><font style='font-weight:bold'>Q4</font></td><td>5.02726 GHz</td><td>53.09443 µs</td><td>19.05634 µs</td><td>0.0</td><td>0.00238</td><td>0.00476</td><td>0.0267</td></tr><tr><td><font style='font-weight:bold'>Q5</font></td><td>5.06715 GHz</td><td>25.14207 µs</td><td>50.20313 µs</td><td>0.0</td><td>0.00212</td><td>0.00424</td><td>0.043</td></tr><tr><td><font style='font-weight:bold'>Q6</font></td><td>4.9238 GHz</td><td>72.4316 µs</td><td>54.42073 µs</td><td>0.0</td><td>0.00145</td><td>0.0029</td><td>0.0388</td></tr><tr><td><font style='font-weight:bold'>Q7</font></td><td>4.97448 GHz</td><td>46.41363 µs</td><td>79.85185 µs</td><td>0.0</td><td>0.00143</td><td>0.00285</td><td>0.0844</td></tr><tr><td><font style='font-weight:bold'>Q8</font></td><td>4.73979 GHz</td><td>59.34544 µs</td><td>81.99029 µs</td><td>0.0</td><td>0.00284</td><td>0.00568</td><td>0.0314</td></tr><tr><td><font style='font-weight:bold'>Q9</font></td><td>4.96338 GHz</td><td>45.42174 µs</td><td>76.31623 µs</td><td>0.0</td><td>0.00272</td><td>0.00543</td><td>0.0772</td></tr><tr><td><font style='font-weight:bold'>Q10</font></td><td>4.94505 GHz</td><td>68.74365 µs</td><td>67.71255 µs</td><td>0.0</td><td>0.00214</td><td>0.00428</td><td>0.0422</td></tr><tr><td><font style='font-weight:bold'>Q11</font></td><td>5.00527 GHz</td><td>64.47109 µs</td><td>111.05563 µs</td><td>0.0</td><td>0.00192</td><td>0.00385</td><td>0.0856</td></tr><tr><td><font style='font-weight:bold'>Q12</font></td><td>4.76015 GHz</td><td>79.67775 µs</td><td>141.18404 µs</td><td>0.0</td><td>0.00389</td><td>0.00777</td><td>0.0549</td></tr><tr><td><font style='font-weight:bold'>Q13</font></td><td>4.96847 GHz</td><td>27.68628 µs</td><td>41.4397 µs</td><td>0.0</td><td>0.00666</td><td>0.01332</td><td>0.0502</td></tr></table>"
      }
     },
     "a236ac3c25094a8d91ca9a2ae0c7ab13": {
      "model_module": "@jupyter-widgets/controls",
      "model_module_version": "1.4.0",
      "model_name": "LabelModel",
      "state": {
       "layout": "IPY_MODEL_49ebbf35e04f48d39ddda252b1e89d45",
       "style": "IPY_MODEL_4bd7db1d011f4791879e355e96078d0a",
       "value": "Num. Qubits"
      }
     },
     "a2d1cd1c84a34f58ae463298cd1d7ba1": {
      "model_module": "@jupyter-widgets/controls",
      "model_module_version": "1.4.0",
      "model_name": "LabelModel",
      "state": {
       "layout": "IPY_MODEL_b62deb90b4484b00b95120e605b80c61",
       "style": "IPY_MODEL_bfb175c193064d18ae38697383fb9fc8",
       "value": "Avg. T1"
      }
     },
     "a34db22dd3f84f05aa42e8c1ccbac08d": {
      "model_module": "@jupyter-widgets/controls",
      "model_module_version": "1.4.0",
      "model_name": "DescriptionStyleModel",
      "state": {
       "description_width": ""
      }
     },
     "a3e336fd308849149e10cc50a4b95ff0": {
      "model_module": "@jupyter-widgets/controls",
      "model_module_version": "1.4.0",
      "model_name": "HTMLModel",
      "state": {
       "layout": "IPY_MODEL_c4e9b9c0be794116b5085cfa6f56266b",
       "style": "IPY_MODEL_b7a6c5e026d645a499a097ec41d7f743",
       "value": "<h5 style='color:#34bc6e'>True</h5>"
      }
     },
     "a4d6b1fb353640f4b7b3cd78376a3637": {
      "model_module": "@jupyter-widgets/output",
      "model_module_version": "1.0.0",
      "model_name": "OutputModel",
      "state": {
       "layout": "IPY_MODEL_b6eff2958672468ca9cac6ce09865542",
       "outputs": [
        {
         "data": {
          "image/png": "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\n",
          "text/plain": "<Figure size 216x72 with 1 Axes>"
         },
         "metadata": {},
         "output_type": "display_data"
        }
       ]
      }
     },
     "a62dd3c21beb4bfba8c782ee5b72297a": {
      "model_module": "@jupyter-widgets/base",
      "model_module_version": "1.1.0",
      "model_name": "LayoutModel",
      "state": {}
     },
     "a6cb413e6fa64e0099ba9263879743b5": {
      "model_module": "@jupyter-widgets/controls",
      "model_module_version": "1.4.0",
      "model_name": "LabelModel",
      "state": {
       "layout": "IPY_MODEL_9a65e2f405c34879af66af063921cbb3",
       "style": "IPY_MODEL_bdcfbed3f8cb43329bb67042b0c7be15",
       "value": "Least Busy"
      }
     },
     "a7e49b8060d74170afc9913914de8014": {
      "model_module": "@jupyter-widgets/base",
      "model_module_version": "1.1.0",
      "model_name": "LayoutModel",
      "state": {}
     },
     "a86bd436b50246b480856ccd41828bb8": {
      "model_module": "@jupyter-widgets/controls",
      "model_module_version": "1.4.0",
      "model_name": "GridBoxModel",
      "state": {
       "children": [
        "IPY_MODEL_a0ca1b214c8c409f96bd01f7430e0fda",
        "IPY_MODEL_6f6eba1a87f64a2b8c64cc46639843dd",
        "IPY_MODEL_0d5ab44171384a5ca42a2f51918f1975"
       ],
       "layout": "IPY_MODEL_d95b2718ee004145aad274280fda5059"
      }
     },
     "a8c4986fddc345a8a1b8e4ed90df674b": {
      "model_module": "@jupyter-widgets/controls",
      "model_module_version": "1.4.0",
      "model_name": "HTMLModel",
      "state": {
       "layout": "IPY_MODEL_bd15488c0c4441df911d040c75cabff0",
       "style": "IPY_MODEL_2d39b1912ee047cfa507aca5ae281996",
       "value": "<p style='font-size:16px;'>Job Status [3]: job is queued (73) </p>"
      }
     },
     "a925a61c415d4547a5e93beae9743dba": {
      "model_module": "@jupyter-widgets/base",
      "model_module_version": "1.1.0",
      "model_name": "LayoutModel",
      "state": {}
     },
     "aacbde6acf514f459e94e61f1a362085": {
      "model_module": "@jupyter-widgets/base",
      "model_module_version": "1.1.0",
      "model_name": "LayoutModel",
      "state": {}
     },
     "ad35292eff444c5394704d68f220a4bd": {
      "model_module": "@jupyter-widgets/controls",
      "model_module_version": "1.4.0",
      "model_name": "ProgressStyleModel",
      "state": {
       "bar_color": "#71cddd",
       "description_width": ""
      }
     },
     "ad6b03cadbbc43499bedf5ca5ebf7870": {
      "model_module": "@jupyter-widgets/controls",
      "model_module_version": "1.4.0",
      "model_name": "HTMLModel",
      "state": {
       "layout": "IPY_MODEL_d2de3d439f954b0e977898888d838834",
       "style": "IPY_MODEL_11afcf10534e485f8eb5a9d196ce677b",
       "value": "<p style='font-size:16px;'>Job Status : job is queued (82) </p>"
      }
     },
     "aed13f739afc4760b7cc4b64da935011": {
      "model_module": "@jupyter-widgets/base",
      "model_module_version": "1.1.0",
      "model_name": "LayoutModel",
      "state": {
       "grid_gap": "0px 25px",
       "grid_template_columns": "250px 250px ",
       "grid_template_rows": "auto"
      }
     },
     "aff459c2bf8a43909d3d67da52f9daa0": {
      "model_module": "@jupyter-widgets/base",
      "model_module_version": "1.1.0",
      "model_name": "LayoutModel",
      "state": {
       "justify_content": "center"
      }
     },
     "b04445772f804fa198ccfdccc727d8ab": {
      "model_module": "@jupyter-widgets/base",
      "model_module_version": "1.1.0",
      "model_name": "LayoutModel",
      "state": {}
     },
     "b10ac82303264382bd4a4605a470a9b9": {
      "model_module": "@jupyter-widgets/controls",
      "model_module_version": "1.4.0",
      "model_name": "DescriptionStyleModel",
      "state": {
       "description_width": ""
      }
     },
     "b135ec92fa57410da3f607f45b9fb02f": {
      "model_module": "@jupyter-widgets/base",
      "model_module_version": "1.1.0",
      "model_name": "LayoutModel",
      "state": {
       "justify_content": "center",
       "max_width": "250px",
       "min_width": "250px"
      }
     },
     "b2d50915f3ca410b8ba488d3a20dcd9a": {
      "model_module": "@jupyter-widgets/base",
      "model_module_version": "1.1.0",
      "model_name": "LayoutModel",
      "state": {
       "align_items": "center",
       "display": "flex-inline",
       "min_height": "400px"
      }
     },
     "b38369fe6f0f4d40b7ffc932b2bd38dc": {
      "model_module": "@jupyter-widgets/controls",
      "model_module_version": "1.4.0",
      "model_name": "DescriptionStyleModel",
      "state": {
       "description_width": ""
      }
     },
     "b61dbb18c6204451a84a32f6dbd262c1": {
      "model_module": "@jupyter-widgets/base",
      "model_module_version": "1.1.0",
      "model_name": "LayoutModel",
      "state": {
       "grid_area": "top"
      }
     },
     "b62deb90b4484b00b95120e605b80c61": {
      "model_module": "@jupyter-widgets/base",
      "model_module_version": "1.1.0",
      "model_name": "LayoutModel",
      "state": {
       "margin": "10px 0px 0px 0px"
      }
     },
     "b6eff2958672468ca9cac6ce09865542": {
      "model_module": "@jupyter-widgets/base",
      "model_module_version": "1.1.0",
      "model_name": "LayoutModel",
      "state": {
       "align_items": "center",
       "display": "flex-inline",
       "grid_area": "right"
      }
     },
     "b725ebda4e6a4e98af2bb26a76270239": {
      "model_module": "@jupyter-widgets/base",
      "model_module_version": "1.1.0",
      "model_name": "LayoutModel",
      "state": {}
     },
     "b7a6c5e026d645a499a097ec41d7f743": {
      "model_module": "@jupyter-widgets/controls",
      "model_module_version": "1.4.0",
      "model_name": "DescriptionStyleModel",
      "state": {
       "description_width": ""
      }
     },
     "b95b552962db4ca09edc3329c4d36d04": {
      "model_module": "@jupyter-widgets/controls",
      "model_module_version": "1.4.0",
      "model_name": "DescriptionStyleModel",
      "state": {
       "description_width": ""
      }
     },
     "b97e5ce722c74c6b89ce40ca7eb9f63c": {
      "model_module": "@jupyter-widgets/controls",
      "model_module_version": "1.4.0",
      "model_name": "HTMLModel",
      "state": {
       "layout": "IPY_MODEL_7384d40e9d254c62a41ba26d765c8336",
       "style": "IPY_MODEL_c99758c918a34e64b217d166e5745ebd",
       "value": "<h1 style='color:#ffffff;background-color:#000000;padding-top: 1%;padding-bottom: 1%;padding-left: 1%; margin-top: 0px'>ibmq_16_melbourne</h1>"
      }
     },
     "b9e156650f834b919cd17f0bfbaedbe5": {
      "model_module": "@jupyter-widgets/controls",
      "model_module_version": "1.4.0",
      "model_name": "HBoxModel",
      "state": {
       "children": [
        "IPY_MODEL_7fba1cf348424a719dd4219e93f48929",
        "IPY_MODEL_fcc44c7f86a04b5a81d88ebc687ca836",
        "IPY_MODEL_2b2d60f9fe6a46e1986aef13f4efc75b"
       ],
       "layout": "IPY_MODEL_b135ec92fa57410da3f607f45b9fb02f"
      }
     },
     "bd15488c0c4441df911d040c75cabff0": {
      "model_module": "@jupyter-widgets/base",
      "model_module_version": "1.1.0",
      "model_name": "LayoutModel",
      "state": {}
     },
     "bd8f7464aff2439c8bebc149da4ce563": {
      "model_module": "@jupyter-widgets/output",
      "model_module_version": "1.0.0",
      "model_name": "OutputModel",
      "state": {
       "layout": "IPY_MODEL_b2d50915f3ca410b8ba488d3a20dcd9a",
       "outputs": [
        {
         "data": {
          "image/png": "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\n",
          "text/plain": "<Figure size 360x360 with 1 Axes>"
         },
         "metadata": {},
         "output_type": "display_data"
        }
       ]
      }
     },
     "bdcfbed3f8cb43329bb67042b0c7be15": {
      "model_module": "@jupyter-widgets/controls",
      "model_module_version": "1.4.0",
      "model_name": "DescriptionStyleModel",
      "state": {
       "description_width": ""
      }
     },
     "be35cdb2896c4b929401f040d3ae3035": {
      "model_module": "@jupyter-widgets/controls",
      "model_module_version": "1.4.0",
      "model_name": "DescriptionStyleModel",
      "state": {
       "description_width": ""
      }
     },
     "be989aef8b2442edbe19c7f285ac5dd8": {
      "model_module": "@jupyter-widgets/base",
      "model_module_version": "1.1.0",
      "model_name": "LayoutModel",
      "state": {}
     },
     "beb33717101342a19ea49ea95ed543e4": {
      "model_module": "@jupyter-widgets/base",
      "model_module_version": "1.1.0",
      "model_name": "LayoutModel",
      "state": {
       "justify_content": "center",
       "max_width": "250px",
       "min_width": "250px"
      }
     },
     "beca2b9298ad4c13af2cd548f01c991e": {
      "model_module": "@jupyter-widgets/controls",
      "model_module_version": "1.4.0",
      "model_name": "DescriptionStyleModel",
      "state": {
       "description_width": ""
      }
     },
     "bfb175c193064d18ae38697383fb9fc8": {
      "model_module": "@jupyter-widgets/controls",
      "model_module_version": "1.4.0",
      "model_name": "DescriptionStyleModel",
      "state": {
       "description_width": ""
      }
     },
     "c1211669fe4341e59c400618188c2b0b": {
      "model_module": "@jupyter-widgets/controls",
      "model_module_version": "1.4.0",
      "model_name": "DescriptionStyleModel",
      "state": {
       "description_width": ""
      }
     },
     "c187bae470dd4316817e15cbff063786": {
      "model_module": "@jupyter-widgets/controls",
      "model_module_version": "1.4.0",
      "model_name": "HTMLModel",
      "state": {
       "layout": "IPY_MODEL_be989aef8b2442edbe19c7f285ac5dd8",
       "style": "IPY_MODEL_b10ac82303264382bd4a4605a470a9b9",
       "value": "<h5>45.9 µs</h5>"
      }
     },
     "c4e9b9c0be794116b5085cfa6f56266b": {
      "model_module": "@jupyter-widgets/base",
      "model_module_version": "1.1.0",
      "model_name": "LayoutModel",
      "state": {
       "justify_content": "center"
      }
     },
     "c7222d77c3954022a392b772acfc301c": {
      "model_module": "@jupyter-widgets/base",
      "model_module_version": "1.1.0",
      "model_name": "LayoutModel",
      "state": {
       "grid_gap": "0px 0px",
       "grid_template_areas": "\n                                                \"top top top\"\n                                                \"left . right\"\n                                                ",
       "grid_template_columns": "33% 33% 33%",
       "grid_template_rows": "auto auto"
      }
     },
     "c894610a2e0542ca9a5ea1edec45b2da": {
      "model_module": "@jupyter-widgets/base",
      "model_module_version": "1.1.0",
      "model_name": "LayoutModel",
      "state": {}
     },
     "c8960955e45d4593b994676541a4e223": {
      "model_module": "@jupyter-widgets/controls",
      "model_module_version": "1.4.0",
      "model_name": "HTMLModel",
      "state": {
       "layout": "IPY_MODEL_b04445772f804fa198ccfdccc727d8ab",
       "style": "IPY_MODEL_88a2e50e9865436399e81a48f7a9fc2e",
       "value": "<p style='font-size:16px;'>Job Status [3]: job is queued (77) </p>"
      }
     },
     "c99758c918a34e64b217d166e5745ebd": {
      "model_module": "@jupyter-widgets/controls",
      "model_module_version": "1.4.0",
      "model_name": "DescriptionStyleModel",
      "state": {
       "description_width": ""
      }
     },
     "cbbfa81cae694e2690d31a3c340a17ab": {
      "model_module": "@jupyter-widgets/base",
      "model_module_version": "1.1.0",
      "model_name": "LayoutModel",
      "state": {}
     },
     "cbfe390f512e4e9b8d68a35ab3dde863": {
      "model_module": "@jupyter-widgets/base",
      "model_module_version": "1.1.0",
      "model_name": "LayoutModel",
      "state": {}
     },
     "d00943109f9a485daf9c5f12bf90f756": {
      "model_module": "@jupyter-widgets/controls",
      "model_module_version": "1.4.0",
      "model_name": "HBoxModel",
      "state": {
       "children": [
        "IPY_MODEL_4d109dbb2952491da4c3214e8d94acfe",
        "IPY_MODEL_e8d719fc9ac7489aa19805a174098c1e"
       ],
       "layout": "IPY_MODEL_a925a61c415d4547a5e93beae9743dba"
      }
     },
     "d19a51675a2e4993a960de45ab9bcdac": {
      "model_module": "@jupyter-widgets/base",
      "model_module_version": "1.1.0",
      "model_name": "LayoutModel",
      "state": {
       "border": "4px solid #000000",
       "max_height": "650px",
       "min_height": "650px",
       "overflow_y": "hidden"
      }
     },
     "d2de3d439f954b0e977898888d838834": {
      "model_module": "@jupyter-widgets/base",
      "model_module_version": "1.1.0",
      "model_name": "LayoutModel",
      "state": {}
     },
     "d3fb42267f684e288d86245fec03797b": {
      "model_module": "@jupyter-widgets/controls",
      "model_module_version": "1.4.0",
      "model_name": "VBoxModel",
      "state": {
       "children": [
        "IPY_MODEL_1b88974e13694605bb7ae7895a650562",
        "IPY_MODEL_a1e8e6080ce942be8dd99a6dae72c465"
       ],
       "layout": "IPY_MODEL_aacbde6acf514f459e94e61f1a362085"
      }
     },
     "d804ee0ddb944afd98934a93a0caccca": {
      "model_module": "@jupyter-widgets/controls",
      "model_module_version": "1.4.0",
      "model_name": "HTMLModel",
      "state": {
       "layout": "IPY_MODEL_a7e49b8060d74170afc9913914de8014",
       "style": "IPY_MODEL_f5d6daa1262440099177e2a97147141e",
       "value": "<p style='font-size:16px;'>Job Status [0]: job is queued (78) </p>"
      }
     },
     "d9058b90ce134ad697d1950528d11380": {
      "model_module": "@jupyter-widgets/controls",
      "model_module_version": "1.4.0",
      "model_name": "VBoxModel",
      "state": {
       "children": [
        "IPY_MODEL_328436f9e733422eb7a53214f62798db",
        "IPY_MODEL_d00943109f9a485daf9c5f12bf90f756"
       ],
       "layout": "IPY_MODEL_785ab45ee6f34af4b0f0cd439ed00a62"
      }
     },
     "d95b2718ee004145aad274280fda5059": {
      "model_module": "@jupyter-widgets/base",
      "model_module_version": "1.1.0",
      "model_name": "LayoutModel",
      "state": {
       "grid_gap": "0px 0px",
       "grid_template_areas": "\n                               \"left right right right\"\n                               \"bottom bottom bottom bottom\"\n                               ",
       "grid_template_columns": "25% 25% 25% 25%",
       "grid_template_rows": "auto auto"
      }
     },
     "da6a62e63144435d9b477e49633b70b4": {
      "model_module": "@jupyter-widgets/controls",
      "model_module_version": "1.4.0",
      "model_name": "HTMLModel",
      "state": {
       "layout": "IPY_MODEL_c894610a2e0542ca9a5ea1edec45b2da",
       "style": "IPY_MODEL_747dfe8ed642441fab300e130e0b44ca",
       "value": "<p style='font-size:16px;'>Job Status: job is queued (67) </p>"
      }
     },
     "dced587a7e6d44929a0265393ee3d782": {
      "model_module": "@jupyter-widgets/controls",
      "model_module_version": "1.4.0",
      "model_name": "DescriptionStyleModel",
      "state": {
       "description_width": ""
      }
     },
     "de7e8b81f3e5409ca6ab8a477cfc392c": {
      "model_module": "@jupyter-widgets/controls",
      "model_module_version": "1.4.0",
      "model_name": "VBoxModel",
      "state": {
       "children": [
        "IPY_MODEL_5bdea89769e8469c8c7af58559224e95",
        "IPY_MODEL_7307a114a99944a8bbce35b632f59c8b",
        "IPY_MODEL_1564e3508b7a4757810ac23380250234",
        "IPY_MODEL_a8c4986fddc345a8a1b8e4ed90df674b",
        "IPY_MODEL_13c49b43dabc45c1818b449a5f6e49ba"
       ],
       "layout": "IPY_MODEL_8e01e1d866004ec1b6a17957add8ceb2"
      }
     },
     "dec076d63fe64eddb272ccc5619fdb0c": {
      "model_module": "@jupyter-widgets/controls",
      "model_module_version": "1.4.0",
      "model_name": "DescriptionStyleModel",
      "state": {
       "description_width": ""
      }
     },
     "df560278a7014eefb7907241b7dfc029": {
      "model_module": "@jupyter-widgets/output",
      "model_module_version": "1.0.0",
      "model_name": "OutputModel",
      "state": {
       "layout": "IPY_MODEL_734fc1b4778445dc9fdadd6cb06ae87e",
       "outputs": [
        {
         "data": {
          "image/png": "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\n",
          "text/plain": "<Figure size 810x270 with 1 Axes>"
         },
         "metadata": {},
         "output_type": "display_data"
        }
       ]
      }
     },
     "df5e1f42d94345bdb7a85839f2b0c961": {
      "model_module": "@jupyter-widgets/controls",
      "model_module_version": "1.4.0",
      "model_name": "HTMLModel",
      "state": {
       "layout": "IPY_MODEL_981a9f9a5ac74ce088d4afb0b7439aff",
       "style": "IPY_MODEL_177c81f9f425445799c67274d68e0b3d",
       "value": "<h5 style='color:#34bc6e'>True</h5>"
      }
     },
     "e15de304a1864e54b54ed337ead92506": {
      "model_module": "@jupyter-widgets/controls",
      "model_module_version": "1.4.0",
      "model_name": "HTMLModel",
      "state": {
       "layout": "IPY_MODEL_b725ebda4e6a4e98af2bb26a76270239",
       "style": "IPY_MODEL_1d8e3f53183b4c28ab7651a264cbdd6f",
       "value": "<p style='font-size:16px;'>Job Status [1]: job is queued (79) </p>"
      }
     },
     "e19e12b485624c4ca61d28537efd9c85": {
      "model_module": "@jupyter-widgets/controls",
      "model_module_version": "1.4.0",
      "model_name": "HTMLModel",
      "state": {
       "layout": "IPY_MODEL_13ab3058a5c64d65bc509b9901f17b77",
       "style": "IPY_MODEL_5a3171021e764e3baa28cfbbfa80788e",
       "value": "<p style='font-size:16px;'>Job Status: job is queued (68) </p>"
      }
     },
     "e24d49272823430a87f38bf5abb3ed0d": {
      "model_module": "@jupyter-widgets/base",
      "model_module_version": "1.1.0",
      "model_name": "LayoutModel",
      "state": {
       "align_items": "center",
       "justify_content": "center",
       "margin": "0px 0px 0px 0px",
       "max_height": "250px",
       "max_width": "250px",
       "min_height": "250px",
       "min_width": "250px"
      }
     },
     "e555a88d4572435a8473f028e2ec78de": {
      "model_module": "@jupyter-widgets/controls",
      "model_module_version": "1.4.0",
      "model_name": "HTMLModel",
      "state": {
       "layout": "IPY_MODEL_a62dd3c21beb4bfba8c782ee5b72297a",
       "style": "IPY_MODEL_68747dd9922b419bbae0dbe134e00929",
       "value": "<p style='font-size:16px;'>Job Status: job is queued (71) </p>"
      }
     },
     "e592d1f4094e417c8778173f22bbdee7": {
      "model_module": "@jupyter-widgets/controls",
      "model_module_version": "1.4.0",
      "model_name": "DescriptionStyleModel",
      "state": {
       "description_width": ""
      }
     },
     "e6fbefb9b133478b96361f3c220bc3ae": {
      "model_module": "@jupyter-widgets/base",
      "model_module_version": "1.1.0",
      "model_name": "LayoutModel",
      "state": {}
     },
     "e7b165a65ffb47be944b78f27138d279": {
      "model_module": "@jupyter-widgets/controls",
      "model_module_version": "1.4.0",
      "model_name": "HTMLModel",
      "state": {
       "layout": "IPY_MODEL_b61dbb18c6204451a84a32f6dbd262c1",
       "style": "IPY_MODEL_3fbad4f9c0974a2ab0dbe72fc1566de1",
       "value": "<div><font style='font-weight:bold'>last_update_date</font>: 2018-12-20T09:17:33+00:00</div>"
      }
     },
     "e7f28628bd314e3c9b8b95d93e161522": {
      "model_module": "@jupyter-widgets/controls",
      "model_module_version": "1.4.0",
      "model_name": "VBoxModel",
      "state": {
       "children": [
        "IPY_MODEL_743d649ab0c64cb490e7a2ed8cf8d871"
       ],
       "layout": "IPY_MODEL_5c144a386f804da2b0af1c833cae63a4"
      }
     },
     "e83d072b7ea04eda9ebfb7661e44333a": {
      "model_module": "@jupyter-widgets/base",
      "model_module_version": "1.1.0",
      "model_name": "LayoutModel",
      "state": {}
     },
     "e85bef5c1c194f3c8a0835f2a6bba126": {
      "model_module": "@jupyter-widgets/base",
      "model_module_version": "1.1.0",
      "model_name": "LayoutModel",
      "state": {}
     },
     "e87fb09b7ecb444e95f71219fc2d37e6": {
      "model_module": "@jupyter-widgets/controls",
      "model_module_version": "1.4.0",
      "model_name": "DescriptionStyleModel",
      "state": {
       "description_width": ""
      }
     },
     "e8d719fc9ac7489aa19805a174098c1e": {
      "model_module": "@jupyter-widgets/controls",
      "model_module_version": "1.4.0",
      "model_name": "GridBoxModel",
      "state": {
       "children": [
        "IPY_MODEL_2185be50cd4c4886bd2fdc69054bff31",
        "IPY_MODEL_178c0fc4f8034198843802afcfbd96e3"
       ],
       "layout": "IPY_MODEL_aed13f739afc4760b7cc4b64da935011"
      }
     },
     "ef0d60567246435083f0f679304fbac9": {
      "model_module": "@jupyter-widgets/controls",
      "model_module_version": "1.4.0",
      "model_name": "DescriptionStyleModel",
      "state": {
       "description_width": ""
      }
     },
     "efd7ca2b38fe41bea012b20d6b8e2bf6": {
      "model_module": "@jupyter-widgets/controls",
      "model_module_version": "1.4.0",
      "model_name": "HTMLModel",
      "state": {
       "layout": "IPY_MODEL_cbfe390f512e4e9b8d68a35ab3dde863",
       "style": "IPY_MODEL_3c5b9dc60dbf4545bfd10457c2bd4209",
       "value": "<p style='font-size:16px;'>Job Status [2]: job is queued (80) </p>"
      }
     },
     "f2f45f3b189d478697cf548bba33f657": {
      "model_module": "@jupyter-widgets/controls",
      "model_module_version": "1.4.0",
      "model_name": "DescriptionStyleModel",
      "state": {
       "description_width": ""
      }
     },
     "f5d6daa1262440099177e2a97147141e": {
      "model_module": "@jupyter-widgets/controls",
      "model_module_version": "1.4.0",
      "model_name": "DescriptionStyleModel",
      "state": {
       "description_width": ""
      }
     },
     "f7e939f5839748b9a9e3746a68768013": {
      "model_module": "@jupyter-widgets/controls",
      "model_module_version": "1.4.0",
      "model_name": "ProgressStyleModel",
      "state": {
       "bar_color": "#71cddd",
       "description_width": ""
      }
     },
     "f8ef5207c2c44adebd1a6ff7e4c62507": {
      "model_module": "@jupyter-widgets/controls",
      "model_module_version": "1.4.0",
      "model_name": "DescriptionStyleModel",
      "state": {
       "description_width": ""
      }
     },
     "f92eada7a81847c0b678c73bcce42528": {
      "model_module": "@jupyter-widgets/base",
      "model_module_version": "1.1.0",
      "model_name": "LayoutModel",
      "state": {
       "grid_area": "left"
      }
     },
     "faddc619e88849f0ae643202380b6dcd": {
      "model_module": "@jupyter-widgets/base",
      "model_module_version": "1.1.0",
      "model_name": "LayoutModel",
      "state": {}
     },
     "fb7be1debd394bf28a24f248bb89a8a5": {
      "model_module": "@jupyter-widgets/controls",
      "model_module_version": "1.4.0",
      "model_name": "VBoxModel",
      "state": {
       "children": [
        "IPY_MODEL_ad6b03cadbbc43499bedf5ca5ebf7870"
       ],
       "layout": "IPY_MODEL_114866670e4f4e7687d68d7556a0bbc6"
      }
     },
     "fca618555b1042faa5b715fc21005621": {
      "model_module": "@jupyter-widgets/controls",
      "model_module_version": "1.4.0",
      "model_name": "HTMLModel",
      "state": {
       "layout": "IPY_MODEL_7a0edde4007c45df839cbac3a0ee085d",
       "style": "IPY_MODEL_2b4e0d54b1494dfeaec0fdaf322fb994",
       "value": "<h5><b>14</b></h5>"
      }
     },
     "fcc44c7f86a04b5a81d88ebc687ca836": {
      "model_module": "@jupyter-widgets/controls",
      "model_module_version": "1.4.0",
      "model_name": "IntProgressModel",
      "state": {
       "layout": "IPY_MODEL_765a836bcead45a6bf93aeb50209db4b",
       "max": 95,
       "style": "IPY_MODEL_ad35292eff444c5394704d68f220a4bd",
       "value": 50
      }
     },
     "fddbce4b7e5d446cb6cbe29b5d776e3f": {
      "model_module": "@jupyter-widgets/controls",
      "model_module_version": "1.4.0",
      "model_name": "HTMLModel",
      "state": {
       "layout": "IPY_MODEL_19bbc3c78f944875ab193cb362f387f9",
       "style": "IPY_MODEL_373d46ad143d42e6896e2dcf8a336c50",
       "value": "<h4>ibmqx4</h4>"
      }
     },
     "ffe6ea424b41423f89aee3662f4652b6": {
      "model_module": "@jupyter-widgets/controls",
      "model_module_version": "1.4.0",
      "model_name": "HBoxModel",
      "state": {
       "children": [
        "IPY_MODEL_04c5587c11cd400cb385cc9fdf07114e",
        "IPY_MODEL_245bcb470b2b43b9ada633fbef96620d",
        "IPY_MODEL_502ab7437a10405c8a48a782b0dac784"
       ],
       "layout": "IPY_MODEL_beb33717101342a19ea49ea95ed543e4"
      }
     }
    },
    "version_major": 2,
    "version_minor": 0
   }
  }
 },
 "nbformat": 4,
 "nbformat_minor": 2
}
