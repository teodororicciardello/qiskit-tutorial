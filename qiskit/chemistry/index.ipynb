{
 "cells": [
  {
   "cell_type": "markdown",
   "metadata": {},
   "source": [
    "# Qiskit Chemistry\n",
    "\n",
    "Qiskit Chemistry is a set of tools, algorithms and software for use with quantum computers to carry out research and investigate how to take advantage of the quantum computational power to solve chemistry problems. Qiskit Chemistry translates chemistry-specific problem inputs into inputs for a quantum algorithm supplied by Qiskit Aqua, which then in turn uses Qiskit Terra for the actual quantum computation.\n",
    "\n",
    "## Contents\n",
    "\n",
    "* [Howto: declarative approach](declarative_approach.ipynb)\n",
    "* [Howto: programmatic approach](programmatic_approach.ipynb)\n",
    "* [Quantum Chemistry with VQE](dissociation_profile_of_molecule.ipynb) dissociation curve of H<sub>2</sub> and LiH\n",
    "* More examples can be found in [community/chemistry](../../community/chemistry)"
   ]
  },
  {
   "cell_type": "code",
   "execution_count": null,
   "metadata": {
    "collapsed": true
   },
   "outputs": [],
   "source": []
  }
 ],
 "metadata": {
  "kernelspec": {
   "display_name": "Python 3",
   "language": "python",
   "name": "python3"
  },
  "language_info": {
   "codemirror_mode": {
    "name": "ipython",
    "version": 3
   },
   "file_extension": ".py",
   "mimetype": "text/x-python",
   "name": "python",
   "nbconvert_exporter": "python",
   "pygments_lexer": "ipython3",
   "version": "3.6.1"
  }
 },
 "nbformat": 4,
 "nbformat_minor": 2
}
