{
 "cells": [
  {
   "cell_type": "markdown",
   "metadata": {},
   "source": [
    "<img src=\"../../images/qiskit-heading.gif\" alt=\"Note: In order for images to show up in this jupyter notebook you need to select File => Trusted Notebook\" width=\"500 px\" align=\"left\">"
   ]
  },
  {
   "cell_type": "markdown",
   "metadata": {},
   "source": [
    "# _*Qiskit Aqua: Tutorial to build a pluggable algorithm/component*_ \n",
    "\n",
    "The latest version of this notebook is available on https://github.com/Qiskit/qiskit-tutorial.\n",
    "\n",
    "***\n",
    "### Contributors\n",
    "Richard Chen<sup>[1]</sup>, Shaohan Hu<sup>[1]</sup>, Antonio Mezzacapo<sup>[1]</sup>, Peng Liu<sup>[1]</sup>, Marco Pistoia<sup>[1]</sup>, Stephen Wood<sup>[1]</sup>\n",
    "### Affiliation\n",
    "- <sup>[1]</sup>IBMQ"
   ]
  },
  {
   "cell_type": "markdown",
   "metadata": {},
   "source": [
    "### Introduction\n",
    "\n",
    "This notebook is part of the simple example of an algorithm for `Qiskit Aqua`. This sample, called `Evolution Fidelity`, illustrates how to implement an algorithm and what steps to take to configure and run it. The implementation of the algorithm itself is located in the `evolutionfidelity` directory."
   ]
  },
  {
   "cell_type": "markdown",
   "metadata": {},
   "source": [
    "### Register a pluggable algorithm/components\n",
    "After you complete the algorithm implementation, there are two approaches to register your pluggable algorithm/components.\n",
    "\n",
    "**Note: you can use the developed algorithm directly in Python without any issue.**\n",
    "\n",
    "1. Register it permentally. \n",
    "2. Register it on-the-fly.\n",
    "\n",
    "\n",
    "#### Register it permentally\n",
    "If you complete the pluggable algorithm/components as a Python package, you can refer to this [instruction](https://qiskit.org/documentation/aqua/extending.html#extending-aqua) to prepare the `setup.py` file to register the pluggable algorithm/component, which will be discovered in Qiskit-Aqua. We prepare a [setup.py](evolutionfidelity/setup.py) example for this tutorial. \n",
    "\n",
    "Go to the `qiskit/aqua/general/evolutionfidelity` folder, and then do `python3 setup.py install` to install the package.\n",
    "\n",
    "#### Register it on-the-fly\n",
    "You can also register it on-the-fly, Aqua provides a function to register your pluggable algorithm/compomenet easily. The following cell shows how to do that."
   ]
  },
  {
   "cell_type": "code",
   "execution_count": 1,
   "metadata": {},
   "outputs": [],
   "source": [
    "from qiskit.aqua import register_pluggable\n",
    "from evolutionfidelity.evolutionfidelity import EvolutionFidelity\n",
    "try:\n",
    "    register_pluggable(EvolutionFidelity)\n",
    "except Exception as e:\n",
    "    print(e)"
   ]
  },
  {
   "cell_type": "code",
   "execution_count": 2,
   "metadata": {},
   "outputs": [],
   "source": [
    "from qiskit import BasicAer\n",
    "import numpy as np\n",
    "from qiskit.aqua.operator import Operator\n",
    "from qiskit.aqua import local_pluggables, PluggableType"
   ]
  },
  {
   "cell_type": "markdown",
   "metadata": {},
   "source": [
    "List all registered algorithms, and we will find `EvolutionFidelity` in the list if you registered."
   ]
  },
  {
   "cell_type": "code",
   "execution_count": 3,
   "metadata": {},
   "outputs": [
    {
     "name": "stdout",
     "output_type": "stream",
     "text": [
      "['QAOA.Variational', 'VQC', 'VQE', 'ExactEigensolver', 'ExactLSsolver', 'SVM', 'EOH', 'QSVM', 'AmplitudeEstimation', 'BernsteinVazirani', 'DeutschJozsa', 'Grover', 'HHL', 'IQPE', 'QPE', 'Shor', 'Simon', 'EvolutionFidelity']\n"
     ]
    }
   ],
   "source": [
    "print(local_pluggables(PluggableType.ALGORITHM))"
   ]
  },
  {
   "cell_type": "markdown",
   "metadata": {},
   "source": [
    "### Use the algorithm directly\n",
    "Without registration, you can still use the designed algorithm/components as is."
   ]
  },
  {
   "cell_type": "code",
   "execution_count": 4,
   "metadata": {},
   "outputs": [
    {
     "name": "stdout",
     "output_type": "stream",
     "text": [
      "0.934847761060059\n"
     ]
    }
   ],
   "source": [
    "from evolutionfidelity.evolutionfidelity import EvolutionFidelity\n",
    "from qiskit.aqua.components.initial_states import Zero\n",
    "from qiskit.aqua import QuantumInstance\n",
    "num_qubits = 2\n",
    "temp = np.random.random((2 ** num_qubits, 2 ** num_qubits))\n",
    "qubit_op = Operator(matrix=temp + temp.T)\n",
    "\n",
    "initial_state = Zero(qubit_op.num_qubits)\n",
    "\n",
    "algo = EvolutionFidelity(qubit_op, initial_state, expansion_order=1)\n",
    "\n",
    "backend = BasicAer.get_backend('statevector_simulator')\n",
    "quantum_instance = QuantumInstance(backend=backend)\n",
    "\n",
    "result = algo.run(quantum_instance)\n",
    "print(result['score'])"
   ]
  },
  {
   "cell_type": "markdown",
   "metadata": {},
   "source": [
    "### Use the algorithm via a declarative approach\n",
    "After you register the package, you will be able to discover the algorithm declaratively."
   ]
  },
  {
   "cell_type": "code",
   "execution_count": 5,
   "metadata": {},
   "outputs": [],
   "source": [
    "from qiskit.aqua.input import EnergyInput\n",
    "from qiskit.aqua import run_algorithm\n",
    "\n",
    "params = {\n",
    "    'problem': {\n",
    "        'name': 'eoh'\n",
    "    },\n",
    "    'algorithm': {\n",
    "        'name': 'EvolutionFidelity',\n",
    "        'expansion_order': 1\n",
    "    },\n",
    "    'initial_state': {\n",
    "        'name': 'ZERO'\n",
    "    }\n",
    "}\n",
    "\n",
    "algo_input = EnergyInput(qubit_op)"
   ]
  },
  {
   "cell_type": "code",
   "execution_count": 6,
   "metadata": {},
   "outputs": [
    {
     "name": "stdout",
     "output_type": "stream",
     "text": [
      "0.9348477610600592\n"
     ]
    }
   ],
   "source": [
    "result = run_algorithm(params, algo_input, backend=backend)\n",
    "print(result['score'])"
   ]
  }
 ],
 "metadata": {
  "kernelspec": {
   "display_name": "Python 3",
   "language": "python",
   "name": "python3"
  },
  "language_info": {
   "codemirror_mode": {
    "name": "ipython",
    "version": 3
   },
   "file_extension": ".py",
   "mimetype": "text/x-python",
   "name": "python",
   "nbconvert_exporter": "python",
   "pygments_lexer": "ipython3",
   "version": "3.6.1"
  }
 },
 "nbformat": 4,
 "nbformat_minor": 2
}
