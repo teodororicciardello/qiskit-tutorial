{
 "cells": [
  {
   "cell_type": "markdown",
   "metadata": {},
   "source": [
    "<img src=\"../../../images/qiskit-heading.gif\" alt=\"Note: In order for images to show up in this jupyter notebook you need to select File => Trusted Notebook\" width=\"500 px\" align=\"left\">"
   ]
  },
  {
   "cell_type": "markdown",
   "metadata": {},
   "source": [
    "# _*Qiskit Aqua: Generating Random Variates*_ \n",
    "\n",
    "The latest version of this notebook is available on https://github.com/Qiskit/qiskit-tutorials.\n",
    "\n",
    "***\n",
    "### Contributors\n",
    "Albert Akhriev<sup>[1]</sup>, Jakub Marecek<sup>[1]</sup>\n",
    "\n",
    "### Affliation\n",
    "- <sup>[1]</sup>IBMQ"
   ]
  },
  {
   "cell_type": "markdown",
   "metadata": {},
   "source": [
    "## Introduction\n",
    "\n",
    "While classical computers use only pseudo-random routines, quantum computers\n",
    "can generate true random variates.\n",
    "For example, the measurement of a quantum superposition is intrinsically random,\n",
    "as suggested by Born's rule.\n",
    "Consequently, some of the\n",
    "best random-number generators are based on such quantum-mechanical effects. (See the \n",
    "Further, with a logarithmic amount of random bits, quantum computers can produce\n",
    "linearly many more bits, which is known as \n",
    "randomness expansion protocols. \n",
    "\n",
    "In practical applications, one wishes to use random variates of well-known\n",
    "distributions, rather than random bits.\n",
    "In this notebook, we illustrate ways of generating random variates of several popular\n",
    "distributions on IBM Q.\n",
    "\n",
    "## Random Bits and the Bernoulli distribution\n",
    "\n",
    "It is clear that there are many options for generating random bits (i.e., Bernoulli-distributed scalars, taking values either 0 or 1). Starting from a simple circuit such as a Hadamard gate followed by measurement, one can progress to vectors of Bernoulli-distributed elements. By addition of such random variates, we could get binomial distributions. By multiplication we could get geometric distributions, although perhaps leading to a circuit depth that may be impratical at the moment, though.\n",
    "\n",
    "Let us start by importing the basic modules and creating a quantum circuit for generating random bits:"
   ]
  },
  {
   "cell_type": "code",
   "execution_count": 1,
   "metadata": {},
   "outputs": [],
   "source": [
    "import matplotlib.pyplot as plt\n",
    "%matplotlib inline\n",
    "import numpy as np\n",
    "import sys, math, time\n",
    "import warnings\n",
    "warnings.filterwarnings(\"ignore\", category=DeprecationWarning)\n",
    "\n",
    "from qiskit import BasicAer\n",
    "from qiskit import QuantumCircuit, QuantumRegister, ClassicalRegister, execute\n",
    "\n",
    "# In this example we use 'qasm_simulator' backend.\n",
    "glo_backend = BasicAer.get_backend(\"qasm_simulator\")"
   ]
  },
  {
   "cell_type": "markdown",
   "metadata": {},
   "source": [
    "In the next step we create a quantum circuit, which will be used for generation:"
   ]
  },
  {
   "cell_type": "code",
   "execution_count": 2,
   "metadata": {},
   "outputs": [
    {
     "data": {
      "image/png": "[encoded data removed]",
      "text/plain": [
       "<Figure size 903x620.06 with 1 Axes>"
      ]
     },
     "execution_count": 2,
     "metadata": {},
     "output_type": "execute_result"
    }
   ],
   "source": [
    "# Number of qubits utilised simultaneously.\n",
    "glo_num_qubits = 5\n",
    "\n",
    "def create_circuit(num_target_qubits: int) -> QuantumCircuit:\n",
    "    \"\"\"\n",
    "    Creates and returns quantum circuit for random variate generation.\n",
    "    :param num_target_qubits: number of qubits to be used.\n",
    "    :return: quantum curcuit.\n",
    "    \"\"\"\n",
    "    assert isinstance(num_target_qubits, int) and num_target_qubits > 0\n",
    "    q = QuantumRegister(num_target_qubits)\n",
    "    c = ClassicalRegister(num_target_qubits)\n",
    "    circuit = QuantumCircuit(q, c)\n",
    "    circuit.h(q)\n",
    "    circuit.barrier()\n",
    "    circuit.measure(q, c)\n",
    "    return circuit\n",
    "\n",
    "# Create and plot generating quantum circuit.\n",
    "circuit = create_circuit(glo_num_qubits)\n",
    "#print(circuit)\n",
    "circuit.draw(output='mpl')"
   ]
  },
  {
   "cell_type": "markdown",
   "metadata": {},
   "source": [
    "## Uniformly-distributed scalars and vectors\n",
    "\n",
    "It is clear that there are many options for approximating uniformly-distributed scalars by the choice of an integer from a finite range uniformly at random, e.g., by a binary-code construction from the Bernoulli-distributed vectors. In the following snippet, we generate random bits, which we then convert using the binary-code construction, up to the machine precision of a classical computer."
   ]
  },
  {
   "cell_type": "code",
   "execution_count": 3,
   "metadata": {},
   "outputs": [],
   "source": [
    "def uniform_rand_float64(circuit: QuantumCircuit, num_target_qubits: int,\n",
    "                         size: int, vmin: float, vmax: float) -> np.ndarray:\n",
    "    \"\"\"\n",
    "    Generates a vector of random float64 values in the range [vmin, vmax].\n",
    "    :param circuit: quantum circuit for random variate generation.\n",
    "    :param num_target_qubits: number of qubits to be used.\n",
    "    :param size: length of the vector.\n",
    "    :param vmin: lower bound.\n",
    "    :param vmax: upper bound.\n",
    "    :return: vector of random values.\n",
    "    \"\"\"\n",
    "    assert sys.maxsize == np.iinfo(np.int64).max    # sizeof(int) == 64 bits\n",
    "    assert isinstance(size, int) and size > 0\n",
    "    assert isinstance(vmin, float) and isinstance(vmax, float) and vmin <= vmax\n",
    "    nbits = 7 * 8                                   # nbits > mantissa of float64\n",
    "    bit_str_len = (nbits * size + num_target_qubits - 1) // num_target_qubits\n",
    "    job = execute(circuit, glo_backend, shots=bit_str_len, memory=True)\n",
    "    bit_str = ''.join(job.result().get_memory())\n",
    "    scale = float(vmax - vmin) / float(2**nbits - 1)\n",
    "    return np.array([vmin + scale * float(int(bit_str[i:i+nbits], 2))\n",
    "                     for i in range(0, nbits * size, nbits)], dtype=np.float64)\n",
    "\n",
    "def uniform_rand_int64(circuit: QuantumCircuit, num_target_qubits: int,\n",
    "                       size: int, vmin: int, vmax: int) -> np.ndarray:\n",
    "    \"\"\"\n",
    "    Generates a vector of random int64 values in the range [vmin, vmax].\n",
    "    :param circuit: quantum circuit for random variate generation.\n",
    "    :param num_target_qubits: number of qubits to be used.\n",
    "    :param size: length of the vector.\n",
    "    :param vmin: lower bound.\n",
    "    :param vmax: upper bound.\n",
    "    :return: vector of random values.\n",
    "    \"\"\"\n",
    "    assert sys.maxsize == np.iinfo(np.int64).max        # sizeof(int) == 64 bits\n",
    "    assert isinstance(size, int) and size > 0\n",
    "    assert isinstance(vmin, int) and isinstance(vmax, int) and vmin <= vmax\n",
    "    assert abs(vmin) <= 2**52 and abs(vmax) <= 2**52    # 52 == mantissa of float64\n",
    "    return np.rint(uniform_rand_float64(circuit, num_target_qubits,\n",
    "                                        size, float(vmin), float(vmax))).astype(np.int64)"
   ]
  },
  {
   "cell_type": "markdown",
   "metadata": {},
   "source": [
    "### Uniform distribution over floating point numbers.\n",
    "In this example we draw a random vector of floating-point values uniformly distributed within some arbitrary selected interval:"
   ]
  },
  {
   "cell_type": "code",
   "execution_count": 4,
   "metadata": {
    "scrolled": true
   },
   "outputs": [
    {
     "name": "stdout",
     "output_type": "stream",
     "text": [
      "Uniform distribution over floating point numbers:\n",
      "  sample type: <class 'numpy.ndarray'> , element type: float64 , shape: (54321,)\n",
      "  sample min: -7.6687, max: 19.5191\n",
      "  sampling time: 6.41 secs\n"
     ]
    },
    {
     "data": {
      "image/png": "[encoded data removed]",
      "text/plain": [
       "<Figure size 432x288 with 1 Axes>"
      ]
     },
     "metadata": {
      "needs_background": "light"
     },
     "output_type": "display_data"
    }
   ],
   "source": [
    "# Draw a sample from uniform distribution.\n",
    "start_time = time.time()\n",
    "sample = uniform_rand_float64(circuit, glo_num_qubits, size=54321, vmin=-7.67, vmax=19.52)\n",
    "sampling_time = time.time() - start_time\n",
    "\n",
    "# Print out some details.\n",
    "print(\"Uniform distribution over floating point numbers:\")\n",
    "print(\"  sample type:\", type(sample), \", element type:\", sample.dtype, \", shape:\", sample.shape)\n",
    "print(\"  sample min: {:.4f}, max: {:.4f}\".format(np.amin(sample), np.amax(sample)))\n",
    "print(\"  sampling time: {:.2f} secs\".format(sampling_time))\n",
    "\n",
    "# Plotting the distribution.\n",
    "plt.hist(sample.ravel(),\n",
    "         bins=min(int(np.ceil(np.sqrt(sample.size))), 100),\n",
    "         density=True, facecolor='b', alpha=0.75)\n",
    "plt.xlabel(\"value\", size=12)\n",
    "plt.ylabel(\"probability\", size=12)\n",
    "plt.title(\"Uniform distribution over float64 numbers in [{:.2f} ... {:.2f}]\".format(\n",
    "            np.amin(sample), np.amax(sample)), size=12)\n",
    "plt.grid(True)\n",
    "# plt.savefig(\"uniform_distrib_float.png\", bbox_inches=\"tight\")\n",
    "plt.show()"
   ]
  },
  {
   "cell_type": "markdown",
   "metadata": {},
   "source": [
    "### Uniform distribution over integers.\n",
    "Our next example is similar to the previous one, but here we generate a random vector of integers:"
   ]
  },
  {
   "cell_type": "code",
   "execution_count": 5,
   "metadata": {},
   "outputs": [
    {
     "name": "stdout",
     "output_type": "stream",
     "text": [
      "Uniform distribution over bounded integer numbers:\n",
      "  sample type: <class 'numpy.ndarray'> , element type: int64 , shape: (54321,)\n",
      "  sample min: 37, max: 841\n",
      "  sampling time: 7.15 secs\n"
     ]
    },
    {
     "data": {
      "image/png": "[encoded data removed]",
      "text/plain": [
       "<Figure size 432x288 with 1 Axes>"
      ]
     },
     "metadata": {
      "needs_background": "light"
     },
     "output_type": "display_data"
    }
   ],
   "source": [
    "# Draw a sample from uniform distribution.\n",
    "start_time = time.time()\n",
    "sample = uniform_rand_int64(circuit, glo_num_qubits, size=54321, vmin=37, vmax=841)\n",
    "sampling_time = time.time() - start_time\n",
    "\n",
    "# Print out some details.\n",
    "print(\"Uniform distribution over bounded integer numbers:\")\n",
    "print(\"  sample type:\", type(sample), \", element type:\", sample.dtype, \", shape:\", sample.shape)\n",
    "print(\"  sample min: {:d}, max: {:d}\".format(np.amin(sample), np.amax(sample)))\n",
    "print(\"  sampling time: {:.2f} secs\".format(sampling_time))\n",
    "\n",
    "# Plotting the distribution.\n",
    "plt.hist(sample.ravel(),\n",
    "         bins=min(int(np.ceil(np.sqrt(sample.size))), 100),\n",
    "         density=True, facecolor='g', alpha=0.75)\n",
    "plt.xlabel(\"value\", size=12)\n",
    "plt.ylabel(\"probability\", size=12)\n",
    "plt.title(\"Uniform distribution over int64 numbers in [{:d} ... {:d}]\".format(\n",
    "            np.amin(sample), np.amax(sample)), size=12)\n",
    "plt.grid(True)\n",
    "# plt.savefig(\"uniform_distrib_int.png\", bbox_inches=\"tight\")\n",
    "plt.show()"
   ]
  },
  {
   "cell_type": "markdown",
   "metadata": {},
   "source": [
    "## Normal distribution\n",
    "\n",
    "To generate random variates with a standard normal distribution using two independent \n",
    "samples $u_1, u_2$ of the uniform distribution on the unit interval [0, 1], one can\n",
    "consider the Box-Muller transform to obtain a 2-vector:\n",
    "\n",
    "\\begin{align}\n",
    "\\begin{bmatrix}\n",
    "%R\\cos(\\Theta )=\n",
    "{\\sqrt {-2\\ln u_{1}}}\\cos(2\\pi u_{2}) \\\\\n",
    "% R\\sin(\\Theta )=\n",
    "{\\sqrt {-2\\ln u_{1}}}\\sin(2\\pi u_{2})\n",
    "\\end{bmatrix},\n",
    "\\end{align}\n",
    "\n",
    "wherein we have two independent samples of the standard normal distribution.\n",
    "In IBM Q, this is implemented as follows: "
   ]
  },
  {
   "cell_type": "code",
   "execution_count": 6,
   "metadata": {},
   "outputs": [],
   "source": [
    "def normal_rand_float64(circuit: QuantumCircuit, num_target_qubits: int,\n",
    "                        size: int, mu: float, sigma: float) -> np.ndarray:\n",
    "    \"\"\"\n",
    "    Draws a sample vector from the normal distribution given the mean and standard\n",
    "    deviation, using the Box-Muller method. \n",
    "    \"\"\"\n",
    "    TINY = np.sqrt(np.finfo(np.float64).tiny)\n",
    "    assert isinstance(size, int) and size > 0\n",
    "    rand_vec = np.zeros((size,), dtype=np.float64)\n",
    "\n",
    "    # Generate array of uniformly distributed samples, factor 1.5 longer that\n",
    "    # actually needed.\n",
    "    n = (3 * size) // 2\n",
    "    x = np.reshape(uniform_rand_float64(circuit, num_target_qubits,\n",
    "                                        2*n, 0.0, 1.0), (-1, 2))\n",
    "\n",
    "    x1 = 0.0                # first sample in a pair\n",
    "    c = 0                   # counter\n",
    "    for d in range(size):\n",
    "        r2 = 2.0\n",
    "        while r2 >= 1.0 or r2 < TINY:\n",
    "            # Regenerate array of uniformly distributed samples upon shortage.\n",
    "            if c >= n:\n",
    "                c = 0\n",
    "                n = max(size // 10, 1)\n",
    "                x = np.reshape(uniform_rand_float64(circuit, num_target_qubits,\n",
    "                                                    2*n, 0.0, 1.0), (-1, 2))\n",
    "\n",
    "            x1 = 2.0 * x[c, 0] - 1.0        # first sample in a pair\n",
    "            x2 = 2.0 * x[c, 1] - 1.0        # second sample in a pair\n",
    "            r2 = x1 * x1 + x2 * x2\n",
    "            c += 1\n",
    "\n",
    "        f = np.sqrt(np.abs(-2.0 * np.log(r2) / r2))\n",
    "        rand_vec[d] = f * x1\n",
    "        \n",
    "    return (rand_vec * sigma + mu)"
   ]
  },
  {
   "cell_type": "markdown",
   "metadata": {},
   "source": [
    "The following example demonstrates how to draw a random vector of normally distributed variates:"
   ]
  },
  {
   "cell_type": "code",
   "execution_count": 7,
   "metadata": {},
   "outputs": [
    {
     "name": "stdout",
     "output_type": "stream",
     "text": [
      "Normal distribution (mu=2.400, sigma=5.100):\n",
      "  sample type: <class 'numpy.ndarray'> , element type: float64 , shape: (4321,)\n",
      "  sample min: -18.0259, max: 21.2915\n",
      "  sampling time: 1.85 secs\n"
     ]
    },
    {
     "data": {
      "image/png": "[encoded data removed]",
      "text/plain": [
       "<Figure size 432x288 with 1 Axes>"
      ]
     },
     "metadata": {
      "needs_background": "light"
     },
     "output_type": "display_data"
    }
   ],
   "source": [
    "# Mean and standard deviation.\n",
    "mu = 2.4\n",
    "sigma = 5.1\n",
    "\n",
    "# Draw a sample from the normal distribution.\n",
    "start_time = time.time()\n",
    "sample = normal_rand_float64(circuit, glo_num_qubits, size=4321, mu=mu, sigma=sigma)\n",
    "sampling_time = time.time() - start_time\n",
    "\n",
    "# Print out some details.\n",
    "print(\"Normal distribution (mu={:.3f}, sigma={:.3f}):\".format(mu, sigma))\n",
    "print(\"  sample type:\", type(sample), \", element type:\", sample.dtype, \", shape:\", sample.shape)\n",
    "print(\"  sample min: {:.4f}, max: {:.4f}\".format(np.amin(sample), np.amax(sample)))\n",
    "print(\"  sampling time: {:.2f} secs\".format(sampling_time))\n",
    "\n",
    "# Plotting the distribution.\n",
    "x = np.linspace(mu - 4.0 * sigma, mu + 4.0 * sigma, 1000)\n",
    "analyt = np.exp(-0.5 * ((x - mu) / sigma)**2) / (sigma * math.sqrt(2.0 * math.pi))\n",
    "plt.hist(sample.ravel(),\n",
    "         bins=min(int(np.ceil(np.sqrt(sample.size))), 100),\n",
    "         density=True, facecolor='r', alpha=0.75)\n",
    "plt.plot(x, analyt, '-b', lw=1)\n",
    "plt.xlabel(\"value\", size=12)\n",
    "plt.ylabel(\"probability\", size=12)\n",
    "plt.title(\"Normal distribution: empirical vs analytic\", size=12)\n",
    "plt.grid(True)\n",
    "# plt.savefig(\"normal_distrib.png\", bbox_inches=\"tight\")\n",
    "plt.show()"
   ]
  },
  {
   "cell_type": "markdown",
   "metadata": {},
   "source": [
    "There is a substantial amount of further work needed to either certify the quality of the source of random numbers (cf. NIST SP 800-90B, Recommendation for the Entropy Sources Used for Random Bit Generation) or to use random variates within quantum algorithms (cf. <a href=\"https://github.com/Qiskit/qiskit-aqua/tree/master/qiskit/aqua/components/uncertainty_models\">uncertainty_models</a> within Qiskit Aqua)."
   ]
  },
  {
   "cell_type": "code",
   "execution_count": null,
   "metadata": {},
   "outputs": [],
   "source": []
  }
 ],
 "metadata": {
  "kernelspec": {
   "display_name": "Python 3",
   "language": "python",
   "name": "python3"
  },
  "language_info": {
   "codemirror_mode": {
    "name": "ipython",
    "version": 3
   },
   "file_extension": ".py",
   "mimetype": "text/x-python",
   "name": "python",
   "nbconvert_exporter": "python",
   "pygments_lexer": "ipython3",
   "version": "3.7.2"
  }
 },
 "nbformat": 4,
 "nbformat_minor": 1
}
