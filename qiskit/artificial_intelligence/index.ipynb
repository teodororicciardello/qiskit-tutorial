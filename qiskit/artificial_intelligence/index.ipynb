{
 "cells": [
  {
   "cell_type": "markdown",
   "metadata": {},
   "source": [
    "# Qiskit Artificial Intelligence\n",
    "\n",
    "Qiskit Artificial Intelligence is a set of tools, algorithms and software for use with quantum computers to carry out research and investigate how to take advantage of quantum computing power to solve artificial intelligence problems. \n",
    "\n",
    "## Contents\n",
    "\n",
    "* [Quantum SVM for Classification](qsvm_classification.ipynb)\n",
    "* [qGANs for Learning & Loading Random Distributions](qgans_for_loading_random_distributions.ipynb)\n",
    "* More examples can be found in [community/artificial_intelligence](../../community/artificial_intelligence)"
   ]
  },
  {
   "cell_type": "code",
   "execution_count": null,
   "metadata": {
    "collapsed": true
   },
   "outputs": [],
   "source": []
  }
 ],
 "metadata": {
  "kernelspec": {
   "display_name": "Python 3",
   "language": "python",
   "name": "python3"
  },
  "language_info": {
   "codemirror_mode": {
    "name": "ipython",
    "version": 3
   },
   "file_extension": ".py",
   "mimetype": "text/x-python",
   "name": "python",
   "nbconvert_exporter": "python",
   "pygments_lexer": "ipython3",
   "version": "3.6.1"
  }
 },
 "nbformat": 4,
 "nbformat_minor": 2
}
