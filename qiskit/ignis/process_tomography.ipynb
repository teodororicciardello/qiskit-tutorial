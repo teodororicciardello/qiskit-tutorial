{
 "cells": [
  {
   "cell_type": "markdown",
   "metadata": {},
   "source": [
    "<img src=\"../../images/qiskit-heading.gif\" alt=\"Note: In order for images to show up in this jupyter notebook you need to select File => Trusted Notebook\" width=\"500 px\" align=\"left\">"
   ]
  },
  {
   "cell_type": "markdown",
   "metadata": {},
   "source": [
    "# Quantum Process Tomography\n",
    "\n",
    "* **Last Updated:** April 29, 2019\n",
    "* **Requires:** qiskit-terra 0.8, qiskit-ignis 0.1.1, qiskit-aer 0.2"
   ]
  },
  {
   "cell_type": "markdown",
   "metadata": {},
   "source": [
    "This notebook contains examples for using the ``ignis.verification.tomography`` process tomography module."
   ]
  },
  {
   "cell_type": "code",
   "execution_count": 1,
   "metadata": {},
   "outputs": [],
   "source": [
    "# Needed for functions\n",
    "import numpy as np\n",
    "import time\n",
    "\n",
    "# Import QISKit classes\n",
    "import qiskit\n",
    "from qiskit import QuantumRegister, QuantumCircuit, Aer\n",
    "from qiskit.quantum_info import state_fidelity\n",
    "from qiskit.tools.qi.qi import outer\n",
    "\n",
    "# Tomography functions\n",
    "from qiskit.ignis.verification.tomography import process_tomography_circuits, ProcessTomographyFitter"
   ]
  },
  {
   "cell_type": "markdown",
   "metadata": {},
   "source": [
    "## 1-qubit process tomography example"
   ]
  },
  {
   "cell_type": "code",
   "execution_count": 2,
   "metadata": {},
   "outputs": [
    {
     "data": {
      "text/plain": [
       "{(('Zp',), ('X',)): {'0': 4000},\n",
       " (('Zp',), ('Y',)): {'0': 1980, '1': 2020},\n",
       " (('Zp',), ('Z',)): {'0': 2053, '1': 1947},\n",
       " (('Zm',), ('X',)): {'1': 4000},\n",
       " (('Zm',), ('Y',)): {'0': 2064, '1': 1936},\n",
       " (('Zm',), ('Z',)): {'0': 2018, '1': 1982},\n",
       " (('Xp',), ('X',)): {'0': 1982, '1': 2018},\n",
       " (('Xp',), ('Y',)): {'0': 2023, '1': 1977},\n",
       " (('Xp',), ('Z',)): {'0': 4000},\n",
       " (('Yp',), ('X',)): {'0': 1944, '1': 2056},\n",
       " (('Yp',), ('Y',)): {'1': 4000},\n",
       " (('Yp',), ('Z',)): {'0': 1986, '1': 2014}}"
      ]
     },
     "execution_count": 2,
     "metadata": {},
     "output_type": "execute_result"
    }
   ],
   "source": [
    "# Process tomography of a Hadamard gate\n",
    "q = QuantumRegister(1)\n",
    "circ = QuantumCircuit(q)\n",
    "circ.h(q[0])\n",
    "\n",
    "# Run circuit on unitary simulator to find ideal unitary\n",
    "job = qiskit.execute(circ, Aer.get_backend('unitary_simulator'))\n",
    "ideal_unitary = job.result().get_unitary(circ)\n",
    "# convert to Choi-matrix in column-major convention\n",
    "choi_ideal = outer(ideal_unitary.ravel(order='F'))\n",
    "\n",
    "# Generate process tomography circuits and run on qasm simulator\n",
    "qpt_circs = process_tomography_circuits(circ, q)\n",
    "job = qiskit.execute(qpt_circs, Aer.get_backend('qasm_simulator'), shots=4000)\n",
    "\n",
    "# Extract tomography data so that counts are indexed by measurement configuration\n",
    "qpt_tomo = ProcessTomographyFitter(job.result(), qpt_circs)\n",
    "qpt_tomo.data"
   ]
  },
  {
   "cell_type": "code",
   "execution_count": 3,
   "metadata": {},
   "outputs": [
    {
     "name": "stdout",
     "output_type": "stream",
     "text": [
      "Least-Sq Fitter\n",
      "fit time: 0.025106191635131836\n",
      "fit fidelity: 0.9935435801308409\n",
      "\n",
      "CVXOPT Fitter\n",
      "fit time: 0.14531993865966797\n",
      "fit fidelity: 0.9999047428166897\n"
     ]
    }
   ],
   "source": [
    "# MLE Least-Squares tomographic reconstruction\n",
    "t = time.time()\n",
    "choi_lstsq = qpt_tomo.fit(method='lstsq')\n",
    "print('Least-Sq Fitter')\n",
    "print('fit time:', time.time() - t)\n",
    "print('fit fidelity:', state_fidelity(choi_ideal / 2, choi_lstsq.data / 2))\n",
    "\n",
    "# CVXOPT Semidefinite-Program tomographic reconstruction\n",
    "t = time.time()\n",
    "choi_cvx = qpt_tomo.fit(method='cvx')\n",
    "print('\\nCVXOPT Fitter')\n",
    "print('fit time:', time.time() - t)\n",
    "print('fit fidelity:', state_fidelity(choi_ideal / 2, choi_cvx.data / 2))"
   ]
  },
  {
   "cell_type": "markdown",
   "metadata": {},
   "source": [
    "## 1-qubit process tomography of two-qubit swap gate\n",
    "\n",
    "We will prepare qubit-0 and measure qubit-1 so the reconstructed channel should be an identity"
   ]
  },
  {
   "cell_type": "code",
   "execution_count": 4,
   "metadata": {},
   "outputs": [
    {
     "data": {
      "text/plain": [
       "{(('Zp',), ('X',)): {'0': 985, '1': 1015},\n",
       " (('Zp',), ('Y',)): {'0': 1029, '1': 971},\n",
       " (('Zp',), ('Z',)): {'0': 2000},\n",
       " (('Zm',), ('X',)): {'0': 981, '1': 1019},\n",
       " (('Zm',), ('Y',)): {'0': 1016, '1': 984},\n",
       " (('Zm',), ('Z',)): {'1': 2000},\n",
       " (('Xp',), ('X',)): {'0': 2000},\n",
       " (('Xp',), ('Y',)): {'0': 955, '1': 1045},\n",
       " (('Xp',), ('Z',)): {'0': 958, '1': 1042},\n",
       " (('Yp',), ('X',)): {'0': 989, '1': 1011},\n",
       " (('Yp',), ('Y',)): {'0': 2000},\n",
       " (('Yp',), ('Z',)): {'0': 1003, '1': 997}}"
      ]
     },
     "execution_count": 4,
     "metadata": {},
     "output_type": "execute_result"
    }
   ],
   "source": [
    "# Process tomography of a Hadamard gate\n",
    "q = QuantumRegister(2)\n",
    "circ = QuantumCircuit(q)\n",
    "circ.swap(q[0], q[1])\n",
    "\n",
    "# Ideal channel is a unitary\n",
    "ideal_unitary = np.eye(2)\n",
    "choi_ideal = outer(ideal_unitary.ravel(order='F'))\n",
    "\n",
    "# Generate process tomography circuits and run on qasm simulator\n",
    "# We use the optional prepared_qubits kwarg to specify that the prepared qubit was different to measured qubit\n",
    "qpt_circs = process_tomography_circuits(circ, q[1], prepared_qubits=q[0])\n",
    "job = qiskit.execute(qpt_circs, Aer.get_backend('qasm_simulator'), shots=2000)\n",
    "\n",
    "# Extract tomography data so that counts are indexed by measurement configuration\n",
    "qpt_tomo = ProcessTomographyFitter(job.result(), qpt_circs)\n",
    "qpt_tomo.data"
   ]
  },
  {
   "cell_type": "code",
   "execution_count": 5,
   "metadata": {},
   "outputs": [
    {
     "name": "stdout",
     "output_type": "stream",
     "text": [
      "Least-Sq Fitter\n",
      "fit time: 0.009311914443969727\n",
      "fit fidelity: 0.9874012369433787\n",
      "\n",
      "CVXOPT Fitter\n",
      "fit time: 0.06017184257507324\n",
      "fit fidelity: 0.9998944136683781\n"
     ]
    }
   ],
   "source": [
    "# Least-Squares tomographic reconstruction\n",
    "t = time.time()\n",
    "choi_lstsq = qpt_tomo.fit(method='lstsq')\n",
    "print('Least-Sq Fitter')\n",
    "print('fit time:', time.time() - t)\n",
    "print('fit fidelity:', state_fidelity(choi_ideal / 2, choi_lstsq.data / 2))\n",
    "\n",
    "# CVXOPT Semidefinite-Program tomographic reconstruction\n",
    "t = time.time()\n",
    "choi_cvx = qpt_tomo.fit(method='cvx')\n",
    "print('\\nCVXOPT Fitter')\n",
    "print('fit time:', time.time() - t)\n",
    "print('fit fidelity:', state_fidelity(choi_ideal / 2, choi_cvx.data / 2))"
   ]
  },
  {
   "cell_type": "markdown",
   "metadata": {},
   "source": [
    "## 2-Qubit entangling circuit"
   ]
  },
  {
   "cell_type": "code",
   "execution_count": 6,
   "metadata": {},
   "outputs": [
    {
     "name": "stdout",
     "output_type": "stream",
     "text": [
      "Least-Sq Fitter\n",
      "fit time: 0.14422106742858887\n",
      "fit fidelity: 0.984365187084024\n",
      "\n",
      "CVXOPT Fitter\n",
      "fit time: 1.1474080085754395\n",
      "fit fidelity: 0.9998986962593072\n"
     ]
    }
   ],
   "source": [
    "# Bell-state entangling circuit\n",
    "q = QuantumRegister(2)\n",
    "circ = QuantumCircuit(q)\n",
    "circ.h(q[0])\n",
    "circ.cx(q[0], q[1])\n",
    "\n",
    "# Run circuit on unitary simulator to find ideal unitary\n",
    "job = qiskit.execute(circ, Aer.get_backend('unitary_simulator'))\n",
    "ideal_unitary = job.result().get_unitary(circ)\n",
    "# convert to Choi-matrix in column-major convention\n",
    "choi_ideal = outer(ideal_unitary.ravel(order='F'))\n",
    "\n",
    "# Generate process tomography circuits and run on qasm simulator\n",
    "qpt_circs = process_tomography_circuits(circ, q)\n",
    "job = qiskit.execute(qpt_circs, Aer.get_backend('qasm_simulator'), shots=2000)\n",
    "\n",
    "# Extract tomography data so that counts are indexed by measurement configuration\n",
    "qpt_tomo = ProcessTomographyFitter(job.result(), qpt_circs)\n",
    "\n",
    "t = time.time()\n",
    "choi_lstsq = qpt_tomo.fit(method='lstsq')\n",
    "print('Least-Sq Fitter')\n",
    "print('fit time:', time.time() - t)\n",
    "print('fit fidelity:', state_fidelity(choi_ideal / 4, choi_lstsq.data / 4))\n",
    "\n",
    "t = time.time()\n",
    "choi_cvx = qpt_tomo.fit(method='cvx')\n",
    "print('\\nCVXOPT Fitter')\n",
    "print('fit time:', time.time() - t)\n",
    "print('fit fidelity:', state_fidelity(choi_ideal / 4, choi_cvx.data / 4))"
   ]
  },
  {
   "cell_type": "markdown",
   "metadata": {},
   "source": [
    "## Using SIC-POVM preparation basis"
   ]
  },
  {
   "cell_type": "code",
   "execution_count": 7,
   "metadata": {},
   "outputs": [
    {
     "data": {
      "text/plain": [
       "{(('S0',), ('X',)): {'0': 2000},\n",
       " (('S0',), ('Y',)): {'0': 995, '1': 1005},\n",
       " (('S0',), ('Z',)): {'0': 1027, '1': 973},\n",
       " (('S1',), ('X',)): {'0': 682, '1': 1318},\n",
       " (('S1',), ('Y',)): {'0': 1049, '1': 951},\n",
       " (('S1',), ('Z',)): {'0': 1952, '1': 48},\n",
       " (('S2',), ('X',)): {'0': 674, '1': 1326},\n",
       " (('S2',), ('Y',)): {'0': 1832, '1': 168},\n",
       " (('S2',), ('Z',)): {'0': 504, '1': 1496},\n",
       " (('S3',), ('X',)): {'0': 683, '1': 1317},\n",
       " (('S3',), ('Y',)): {'0': 182, '1': 1818},\n",
       " (('S3',), ('Z',)): {'0': 512, '1': 1488}}"
      ]
     },
     "execution_count": 7,
     "metadata": {},
     "output_type": "execute_result"
    }
   ],
   "source": [
    "# Process tomography of a Hadamard gate\n",
    "q = QuantumRegister(1)\n",
    "circ = QuantumCircuit(q)\n",
    "circ.h(q[0])\n",
    "\n",
    "# Run circuit on unitary simulator to find ideal unitary\n",
    "job = qiskit.execute(circ, Aer.get_backend('unitary_simulator'))\n",
    "ideal_unitary = job.result().get_unitary(circ)\n",
    "# convert to Choi-matrix in column-major convention\n",
    "choi_ideal = outer(ideal_unitary.ravel(order='F'))\n",
    "\n",
    "# Generate process tomography circuits and run on qasm simulator\n",
    "qpt_circs = process_tomography_circuits(circ, q, prep_labels='SIC', prep_basis='SIC')\n",
    "job = qiskit.execute(qpt_circs, Aer.get_backend('qasm_simulator'), shots=2000)\n",
    "\n",
    "# Extract tomography data so that counts are indexed by measurement configuration\n",
    "qpt_tomo = ProcessTomographyFitter(job.result(), qpt_circs, prep_basis='SIC')\n",
    "qpt_tomo.data"
   ]
  },
  {
   "cell_type": "code",
   "execution_count": 8,
   "metadata": {},
   "outputs": [
    {
     "name": "stdout",
     "output_type": "stream",
     "text": [
      "Least-Sq Fitter\n",
      "fit time: 0.008871316909790039\n",
      "fit fidelity: 0.9969739538161556\n",
      "\n",
      "CVXOPT Fitter\n",
      "fit time: 0.0575709342956543\n",
      "fit fidelity: 0.9995559180011946\n"
     ]
    }
   ],
   "source": [
    "# MLE Least-Squares tomographic reconstruction\n",
    "t = time.time()\n",
    "choi_lstsq = qpt_tomo.fit(method='lstsq')\n",
    "print('Least-Sq Fitter')\n",
    "print('fit time:', time.time() - t)\n",
    "print('fit fidelity:', state_fidelity(choi_ideal / 2, choi_lstsq.data / 2))\n",
    "\n",
    "# CVXOPT Semidefinite-Program tomographic reconstruction\n",
    "t = time.time()\n",
    "choi_cvx = qpt_tomo.fit(method='cvx')\n",
    "\n",
    "print('\\nCVXOPT Fitter')\n",
    "print('fit time:', time.time() - t)\n",
    "print('fit fidelity:', state_fidelity(choi_ideal / 2, choi_cvx.data / 2))"
   ]
  }
 ],
 "metadata": {
  "kernelspec": {
   "display_name": "Python 3",
   "language": "python",
   "name": "python3"
  },
  "language_info": {
   "codemirror_mode": {
    "name": "ipython",
    "version": 3
   },
   "file_extension": ".py",
   "mimetype": "text/x-python",
   "name": "python",
   "nbconvert_exporter": "python",
   "pygments_lexer": "ipython3",
   "version": "3.6.8"
  }
 },
 "nbformat": 4,
 "nbformat_minor": 2
}
